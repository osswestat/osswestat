{
 "cells": [
  {
   "cell_type": "markdown",
   "metadata": {},
   "source": [
    "### Extracting Julia Package Names"
   ]
  },
  {
   "cell_type": "code",
   "execution_count": 1,
   "metadata": {},
   "outputs": [],
   "source": [
    "# Importing necessary packages\n",
    "import toml\n",
    "import pandas as pd"
   ]
  },
  {
   "cell_type": "code",
   "execution_count": 2,
   "metadata": {},
   "outputs": [],
   "source": [
    "# Registry.toml was cloned from 'https://github.com/JuliaRegistries/General'\n",
    "\n",
    "# Reading Registry.toml\n",
    "with open(\"./Registry.toml\", \"r\") as infile:\n",
    "    f = infile.read()\n",
    "\n",
    "# Getting the dictionary with name, uuid, repo, packages etc.\n",
    "pkg_dict = toml.loads(f)\n",
    "\n",
    "# Extracting only packages from the dictionary\n",
    "pkg_refined = list(pkg_dict['packages'].values())\n",
    "\n",
    "# Extracting only names of the packages\n",
    "pkg_list = [i['name'] for i in pkg_refined]\n",
    "\n",
    "# Storing package names in a dataframe\n",
    "df = pd.DataFrame(pkg_list, columns=[\"Pkg_Name\"])\n",
    "\n",
    "# Saving dataframe in  a .csv format \n",
    "df.to_csv(\"Julia_Packages_List.csv\", index=False)"
   ]
  }
 ],
 "metadata": {
  "kernelspec": {
   "display_name": "OSS",
   "language": "python",
   "name": "python3"
  },
  "language_info": {
   "codemirror_mode": {
    "name": "ipython",
    "version": 3
   },
   "file_extension": ".py",
   "mimetype": "text/x-python",
   "name": "python",
   "nbconvert_exporter": "python",
   "pygments_lexer": "ipython3",
   "version": "3.10.9"
  },
  "orig_nbformat": 4
 },
 "nbformat": 4,
 "nbformat_minor": 2
}
