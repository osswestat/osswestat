{
 "cells": [
  {
   "cell_type": "markdown",
   "metadata": {},
   "source": [
    "### Restructuring data to create an efficient dataframe"
   ]
  },
  {
   "cell_type": "code",
   "execution_count": 1,
   "metadata": {},
   "outputs": [],
   "source": [
    "# Importing the required  packages\n",
    "import json\n",
    "from tqdm import tqdm\n",
    "import requests\n",
    "from random import choice\n",
    "import pandas as pd"
   ]
  },
  {
   "cell_type": "code",
   "execution_count": 2,
   "metadata": {},
   "outputs": [],
   "source": [
    "# Reading output file of '03_Get_metadata.ipynb'\n",
    "df = pd.read_csv('/home/sreenath_a/Projects/OSS/nsf-oss/Data_Collection/Julia_data_collection/Julia_Packages_List_Repo_Deps.csv')"
   ]
  },
  {
   "cell_type": "code",
   "execution_count": 3,
   "metadata": {},
   "outputs": [],
   "source": [
    "# Function to get information like name, dependencies and authors from the json metadata\n",
    "def get_info(j):\n",
    "    d = json.loads(j)\n",
    "    empty_d = dict()\n",
    "    if 'name' in d:\n",
    "        empty_d['name'] = d['name']\n",
    "    else:\n",
    "        empty_d['name'] = \"\"\n",
    "    if 'deps' in d:\n",
    "        empty_d['deps'] = \", \".join(list(d['deps'].keys()))\n",
    "    else:\n",
    "        empty_d['deps'] = \"\"\n",
    "    if 'authors' in d:\n",
    "        empty_d['authors'] = \", \".join(list(d['authors']))\n",
    "    else:\n",
    "        empty_d['authors'] = \"\"\n",
    "    return empty_d"
   ]
  },
  {
   "cell_type": "code",
   "execution_count": 4,
   "metadata": {},
   "outputs": [],
   "source": [
    "# Calling get_info() for each json object in the dataframe and storing in a single list\n",
    "parsed = [get_info(i) for i in df['Metadata']]"
   ]
  },
  {
   "cell_type": "code",
   "execution_count": 5,
   "metadata": {},
   "outputs": [],
   "source": [
    "# Separating name, dependencies and authors\n",
    "pname = [i['name'] for i in parsed]\n",
    "deps = [i['deps'] for i in parsed]\n",
    "authors = [i['authors'] for i in parsed]"
   ]
  },
  {
   "cell_type": "code",
   "execution_count": 6,
   "metadata": {},
   "outputs": [],
   "source": [
    "# Creating separate columns for dependencies and authors in the dataframe\n",
    "df['dependencies'] = deps\n",
    "df['authors'] = authors"
   ]
  },
  {
   "cell_type": "code",
   "execution_count": 7,
   "metadata": {},
   "outputs": [
    {
     "data": {
      "text/html": [
       "<div>\n",
       "<style scoped>\n",
       "    .dataframe tbody tr th:only-of-type {\n",
       "        vertical-align: middle;\n",
       "    }\n",
       "\n",
       "    .dataframe tbody tr th {\n",
       "        vertical-align: top;\n",
       "    }\n",
       "\n",
       "    .dataframe thead th {\n",
       "        text-align: right;\n",
       "    }\n",
       "</style>\n",
       "<table border=\"1\" class=\"dataframe\">\n",
       "  <thead>\n",
       "    <tr style=\"text-align: right;\">\n",
       "      <th></th>\n",
       "      <th>Package</th>\n",
       "      <th>RepoURL</th>\n",
       "      <th>Metadata</th>\n",
       "      <th>dependencies</th>\n",
       "      <th>authors</th>\n",
       "    </tr>\n",
       "  </thead>\n",
       "  <tbody>\n",
       "    <tr>\n",
       "      <th>0</th>\n",
       "      <td>REPLTreeViews</td>\n",
       "      <td>https://github.com/pfitzseb/REPLTreeViews.jl.git</td>\n",
       "      <td>{\"name\": \"REPLTreeViews\", \"uuid\": \"00000000-11...</td>\n",
       "      <td>IterTools, REPL, TreeViews</td>\n",
       "      <td></td>\n",
       "    </tr>\n",
       "    <tr>\n",
       "      <th>1</th>\n",
       "      <td>TuringGLM</td>\n",
       "      <td>https://github.com/TuringLang/TuringGLM.jl.git</td>\n",
       "      <td>{\"name\": \"TuringGLM\", \"uuid\": \"0004c1f4-53c5-4...</td>\n",
       "      <td>Distributions, GLM, LazyArrays, LinearAlgebra,...</td>\n",
       "      <td>Jose Storopoli &lt;jose@storopoli.io&gt;, Rik Huijze...</td>\n",
       "    </tr>\n",
       "    <tr>\n",
       "      <th>2</th>\n",
       "      <td>BayesHistogram</td>\n",
       "      <td>https://github.com/francescoalemanno/BayesHist...</td>\n",
       "      <td>{\"name\": \"BayesHistogram\", \"uuid\": \"000d9b38-6...</td>\n",
       "      <td></td>\n",
       "      <td>Francesco Alemanno &lt;francescoalemanno710[at]gm...</td>\n",
       "    </tr>\n",
       "    <tr>\n",
       "      <th>3</th>\n",
       "      <td>KCP_jll</td>\n",
       "      <td>https://github.com/JuliaBinaryWrappers/KCP_jll...</td>\n",
       "      <td>{\"name\": \"KCP_jll\", \"uuid\": \"000eeb74-f857-587...</td>\n",
       "      <td>Pkg, Libdl</td>\n",
       "      <td></td>\n",
       "    </tr>\n",
       "    <tr>\n",
       "      <th>4</th>\n",
       "      <td>ProgressView</td>\n",
       "      <td>https://github.com/eschnett/ProgressView.jl.git</td>\n",
       "      <td>{\"name\": \"ProgressView\", \"uuid\": \"001e2b2b-9a5...</td>\n",
       "      <td>Test</td>\n",
       "      <td>Erik Schnetter &lt;schnetter@gmail.com&gt;</td>\n",
       "    </tr>\n",
       "  </tbody>\n",
       "</table>\n",
       "</div>"
      ],
      "text/plain": [
       "          Package                                            RepoURL  \\\n",
       "0   REPLTreeViews   https://github.com/pfitzseb/REPLTreeViews.jl.git   \n",
       "1       TuringGLM     https://github.com/TuringLang/TuringGLM.jl.git   \n",
       "2  BayesHistogram  https://github.com/francescoalemanno/BayesHist...   \n",
       "3         KCP_jll  https://github.com/JuliaBinaryWrappers/KCP_jll...   \n",
       "4    ProgressView    https://github.com/eschnett/ProgressView.jl.git   \n",
       "\n",
       "                                            Metadata  \\\n",
       "0  {\"name\": \"REPLTreeViews\", \"uuid\": \"00000000-11...   \n",
       "1  {\"name\": \"TuringGLM\", \"uuid\": \"0004c1f4-53c5-4...   \n",
       "2  {\"name\": \"BayesHistogram\", \"uuid\": \"000d9b38-6...   \n",
       "3  {\"name\": \"KCP_jll\", \"uuid\": \"000eeb74-f857-587...   \n",
       "4  {\"name\": \"ProgressView\", \"uuid\": \"001e2b2b-9a5...   \n",
       "\n",
       "                                        dependencies  \\\n",
       "0                         IterTools, REPL, TreeViews   \n",
       "1  Distributions, GLM, LazyArrays, LinearAlgebra,...   \n",
       "2                                                      \n",
       "3                                         Pkg, Libdl   \n",
       "4                                               Test   \n",
       "\n",
       "                                             authors  \n",
       "0                                                     \n",
       "1  Jose Storopoli <jose@storopoli.io>, Rik Huijze...  \n",
       "2  Francesco Alemanno <francescoalemanno710[at]gm...  \n",
       "3                                                     \n",
       "4               Erik Schnetter <schnetter@gmail.com>  "
      ]
     },
     "execution_count": 7,
     "metadata": {},
     "output_type": "execute_result"
    }
   ],
   "source": [
    "df.head()"
   ]
  },
  {
   "cell_type": "code",
   "execution_count": 8,
   "metadata": {},
   "outputs": [],
   "source": [
    "# Are we trying to extract further information from scraping this? (I can see readme, license and downloads being extracted)\n",
    "u = \"https://github.com/pfitzseb/REPLTreeViews.jl.git\""
   ]
  },
  {
   "cell_type": "code",
   "execution_count": 9,
   "metadata": {},
   "outputs": [],
   "source": [
    "# Where do this file comes from? (API_keys.json)\n",
    "with open('/home/sreenath_a/Projects/OSS/API_keys.json', 'r') as myfile:\n",
    "    data=myfile.read()\n",
    "keys = json.loads(data)['keys']"
   ]
  },
  {
   "cell_type": "code",
   "execution_count": 10,
   "metadata": {},
   "outputs": [],
   "source": [
    "def get_license(u):\n",
    "    api_token = choice(keys)\n",
    "    owner = u.split(\"/\")[-2]\n",
    "    repo = u.split(\"/\")[-1][:-4]\n",
    "    url = 'https://api.github.com/graphql'\n",
    "    headers = {'Authorization': 'token %s' % api_token}\n",
    "    query = \"\"\"\n",
    "    query {\n",
    "    repository(owner: \"#OWNER#\", name: \"#REPO#\") {\n",
    "        licenseInfo {\n",
    "        name\n",
    "        spdxId\n",
    "        }\n",
    "    }\n",
    "    }\n",
    "    \"\"\"\n",
    "    try:\n",
    "        query = query.replace(\"#OWNER#\", owner).replace(\"#REPO#\", repo)\n",
    "        response = requests.post(url, headers=headers, json={'query': query})\n",
    "        data = response.json()\n",
    "        return data['data']['repository']['licenseInfo']['spdxId']\n",
    "    except:\n",
    "        return \"\""
   ]
  },
  {
   "cell_type": "code",
   "execution_count": 11,
   "metadata": {},
   "outputs": [],
   "source": [
    "df['license'] = df['RepoURL'].apply(get_license)"
   ]
  },
  {
   "cell_type": "code",
   "execution_count": 12,
   "metadata": {},
   "outputs": [],
   "source": [
    "def get_readme(u):\n",
    "    try:\n",
    "        owner = u.split(\"/\")[-2]\n",
    "        repo = u.split(\"/\")[-1][:-4]\n",
    "        url = \"https://raw.githubusercontent.com/{user}/{repo_name}/master/README.md\".format(user=owner, repo_name=repo)\n",
    "        response = requests.get(url)\n",
    "        if response.status_code != 200:\n",
    "            return \"\"\n",
    "        else:\n",
    "            return response.text\n",
    "    except:\n",
    "        return \"\""
   ]
  },
  {
   "cell_type": "code",
   "execution_count": 13,
   "metadata": {},
   "outputs": [
    {
     "name": "stderr",
     "output_type": "stream",
     "text": [
      "100%|██████████| 8857/8857 [21:27<00:00,  6.88it/s]  \n"
     ]
    }
   ],
   "source": [
    "readme = list()\n",
    "for rurl in tqdm(df['RepoURL'].tolist()):\n",
    "    readme.append(get_readme(rurl))"
   ]
  },
  {
   "cell_type": "code",
   "execution_count": 14,
   "metadata": {},
   "outputs": [],
   "source": [
    "df['Readme'] = readme"
   ]
  },
  {
   "cell_type": "code",
   "execution_count": 15,
   "metadata": {},
   "outputs": [],
   "source": [
    "def get_downloads(Package):\n",
    "    try:\n",
    "        url = f\"https://pkgs.genieframework.com/api/v1/badge/{Package}\"\n",
    "        response = requests.get(url)\n",
    "        if response.status_code != 200:\n",
    "            return -1\n",
    "        else:\n",
    "            return int(response.json()['message'])\n",
    "    except:\n",
    "        return -1"
   ]
  },
  {
   "cell_type": "code",
   "execution_count": 16,
   "metadata": {},
   "outputs": [],
   "source": [
    "# downloads = list()\n",
    "# for pname in tqdm(df['Package'].tolist()):\n",
    "#     downloads.append(get_downloads(pname))"
   ]
  },
  {
   "cell_type": "code",
   "execution_count": 17,
   "metadata": {},
   "outputs": [],
   "source": [
    "# df['Downloads'] = downloads"
   ]
  },
  {
   "cell_type": "code",
   "execution_count": 20,
   "metadata": {},
   "outputs": [],
   "source": [
    "df.to_excel('/home/sreenath_a/Projects/OSS/nsf-oss/Data_Collection/Julia_data_collection/Julia_Packages_all.xlsx', engine='xlsxwriter')"
   ]
  },
  {
   "cell_type": "code",
   "execution_count": 3,
   "metadata": {},
   "outputs": [],
   "source": [
    "df = pd.read_excel('/home/sreenath_a/Projects/OSS/nsf-oss/Data_Collection/Julia_data_collection/Julia_Packages_all.xlsx')"
   ]
  },
  {
   "cell_type": "code",
   "execution_count": 4,
   "metadata": {},
   "outputs": [],
   "source": [
    "df.to_csv('/home/sreenath_a/Projects/OSS/nsf-oss/Data_Collection/Julia_data_collection/Julia_Packages_all.csv', index=False)"
   ]
  }
 ],
 "metadata": {
  "kernelspec": {
   "display_name": "OSS",
   "language": "python",
   "name": "python3"
  },
  "language_info": {
   "codemirror_mode": {
    "name": "ipython",
    "version": 3
   },
   "file_extension": ".py",
   "mimetype": "text/x-python",
   "name": "python",
   "nbconvert_exporter": "python",
   "pygments_lexer": "ipython3",
   "version": "3.8.0"
  },
  "orig_nbformat": 4
 },
 "nbformat": 4,
 "nbformat_minor": 2
}
