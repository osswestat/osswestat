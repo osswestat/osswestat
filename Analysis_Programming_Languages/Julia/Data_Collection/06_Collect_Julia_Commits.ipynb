{
 "cells": [
  {
   "cell_type": "code",
   "execution_count": null,
   "metadata": {},
   "outputs": [],
   "source": [
    "import json\n",
    "import os\n",
    "from tqdm import tqdm\n",
    "from multiprocessing import Pool\n",
    "import sys\n",
    "import time\n",
    "sys.path.append('/home/sreenath_a/Projects/OSS/Production/GitRipper')\n",
    "\n",
    "import pandas as pd\n",
    "from GitRipper.Ripper import collect"
   ]
  },
  {
   "cell_type": "code",
   "execution_count": null,
   "metadata": {},
   "outputs": [],
   "source": [
    "cpu_count = os.cpu_count()\n",
    "print(cpu_count)"
   ]
  },
  {
   "cell_type": "code",
   "execution_count": null,
   "metadata": {},
   "outputs": [],
   "source": [
    "#Load the json file\n",
    "with open('/home/sreenath_a/Projects/OSS/API_keys.json') as f:\n",
    "    keys = json.load(f)['keys']"
   ]
  },
  {
   "cell_type": "code",
   "execution_count": null,
   "metadata": {},
   "outputs": [],
   "source": [
    "columns = ['repo_owner', 'repo_name', 'oid', 'messageHeadline', 'author_name',\n",
    "       'author_email', 'author_user_login', 'author_user_location',\n",
    "       'author_user_company', 'author_user_pronouns', 'author_user_bio',\n",
    "       'author_user_websiteUrl', 'author_user_twitterUsername', 'author_date',\n",
    "       'additions', 'deletions']"
   ]
  },
  {
   "cell_type": "code",
   "execution_count": null,
   "metadata": {},
   "outputs": [],
   "source": [
    "#create an empty dataframe and save it to a csv\n",
    "if os.path.exists('/home/sreenath_a/Projects/OSS/Production/Julia_Commits.csv'):\n",
    "    pass\n",
    "else:\n",
    "    df = pd.DataFrame(columns=columns)\n",
    "    df.to_csv('/home/sreenath_a/Projects/OSS/Production/Julia_Commits.csv', index=False)"
   ]
  },
  {
   "cell_type": "code",
   "execution_count": null,
   "metadata": {},
   "outputs": [],
   "source": [
    "#get all the packages alrady collected\n",
    "slugs_collected = []\n",
    "for df in pd.read_csv('/home/sreenath_a/Projects/OSS/Production/Julia_Commits.csv', chunksize=1000):\n",
    "    repo_names = df['repo_name'].tolist()\n",
    "    repo_owners = df['repo_owner'].tolist()\n",
    "    for i in range(len(repo_names)):\n",
    "        slugs_collected.append(repo_owners[i] + '/' + repo_names[i])\n",
    "    slugs_collected = list(set(slugs_collected))"
   ]
  },
  {
   "cell_type": "code",
   "execution_count": null,
   "metadata": {},
   "outputs": [],
   "source": [
    "keys_list = [(i.split(\":\")[0], i.split(\":\")[1]) for i in keys]\n",
    "collector = collect(keys_list)"
   ]
  },
  {
   "cell_type": "code",
   "execution_count": null,
   "metadata": {},
   "outputs": [],
   "source": [
    "parallelcount = cpu_count"
   ]
  },
  {
   "cell_type": "code",
   "execution_count": null,
   "metadata": {},
   "outputs": [],
   "source": [
    "def get_owner_and_repo(url):\n",
    "    ### if it has .git, remove it\n",
    "    if url.endswith(\".git\"):\n",
    "        url = url[:-4]\n",
    "    ### get owner and repo\n",
    "    owner = url.split(\"/\")[-2]\n",
    "    repo = url.split(\"/\")[-1]\n",
    "    return owner, repo"
   ]
  },
  {
   "cell_type": "code",
   "execution_count": null,
   "metadata": {},
   "outputs": [],
   "source": [
    "def get_commits(owner, repo, key, since):\n",
    "    try:\n",
    "        if owner + '/' + repo in slugs_collected:\n",
    "            return None\n",
    "        commits = collector.collectCommits(owner, repo, key, since)\n",
    "        return commits\n",
    "    except Exception as e:\n",
    "        print(\"Error: \", e)\n",
    "        return None"
   ]
  },
  {
   "cell_type": "code",
   "execution_count": null,
   "metadata": {},
   "outputs": [],
   "source": [
    "overall_it = int(pd.read_csv(\"/home/sreenath_a/Projects/OSS/nsf-oss/Data_Collection/Julia_data_collection/Julia_Packages_all.csv\").shape[0]/parallelcount)"
   ]
  },
  {
   "cell_type": "code",
   "execution_count": null,
   "metadata": {},
   "outputs": [],
   "source": [
    "for df in tqdm(pd.read_csv(\"/home/sreenath_a/Projects/OSS/nsf-oss/Data_Collection/Julia_data_collection/Julia_Packages_all.csv\", chunksize=parallelcount), total=overall_it):\n",
    "    slugs = [get_owner_and_repo(i) for i in df.RepoURL]\n",
    "    owners = [i[0] for i in slugs]\n",
    "    repos = [i[1] for i in slugs]\n",
    "    best_keys = collector.getBestKeys(n=parallelcount)\n",
    "    sinces = [\"2007-01-01T00:00:00Z\" for i in range(parallelcount)]\n",
    "    args = list(zip(owners, repos, best_keys, sinces))\n",
    "    with Pool(parallelcount) as p:\n",
    "        result = p.starmap(get_commits, args)\n",
    "    result = [i for i in result if i is not None]\n",
    "    if len(result) == 0:\n",
    "        continue\n",
    "    df_result = pd.concat(result)[columns]\n",
    "    df_result.to_csv('/home/sreenath_a/Projects/OSS/Production/Julia_Commits.csv', mode='a', header=False, index=False)"
   ]
  }
 ],
 "metadata": {
  "kernelspec": {
   "display_name": "OSS",
   "language": "python",
   "name": "python3"
  },
  "language_info": {
   "codemirror_mode": {
    "name": "ipython",
    "version": 3
   },
   "file_extension": ".py",
   "mimetype": "text/x-python",
   "name": "python",
   "nbconvert_exporter": "python",
   "pygments_lexer": "ipython3",
   "version": "3.8.0"
  },
  "orig_nbformat": 4
 },
 "nbformat": 4,
 "nbformat_minor": 2
}
