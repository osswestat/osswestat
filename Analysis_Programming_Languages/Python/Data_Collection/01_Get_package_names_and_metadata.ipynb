{
 "cells": [
  {
   "cell_type": "code",
   "execution_count": 27,
   "metadata": {},
   "outputs": [],
   "source": [
    "# Required packages\n",
    "import xmlrpc.client as xmlrpclib\n",
    "import requests\n",
    "from tqdm import tqdm\n",
    "from random import choice\n",
    "import time\n",
    "from pprint import pprint\n",
    "import pandas as pd\n",
    "import json"
   ]
  },
  {
   "cell_type": "code",
   "execution_count": 28,
   "metadata": {},
   "outputs": [
    {
     "data": {
      "text/plain": [
       "441095"
      ]
     },
     "execution_count": 28,
     "metadata": {},
     "output_type": "execute_result"
    }
   ],
   "source": [
    "# Getting package names and metadata from PyPI\n",
    "client = xmlrpclib.ServerProxy('https://pypi.python.org/pypi')\n",
    "packages = client.list_packages()\n",
    "len(packages)"
   ]
  },
  {
   "cell_type": "code",
   "execution_count": 35,
   "metadata": {},
   "outputs": [],
   "source": [
    "# Initializing lists to store package names and metadata\n",
    "package_metadata = list()\n",
    "package_no_info = list()"
   ]
  },
  {
   "cell_type": "code",
   "execution_count": 37,
   "metadata": {},
   "outputs": [],
   "source": [
    "# Function to get metadata from PyPI\n",
    "# Input: package name\n",
    "# Output: package metadata\n",
    "def get_package_metadata(package_name):\n",
    "    metadata_url = f\"https://pypi.org/pypi/{package_name}/json\"\n",
    "    while True:\n",
    "        try:\n",
    "            response = requests.get(metadata_url)\n",
    "            response.raise_for_status()\n",
    "            package_metadata.append([package_name, response.text])\n",
    "            break\n",
    "        except requests.exceptions.HTTPError as err:\n",
    "            if err.response.status_code == 429:\n",
    "                print(f\"Rate limited for {package_name}, waiting for 1 minute...\")\n",
    "                time.sleep(60)\n",
    "            else:\n",
    "                package_no_info.append(package_name)\n",
    "                break\n"
   ]
  },
  {
   "cell_type": "code",
   "execution_count": 39,
   "metadata": {},
   "outputs": [
    {
     "name": "stderr",
     "output_type": "stream",
     "text": [
      "100%|██████████| 441095/441095 [4:00:35<00:00, 30.56it/s]   \n"
     ]
    }
   ],
   "source": [
    "# Calling function - get_package_metadata(package_name) for each package_name in packages\n",
    "for package_name in tqdm(packages):\n",
    "    try:\n",
    "        get_package_metadata(package_name)\n",
    "    except:\n",
    "        pass"
   ]
  },
  {
   "cell_type": "code",
   "execution_count": 42,
   "metadata": {},
   "outputs": [
    {
     "data": {
      "text/plain": [
       "433357"
      ]
     },
     "execution_count": 42,
     "metadata": {},
     "output_type": "execute_result"
    }
   ],
   "source": [
    "len(package_metadata)"
   ]
  },
  {
   "cell_type": "code",
   "execution_count": 50,
   "metadata": {},
   "outputs": [],
   "source": [
    "# Creating dataframe of package names and metadata\n",
    "df_metadata = pd.DataFrame(package_metadata, columns=['PackageName', 'Metadata'])"
   ]
  },
  {
   "cell_type": "code",
   "execution_count": 53,
   "metadata": {},
   "outputs": [],
   "source": [
    "# Storing in a csv file\n",
    "df_metadata.to_csv(\"PyPi_metadata.csv\", index=False)"
   ]
  },
  {
   "cell_type": "code",
   "execution_count": 9,
   "metadata": {},
   "outputs": [
    {
     "name": "stdout",
     "output_type": "stream",
     "text": [
      "Pacage name:  WhenWasThat\n",
      "{'Homepage': 'https://github.com/codefitz/WhenWasThat'}\n",
      "{'author': 'Wes Moskal-Fitzpatrick',\n",
      " 'author_email': 'wes@traversys.io',\n",
      " 'bugtrack_url': None,\n",
      " 'classifiers': ['License :: OSI Approved :: GNU General Public License v3 '\n",
      "                 '(GPLv3)',\n",
      "                 'Operating System :: OS Independent',\n",
      "                 'Programming Language :: Python :: 3'],\n",
      " 'description': '# WhenWasThat\\n'\n",
      "                '\\n'\n",
      "                'Python module for returning a human readable value for the '\n",
      "                'time between two specified datetime objects. Inspired by '\n",
      "                'whenWasThat() function from BMC Discovery.\\n'\n",
      "                '\\n'\n",
      "                '## Properties\\n'\n",
      "                '\\n'\n",
      "                '| Property     | '\n",
      "                'Details                                                              '\n",
      "                '|\\n'\n",
      "                '| :----------: | '\n",
      "                '-------------------------------------------------------------------- '\n",
      "                '|\\n'\n",
      "                '| microseconds | Output the total number of microseconds '\n",
      "                'between two datetime objects |\\n'\n",
      "                '| seconds      | Output the total number of seconds between '\n",
      "                'two datetime objects      |\\n'\n",
      "                '| minutes      | Output the total number of minutes between '\n",
      "                'two datetime objects      |\\n'\n",
      "                '| hours        | Output the total number of hours between two '\n",
      "                'datetime objects        |\\n'\n",
      "                '| days         | Output the total number of days between two '\n",
      "                'datetime objects         |\\n'\n",
      "                '| weeks        | Output the total number of weeks between two '\n",
      "                'datetime objects        |\\n'\n",
      "                '| months       | Output the total number of months between '\n",
      "                'two datetime objects       |\\n'\n",
      "                '| years        | Output the total number of years between two '\n",
      "                'datetime objects        |\\n'\n",
      "                '| natural      | Output an approximate number of seconds, '\n",
      "                'minutes, hours, days, weeks, months or years between two '\n",
      "                'datetime objects |\\n'\n",
      "                '\\n'\n",
      "                '## Usage Examples\\n'\n",
      "                '\\n'\n",
      "                '### Retrieve number of days between two dates\\n'\n",
      "                '\\n'\n",
      "                '```python\\n'\n",
      "                '>>> import import datetime as dt\\n'\n",
      "                '>>> from WhenWasThat import when\\n'\n",
      "                '>>> first_date = dt.datetime(2006, 10, 27, 11, 59, 32, '\n",
      "                '343001)\\n'\n",
      "                '>>> last_date = dt.datetime(2016, 9, 30, 20, 21, 43, 561783)\\n'\n",
      "                '>>> when(first_date,last_date).days\\n'\n",
      "                '3626.348740958125\\n'\n",
      "                '```\\n'\n",
      "                '\\n'\n",
      "                '### Output a natural approximation of the time between two '\n",
      "                'dates\\n'\n",
      "                '\\n'\n",
      "                '```python\\n'\n",
      "                '>>> first_date = dt.datetime(2006, 10, 27, 11, 59, 32, '\n",
      "                '343001)\\n'\n",
      "                '>>> last_date = dt.datetime(2016, 9, 30, 20, 21, 43, 561783)\\n'\n",
      "                '>>> when(first_date,last_date).natural\\n'\n",
      "                'Approximately 9.9 years ago\\n'\n",
      "                '```\\n'\n",
      "                '\\n'\n",
      "                '### Last date is not required (module will calculate from '\n",
      "                '`datetime.now()`)\\n'\n",
      "                '\\n'\n",
      "                '```python\\n'\n",
      "                '>>> time_then = dt.datetime(2020, 3, 23, 0, 1, 1, 1)\\n'\n",
      "                '>>> when(time_then).weeks\\n'\n",
      "                '75.20358385298611\\n'\n",
      "                '>>> when(time_then).natural\\n'\n",
      "                'Approximately 17.5 months ago\\n'\n",
      "                '```\\n'\n",
      "                '\\n'\n",
      "                '## How many days since the Titanic sunk?\\n'\n",
      "                '\\n'\n",
      "                '```python\\n'\n",
      "                '>>> dt.datetime.now()\\n'\n",
      "                'datetime.datetime(2021, 8, 31, 10, 20, 59, 979468)\\n'\n",
      "                '>>> titanic = dt.datetime(1912, 4, 15, 2, 20, 0, 0)\\n'\n",
      "                '>>> print(\"The Titanic sunk %s days ago.\" % '\n",
      "                'round(when(titanic).days))\\n'\n",
      "                'The Titanic sunk 39950 days ago.\\n'\n",
      "                '```\\n'\n",
      "                '\\n'\n",
      "                '## Releases\\n'\n",
      "                '\\n'\n",
      "                '| Version     | '\n",
      "                'Summary                                                | '\n",
      "                'Known Issues          | Fixed                          |\\n'\n",
      "                '| :---------: | '\n",
      "                '------------------------------------------------------ | '\n",
      "                '--------------------- | ------------------------------ |\\n'\n",
      "                '| Alpha-0.0.1 | Alpha '\n",
      "                'release.                                         '\n",
      "                '|                       |                                |\\n'\n",
      "                '| 0.1.0       | Released to '\n",
      "                'PyPi                                       '\n",
      "                '|                       |                                |\\n'\n",
      "                '\\n'\n",
      "                '\\n',\n",
      " 'description_content_type': 'text/markdown',\n",
      " 'docs_url': None,\n",
      " 'download_url': '',\n",
      " 'downloads': {'last_day': -1, 'last_month': -1, 'last_week': -1},\n",
      " 'home_page': 'https://github.com/codefitz/WhenWasThat',\n",
      " 'keywords': '',\n",
      " 'license': '',\n",
      " 'maintainer': '',\n",
      " 'maintainer_email': '',\n",
      " 'name': 'WhenWasThat',\n",
      " 'package_url': 'https://pypi.org/project/WhenWasThat/',\n",
      " 'platform': '',\n",
      " 'project_url': 'https://pypi.org/project/WhenWasThat/',\n",
      " 'project_urls': {'Homepage': 'https://github.com/codefitz/WhenWasThat'},\n",
      " 'release_url': 'https://pypi.org/project/WhenWasThat/0.1.0/',\n",
      " 'requires_dist': ['pandas'],\n",
      " 'requires_python': '>=3.0',\n",
      " 'summary': 'A small library for getting human readable time value.',\n",
      " 'version': '0.1.0',\n",
      " 'yanked': False,\n",
      " 'yanked_reason': None}\n"
     ]
    }
   ],
   "source": [
    "# Getting information about a package from PyPI (Author, Description, License, etc.)\n",
    "package_name = choice(packages)\n",
    "response = requests.get(f\"https://pypi.org/pypi/{package_name}/json\")\n",
    "package_info = response.json()\n",
    "\n",
    "print(\"Pacage name: \", package_name)\n",
    "pprint(package_info['info']['project_urls'])\n",
    "pprint(package_info['info'])"
   ]
  },
  {
   "cell_type": "code",
   "execution_count": 14,
   "metadata": {},
   "outputs": [
    {
     "data": {
      "text/plain": [
       "{'info': {'author': 'Wes Moskal-Fitzpatrick',\n",
       "  'author_email': 'wes@traversys.io',\n",
       "  'bugtrack_url': None,\n",
       "  'classifiers': ['License :: OSI Approved :: GNU General Public License v3 (GPLv3)',\n",
       "   'Operating System :: OS Independent',\n",
       "   'Programming Language :: Python :: 3'],\n",
       "  'description': '# WhenWasThat\\n\\nPython module for returning a human readable value for the time between two specified datetime objects. Inspired by whenWasThat() function from BMC Discovery.\\n\\n## Properties\\n\\n| Property     | Details                                                              |\\n| :----------: | -------------------------------------------------------------------- |\\n| microseconds | Output the total number of microseconds between two datetime objects |\\n| seconds      | Output the total number of seconds between two datetime objects      |\\n| minutes      | Output the total number of minutes between two datetime objects      |\\n| hours        | Output the total number of hours between two datetime objects        |\\n| days         | Output the total number of days between two datetime objects         |\\n| weeks        | Output the total number of weeks between two datetime objects        |\\n| months       | Output the total number of months between two datetime objects       |\\n| years        | Output the total number of years between two datetime objects        |\\n| natural      | Output an approximate number of seconds, minutes, hours, days, weeks, months or years between two datetime objects |\\n\\n## Usage Examples\\n\\n### Retrieve number of days between two dates\\n\\n```python\\n>>> import import datetime as dt\\n>>> from WhenWasThat import when\\n>>> first_date = dt.datetime(2006, 10, 27, 11, 59, 32, 343001)\\n>>> last_date = dt.datetime(2016, 9, 30, 20, 21, 43, 561783)\\n>>> when(first_date,last_date).days\\n3626.348740958125\\n```\\n\\n### Output a natural approximation of the time between two dates\\n\\n```python\\n>>> first_date = dt.datetime(2006, 10, 27, 11, 59, 32, 343001)\\n>>> last_date = dt.datetime(2016, 9, 30, 20, 21, 43, 561783)\\n>>> when(first_date,last_date).natural\\nApproximately 9.9 years ago\\n```\\n\\n### Last date is not required (module will calculate from `datetime.now()`)\\n\\n```python\\n>>> time_then = dt.datetime(2020, 3, 23, 0, 1, 1, 1)\\n>>> when(time_then).weeks\\n75.20358385298611\\n>>> when(time_then).natural\\nApproximately 17.5 months ago\\n```\\n\\n## How many days since the Titanic sunk?\\n\\n```python\\n>>> dt.datetime.now()\\ndatetime.datetime(2021, 8, 31, 10, 20, 59, 979468)\\n>>> titanic = dt.datetime(1912, 4, 15, 2, 20, 0, 0)\\n>>> print(\"The Titanic sunk %s days ago.\" % round(when(titanic).days))\\nThe Titanic sunk 39950 days ago.\\n```\\n\\n## Releases\\n\\n| Version     | Summary                                                | Known Issues          | Fixed                          |\\n| :---------: | ------------------------------------------------------ | --------------------- | ------------------------------ |\\n| Alpha-0.0.1 | Alpha release.                                         |                       |                                |\\n| 0.1.0       | Released to PyPi                                       |                       |                                |\\n\\n\\n',\n",
       "  'description_content_type': 'text/markdown',\n",
       "  'docs_url': None,\n",
       "  'download_url': '',\n",
       "  'downloads': {'last_day': -1, 'last_month': -1, 'last_week': -1},\n",
       "  'home_page': 'https://github.com/codefitz/WhenWasThat',\n",
       "  'keywords': '',\n",
       "  'license': '',\n",
       "  'maintainer': '',\n",
       "  'maintainer_email': '',\n",
       "  'name': 'WhenWasThat',\n",
       "  'package_url': 'https://pypi.org/project/WhenWasThat/',\n",
       "  'platform': '',\n",
       "  'project_url': 'https://pypi.org/project/WhenWasThat/',\n",
       "  'project_urls': {'Homepage': 'https://github.com/codefitz/WhenWasThat'},\n",
       "  'release_url': 'https://pypi.org/project/WhenWasThat/0.1.0/',\n",
       "  'requires_dist': ['pandas'],\n",
       "  'requires_python': '>=3.0',\n",
       "  'summary': 'A small library for getting human readable time value.',\n",
       "  'version': '0.1.0',\n",
       "  'yanked': False,\n",
       "  'yanked_reason': None},\n",
       " 'last_serial': 13093996,\n",
       " 'releases': {'0.1.0': [{'comment_text': '',\n",
       "    'digests': {'blake2b_256': 'fc4afb80e42ed86dc1691c2d7487df64d3a489ea163caaa8e9034913137c8c06',\n",
       "     'md5': 'c43ac7e4e8ae2b682aad29bee1324325',\n",
       "     'sha256': 'b67877de8dea0f1eec041167fca1efb808c3f047079b58f2dbdfa0f6c0a93254'},\n",
       "    'downloads': -1,\n",
       "    'filename': 'WhenWasThat-0.1.0-py3-none-any.whl',\n",
       "    'has_sig': False,\n",
       "    'md5_digest': 'c43ac7e4e8ae2b682aad29bee1324325',\n",
       "    'packagetype': 'bdist_wheel',\n",
       "    'python_version': 'py3',\n",
       "    'requires_python': '>=3.0',\n",
       "    'size': 4183,\n",
       "    'upload_time': '2022-03-06T16:56:41',\n",
       "    'upload_time_iso_8601': '2022-03-06T16:56:41.852301Z',\n",
       "    'url': 'https://files.pythonhosted.org/packages/fc/4a/fb80e42ed86dc1691c2d7487df64d3a489ea163caaa8e9034913137c8c06/WhenWasThat-0.1.0-py3-none-any.whl',\n",
       "    'yanked': False,\n",
       "    'yanked_reason': None},\n",
       "   {'comment_text': '',\n",
       "    'digests': {'blake2b_256': '6f9e7b567cec5c0b6445e21d80f8c009f10be0a5bd147f5467bf0984a4a9d937',\n",
       "     'md5': 'e8a99f010c2fffe705bbfb389de51f54',\n",
       "     'sha256': 'd003a9c0d025f67dbbb206c517b3c6ac5b957f2555e24b294a220493961b4040'},\n",
       "    'downloads': -1,\n",
       "    'filename': 'WhenWasThat-0.1.0.tar.gz',\n",
       "    'has_sig': False,\n",
       "    'md5_digest': 'e8a99f010c2fffe705bbfb389de51f54',\n",
       "    'packagetype': 'sdist',\n",
       "    'python_version': 'source',\n",
       "    'requires_python': '>=3.0',\n",
       "    'size': 3298,\n",
       "    'upload_time': '2022-03-06T16:56:43',\n",
       "    'upload_time_iso_8601': '2022-03-06T16:56:43.719322Z',\n",
       "    'url': 'https://files.pythonhosted.org/packages/6f/9e/7b567cec5c0b6445e21d80f8c009f10be0a5bd147f5467bf0984a4a9d937/WhenWasThat-0.1.0.tar.gz',\n",
       "    'yanked': False,\n",
       "    'yanked_reason': None}]},\n",
       " 'urls': [{'comment_text': '',\n",
       "   'digests': {'blake2b_256': 'fc4afb80e42ed86dc1691c2d7487df64d3a489ea163caaa8e9034913137c8c06',\n",
       "    'md5': 'c43ac7e4e8ae2b682aad29bee1324325',\n",
       "    'sha256': 'b67877de8dea0f1eec041167fca1efb808c3f047079b58f2dbdfa0f6c0a93254'},\n",
       "   'downloads': -1,\n",
       "   'filename': 'WhenWasThat-0.1.0-py3-none-any.whl',\n",
       "   'has_sig': False,\n",
       "   'md5_digest': 'c43ac7e4e8ae2b682aad29bee1324325',\n",
       "   'packagetype': 'bdist_wheel',\n",
       "   'python_version': 'py3',\n",
       "   'requires_python': '>=3.0',\n",
       "   'size': 4183,\n",
       "   'upload_time': '2022-03-06T16:56:41',\n",
       "   'upload_time_iso_8601': '2022-03-06T16:56:41.852301Z',\n",
       "   'url': 'https://files.pythonhosted.org/packages/fc/4a/fb80e42ed86dc1691c2d7487df64d3a489ea163caaa8e9034913137c8c06/WhenWasThat-0.1.0-py3-none-any.whl',\n",
       "   'yanked': False,\n",
       "   'yanked_reason': None},\n",
       "  {'comment_text': '',\n",
       "   'digests': {'blake2b_256': '6f9e7b567cec5c0b6445e21d80f8c009f10be0a5bd147f5467bf0984a4a9d937',\n",
       "    'md5': 'e8a99f010c2fffe705bbfb389de51f54',\n",
       "    'sha256': 'd003a9c0d025f67dbbb206c517b3c6ac5b957f2555e24b294a220493961b4040'},\n",
       "   'downloads': -1,\n",
       "   'filename': 'WhenWasThat-0.1.0.tar.gz',\n",
       "   'has_sig': False,\n",
       "   'md5_digest': 'e8a99f010c2fffe705bbfb389de51f54',\n",
       "   'packagetype': 'sdist',\n",
       "   'python_version': 'source',\n",
       "   'requires_python': '>=3.0',\n",
       "   'size': 3298,\n",
       "   'upload_time': '2022-03-06T16:56:43',\n",
       "   'upload_time_iso_8601': '2022-03-06T16:56:43.719322Z',\n",
       "   'url': 'https://files.pythonhosted.org/packages/6f/9e/7b567cec5c0b6445e21d80f8c009f10be0a5bd147f5467bf0984a4a9d937/WhenWasThat-0.1.0.tar.gz',\n",
       "   'yanked': False,\n",
       "   'yanked_reason': None}],\n",
       " 'vulnerabilities': []}"
      ]
     },
     "execution_count": 14,
     "metadata": {},
     "output_type": "execute_result"
    }
   ],
   "source": [
    "from pprint import pprint\n",
    "\n",
    "response.json()"
   ]
  },
  {
   "cell_type": "code",
   "execution_count": 4,
   "metadata": {},
   "outputs": [
    {
     "data": {
      "text/plain": [
       "dict_keys(['0.0.3', '0.0.4', '0.0.5'])"
      ]
     },
     "execution_count": 4,
     "metadata": {},
     "output_type": "execute_result"
    }
   ],
   "source": [
    "package_info[\"releases\"].keys()"
   ]
  },
  {
   "cell_type": "code",
   "execution_count": 5,
   "metadata": {},
   "outputs": [
    {
     "data": {
      "text/plain": [
       "{'0.0.3': [{'comment_text': '',\n",
       "   'digests': {'blake2b_256': 'b63e63401a085bdc9a1478722edc0b63b4d9ec7d8850b5b3809a196ee76ae9b0',\n",
       "    'md5': 'f83d900b426bd4461af250b7cc769bac',\n",
       "    'sha256': '4053d6b8bccffff8ec3b6de129a9c0bde8dba249cd91793193ae83c5a73d5670'},\n",
       "   'downloads': -1,\n",
       "   'filename': 'chiahub_monitor-0.0.3-py3-none-any.whl',\n",
       "   'has_sig': False,\n",
       "   'md5_digest': 'f83d900b426bd4461af250b7cc769bac',\n",
       "   'packagetype': 'bdist_wheel',\n",
       "   'python_version': 'py3',\n",
       "   'requires_python': None,\n",
       "   'size': 5588,\n",
       "   'upload_time': '2022-02-13T16:41:59',\n",
       "   'upload_time_iso_8601': '2022-02-13T16:41:59.289675Z',\n",
       "   'url': 'https://files.pythonhosted.org/packages/b6/3e/63401a085bdc9a1478722edc0b63b4d9ec7d8850b5b3809a196ee76ae9b0/chiahub_monitor-0.0.3-py3-none-any.whl',\n",
       "   'yanked': False,\n",
       "   'yanked_reason': None},\n",
       "  {'comment_text': '',\n",
       "   'digests': {'blake2b_256': '07f5917418a5fd1b1fa000b4d366ae76b2a8a614873e7210703f1b8e47a59cf5',\n",
       "    'md5': 'ec54fe8b23d924003d0065a10c4029cd',\n",
       "    'sha256': '99b8a7303159041acc3f573f011df6c14486e55c16a7bb84b0af5a4cfe9ce1c6'},\n",
       "   'downloads': -1,\n",
       "   'filename': 'chiahub_monitor-0.0.3.tar.gz',\n",
       "   'has_sig': False,\n",
       "   'md5_digest': 'ec54fe8b23d924003d0065a10c4029cd',\n",
       "   'packagetype': 'sdist',\n",
       "   'python_version': 'source',\n",
       "   'requires_python': None,\n",
       "   'size': 5131,\n",
       "   'upload_time': '2022-02-13T16:42:00',\n",
       "   'upload_time_iso_8601': '2022-02-13T16:42:00.636443Z',\n",
       "   'url': 'https://files.pythonhosted.org/packages/07/f5/917418a5fd1b1fa000b4d366ae76b2a8a614873e7210703f1b8e47a59cf5/chiahub_monitor-0.0.3.tar.gz',\n",
       "   'yanked': False,\n",
       "   'yanked_reason': None}],\n",
       " '0.0.4': [{'comment_text': '',\n",
       "   'digests': {'blake2b_256': 'abb051c0d7030fb029352b179200806b35ed80d7f3dd9f74855f5cb96a16d895',\n",
       "    'md5': '460fc3ba7299e1625c9f096db4e14bda',\n",
       "    'sha256': 'acd6e8655d05a019b667d6e9edf3cfcb1c1e9ebfa116821018813a2bdc6b4270'},\n",
       "   'downloads': -1,\n",
       "   'filename': 'chiahub_monitor-0.0.4-py3-none-any.whl',\n",
       "   'has_sig': False,\n",
       "   'md5_digest': '460fc3ba7299e1625c9f096db4e14bda',\n",
       "   'packagetype': 'bdist_wheel',\n",
       "   'python_version': 'py3',\n",
       "   'requires_python': None,\n",
       "   'size': 5591,\n",
       "   'upload_time': '2022-02-13T16:57:25',\n",
       "   'upload_time_iso_8601': '2022-02-13T16:57:25.980048Z',\n",
       "   'url': 'https://files.pythonhosted.org/packages/ab/b0/51c0d7030fb029352b179200806b35ed80d7f3dd9f74855f5cb96a16d895/chiahub_monitor-0.0.4-py3-none-any.whl',\n",
       "   'yanked': False,\n",
       "   'yanked_reason': None},\n",
       "  {'comment_text': '',\n",
       "   'digests': {'blake2b_256': '99ae4828edcca01329bbff120e6236dbc56b2db56e49c56ff96207e4ae0063cb',\n",
       "    'md5': '4f8f0f1c0df4d3c0c4db8116b857ceca',\n",
       "    'sha256': '76cc4d0e09be41a46cc1b0f51d55a0d6f99064b441c2cfb5b4c04fe7b6d40fc6'},\n",
       "   'downloads': -1,\n",
       "   'filename': 'chiahub_monitor-0.0.4.tar.gz',\n",
       "   'has_sig': False,\n",
       "   'md5_digest': '4f8f0f1c0df4d3c0c4db8116b857ceca',\n",
       "   'packagetype': 'sdist',\n",
       "   'python_version': 'source',\n",
       "   'requires_python': None,\n",
       "   'size': 5129,\n",
       "   'upload_time': '2022-02-13T16:57:27',\n",
       "   'upload_time_iso_8601': '2022-02-13T16:57:27.598567Z',\n",
       "   'url': 'https://files.pythonhosted.org/packages/99/ae/4828edcca01329bbff120e6236dbc56b2db56e49c56ff96207e4ae0063cb/chiahub_monitor-0.0.4.tar.gz',\n",
       "   'yanked': False,\n",
       "   'yanked_reason': None}],\n",
       " '0.0.5': [{'comment_text': '',\n",
       "   'digests': {'blake2b_256': '9f5737eddf057e6268a7ce0e85cad2f3a028a6e18a4066d89a15600aa904b59f',\n",
       "    'md5': 'cdb3374c338596d3c3c1548c8b8c903e',\n",
       "    'sha256': '8009db791fab7560eaa41e8d7a94c8f62f905a2fa4d73f36ca497de09edc50bc'},\n",
       "   'downloads': -1,\n",
       "   'filename': 'chiahub_monitor-0.0.5-py3-none-any.whl',\n",
       "   'has_sig': False,\n",
       "   'md5_digest': 'cdb3374c338596d3c3c1548c8b8c903e',\n",
       "   'packagetype': 'bdist_wheel',\n",
       "   'python_version': 'py3',\n",
       "   'requires_python': None,\n",
       "   'size': 5638,\n",
       "   'upload_time': '2022-04-03T12:38:31',\n",
       "   'upload_time_iso_8601': '2022-04-03T12:38:31.833745Z',\n",
       "   'url': 'https://files.pythonhosted.org/packages/9f/57/37eddf057e6268a7ce0e85cad2f3a028a6e18a4066d89a15600aa904b59f/chiahub_monitor-0.0.5-py3-none-any.whl',\n",
       "   'yanked': False,\n",
       "   'yanked_reason': None},\n",
       "  {'comment_text': '',\n",
       "   'digests': {'blake2b_256': '4516953c01c481fe067a3e4a973eb831d47e334df54edb58c20cb9a58461f81a',\n",
       "    'md5': '5302636c12d7b8ef660cccafd2c03054',\n",
       "    'sha256': 'c786b4b0ddd2b7aff7bc6d8f7318057ba4a3bf3a7eb9243594493257ae2f852c'},\n",
       "   'downloads': -1,\n",
       "   'filename': 'chiahub_monitor-0.0.5.tar.gz',\n",
       "   'has_sig': False,\n",
       "   'md5_digest': '5302636c12d7b8ef660cccafd2c03054',\n",
       "   'packagetype': 'sdist',\n",
       "   'python_version': 'source',\n",
       "   'requires_python': None,\n",
       "   'size': 5175,\n",
       "   'upload_time': '2022-04-03T12:38:33',\n",
       "   'upload_time_iso_8601': '2022-04-03T12:38:33.006546Z',\n",
       "   'url': 'https://files.pythonhosted.org/packages/45/16/953c01c481fe067a3e4a973eb831d47e334df54edb58c20cb9a58461f81a/chiahub_monitor-0.0.5.tar.gz',\n",
       "   'yanked': False,\n",
       "   'yanked_reason': None}]}"
      ]
     },
     "execution_count": 5,
     "metadata": {},
     "output_type": "execute_result"
    }
   ],
   "source": [
    "package_info[\"releases\"]"
   ]
  }
 ],
 "metadata": {
  "kernelspec": {
   "display_name": "OSS",
   "language": "python",
   "name": "python3"
  },
  "language_info": {
   "codemirror_mode": {
    "name": "ipython",
    "version": 3
   },
   "file_extension": ".py",
   "mimetype": "text/x-python",
   "name": "python",
   "nbconvert_exporter": "python",
   "pygments_lexer": "ipython3",
   "version": "3.8.0"
  },
  "orig_nbformat": 4,
  "vscode": {
   "interpreter": {
    "hash": "72bd9dcddc618db3b3d0aaefb1c895feb7c7f4f2df254bc1901f7caa6845e2d1"
   }
  }
 },
 "nbformat": 4,
 "nbformat_minor": 2
}
