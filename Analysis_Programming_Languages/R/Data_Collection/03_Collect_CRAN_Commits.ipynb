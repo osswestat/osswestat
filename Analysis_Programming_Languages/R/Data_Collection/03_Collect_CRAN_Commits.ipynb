{
 "cells": [
  {
   "cell_type": "code",
   "execution_count": null,
   "metadata": {},
   "outputs": [],
   "source": [
    "import sys\n",
    "import os\n",
    "sys.path.append('/home/anilbs/OSS/Production/GitRipper')\n",
    "from tqdm import tqdm\n",
    "import json\n",
    "from GitRipper.Ripper import collect\n",
    "import pandas as pd"
   ]
  },
  {
   "cell_type": "code",
   "execution_count": null,
   "metadata": {},
   "outputs": [],
   "source": [
    "with open(\"/home/anilbs/OSS/api_keys.json\") as f:\n",
    "    data = json.load(f)"
   ]
  },
  {
   "cell_type": "code",
   "execution_count": null,
   "metadata": {},
   "outputs": [],
   "source": [
    "keys = data['keys']\n",
    "keys_list = [(k.split(\":\")[0], k.split(\":\")[1]) for k in keys]"
   ]
  },
  {
   "cell_type": "code",
   "execution_count": null,
   "metadata": {},
   "outputs": [],
   "source": [
    "collector = collect(keys_list)"
   ]
  },
  {
   "cell_type": "code",
   "execution_count": null,
   "metadata": {},
   "outputs": [],
   "source": [
    "columns = ['Package', 'Slug', 'URL', 'oid', 'messageHeadline', 'author_name', 'author_email',\n",
    "       'author_user_login', 'author_user_location', 'author_user_company',\n",
    "       'author_user_pronouns', 'author_user_bio', 'author_user_websiteUrl',\n",
    "       'author_user_twitterUsername', 'author_date', 'additions', 'deletions']"
   ]
  },
  {
   "cell_type": "code",
   "execution_count": null,
   "metadata": {},
   "outputs": [],
   "source": [
    "#check if the empty csv exists\n",
    "# if not, create one\n",
    "# if yes, read the csv and get the list of packages already collected\n",
    "if os.path.exists('/home/anilbs/OSS/CRAN_GH_Data.csv'):\n",
    "       df = pd.read_csv('/home/anilbs/OSS/CRAN_GH_Data.csv')\n",
    "       packages = df['Package'].unique()\n",
    "# Collecting all the commits information for the given repository\n",
    "else:\n",
    "       # Creating an empty csv with the required columns\n",
    "       df = pd.DataFrame(columns=columns)\n",
    "       df.to_csv('/home/anilbs/OSS/CRAN_GH_Data.csv', index=False)\n",
    "       packages = []"
   ]
  },
  {
   "cell_type": "code",
   "execution_count": null,
   "metadata": {},
   "outputs": [],
   "source": [
    "df_cran_slugs = pd.read_csv(\"/home/anilbs/OSS/Data/cran_github_all_slugs.csv\")[['Package', 'Slugs', 'URL']]"
   ]
  },
  {
   "cell_type": "code",
   "execution_count": null,
   "metadata": {},
   "outputs": [],
   "source": [
    "df_cran_slugs.head()"
   ]
  },
  {
   "cell_type": "code",
   "execution_count": null,
   "metadata": {},
   "outputs": [],
   "source": [
    "#select a random row\n",
    "row = df_cran_slugs.iloc[3]\n",
    "s = row.Slugs\n",
    "reponame = s.split(\"/\")[1]\n",
    "ownername = s.split(\"/\")[0]"
   ]
  },
  {
   "cell_type": "code",
   "execution_count": null,
   "metadata": {},
   "outputs": [],
   "source": [
    "for index, row in tqdm(df_cran_slugs.iterrows()):\n",
    "    s = row.Slugs\n",
    "    p = row.Package\n",
    "    u = row.URL\n",
    "    if p in packages:\n",
    "        continue\n",
    "    try:\n",
    "        reponame = s.split(\"/\")[1]\n",
    "        ownername = s.split(\"/\")[0]\n",
    "    except Exception as e:\n",
    "        print(\"Error in parsing slug \", s, \"\\nMessage: \", e)\n",
    "        continue\n",
    "    try:\n",
    "        df_out = collector.collectCommits(ownername, reponame)\n",
    "        #Add package name, slug and url to the dataframe\n",
    "        df_out['Package'] = p\n",
    "        df_out['Slug'] = s\n",
    "        df_out['URL'] = u\n",
    "        #Make sure that package, slug and url are the first three columns\n",
    "        df_out = df_out[columns]\n",
    "        df_out.to_csv('./CRAN_GH_Data.csv', mode='a', header=False, index=False)\n",
    "    except Exception as e:\n",
    "        print(\"Error in collecting commits for \", reponame, ownername, \"\\nMessage: \", e)"
   ]
  }
 ],
 "metadata": {
  "kernelspec": {
   "display_name": "OSS",
   "language": "python",
   "name": "python3"
  },
  "language_info": {
   "codemirror_mode": {
    "name": "ipython",
    "version": 3
   },
   "file_extension": ".py",
   "mimetype": "text/x-python",
   "name": "python",
   "nbconvert_exporter": "python",
   "pygments_lexer": "ipython3",
   "version": "3.8.0"
  },
  "orig_nbformat": 4
 },
 "nbformat": 4,
 "nbformat_minor": 2
}
