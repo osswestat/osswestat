{
 "cells": [
  {
   "cell_type": "markdown",
   "metadata": {},
   "source": [
    "### Network Revisions"
   ]
  },
  {
   "cell_type": "code",
   "execution_count": 1,
   "metadata": {},
   "outputs": [],
   "source": [
    "from sqlalchemy import create_engine\n",
    "\n",
    "# Credentials to database connection\n",
    "hostname=\"oss-1.cij9gk1eehyr.us-east-1.rds.amazonaws.com\"\n",
    "dbname=\"codegov\"\n",
    "uname=\"admin\"\n",
    "pwd=\"OSS022323\"\n",
    "\n",
    "# Create SQLAlchemy engine to connect to MySQL Database\n",
    "engine = create_engine(\"mysql+pymysql://{user}:{pw}@{host}/{db}\"\n",
    "\t\t\t\t.format(host=hostname, db=dbname, user=uname, pw=pwd))"
   ]
  },
  {
   "cell_type": "code",
   "execution_count": 2,
   "metadata": {},
   "outputs": [],
   "source": [
    " # Query to fetch all records\n",
    "\n",
    "import pandas as pd\n",
    "from sqlalchemy.sql import text\n",
    "sql = '''\n",
    "    SELECT * FROM codegov_edge_combos;\n",
    "'''\n",
    "with engine.connect().execution_options(autocommit=True) as conn:\n",
    "    query = conn.execute(text(sql))         \n",
    "df_combos = pd.DataFrame(query.fetchall())"
   ]
  },
  {
   "cell_type": "markdown",
   "metadata": {},
   "source": [
    "Remove the Blank and NaN logins"
   ]
  },
  {
   "cell_type": "code",
   "execution_count": 3,
   "metadata": {},
   "outputs": [
    {
     "data": {
      "text/html": [
       "<div>\n",
       "<style scoped>\n",
       "    .dataframe tbody tr th:only-of-type {\n",
       "        vertical-align: middle;\n",
       "    }\n",
       "\n",
       "    .dataframe tbody tr th {\n",
       "        vertical-align: top;\n",
       "    }\n",
       "\n",
       "    .dataframe thead th {\n",
       "        text-align: right;\n",
       "    }\n",
       "</style>\n",
       "<table border=\"1\" class=\"dataframe\">\n",
       "  <thead>\n",
       "    <tr style=\"text-align: right;\">\n",
       "      <th></th>\n",
       "      <th>slug</th>\n",
       "      <th>login</th>\n",
       "      <th>agency</th>\n",
       "    </tr>\n",
       "  </thead>\n",
       "  <tbody>\n",
       "    <tr>\n",
       "      <th>0</th>\n",
       "      <td>011235813/sept</td>\n",
       "      <td>011235813</td>\n",
       "      <td>Department of Energy</td>\n",
       "    </tr>\n",
       "    <tr>\n",
       "      <th>1</th>\n",
       "      <td>18F/domain-scan</td>\n",
       "      <td></td>\n",
       "      <td>Department of Energy</td>\n",
       "    </tr>\n",
       "    <tr>\n",
       "      <th>2</th>\n",
       "      <td>18F/domain-scan</td>\n",
       "      <td>adelevie</td>\n",
       "      <td>Department of Energy</td>\n",
       "    </tr>\n",
       "    <tr>\n",
       "      <th>3</th>\n",
       "      <td>18F/domain-scan</td>\n",
       "      <td>afeld</td>\n",
       "      <td>Department of Energy</td>\n",
       "    </tr>\n",
       "    <tr>\n",
       "      <th>4</th>\n",
       "      <td>18F/domain-scan</td>\n",
       "      <td>alexbielen</td>\n",
       "      <td>Department of Energy</td>\n",
       "    </tr>\n",
       "  </tbody>\n",
       "</table>\n",
       "</div>"
      ],
      "text/plain": [
       "              slug       login                agency\n",
       "0   011235813/sept   011235813  Department of Energy\n",
       "1  18F/domain-scan              Department of Energy\n",
       "2  18F/domain-scan    adelevie  Department of Energy\n",
       "3  18F/domain-scan       afeld  Department of Energy\n",
       "4  18F/domain-scan  alexbielen  Department of Energy"
      ]
     },
     "execution_count": 3,
     "metadata": {},
     "output_type": "execute_result"
    }
   ],
   "source": [
    "df_combos.head(5)"
   ]
  },
  {
   "cell_type": "markdown",
   "metadata": {},
   "source": [
    "Add the number of blank logins out of the total logins"
   ]
  },
  {
   "cell_type": "code",
   "execution_count": 4,
   "metadata": {},
   "outputs": [],
   "source": [
    "# Remove rows where 'login' is NaN or empty\n",
    "df_combos = df_combos.dropna(subset=['login'])\n",
    "\n",
    "# Remove empty strings in login\n",
    "df_combos = df_combos[df_combos['login'] != '']"
   ]
  },
  {
   "cell_type": "code",
   "execution_count": 5,
   "metadata": {},
   "outputs": [
    {
     "data": {
      "text/html": [
       "<div>\n",
       "<style scoped>\n",
       "    .dataframe tbody tr th:only-of-type {\n",
       "        vertical-align: middle;\n",
       "    }\n",
       "\n",
       "    .dataframe tbody tr th {\n",
       "        vertical-align: top;\n",
       "    }\n",
       "\n",
       "    .dataframe thead th {\n",
       "        text-align: right;\n",
       "    }\n",
       "</style>\n",
       "<table border=\"1\" class=\"dataframe\">\n",
       "  <thead>\n",
       "    <tr style=\"text-align: right;\">\n",
       "      <th></th>\n",
       "      <th>slug</th>\n",
       "      <th>login</th>\n",
       "      <th>agency</th>\n",
       "    </tr>\n",
       "  </thead>\n",
       "  <tbody>\n",
       "    <tr>\n",
       "      <th>0</th>\n",
       "      <td>011235813/sept</td>\n",
       "      <td>011235813</td>\n",
       "      <td>Department of Energy</td>\n",
       "    </tr>\n",
       "    <tr>\n",
       "      <th>2</th>\n",
       "      <td>18F/domain-scan</td>\n",
       "      <td>adelevie</td>\n",
       "      <td>Department of Energy</td>\n",
       "    </tr>\n",
       "    <tr>\n",
       "      <th>3</th>\n",
       "      <td>18F/domain-scan</td>\n",
       "      <td>afeld</td>\n",
       "      <td>Department of Energy</td>\n",
       "    </tr>\n",
       "    <tr>\n",
       "      <th>4</th>\n",
       "      <td>18F/domain-scan</td>\n",
       "      <td>alexbielen</td>\n",
       "      <td>Department of Energy</td>\n",
       "    </tr>\n",
       "    <tr>\n",
       "      <th>5</th>\n",
       "      <td>18F/domain-scan</td>\n",
       "      <td>benbalter</td>\n",
       "      <td>Department of Energy</td>\n",
       "    </tr>\n",
       "  </tbody>\n",
       "</table>\n",
       "</div>"
      ],
      "text/plain": [
       "              slug       login                agency\n",
       "0   011235813/sept   011235813  Department of Energy\n",
       "2  18F/domain-scan    adelevie  Department of Energy\n",
       "3  18F/domain-scan       afeld  Department of Energy\n",
       "4  18F/domain-scan  alexbielen  Department of Energy\n",
       "5  18F/domain-scan   benbalter  Department of Energy"
      ]
     },
     "execution_count": 5,
     "metadata": {},
     "output_type": "execute_result"
    }
   ],
   "source": [
    "df_combos.head(5)"
   ]
  },
  {
   "cell_type": "code",
   "execution_count": 6,
   "metadata": {},
   "outputs": [],
   "source": [
    "df_test = df_combos[:100]"
   ]
  },
  {
   "cell_type": "code",
   "execution_count": 11,
   "metadata": {},
   "outputs": [
    {
     "name": "stderr",
     "output_type": "stream",
     "text": [
      "/tmp/ipykernel_4023/829652218.py:6: DeprecationWarning: DataFrameGroupBy.apply operated on the grouping columns. This behavior is deprecated, and in a future version of pandas the grouping columns will be excluded from the operation. Either pass `include_groups=False` to exclude the groupings or explicitly select the grouping columns after groupby to silence this warning.\n",
      "  df_check = df_test.groupby(['agency']).apply(get_combinations)\n"
     ]
    }
   ],
   "source": [
    "from itertools import combinations\n",
    "\n",
    "def get_combinations(group):\n",
    "    return pd.DataFrame([sorted(e) for e in list(combinations(group['login'].values, 2))], columns=['source', 'target'])\n",
    "\n",
    "df_check = df_test.groupby(['agency']).apply(get_combinations)"
   ]
  },
  {
   "cell_type": "code",
   "execution_count": 15,
   "metadata": {},
   "outputs": [],
   "source": [
    "pairs = []\n",
    "\n",
    "# Group by 'slug'\n",
    "grouped = df_test.groupby('slug')\n",
    "\n",
    "for slug, group in grouped:\n",
    "    if len(group) > 1:\n",
    "        for source, target in combinations(group['login'], 2):\n",
    "            pairs.append({'source': source, 'target': target, 'slug': slug, 'agency': group['agency'].iloc[0]})\n",
    "\n",
    "# Create pairs DataFrame\n",
    "pairs_df = pd.DataFrame(pairs)"
   ]
  },
  {
   "cell_type": "code",
   "execution_count": 17,
   "metadata": {},
   "outputs": [
    {
     "data": {
      "text/html": [
       "<div>\n",
       "<style scoped>\n",
       "    .dataframe tbody tr th:only-of-type {\n",
       "        vertical-align: middle;\n",
       "    }\n",
       "\n",
       "    .dataframe tbody tr th {\n",
       "        vertical-align: top;\n",
       "    }\n",
       "\n",
       "    .dataframe thead th {\n",
       "        text-align: right;\n",
       "    }\n",
       "</style>\n",
       "<table border=\"1\" class=\"dataframe\">\n",
       "  <thead>\n",
       "    <tr style=\"text-align: right;\">\n",
       "      <th></th>\n",
       "      <th>source</th>\n",
       "      <th>target</th>\n",
       "      <th>slug</th>\n",
       "      <th>agency</th>\n",
       "    </tr>\n",
       "  </thead>\n",
       "  <tbody>\n",
       "    <tr>\n",
       "      <th>0</th>\n",
       "      <td>adelevie</td>\n",
       "      <td>afeld</td>\n",
       "      <td>18F/domain-scan</td>\n",
       "      <td>Department of Energy</td>\n",
       "    </tr>\n",
       "    <tr>\n",
       "      <th>1</th>\n",
       "      <td>adelevie</td>\n",
       "      <td>alexbielen</td>\n",
       "      <td>18F/domain-scan</td>\n",
       "      <td>Department of Energy</td>\n",
       "    </tr>\n",
       "    <tr>\n",
       "      <th>2</th>\n",
       "      <td>adelevie</td>\n",
       "      <td>benbalter</td>\n",
       "      <td>18F/domain-scan</td>\n",
       "      <td>Department of Energy</td>\n",
       "    </tr>\n",
       "    <tr>\n",
       "      <th>3</th>\n",
       "      <td>adelevie</td>\n",
       "      <td>blkperl</td>\n",
       "      <td>18F/domain-scan</td>\n",
       "      <td>Department of Energy</td>\n",
       "    </tr>\n",
       "    <tr>\n",
       "      <th>4</th>\n",
       "      <td>adelevie</td>\n",
       "      <td>brendansudol</td>\n",
       "      <td>18F/domain-scan</td>\n",
       "      <td>Department of Energy</td>\n",
       "    </tr>\n",
       "  </tbody>\n",
       "</table>\n",
       "</div>"
      ],
      "text/plain": [
       "     source        target             slug                agency\n",
       "0  adelevie         afeld  18F/domain-scan  Department of Energy\n",
       "1  adelevie    alexbielen  18F/domain-scan  Department of Energy\n",
       "2  adelevie     benbalter  18F/domain-scan  Department of Energy\n",
       "3  adelevie       blkperl  18F/domain-scan  Department of Energy\n",
       "4  adelevie  brendansudol  18F/domain-scan  Department of Energy"
      ]
     },
     "execution_count": 17,
     "metadata": {},
     "output_type": "execute_result"
    }
   ],
   "source": [
    "pairs_df.head(5)"
   ]
  },
  {
   "cell_type": "code",
   "execution_count": 8,
   "metadata": {},
   "outputs": [],
   "source": [
    "from itertools import combinations\n",
    "\n",
    "# Create pairs\n",
    "pairs = []\n",
    "\n",
    "# Group by 'slug'\n",
    "grouped = df_combos.groupby('slug')\n",
    "\n",
    "for slug, group in grouped:\n",
    "    if len(group) > 1:\n",
    "        for source, target in combinations(group['login'], 2):\n",
    "            pairs.append({'source': source, 'target': target, 'slug': slug, 'agency': group['agency'].iloc[0]})\n",
    "\n",
    "# Create pairs DataFrame\n",
    "pairs_df = pd.DataFrame(pairs)\n",
    "\n",
    "# Group by source, target, and agency to count the occurrences of slugs\n",
    "result_df = pairs_df.groupby(['source', 'target', 'agency']).size().reset_index(name='weight')\n"
   ]
  },
  {
   "cell_type": "code",
   "execution_count": 9,
   "metadata": {},
   "outputs": [
    {
     "data": {
      "text/html": [
       "<div>\n",
       "<style scoped>\n",
       "    .dataframe tbody tr th:only-of-type {\n",
       "        vertical-align: middle;\n",
       "    }\n",
       "\n",
       "    .dataframe tbody tr th {\n",
       "        vertical-align: top;\n",
       "    }\n",
       "\n",
       "    .dataframe thead th {\n",
       "        text-align: right;\n",
       "    }\n",
       "</style>\n",
       "<table border=\"1\" class=\"dataframe\">\n",
       "  <thead>\n",
       "    <tr style=\"text-align: right;\">\n",
       "      <th></th>\n",
       "      <th>source</th>\n",
       "      <th>target</th>\n",
       "      <th>agency</th>\n",
       "      <th>weight</th>\n",
       "    </tr>\n",
       "  </thead>\n",
       "  <tbody>\n",
       "    <tr>\n",
       "      <th>0</th>\n",
       "      <td>0111sandesh</td>\n",
       "      <td>SaikrishnaBairamoni</td>\n",
       "      <td>Transportation</td>\n",
       "      <td>1</td>\n",
       "    </tr>\n",
       "    <tr>\n",
       "      <th>1</th>\n",
       "      <td>0111sandesh</td>\n",
       "      <td>Schwartz-Matthew-bah</td>\n",
       "      <td>Transportation</td>\n",
       "      <td>1</td>\n",
       "    </tr>\n",
       "    <tr>\n",
       "      <th>2</th>\n",
       "      <td>0111sandesh</td>\n",
       "      <td>TonyEnglish</td>\n",
       "      <td>Transportation</td>\n",
       "      <td>1</td>\n",
       "    </tr>\n",
       "    <tr>\n",
       "      <th>3</th>\n",
       "      <td>0111sandesh</td>\n",
       "      <td>ToryB1</td>\n",
       "      <td>Transportation</td>\n",
       "      <td>1</td>\n",
       "    </tr>\n",
       "    <tr>\n",
       "      <th>4</th>\n",
       "      <td>0111sandesh</td>\n",
       "      <td>abey-yoseph</td>\n",
       "      <td>Transportation</td>\n",
       "      <td>1</td>\n",
       "    </tr>\n",
       "  </tbody>\n",
       "</table>\n",
       "</div>"
      ],
      "text/plain": [
       "        source                target          agency  weight\n",
       "0  0111sandesh   SaikrishnaBairamoni  Transportation       1\n",
       "1  0111sandesh  Schwartz-Matthew-bah  Transportation       1\n",
       "2  0111sandesh           TonyEnglish  Transportation       1\n",
       "3  0111sandesh                ToryB1  Transportation       1\n",
       "4  0111sandesh           abey-yoseph  Transportation       1"
      ]
     },
     "execution_count": 9,
     "metadata": {},
     "output_type": "execute_result"
    }
   ],
   "source": [
    "result_df.head(5)"
   ]
  },
  {
   "cell_type": "code",
   "execution_count": 109,
   "metadata": {},
   "outputs": [],
   "source": [
    "df_sorted = result_df.sort_values(by='weight', ascending=False)"
   ]
  },
  {
   "cell_type": "code",
   "execution_count": 111,
   "metadata": {},
   "outputs": [
    {
     "data": {
      "text/html": [
       "<div>\n",
       "<style scoped>\n",
       "    .dataframe tbody tr th:only-of-type {\n",
       "        vertical-align: middle;\n",
       "    }\n",
       "\n",
       "    .dataframe tbody tr th {\n",
       "        vertical-align: top;\n",
       "    }\n",
       "\n",
       "    .dataframe thead th {\n",
       "        text-align: right;\n",
       "    }\n",
       "</style>\n",
       "<table border=\"1\" class=\"dataframe\">\n",
       "  <thead>\n",
       "    <tr style=\"text-align: right;\">\n",
       "      <th></th>\n",
       "      <th>source</th>\n",
       "      <th>target</th>\n",
       "      <th>agency</th>\n",
       "      <th>weight</th>\n",
       "    </tr>\n",
       "  </thead>\n",
       "  <tbody>\n",
       "    <tr>\n",
       "      <th>1477256</th>\n",
       "      <td>felddy</td>\n",
       "      <td>jsf9k</td>\n",
       "      <td>Department of Homeland Security</td>\n",
       "      <td>227</td>\n",
       "    </tr>\n",
       "    <tr>\n",
       "      <th>1945821</th>\n",
       "      <td>jsf9k</td>\n",
       "      <td>mcdonnnj</td>\n",
       "      <td>Department of Homeland Security</td>\n",
       "      <td>218</td>\n",
       "    </tr>\n",
       "    <tr>\n",
       "      <th>1170033</th>\n",
       "      <td>dav3r</td>\n",
       "      <td>jsf9k</td>\n",
       "      <td>Department of Homeland Security</td>\n",
       "      <td>218</td>\n",
       "    </tr>\n",
       "    <tr>\n",
       "      <th>1477277</th>\n",
       "      <td>felddy</td>\n",
       "      <td>mcdonnnj</td>\n",
       "      <td>Department of Homeland Security</td>\n",
       "      <td>215</td>\n",
       "    </tr>\n",
       "    <tr>\n",
       "      <th>1169987</th>\n",
       "      <td>dav3r</td>\n",
       "      <td>felddy</td>\n",
       "      <td>Department of Homeland Security</td>\n",
       "      <td>214</td>\n",
       "    </tr>\n",
       "  </tbody>\n",
       "</table>\n",
       "</div>"
      ],
      "text/plain": [
       "         source    target                           agency  weight\n",
       "1477256  felddy     jsf9k  Department of Homeland Security     227\n",
       "1945821   jsf9k  mcdonnnj  Department of Homeland Security     218\n",
       "1170033   dav3r     jsf9k  Department of Homeland Security     218\n",
       "1477277  felddy  mcdonnnj  Department of Homeland Security     215\n",
       "1169987   dav3r    felddy  Department of Homeland Security     214"
      ]
     },
     "execution_count": 111,
     "metadata": {},
     "output_type": "execute_result"
    }
   ],
   "source": [
    "df_sorted.head(5)"
   ]
  },
  {
   "cell_type": "code",
   "execution_count": 112,
   "metadata": {},
   "outputs": [],
   "source": [
    "df_sorted.replace(\"GSA\", \n",
    "           \"General Services Administration\", \n",
    "           inplace=True)\n",
    "\n",
    "\n",
    "df_sorted.replace(\"NASA\", \n",
    "           \"National Aeronautics and Space Administration\", \n",
    "           inplace=True)\n",
    "\n",
    "\n",
    "df_sorted.replace(\"HHS\", \n",
    "           \"Department of Health & Human Services\", \n",
    "           inplace=True)\n",
    "\n",
    "df_sorted.replace(\"Veteran\", \n",
    "           \"Veterans Affairs\", \n",
    "           inplace=True)\n",
    "\n",
    "df_sorted.replace(\"DOD\", \n",
    "           \"Department of Defence\", \n",
    "           inplace=True)\n",
    "\n",
    "df_sorted.replace(\"Small Business\", \n",
    "           \"Small Business Administration\", \n",
    "           inplace=True)\n",
    "\n",
    "df_sorted.replace(\"Treasury\", \n",
    "           \"Department of the Treasury\", \n",
    "           inplace=True)\n",
    "\n",
    "df_sorted.replace(\"Election\", \n",
    "           \"Federal Election Commision\", \n",
    "           inplace=True)\n",
    "\n",
    "df_sorted.replace(\"USDA\", \n",
    "           \"Department of Agriculture\", \n",
    "           inplace=True)\n",
    "\n",
    "df_sorted.replace(\"Transportation\", \n",
    "           \"Department of Transportation\", \n",
    "           inplace=True)\n",
    "\n",
    "df_sorted.replace(\"Education\", \n",
    "           \"Department of Education\", \n",
    "           inplace=True)\n",
    "\n",
    "df_sorted.replace(\"NSF\", \n",
    "           \"National Science Foundation\", \n",
    "           inplace=True)\n",
    "\n",
    "df_sorted.replace(\"SSA\", \n",
    "           \"Social Security Administration\", \n",
    "           inplace=True)\n",
    "\n",
    "df_sorted.replace(\"International\", \n",
    "           \"Agency for International Development\", \n",
    "           inplace=True)"
   ]
  },
  {
   "cell_type": "code",
   "execution_count": 113,
   "metadata": {},
   "outputs": [
    {
     "data": {
      "text/plain": [
       "['Department of Homeland Security',\n",
       " 'Department of Energy',\n",
       " 'General Services Administration',\n",
       " 'Veterans Affairs',\n",
       " 'Small Business Administration',\n",
       " 'Department of Health & Human Services',\n",
       " 'National Aeronautics and Space Administration',\n",
       " 'National Science Foundation',\n",
       " 'Department of Defence',\n",
       " 'Department of Agriculture',\n",
       " 'Department of Labor',\n",
       " 'Federal Election Commision',\n",
       " 'Department of the Treasury',\n",
       " 'Department of Justice',\n",
       " 'Department of Transportation',\n",
       " 'Department of Education',\n",
       " 'Environmental Protection Agency',\n",
       " 'Social Security Administration']"
      ]
     },
     "execution_count": 113,
     "metadata": {},
     "output_type": "execute_result"
    }
   ],
   "source": [
    "agencies = list(df_sorted['agency'].unique())\n",
    "agencies"
   ]
  },
  {
   "cell_type": "code",
   "execution_count": 114,
   "metadata": {},
   "outputs": [
    {
     "name": "stdout",
     "output_type": "stream",
     "text": [
      "Saved department_of_homeland_security_edge.csv\n",
      "Saved department_of_energy_edge.csv\n",
      "Saved general_services_administration_edge.csv\n",
      "Saved veterans_affairs_edge.csv\n",
      "Saved small_business_administration_edge.csv\n",
      "Saved department_of_health_and_human_services_edge.csv\n",
      "Saved national_aeronautics_and_space_administration_edge.csv\n",
      "Saved national_science_foundation_edge.csv\n",
      "Saved department_of_defence_edge.csv\n",
      "Saved department_of_agriculture_edge.csv\n",
      "Saved department_of_labor_edge.csv\n",
      "Saved federal_election_commision_edge.csv\n",
      "Saved department_of_the_treasury_edge.csv\n",
      "Saved department_of_justice_edge.csv\n",
      "Saved department_of_transportation_edge.csv\n",
      "Saved department_of_education_edge.csv\n",
      "Saved environmental_protection_agency_edge.csv\n",
      "Saved social_security_administration_edge.csv\n"
     ]
    }
   ],
   "source": [
    "for agency in agencies:\n",
    "    agency_df = df_sorted[df_sorted['agency'] == agency]\n",
    "    agency_filename = agency.lower().replace(' ', '_').replace('&', 'and').replace('/', '').replace('__', '_') + '_edge.csv'\n",
    "    agency_df.to_csv(agency_filename, index=False)\n",
    "    print(f\"Saved {agency_filename}\")"
   ]
  },
  {
   "cell_type": "markdown",
   "metadata": {},
   "source": [
    "#### Creating a dictionary of graphs for all agencies"
   ]
  },
  {
   "cell_type": "code",
   "execution_count": 115,
   "metadata": {},
   "outputs": [
    {
     "name": "stdout",
     "output_type": "stream",
     "text": [
      "Created graph for department_of_homeland_security\n",
      "Created graph for department_of_energy\n",
      "Created graph for general_services_administration\n",
      "Created graph for veterans_affairs\n",
      "Created graph for small_business_administration\n",
      "Created graph for department_of_health_and_human_services\n",
      "Created graph for national_aeronautics_and_space_administration\n",
      "Created graph for national_science_foundation\n",
      "Created graph for department_of_defence\n",
      "Created graph for department_of_agriculture\n",
      "Created graph for department_of_labor\n",
      "Created graph for federal_election_commision\n",
      "Created graph for department_of_the_treasury\n",
      "Created graph for department_of_justice\n",
      "Created graph for department_of_transportation\n",
      "Created graph for department_of_education\n",
      "Created graph for environmental_protection_agency\n",
      "Created graph for social_security_administration\n",
      "Graph with 104 nodes and 2679 edges\n"
     ]
    }
   ],
   "source": [
    "import pandas as pd\n",
    "import networkx as nx\n",
    "\n",
    "# List of CSV filenames\n",
    "csv_files = [\n",
    "    'department_of_homeland_security_edge.csv',\n",
    "    'department_of_energy_edge.csv',\n",
    "    'general_services_administration_edge.csv',\n",
    "    'veterans_affairs_edge.csv',\n",
    "    'small_business_administration_edge.csv',\n",
    "    'department_of_health_and_human_services_edge.csv',\n",
    "    'national_aeronautics_and_space_administration_edge.csv',\n",
    "    'national_science_foundation_edge.csv',\n",
    "    'department_of_defence_edge.csv',\n",
    "    'department_of_agriculture_edge.csv',\n",
    "    'department_of_labor_edge.csv',\n",
    "    'federal_election_commision_edge.csv',\n",
    "    'department_of_the_treasury_edge.csv',\n",
    "    'department_of_justice_edge.csv',\n",
    "    'department_of_transportation_edge.csv',\n",
    "    'department_of_education_edge.csv',\n",
    "    'environmental_protection_agency_edge.csv',\n",
    "    'social_security_administration_edge.csv'\n",
    "]\n",
    "\n",
    "# Dictionary to store network graphs\n",
    "graphs = {}\n",
    "\n",
    "# Loop to read each CSV and create a network graph\n",
    "for csv_file in csv_files:\n",
    "    # Read the CSV file into a DataFrame\n",
    "    df = pd.read_csv(csv_file)\n",
    "    \n",
    "    # Create a graph from the DataFrame\n",
    "    G = nx.from_pandas_edgelist(df, source='source', target='target')\n",
    "    \n",
    "    # Add the graph to the dictionary with the filename (without extension) as the key\n",
    "    graph_name = csv_file.replace('_edge.csv', '')\n",
    "    graphs[graph_name] = G\n",
    "    \n",
    "    print(f\"Created graph for {graph_name}\")\n",
    "\n",
    "# Example: Accessing a graph from the dictionary\n",
    "example_graph = graphs['department_of_the_treasury']\n",
    "print(example_graph)\n"
   ]
  },
  {
   "cell_type": "code",
   "execution_count": 117,
   "metadata": {},
   "outputs": [
    {
     "name": "stdout",
     "output_type": "stream",
     "text": [
      "Graph with 44 nodes and 149 edges\n"
     ]
    }
   ],
   "source": [
    "print(graphs['department_of_agriculture'])"
   ]
  },
  {
   "cell_type": "code",
   "execution_count": 121,
   "metadata": {},
   "outputs": [
    {
     "name": "stderr",
     "output_type": "stream",
     "text": [
      "Processing files: 100%|██████████| 18/18 [11:41<00:00, 38.99s/it]  "
     ]
    },
    {
     "name": "stdout",
     "output_type": "stream",
     "text": [
      "                                           Agency  Nodes    Edges  \\\n",
      "0                 Department Of Homeland Security    500    11669   \n",
      "1                            Department Of Energy  10332  1635040   \n",
      "2                 General Services Administration   3967   806880   \n",
      "3                                Veterans Affairs    369    61329   \n",
      "4                   Small Business Administration     60      759   \n",
      "5         Department Of Health And Human Services    472     6707   \n",
      "6   National Aeronautics And Space Administration   1202    41975   \n",
      "7                     National Science Foundation      4        4   \n",
      "8                           Department Of Defence    307     7280   \n",
      "9                       Department Of Agriculture     44      149   \n",
      "10                            Department Of Labor     69      228   \n",
      "11                     Federal Election Commision     53      953   \n",
      "12                     Department Of The Treasury    104     2679   \n",
      "13                          Department Of Justice     41      532   \n",
      "14                   Department Of Transportation     33      297   \n",
      "15                        Department Of Education     39      741   \n",
      "16                Environmental Protection Agency      8       28   \n",
      "17                 Social Security Administration      2        1   \n",
      "\n",
      "    Average Degree  Diameter  Average Clustering Coefficient  \\\n",
      "0        46.676000         5                        0.948791   \n",
      "1       316.500194        10                        0.916365   \n",
      "2       406.796068         7                        0.938070   \n",
      "3       332.406504         2                        0.982879   \n",
      "4        25.300000         3                        0.891225   \n",
      "5        28.419492         7                        0.859858   \n",
      "6        69.841930         8                        0.922405   \n",
      "7         2.000000         2                        0.583333   \n",
      "8        47.426710         5                        0.937703   \n",
      "9         6.772727         1                        0.907251   \n",
      "10        6.608696         4                        0.811267   \n",
      "11       35.962264         2                        0.909417   \n",
      "12       51.519231         2                        0.945658   \n",
      "13       25.951220         2                        0.936961   \n",
      "14       18.000000         3                        0.848013   \n",
      "15       38.000000         1                        1.000000   \n",
      "16        7.000000         1                        1.000000   \n",
      "17        1.000000         1                        0.000000   \n",
      "\n",
      "    Connected Components  \n",
      "0                      6  \n",
      "1                    154  \n",
      "2                     29  \n",
      "3                      2  \n",
      "4                      1  \n",
      "5                     15  \n",
      "6                     36  \n",
      "7                      1  \n",
      "8                      3  \n",
      "9                      7  \n",
      "10                     6  \n",
      "11                     1  \n",
      "12                     2  \n",
      "13                     1  \n",
      "14                     3  \n",
      "15                     1  \n",
      "16                     1  \n",
      "17                     1  \n"
     ]
    },
    {
     "name": "stderr",
     "output_type": "stream",
     "text": [
      "\n"
     ]
    }
   ],
   "source": [
    "import pandas as pd\n",
    "import networkx as nx\n",
    "from tqdm import tqdm\n",
    "\n",
    "# List of CSV filenames\n",
    "csv_files = [\n",
    "    'department_of_homeland_security_edge.csv',\n",
    "    'department_of_energy_edge.csv',\n",
    "    'general_services_administration_edge.csv',\n",
    "    'veterans_affairs_edge.csv',\n",
    "    'small_business_administration_edge.csv',\n",
    "    'department_of_health_and_human_services_edge.csv',\n",
    "    'national_aeronautics_and_space_administration_edge.csv',\n",
    "    'national_science_foundation_edge.csv',\n",
    "    'department_of_defence_edge.csv',\n",
    "    'department_of_agriculture_edge.csv',\n",
    "    'department_of_labor_edge.csv',\n",
    "    'federal_election_commision_edge.csv',\n",
    "    'department_of_the_treasury_edge.csv',\n",
    "    'department_of_justice_edge.csv',\n",
    "    'department_of_transportation_edge.csv',\n",
    "    'department_of_education_edge.csv',\n",
    "    'environmental_protection_agency_edge.csv',\n",
    "    'social_security_administration_edge.csv'\n",
    "]\n",
    "\n",
    "# Initialize a list to store the metrics for each graph\n",
    "metrics_list = []\n",
    "\n",
    "# Loop to read each CSV, create a network graph, and calculate metrics\n",
    "for csv_file in tqdm(csv_files, desc=\"Processing files\"):\n",
    "    # Read the CSV file into a DataFrame\n",
    "    df = pd.read_csv(csv_file)\n",
    "    \n",
    "    # Create a graph from the DataFrame\n",
    "    G = nx.from_pandas_edgelist(df, source='source', target='target')\n",
    "    Gcc = sorted(nx.connected_components(G), key=len, reverse=True)\n",
    "    G0 = G.subgraph(Gcc[0])\n",
    "    \n",
    "    # Calculate the metrics\n",
    "    num_nodes = G.number_of_nodes()\n",
    "    num_edges = G.number_of_edges()\n",
    "    avg_degree = sum(dict(G.degree()).values()) / num_nodes\n",
    "    diameter = nx.approximation.diameter(G0)\n",
    "    avg_clustering_coeff = nx.average_clustering(G)\n",
    "    num_connected_components = nx.number_connected_components(G)\n",
    "    \n",
    "    # Append the metrics to the list\n",
    "    metrics_list.append({\n",
    "        'Agency': csv_file.replace('_edge.csv', '').replace('_', ' ').title(),\n",
    "        'Nodes': num_nodes,\n",
    "        'Edges': num_edges,\n",
    "        'Average Degree': avg_degree,\n",
    "        'Diameter': diameter,\n",
    "        'Average Clustering Coefficient': avg_clustering_coeff,\n",
    "        'Connected Components': num_connected_components\n",
    "    })\n",
    "\n",
    "# Create a DataFrame from the metrics list\n",
    "metrics_df = pd.DataFrame(metrics_list)\n",
    "\n",
    "# Display the metrics table\n",
    "print(metrics_df)\n",
    "\n"
   ]
  },
  {
   "cell_type": "code",
   "execution_count": 122,
   "metadata": {},
   "outputs": [],
   "source": [
    "metrics_df.to_csv('agency_network_metrics.csv')"
   ]
  },
  {
   "cell_type": "markdown",
   "metadata": {},
   "source": [
    "#### Creating centrality tables"
   ]
  },
  {
   "cell_type": "code",
   "execution_count": 123,
   "metadata": {},
   "outputs": [
    {
     "name": "stderr",
     "output_type": "stream",
     "text": [
      "Processing files: 100%|██████████| 18/18 [00:05<00:00,  3.39it/s]\n"
     ]
    },
    {
     "data": {
      "text/html": [
       "<div>\n",
       "<style scoped>\n",
       "    .dataframe tbody tr th:only-of-type {\n",
       "        vertical-align: middle;\n",
       "    }\n",
       "\n",
       "    .dataframe tbody tr th {\n",
       "        vertical-align: top;\n",
       "    }\n",
       "\n",
       "    .dataframe thead th {\n",
       "        text-align: right;\n",
       "    }\n",
       "</style>\n",
       "<table border=\"1\" class=\"dataframe\">\n",
       "  <thead>\n",
       "    <tr style=\"text-align: right;\">\n",
       "      <th></th>\n",
       "      <th>node</th>\n",
       "      <th>degree_centrality</th>\n",
       "      <th>agency</th>\n",
       "    </tr>\n",
       "  </thead>\n",
       "  <tbody>\n",
       "    <tr>\n",
       "      <th>0</th>\n",
       "      <td>felddy</td>\n",
       "      <td>0.354709</td>\n",
       "      <td>Department Of Homeland Security</td>\n",
       "    </tr>\n",
       "    <tr>\n",
       "      <th>1</th>\n",
       "      <td>jsf9k</td>\n",
       "      <td>0.428858</td>\n",
       "      <td>Department Of Homeland Security</td>\n",
       "    </tr>\n",
       "    <tr>\n",
       "      <th>2</th>\n",
       "      <td>mcdonnnj</td>\n",
       "      <td>0.398798</td>\n",
       "      <td>Department Of Homeland Security</td>\n",
       "    </tr>\n",
       "    <tr>\n",
       "      <th>3</th>\n",
       "      <td>dav3r</td>\n",
       "      <td>0.531062</td>\n",
       "      <td>Department Of Homeland Security</td>\n",
       "    </tr>\n",
       "    <tr>\n",
       "      <th>4</th>\n",
       "      <td>hillaryj</td>\n",
       "      <td>0.344689</td>\n",
       "      <td>Department Of Homeland Security</td>\n",
       "    </tr>\n",
       "    <tr>\n",
       "      <th>5</th>\n",
       "      <td>dependabot[bot]</td>\n",
       "      <td>0.573146</td>\n",
       "      <td>Department Of Homeland Security</td>\n",
       "    </tr>\n",
       "    <tr>\n",
       "      <th>6</th>\n",
       "      <td>jmorrowomni</td>\n",
       "      <td>0.118236</td>\n",
       "      <td>Department Of Homeland Security</td>\n",
       "    </tr>\n",
       "    <tr>\n",
       "      <th>7</th>\n",
       "      <td>jasonodoom</td>\n",
       "      <td>0.102204</td>\n",
       "      <td>Department Of Homeland Security</td>\n",
       "    </tr>\n",
       "    <tr>\n",
       "      <th>8</th>\n",
       "      <td>arcsector</td>\n",
       "      <td>0.038076</td>\n",
       "      <td>Department Of Homeland Security</td>\n",
       "    </tr>\n",
       "    <tr>\n",
       "      <th>9</th>\n",
       "      <td>KyleEvers</td>\n",
       "      <td>0.070140</td>\n",
       "      <td>Department Of Homeland Security</td>\n",
       "    </tr>\n",
       "  </tbody>\n",
       "</table>\n",
       "</div>"
      ],
      "text/plain": [
       "              node  degree_centrality                           agency\n",
       "0           felddy           0.354709  Department Of Homeland Security\n",
       "1            jsf9k           0.428858  Department Of Homeland Security\n",
       "2         mcdonnnj           0.398798  Department Of Homeland Security\n",
       "3            dav3r           0.531062  Department Of Homeland Security\n",
       "4         hillaryj           0.344689  Department Of Homeland Security\n",
       "5  dependabot[bot]           0.573146  Department Of Homeland Security\n",
       "6      jmorrowomni           0.118236  Department Of Homeland Security\n",
       "7       jasonodoom           0.102204  Department Of Homeland Security\n",
       "8        arcsector           0.038076  Department Of Homeland Security\n",
       "9        KyleEvers           0.070140  Department Of Homeland Security"
      ]
     },
     "execution_count": 123,
     "metadata": {},
     "output_type": "execute_result"
    }
   ],
   "source": [
    "import pandas as pd\n",
    "import networkx as nx\n",
    "from tqdm import tqdm\n",
    "\n",
    "# List of CSV filenames\n",
    "csv_files = [\n",
    "    'department_of_homeland_security_edge.csv',\n",
    "    'department_of_energy_edge.csv',\n",
    "    'general_services_administration_edge.csv',\n",
    "    'veterans_affairs_edge.csv',\n",
    "    'small_business_administration_edge.csv',\n",
    "    'department_of_health_and_human_services_edge.csv',\n",
    "    'national_aeronautics_and_space_administration_edge.csv',\n",
    "    'national_science_foundation_edge.csv',\n",
    "    'department_of_defence_edge.csv',\n",
    "    'department_of_agriculture_edge.csv',\n",
    "    'department_of_labor_edge.csv',\n",
    "    'federal_election_commision_edge.csv',\n",
    "    'department_of_the_treasury_edge.csv',\n",
    "    'department_of_justice_edge.csv',\n",
    "    'department_of_transportation_edge.csv',\n",
    "    'department_of_education_edge.csv',\n",
    "    'environmental_protection_agency_edge.csv',\n",
    "    'social_security_administration_edge.csv'\n",
    "]\n",
    "\n",
    "# Initialize a list to store the degree centrality for each node in each graph\n",
    "degree_centrality_list = []\n",
    "\n",
    "# Loop to read each CSV, create a network graph, and calculate degree centrality\n",
    "for csv_file in tqdm(csv_files, desc=\"Processing files\"):\n",
    "    # Read the CSV file into a DataFrame\n",
    "    df = pd.read_csv(csv_file)\n",
    "    \n",
    "    # Create a graph from the DataFrame\n",
    "    G = nx.from_pandas_edgelist(df, source='source', target='target')\n",
    "    \n",
    "    # Calculate the degree centrality for each node\n",
    "    degree_centrality = nx.degree_centrality(G)\n",
    "    \n",
    "    # Append the degree centrality data to the list\n",
    "    for node, centrality in degree_centrality.items():\n",
    "        degree_centrality_list.append({\n",
    "            'node': node,\n",
    "            'degree_centrality': centrality,\n",
    "            'agency': csv_file.replace('_edge.csv', '').replace('_', ' ').title()\n",
    "        })\n",
    "\n",
    "# Create a DataFrame from the degree centrality list\n",
    "degree_centrality_df = pd.DataFrame(degree_centrality_list)\n",
    "\n",
    "# Display the combined dataframe\n",
    "degree_centrality_df.head(10)\n"
   ]
  },
  {
   "cell_type": "code",
   "execution_count": 124,
   "metadata": {},
   "outputs": [],
   "source": [
    "degree_centrality_df.to_csv('degree_centrality.csv')"
   ]
  },
  {
   "cell_type": "code",
   "execution_count": 126,
   "metadata": {},
   "outputs": [
    {
     "name": "stderr",
     "output_type": "stream",
     "text": [
      "Processing files:   6%|▌         | 1/18 [00:01<00:32,  1.93s/it]Exception ignored in: <bound method IPythonKernel._clean_thread_parent_frames of <ipykernel.ipkernel.IPythonKernel object at 0x7f8dc81246a0>>\n",
      "Traceback (most recent call last):\n",
      "  File \"/home/rahul/projects/OSS/.venv/lib/python3.10/site-packages/ipykernel/ipkernel.py\", line 775, in _clean_thread_parent_frames\n",
      "    def _clean_thread_parent_frames(\n",
      "KeyboardInterrupt: \n"
     ]
    }
   ],
   "source": [
    "import pandas as pd\n",
    "import networkx as nx\n",
    "from tqdm import tqdm\n",
    "\n",
    "# List of CSV filenames\n",
    "csv_files = [\n",
    "    'department_of_homeland_security_edge.csv',\n",
    "    'department_of_energy_edge.csv',\n",
    "    'general_services_administration_edge.csv',\n",
    "    'veterans_affairs_edge.csv',\n",
    "    'small_business_administration_edge.csv',\n",
    "    'department_of_health_and_human_services_edge.csv',\n",
    "    'national_aeronautics_and_space_administration_edge.csv',\n",
    "    'national_science_foundation_edge.csv',\n",
    "    'department_of_defence_edge.csv',\n",
    "    'department_of_agriculture_edge.csv',\n",
    "    'department_of_labor_edge.csv',\n",
    "    'federal_election_commision_edge.csv',\n",
    "    'department_of_the_treasury_edge.csv',\n",
    "    'department_of_justice_edge.csv',\n",
    "    'department_of_transportation_edge.csv',\n",
    "    'department_of_education_edge.csv',\n",
    "    'environmental_protection_agency_edge.csv',\n",
    "    'social_security_administration_edge.csv'\n",
    "]\n",
    "\n",
    "# Initialize a list to store the betweenness centrality for each node in each graph\n",
    "betweenness_centrality_list = []\n",
    "\n",
    "# Loop to read each CSV, create a network graph, and calculate betweenness centrality\n",
    "for csv_file in tqdm(csv_files, desc=\"Processing files\"):\n",
    "    # Read the CSV file into a DataFrame\n",
    "    df = pd.read_csv(csv_file)\n",
    "    \n",
    "    # Create a graph from the DataFrame\n",
    "    G = nx.from_pandas_edgelist(df, source='source', target='target')\n",
    "    \n",
    "    # Calculate the betweenness centrality for each node\n",
    "    betweenness_centrality = nx.betweenness_centrality(G)\n",
    "    \n",
    "    # Append the betweenness centrality data to the list\n",
    "    for node, centrality in betweenness_centrality.items():\n",
    "        betweenness_centrality_list.append({\n",
    "            'node': node,\n",
    "            'betweenness_centrality': centrality,\n",
    "            'agency': csv_file.replace('_edge.csv', '').replace('_', ' ').title()\n",
    "        })\n",
    "\n",
    "# Create a DataFrame from the betweenness centrality list\n",
    "betweenness_centrality_df = pd.DataFrame(betweenness_centrality_list)\n",
    "\n",
    "# Display the combined dataframe\n",
    "betweenness_centrality_df.head(10)"
   ]
  },
  {
   "cell_type": "markdown",
   "metadata": {},
   "source": [
    "#### Potentially Faster and More Efficient Computational Method"
   ]
  },
  {
   "cell_type": "code",
   "execution_count": 3,
   "metadata": {},
   "outputs": [
    {
     "name": "stderr",
     "output_type": "stream",
     "text": [
      "Processing files: 100%|██████████| 18/18 [00:00<00:00, 34.14it/s]\n"
     ]
    },
    {
     "data": {
      "text/html": [
       "<div>\n",
       "<style scoped>\n",
       "    .dataframe tbody tr th:only-of-type {\n",
       "        vertical-align: middle;\n",
       "    }\n",
       "\n",
       "    .dataframe tbody tr th {\n",
       "        vertical-align: top;\n",
       "    }\n",
       "\n",
       "    .dataframe thead th {\n",
       "        text-align: right;\n",
       "    }\n",
       "</style>\n",
       "<table border=\"1\" class=\"dataframe\">\n",
       "  <thead>\n",
       "    <tr style=\"text-align: right;\">\n",
       "      <th></th>\n",
       "      <th>node</th>\n",
       "      <th>betweenness_centrality</th>\n",
       "      <th>agency</th>\n",
       "    </tr>\n",
       "  </thead>\n",
       "  <tbody>\n",
       "    <tr>\n",
       "      <th>0</th>\n",
       "      <td>felddy</td>\n",
       "      <td>0.025542</td>\n",
       "      <td>Department Of Homeland Security</td>\n",
       "    </tr>\n",
       "    <tr>\n",
       "      <th>1</th>\n",
       "      <td>jsf9k</td>\n",
       "      <td>0.063173</td>\n",
       "      <td>Department Of Homeland Security</td>\n",
       "    </tr>\n",
       "    <tr>\n",
       "      <th>2</th>\n",
       "      <td>mcdonnnj</td>\n",
       "      <td>0.046864</td>\n",
       "      <td>Department Of Homeland Security</td>\n",
       "    </tr>\n",
       "    <tr>\n",
       "      <th>3</th>\n",
       "      <td>dav3r</td>\n",
       "      <td>0.207304</td>\n",
       "      <td>Department Of Homeland Security</td>\n",
       "    </tr>\n",
       "    <tr>\n",
       "      <th>4</th>\n",
       "      <td>hillaryj</td>\n",
       "      <td>0.032699</td>\n",
       "      <td>Department Of Homeland Security</td>\n",
       "    </tr>\n",
       "    <tr>\n",
       "      <th>5</th>\n",
       "      <td>dependabot[bot]</td>\n",
       "      <td>0.330717</td>\n",
       "      <td>Department Of Homeland Security</td>\n",
       "    </tr>\n",
       "    <tr>\n",
       "      <th>6</th>\n",
       "      <td>jmorrowomni</td>\n",
       "      <td>0.001510</td>\n",
       "      <td>Department Of Homeland Security</td>\n",
       "    </tr>\n",
       "    <tr>\n",
       "      <th>7</th>\n",
       "      <td>jasonodoom</td>\n",
       "      <td>0.000983</td>\n",
       "      <td>Department Of Homeland Security</td>\n",
       "    </tr>\n",
       "    <tr>\n",
       "      <th>8</th>\n",
       "      <td>arcsector</td>\n",
       "      <td>0.000048</td>\n",
       "      <td>Department Of Homeland Security</td>\n",
       "    </tr>\n",
       "    <tr>\n",
       "      <th>9</th>\n",
       "      <td>KyleEvers</td>\n",
       "      <td>0.000324</td>\n",
       "      <td>Department Of Homeland Security</td>\n",
       "    </tr>\n",
       "  </tbody>\n",
       "</table>\n",
       "</div>"
      ],
      "text/plain": [
       "              node  betweenness_centrality                           agency\n",
       "0           felddy                0.025542  Department Of Homeland Security\n",
       "1            jsf9k                0.063173  Department Of Homeland Security\n",
       "2         mcdonnnj                0.046864  Department Of Homeland Security\n",
       "3            dav3r                0.207304  Department Of Homeland Security\n",
       "4         hillaryj                0.032699  Department Of Homeland Security\n",
       "5  dependabot[bot]                0.330717  Department Of Homeland Security\n",
       "6      jmorrowomni                0.001510  Department Of Homeland Security\n",
       "7       jasonodoom                0.000983  Department Of Homeland Security\n",
       "8        arcsector                0.000048  Department Of Homeland Security\n",
       "9        KyleEvers                0.000324  Department Of Homeland Security"
      ]
     },
     "execution_count": 3,
     "metadata": {},
     "output_type": "execute_result"
    }
   ],
   "source": [
    "import pandas as pd\n",
    "import networkx as nx\n",
    "from tqdm import tqdm\n",
    "from joblib import Parallel, delayed\n",
    "\n",
    "# List of CSV filenames\n",
    "csv_files = [\n",
    "    'department_of_homeland_security_edge.csv',\n",
    "    'department_of_energy_edge.csv',\n",
    "    'general_services_administration_edge.csv',\n",
    "    'veterans_affairs_edge.csv',\n",
    "    'small_business_administration_edge.csv',\n",
    "    'department_of_health_and_human_services_edge.csv',\n",
    "    'national_aeronautics_and_space_administration_edge.csv',\n",
    "    'national_science_foundation_edge.csv',\n",
    "    'department_of_defence_edge.csv',\n",
    "    'department_of_agriculture_edge.csv',\n",
    "    'department_of_labor_edge.csv',\n",
    "    'federal_election_commision_edge.csv',\n",
    "    'department_of_the_treasury_edge.csv',\n",
    "    'department_of_justice_edge.csv',\n",
    "    'department_of_transportation_edge.csv',\n",
    "    'department_of_education_edge.csv',\n",
    "    'environmental_protection_agency_edge.csv',\n",
    "    'social_security_administration_edge.csv'\n",
    "]\n",
    "\n",
    "# Function to calculate betweenness centrality for a single file\n",
    "def calculate_betweenness_centrality(csv_file):\n",
    "    # Read the CSV file into a DataFrame\n",
    "    df = pd.read_csv(csv_file)\n",
    "    \n",
    "    # Create a graph from the DataFrame\n",
    "    G = nx.from_pandas_edgelist(df, source='source', target='target')\n",
    "    \n",
    "    # Calculate the betweenness centrality for each node\n",
    "    betweenness_centrality = nx.betweenness_centrality(G)\n",
    "    \n",
    "    # Prepare the betweenness centrality data\n",
    "    centrality_data = [\n",
    "        {\n",
    "            'node': node,\n",
    "            'betweenness_centrality': centrality,\n",
    "            'agency': csv_file.replace('_edge.csv', '').replace('_', ' ').title()\n",
    "        }\n",
    "        for node, centrality in betweenness_centrality.items()\n",
    "    ]\n",
    "    \n",
    "    return centrality_data\n",
    "\n",
    "# Use parallel processing to calculate betweenness centrality for each file\n",
    "results = Parallel(n_jobs=-1, backend=\"multiprocessing\")(\n",
    "    delayed(calculate_betweenness_centrality)(csv_file) for csv_file in tqdm(csv_files, desc=\"Processing files\")\n",
    ")\n",
    "\n",
    "# Flatten the list of results\n",
    "betweenness_centrality_list = [item for sublist in results for item in sublist]\n",
    "\n",
    "# Create a DataFrame from the betweenness centrality list\n",
    "betweenness_centrality_df = pd.DataFrame(betweenness_centrality_list)\n",
    "\n",
    "# Display the combined dataframe\n",
    "betweenness_centrality_df.head(10)\n"
   ]
  },
  {
   "cell_type": "code",
   "execution_count": 4,
   "metadata": {},
   "outputs": [],
   "source": [
    "betweenness_centrality_df.to_csv('betweenness_centrality.csv')"
   ]
  },
  {
   "cell_type": "code",
   "execution_count": 19,
   "metadata": {},
   "outputs": [
    {
     "data": {
      "image/png": "[encoded data removed]",
      "text/plain": [
       "<Figure size 1000x600 with 1 Axes>"
      ]
     },
     "metadata": {},
     "output_type": "display_data"
    }
   ],
   "source": [
    "import matplotlib.pyplot as plt\n",
    "import numpy as np\n",
    "\n",
    "def calculate_value(additions):\n",
    "    intermediate_value = additions / 1000\n",
    "    intermediate_value = intermediate_value ** 1.05\n",
    "    intermediate_value = intermediate_value * 2.4\n",
    "    intermediate_value = intermediate_value ** 0.38\n",
    "    final_value = intermediate_value * 2.5\n",
    "    personmonths = round(final_value, 5)\n",
    "    rounded_result = personmonths*216786\n",
    "    return rounded_result\n",
    "\n",
    "# Generate a range of addition values\n",
    "additions_values = np.linspace(0, 1000000, 500)  # from 0 to 10,000 with 500 points\n",
    "\n",
    "# Calculate the corresponding values\n",
    "calculated_values = [calculate_value(a) for a in additions_values]\n",
    "\n",
    "# Plot the function\n",
    "plt.figure(figsize=(10, 6))\n",
    "plt.plot(additions_values, calculated_values, label='calculate_value(additions)', color='blue')\n",
    "plt.xlabel('Additions')\n",
    "plt.ylabel('Calculated Value')\n",
    "plt.title('Visualization of the Function calculate_value(additions)')\n",
    "plt.legend()\n",
    "plt.grid(True)\n",
    "plt.show()\n"
   ]
  },
  {
   "cell_type": "code",
   "execution_count": 18,
   "metadata": {},
   "outputs": [
    {
     "data": {
      "text/plain": [
       "110.1716"
      ]
     },
     "execution_count": 18,
     "metadata": {},
     "output_type": "execute_result"
    }
   ],
   "source": [
    "def calculate_person_months(additions):\n",
    "    return round(2.5 * (2.4 * (additions/1000) ** 1.05) ** 0.38, 5)\n",
    "\n",
    "\n",
    "calculate_person_months(5734819)"
   ]
  },
  {
   "cell_type": "markdown",
   "metadata": {},
   "source": [
    "#### Connected Components Metrics"
   ]
  },
  {
   "cell_type": "code",
   "execution_count": 39,
   "metadata": {},
   "outputs": [
    {
     "data": {
      "text/plain": [
       "18"
      ]
     },
     "execution_count": 39,
     "metadata": {},
     "output_type": "execute_result"
    }
   ],
   "source": [
    "len(df_sorted['agency'].unique())"
   ]
  },
  {
   "cell_type": "code",
   "execution_count": 81,
   "metadata": {},
   "outputs": [
    {
     "data": {
      "text/plain": [
       "233"
      ]
     },
     "execution_count": 81,
     "metadata": {},
     "output_type": "execute_result"
    }
   ],
   "source": [
    "nx.number_connected_components(G)"
   ]
  },
  {
   "cell_type": "code",
   "execution_count": 82,
   "metadata": {},
   "outputs": [],
   "source": [
    "connected_components = nx.connected_components(G)\n"
   ]
  },
  {
   "cell_type": "code",
   "execution_count": 83,
   "metadata": {},
   "outputs": [],
   "source": [
    "component_sizes = [len(component) for component in connected_components]"
   ]
  },
  {
   "cell_type": "code",
   "execution_count": 80,
   "metadata": {},
   "outputs": [],
   "source": [
    "for component in connected_components:\n",
    "    print(f\"Component: {list(component)}, Size: {len(component)}\")"
   ]
  },
  {
   "cell_type": "code",
   "execution_count": 84,
   "metadata": {},
   "outputs": [
    {
     "data": {
      "text/plain": [
       "[16116,\n",
       " 43,\n",
       " 18,\n",
       " 4,\n",
       " 20,\n",
       " 6,\n",
       " 3,\n",
       " 38,\n",
       " 6,\n",
       " 3,\n",
       " 9,\n",
       " 2,\n",
       " 2,\n",
       " 3,\n",
       " 5,\n",
       " 3,\n",
       " 7,\n",
       " 3,\n",
       " 10,\n",
       " 3,\n",
       " 2,\n",
       " 2,\n",
       " 6,\n",
       " 2,\n",
       " 2,\n",
       " 3,\n",
       " 6,\n",
       " 7,\n",
       " 4,\n",
       " 13,\n",
       " 6,\n",
       " 9,\n",
       " 20,\n",
       " 8,\n",
       " 14,\n",
       " 3,\n",
       " 5,\n",
       " 2,\n",
       " 20,\n",
       " 7,\n",
       " 51,\n",
       " 9,\n",
       " 4,\n",
       " 3,\n",
       " 3,\n",
       " 7,\n",
       " 2,\n",
       " 18,\n",
       " 4,\n",
       " 4,\n",
       " 2,\n",
       " 2,\n",
       " 9,\n",
       " 4,\n",
       " 4,\n",
       " 3,\n",
       " 9,\n",
       " 8,\n",
       " 2,\n",
       " 4,\n",
       " 7,\n",
       " 6,\n",
       " 3,\n",
       " 5,\n",
       " 6,\n",
       " 6,\n",
       " 11,\n",
       " 2,\n",
       " 9,\n",
       " 4,\n",
       " 2,\n",
       " 2,\n",
       " 2,\n",
       " 10,\n",
       " 3,\n",
       " 2,\n",
       " 4,\n",
       " 6,\n",
       " 6,\n",
       " 2,\n",
       " 7,\n",
       " 4,\n",
       " 6,\n",
       " 13,\n",
       " 3,\n",
       " 4,\n",
       " 3,\n",
       " 5,\n",
       " 5,\n",
       " 5,\n",
       " 5,\n",
       " 6,\n",
       " 8,\n",
       " 2,\n",
       " 4,\n",
       " 6,\n",
       " 2,\n",
       " 13,\n",
       " 2,\n",
       " 2,\n",
       " 2,\n",
       " 2,\n",
       " 15,\n",
       " 3,\n",
       " 2,\n",
       " 4,\n",
       " 2,\n",
       " 4,\n",
       " 3,\n",
       " 7,\n",
       " 8,\n",
       " 2,\n",
       " 4,\n",
       " 2,\n",
       " 2,\n",
       " 3,\n",
       " 4,\n",
       " 7,\n",
       " 6,\n",
       " 2,\n",
       " 2,\n",
       " 3,\n",
       " 2,\n",
       " 3,\n",
       " 5,\n",
       " 8,\n",
       " 3,\n",
       " 2,\n",
       " 3,\n",
       " 8,\n",
       " 3,\n",
       " 2,\n",
       " 2,\n",
       " 2,\n",
       " 2,\n",
       " 2,\n",
       " 2,\n",
       " 3,\n",
       " 3,\n",
       " 3,\n",
       " 2,\n",
       " 3,\n",
       " 2,\n",
       " 2,\n",
       " 3,\n",
       " 2,\n",
       " 2,\n",
       " 2,\n",
       " 3,\n",
       " 2,\n",
       " 2,\n",
       " 3,\n",
       " 2,\n",
       " 2,\n",
       " 2,\n",
       " 3,\n",
       " 2,\n",
       " 2,\n",
       " 2,\n",
       " 3,\n",
       " 2,\n",
       " 2,\n",
       " 2,\n",
       " 2,\n",
       " 3,\n",
       " 9,\n",
       " 2,\n",
       " 3,\n",
       " 2,\n",
       " 2,\n",
       " 3,\n",
       " 2,\n",
       " 3,\n",
       " 2,\n",
       " 3,\n",
       " 2,\n",
       " 2,\n",
       " 2,\n",
       " 2,\n",
       " 2,\n",
       " 8,\n",
       " 4,\n",
       " 2,\n",
       " 3,\n",
       " 6,\n",
       " 2,\n",
       " 3,\n",
       " 2,\n",
       " 4,\n",
       " 2,\n",
       " 3,\n",
       " 3,\n",
       " 2,\n",
       " 6,\n",
       " 3,\n",
       " 2,\n",
       " 2,\n",
       " 2,\n",
       " 2,\n",
       " 3,\n",
       " 2,\n",
       " 2,\n",
       " 4,\n",
       " 2,\n",
       " 2,\n",
       " 2,\n",
       " 2,\n",
       " 2,\n",
       " 6,\n",
       " 2,\n",
       " 4,\n",
       " 2,\n",
       " 2,\n",
       " 2,\n",
       " 2,\n",
       " 2,\n",
       " 2,\n",
       " 2,\n",
       " 2,\n",
       " 2,\n",
       " 2,\n",
       " 2,\n",
       " 2,\n",
       " 3,\n",
       " 2,\n",
       " 2,\n",
       " 2,\n",
       " 2,\n",
       " 2,\n",
       " 3,\n",
       " 2,\n",
       " 2,\n",
       " 2]"
      ]
     },
     "execution_count": 84,
     "metadata": {},
     "output_type": "execute_result"
    }
   ],
   "source": [
    "component_sizes"
   ]
  },
  {
   "cell_type": "code",
   "execution_count": 86,
   "metadata": {},
   "outputs": [],
   "source": [
    "components_check = pd.DataFrame(component_sizes)"
   ]
  },
  {
   "cell_type": "code",
   "execution_count": 88,
   "metadata": {},
   "outputs": [],
   "source": [
    "components_check.to_csv('component_sizes.csv')"
   ]
  },
  {
   "cell_type": "code",
   "execution_count": 42,
   "metadata": {},
   "outputs": [
    {
     "data": {
      "text/plain": [
       "False"
      ]
     },
     "execution_count": 42,
     "metadata": {},
     "output_type": "execute_result"
    }
   ],
   "source": [
    "nx.is_connected(G)"
   ]
  },
  {
   "cell_type": "code",
   "execution_count": 44,
   "metadata": {},
   "outputs": [],
   "source": [
    "largest_cc = max(nx.connected_components(G), key=len)"
   ]
  },
  {
   "cell_type": "code",
   "execution_count": 45,
   "metadata": {},
   "outputs": [
    {
     "data": {
      "text/plain": [
       "16116"
      ]
     },
     "execution_count": 45,
     "metadata": {},
     "output_type": "execute_result"
    }
   ],
   "source": [
    "len(largest_cc)"
   ]
  },
  {
   "cell_type": "code",
   "execution_count": 46,
   "metadata": {},
   "outputs": [],
   "source": [
    "S = [G.subgraph(c).copy() for c in nx.connected_components(G)]"
   ]
  },
  {
   "cell_type": "code",
   "execution_count": 47,
   "metadata": {},
   "outputs": [],
   "source": [
    "connected_component = list(nx.connected_components(G))\n",
    "\n",
    "largest_cc = max(nx.connected_components(G), key=len)\n",
    "\n",
    "largest_cc_subgraph = G.subgraph(largest_cc)\n",
    "\n",
    "largest_cc_edge_list = list(largest_cc_subgraph.edges())\n"
   ]
  },
  {
   "cell_type": "code",
   "execution_count": 50,
   "metadata": {},
   "outputs": [
    {
     "data": {
      "text/plain": [
       "2571191"
      ]
     },
     "execution_count": 50,
     "metadata": {},
     "output_type": "execute_result"
    }
   ],
   "source": [
    "len(largest_cc_edge_list)"
   ]
  },
  {
   "cell_type": "code",
   "execution_count": 51,
   "metadata": {},
   "outputs": [
    {
     "data": {
      "text/plain": [
       "16116"
      ]
     },
     "execution_count": 51,
     "metadata": {},
     "output_type": "execute_result"
    }
   ],
   "source": [
    "nx.number_of_nodes(largest_cc_subgraph)"
   ]
  },
  {
   "cell_type": "code",
   "execution_count": 53,
   "metadata": {},
   "outputs": [],
   "source": [
    "check = nx.nodes(largest_cc_subgraph)"
   ]
  },
  {
   "cell_type": "code",
   "execution_count": 54,
   "metadata": {},
   "outputs": [
    {
     "data": {
      "text/plain": [
       "NodeView(('0111sandesh', 'SaikrishnaBairamoni', 'Schwartz-Matthew-bah', 'TonyEnglish', 'ToryB1', 'abey-yoseph', 'alexsobledotgov', 'bbrotsos', 'dan-du-car', 'danrasband', 'dependabot[bot]', 'dmccoystephenson', 'drewjj', 'hmusavi', 'iyourshaw', 'jtbaird', 'lauraGgit', 'mgarramo', 'mvs5465', 'payneBrandon', 'snallamothu', 'southernsun', 'tonychen091', 'trevor-trou', '0mp', '12101111', 'AttilaFueloep', 'Avatat', 'BearBabyLiu', 'Blub', 'BrainSlayer', 'BtbN', 'ChaoyuZhang', 'ClashTheBunny', 'ColMelvin', 'ColdCanuck', 'Conan-Kudo', 'CragW', 'CraigLoomis', 'Cyan4973', 'DKOI', 'DeHackEd', 'DimitryAndric', 'Fabian-Gruenbichler', 'Finix1979', 'FireDrunk', 'FransUrbo', 'GarrisonJ', 'GeLiXin', 'Gelma', 'Gerardwx', 'GregorKopka', 'HRio', 'InsanePrawn', 'JKDingwall', 'JMoVS', 'JordanP-Dev', 'Kayvlim', 'KireinaHoro', 'KodyKantor', 'Kream', 'Lalufu', 'Low-power', 'MatMaul', 'Mic92', 'Nasf-Fan', 'Ornias1993', 'PaulZ-98', 'Peter-Levine', 'PeterDaveHello', 'Rabenda', 'RealOrangeOne', 'RichardSharpe', 'Rudd-O', 'RyanHir', 'SenH', 'SirOibaf', 'Spencer-Kinny', 'TerraTech', 'TheRealDannyBoy', 'ThomasLamprecht', 'Thynix', 'Tookmund', 'TulsiJain', 'Vaelatern', 'WRMSRwasTaken', 'YanyunGao', 'aayare-dlpx', 'ab-oe', 'abrasive', 'abraunegg', 'abyxcos', 'adamdmoss', 'adilger', 'adisbladis', 'aerusso', 'ahesford', 'ahrens', 'aidanharris', 'ajs124', 'akashb-22', 'akorn', 'alaviss', 'alder711', 'alek-p', 'alex-stetsenko', 'alexxy', 'alhazred', 'allanjude', 'allen-4', 'alteriks', 'alyssais', 'amotin', 'anatolyborodin', 'andrewc12', 'andrewts', 'andrey-ve', 'andy-js', 'anodos325', 'arekinath', 'arichardson', 'arshad512', 'arun-kv', 'as-com', 'asedeno', 'asomers', 'avg-I', 'awehrfritz', 'b333z', 'bahamas10', 'bcoddens', 'behlendorf', 'belperite', 'benalbrecht', 'bencord0', 'bengentil', 'bensallen', 'beren12', 'bernie1995', 'bitonic', 'bmcgough', 'bnjf', 'bprotopopov', 'brad-lewis', 'brooksdavis', 'bsdimp', 'bunder2015', 'buzzingwires', 'bwatkinson', 'bzzz77', 'c0d3z3r0', 'cable2999', 'candychencan', 'casualfish', 'cburroughs', 'cdluminate', 'cedricmaunoury', 'ceedriic', 'charlessuh', 'chmeeedalf', 'chrekh', 'chrisrd', 'chuangzhu', 'chungy', 'citrus-it', 'ckane', 'clandmeter', 'clefru', 'clinta', 'clopez', 'colmbuckley', 'craig-sanders', 'crass', 'crawfxrd', 'cschuber', 'cschwarz-nutanix', 'ctuffli', 'cwedgwood', 'cwill', 'cyphar', 'dacianstremtan', 'dajhorn', 'dalbani', 'dankamongmen', 'dankimmel', 'danvatca', 'dasjoe', 'davidchenntnx', 'daweiq', 'dbavatar', 'dbussink', 'debdrup', 'dechamps', 'defaziogiancarlo', 'dejarikra', 'delphij', 'delphixdelphix', 'derekdai', 'dfr', 'dhedberg', 'didrocks', 'dinatale2', 'dioni21', 'djhoffma', 'dodexahedron', 'dominikh', 'don-brady', 'dpquigl', 'driesmp', 'drowfx', 'dspearson', 'dswartz', 'dun', 'dverite', 'dweeezil', 'eallrich', 'edillmann', 'eharris', 'eli-schwartz', 'eqvinox', 'ericonr', 'ethan-coe-renner', 'evansus', 'exi', 'fajarnugraha', 'fbynite', 'fel1x-developer', 'felixdoerre', 'finist0', 'fling-', 'fsvm88', 'fuporovvStack', 'gamanakis', 'gaurkuma', 'gaurntnx', 'gbergling', 'gdamore', 'gdevenyi', 'gebi', 'gedia', 'geppi', 'gg7', 'ggzengel', 'ghfields', 'glaubitz', 'gldisater', 'gmelikov', 'gordan-bobic', 'grahamc', 'grahamperrin', 'gregory-lee-bartholomew', 'grembo', 'grimreaper', 'grwilson', 'gunnarbeutner', 'gusioo', 'gwr', 'gyakovlev', 'haasn', 'hadfl', 'happyaron', 'hawartens', 'heary-cao', 'heeplr', 'hjmallon', 'hpingfs', 'hrasiq', 'hsepeng', 'huangheintel', 'hufman', 'hvdijk', 'ikozhukhov', 'illiliti', 'ilovezfs', 'ilvovsky', 'imp', 'inkdot7', 'inthecloud247', 'ironMann', 'ixhamza', 'jakeogh', 'jameslikeslinux', 'jasonbking', 'javenwu', 'jbedo', 'jclulow', 'jcowgill', 'jdike', 'jeffpc', 'jeis2497052', 'jengelh', 'jeremy-gill', 'jeremyvisser', 'jgallag88', 'jgmills', 'jgottula', 'jhammond-intel', 'jharmening', 'jheuking', 'jibel', 'jimmyH', 'jjelinek', 'jlec', 'jlsalvador', 'jmgurney', 'jmlayman', 'johnramsden', 'jonathonf', 'jrtc27', 'jsai20', 'jsoref', 'jstenback', 'julmb', 'jumbi77', 'jurikm', 'jwittlincohen', 'jwk404', 'jwpoduska', 'jxdking', 'jxiong', 'ka7', 'kdomanski', 'kernelOfTruth', 'kev009', 'kevans91', 'khng300', 'kithrup', 'kkretschmer', 'klebertarcisio', 'kofee', 'kohlschuetter', 'kohsuke', 'kpfleming', 'kprovost', 'kusumi', 'kylef', 'kylosus', 'l1k', 'leahneukirchen', 'lhuedepohl', 'liaoyuxiangqin', 'lidongyang', 'lnicola', 'loli10K', 'lopsided98', 'lorddoskias', 'lorenz', 'lotheac', 'louwrentius', 'loyou', 'lumigch', 'lundman', 'luozhengzheng', 'maci0', 'madwizard', 'manfromafar', 'manoj-joseph', 'marcelhuberfoo', 'markjdb', 'markroper', 'marku89', 'martin-rueegg', 'matt-fidd', 'mattikus', 'mattmacy', 'maxximino', 'maxz', 'mazouffre', 'mcdonc', 'mcmilk', 'mdnahian', 'megari', 'melak', 'mfoliveira', 'mharsch', 'michaelfranzl', 'mikeldy', 'mjguzik', 'mk01', 'mmatuska', 'mmaybee', 'mmehnert', 'mschilli87', 'mskarbek', 'mtelka', 'mzhivich', 'nabijaczleweli', 'nachtgeist', 'naivekun', 'nathancheek', 'nedbass', 'neverpanic', 'nickgarvey', 'nivedita76', 'nkhare', 'nmattis', 'nmeum', 'nordaux', 'npc203', 'nssrikanth', 'numinit', 'nwf', 'ofaaland', 'ofthesun9', 'ogelpre', 'omnivagant', 'orivej', 'oshogbo', 'overhacked', 'pabloyoyoista', 'paboldin', 'palashgandhi', 'papamoose', 'paper42', 'pashford', 'pbhenson', 'pcd1193182', 'pendor', 'perfinion', 'pewo', 'pfmooney', 'pgiffuni', 'pik4ez', 'pikrzysztof', 'piru', 'pjd', 'pkoutoupis', 'pkubaj', 'ppokorny', 'prakashsurya', 'privb0x23', 'problame', 'prometheanfire', 'pstef', 'pyavdr', 'pyhalov', 'pzakha', 'q66', 'quartsize', 'qzdanis', 'r-ricci', 'rHermes', 'rdolbeau', 'renelson', 'ret2libc', 'richardelling', 'richlowe', 'rincebrain', 'rkitover', 'rlaager', 'rlibby', 'rob-wing', 'robn', 'rohan-puri', 'rootfs', 'rstrlcpy', 'rtvd', 'rubenk', 'rugubara', 'ryao', 'sailnfool', 'salazaj', 'sam-lunt', 'samwyc', 'sanjeevbagewadi', 'satmandu', 'savyajha', 'schakrava', 'scolby33', 'scotws', 'scsiguy', 'sdimitro', 'sebroy', 'seletskiy', 'sempervictus', 'sensille', 'sgn', 'shaan1337', 'shartse', 'shenyan1', 'shodanshok', 'siebenmann', 'sikevux', 'siv0', 'skiselkov', 'sklinkert', 'smammy', 'smokris', 'smuething', 'snajpa', 'sohg', 'solbjorn', 'spaghetti-', 'speed47', 'stancheff', 'sterlingjensen', 'stevenh', 'stiell', 'storkone', 'stormi', 'strugee', 'sydneyvanda', 'szubersk', 'tcharding', 'techhazard', 'teknoman117', 'terem42', 'terrelln', 'tesujimath', 'thwarted', 'tim-day-387', 'timor', 'timschumi', 'tj90241', 'tnn', 'toelke', 'tomprince', 'tomtastic', 'tony-zfs', 'tonyhutter', 'tonynguien', 'treydock', 'trisk', 'tsoome', 'tuxoko', 'twoertwein', 'tycho', 'tyll', 'usaleem-ix', 'utopiabound', 'vaclavskala', 'valpackett', 'veggiemike', 'vermavipinkumar', 'verygreen', 'voegelas', 'vozhyk-', 'wca', 'wgqimut', 'windelbouwman', 'winglq', 'wli5', 'wrouesnel', 'wzssyqa', 'xdch47', 'xen0l', 'xin3liang', 'xnox', 'youzhongyang', 'yparitcher', 'yshui', 'yuripv', '0x0L', '30blay', '7islands', 'ADmitri42', 'AKuederle', 'APwhitehat', 'AidanGG', 'Alan-Hung', 'AlexGrig', 'Alvant', 'Andreea-G', 'AndrewAnnex', 'AndreyAkinshin', 'AnirudhDagar', 'Anselmoo', 'ApamNapat', 'Ar-Kareem', 'Armavica', 'ArmstrongJ', 'Atcold', 'AtsushiSakai', 'AvivYaish', 'Axiru', 'BH4', 'BSGalvan', 'Balandat', 'Balthasar-eu', 'BassCoder2808', 'Bharat123rox', 'BlGene', 'BrianNewsom', 'BvB93', 'CAM-Gerlach', 'CallumJHays', 'Carreau', 'ChVeen', 'Chachay', 'ChadFulton', 'CharlesMasson', 'Chinwendu20', 'ChrisKeefe', 'ClemensFMN', 'Coloquinte', 'Corallus-Caninus', 'DCtheTall', 'DWesl', 'Daniel-B-Smith', 'Dapid', 'DavidCEllis', 'DerWeh', 'DevinCrowley', 'Didou09', 'DimitriPapadopoulos', 'DominicAntonacci', 'DominicChm', 'Dr-G', 'DrPiranoid', 'E-W-Jones', 'Eight1911', 'ElDeveloper', 'Ennosigaeon', 'EverLookNeverSee', 'EwoutH', 'ExpHP', 'FRidh', 'FabricioS', 'Feltenball', 'Femme-js', 'FirefoxMetzger', 'FlorianWilhelm', 'FormerPhysicist', 'FranzForstmayr', 'GKFX', 'GSORF', 'GaelVaroquaux', 'Gamrix', 'Garrett-R', 'Gattocrucco', 'GavinGZhang', 'GeneraalFandaal', 'Ghopper21', 'Giftlin', 'GiggleLiu', 'Gillu13', 'GonVas', 'GreatV', 'GregoryEAllen', 'HDembinski', 'HarshCasper', 'HenrikBengtsson', 'I--P', 'InfProbSciX', 'Itrimel', 'JDkuba', 'JacobBlomgren', 'JakobStruye', 'JarnoRFB', 'Jebby993', 'JelleAalbers', 'JesseLivezey', 'Jiacheng-Liu', 'JoOkuma', 'Jorge-C', 'Josh-Lefler', 'JozsefKutas', 'JuliaMelle01', 'JustinL42', 'Jwink3101', 'KPLauritzen', 'Kai-Striega', 'KaleabTessera', 'Kaniee', 'Kitchi', 'Konrad0', 'L-Sandler', 'Lakshayainani', 'Lalaland', 'LaurynasMiksys', 'Linkid', 'Lskvk', 'Lv101Magikarp', 'ML-Nielsen', 'MYheavyGo', 'MaigoAkisame', 'MalikIdreesHasanKhan', 'Maltimore', 'MarcinKonowalczyk', 'MarcoGorelli', 'MarieRoald', 'MarkusKoebis', 'MartinGrignard', 'MartinThoma', 'MathieuDutSik', 'Matt711', 'MatteoRaso', 'MatthewFlamm', 'MatthieuDartiailh', 'Mazensayed91', 'McLP2', 'MeraX', 'MichaelMarien', 'Micky774', 'Mike402', 'MrCreosote', 'Muthsera', 'N-Wouda', 'NKrvavica', 'NPDW', 'NaelsonDouglas', 'Naereen', 'NamamiShanker', 'NeilGirdhar', 'NiMlr', 'NickleDave', 'NicolasHug', 'NielsDoucet', 'NiklasKroeger', 'Noxbru', 'OGordon100', 'OmarManzoor', 'OriolAbril', 'PKNaveen', 'PSSF23', 'Papaganti-sravya', 'ParticularMiner', 'Patol75', 'PavelStishenko', 'PershingSquare', 'PhilippThoelke', 'PinkShnack', 'Psirus', 'QuLogic', 'RadZaeem', 'RafaelPinto', 'Recursing', 'Renal-Of-Loon', 'RikVoorhaar', 'RonnyPfannschmidt', 'RothNRK', 'RoyalTS', 'SJamieson', 'SamGRosen', 'Samreay', 'SaumyaBhushan', 'Sbte', 'Sebascn', 'ShehanAT', 'ShivnarenSrinivasan', 'SimonSegerblomRex', 'Sirivasv', 'Smit-create', 'SnoopJ', 'Stefan-Endres', 'StefanoFrazzetto', 'StrahinjaLukic', 'SunsetOrange', 'SuperFluffy', 'SyedSaifAliAlvi', 'SytseK', 'Tartopohm', 'TaskeHAMANO', 'TheGreatCabbage', 'TianyiQ', 'Tiepies', 'Tiger-Du', 'TimothyWillard', 'Tokixix', 'TomAugspurger', 'TomEversdijk', 'TomasTomecek', 'TonyXiang8787', 'Unessam', 'V0lantis', 'VarIr', 'VitalyChait', 'WRKampi', 'WarrenWeckesser', 'WillTirone', 'Wrzlprmft', 'Xodarap', 'YairMZ', 'YeonjooSmith', 'Yikun', 'Yosshi999', 'YoussefAli1', 'ZhihuiChen0903', 'ZhiqingXiao', 'aakashjain', 'aarchiba', 'aaronpries', 'aburrell', 'ace-e4s', 'adamadanandy', 'adamjstewart', 'adbugger', 'adeak', 'adivijaykumar', 'adrn', 'aeberspaecher', 'aeklant', 'aerval', 'ageitgey', 'ahawryluk', 'aherbert', 'ahjulstad', 'ahojnnes', 'ahwagner', 'aidan-fitz', 'aizvorski', 'ajdunlap', 'ak04p', 'akahard2dj', 'akeemlh', 'akhmerov', 'akpandeya', 'akretz', 'akstrfn', 'albertcthomas', 'alchemyst', 'alegresor', 'ales-erjavec', 'alexander-soare', 'alexandschaefer', 'alexbrc', 'alexdesiqueira', 'alexeyum', 'alexfikl', 'alexhenrie', 'alfredocarella', 'alimuldal', 'allefeld', 'aloctavodia', 'alugowski', 'alvarosg', 'aman-thakral', 'amanp10', 'amarvin', 'amitport', 'amlimaye', 'ampolloreno', 'ananyashreyjain', 'andfoy', 'andim', 'andportnoy', 'andreas-h', 'andreas-kopecky', 'andrewfowlie', 'andrewreed', 'andsor', 'andyfaff', 'anielsen001', 'anjugeethanair', 'ankit-maverick', 'annesylvie', 'anntzer', 'antonior92', 'anubhavp28', 'apbard', 'aragilar', 'arch-dawson', 'argonautica', 'argriffing', 'arichar6', 'arm61', 'armanbilge', 'arokem', 'asberk', 'ashutoshvarma', 'ashwinpathak20', 'asnelt', 'asreimer', 'astrofrog', 'astrojuanlu', 'atabary', 'atombrella', 'atpage', 'avishai231', 'awakenting', 'awvwgk', 'ayappanec', 'aypiggott', 'b-carter', 'bagibence', 'balodja', 'balopat', 'bantmen', 'bashtage', 'batterseapower', 'bcbnz', 'bdvd', 'befelix', 'behzadnouri', 'belm0', 'benbo', 'benjaminr', 'benjaminrose', 'bentyeh', 'berberto', 'beyondmetis', 'bfontaine', 'bfroehle', 'bgrant', 'bharath2438', 'bhavika', 'billsacks', 'bjodah', 'bjorges', 'bjornfor', 'bjude', 'black-puppydog', 'bmcage', 'bmcfee', 'bmorris3', 'bmwiedemann', 'boatwrong', 'boazmohar', 'bobcatCA', 'boeddeker', 'boris-martin', 'boussoffara', 'braingram', 'brandon-beacher', 'brandondavid', 'branliu0', 'brettrmurphy', 'brunobeltran', 'bsdz', 'bsipocz', 'bsmith89', 'bulli92', 'burkh4rt', 'burnpanck', 'c-bata', 'c-meyer', 'caioagiani', 'cairijun', 'calbaker', 'cam92473', 'camilog04', 'cancan101', 'canyon289', 'caos21', 'capnrefsmmat', 'carrdelling', 'carterbox', 'caryan', 'castedo', 'cbrnr', 'cbrueffer', 'cclauss', 'cdeil', 'cdipaolo', 'cdouglass', 'cel4', 'cesaregarza', 'cgobat', 'cgohlke', 'chanley', 'chapochn', 'charlie0389', 'charliermarsh', 'charlotte12l', 'charris', 'chatcannon', 'chenghlee', 'chinandrew', 'chohner', 'chris-simpson', 'chrisb83', 'chrisgorgo', 'christianbrodbeck', 'chschock', 'cimarronm', 'cirosantilli', 'cjekel', 'ckuster', 'clarkfitzg', 'clementkng', 'cm7S', 'cmdupuis3', 'cmgodwin', 'cmpute', 'cmutel', 'cod3licious', 'codeloop', 'colbertz2', 'congma', 'cool-RR', 'corbett5', 'cottrell', 'cournape', 'cowden', 'cowlicks', 'cpaulik', 'cpcloud', 'craigcitro', 'cruyffturn', 'csachs', 'ctokheim', 'cwrowley', 'cycentum', 'cynthia-rempel', 'czgdp1807', 'd-chambers', 'd-cogswell', 'da-woods', 'daggerdagr', 'daguiam', 'danielsjensen1', 'danilo-augusto', 'dankleeman', 'david-cortes', 'david-zwicker', 'davidgilbertson', 'daxlab', 'dayyass', 'ddasilva', 'ddeloss', 'deadb0d4', 'deasmhumhna', 'deepakgouda', 'deeptavker', 'defending1', 'dellsystem', 'demotu', 'dennisdeh', 'derb12', 'derbuihan', 'devonwp', 'dgorissen', 'dhermes', 'dhomeier', 'dhruv9vats', 'diana-sukhoverkhova', 'dimpase', 'diregoblin', 'distroinfinity', 'divenex', 'djarecka', 'dlax', 'dmadeka', 'dmcdougall', 'dmmolitor', 'domengorjup', 'dominicelse', 'donno2048', 'doronbehar', 'dpoerio', 'drhagen', 'drlvk', 'droussea2001', 'droyed', 'drpeteb', 'dschmitz89', 'dschult', 'dtemkin', 'duetosymmetry', 'dwf', 'dwight200', 'dzbarsky', 'e-q', 'eamartin', 'edmundsj', 'eelregit', 'eendebakpt', 'efiring', 'egorz734', 'egouden', 'elbeejay', 'emanuele', 'emmanuelle', 'emptymalei', 'endolith', 'erheron', 'eric-jones', 'eric-wieser', 'erosennin', 'erykoff', 'eschanet', 'eshirvana', 'espdev', 'essandess', 'estansifer', 'europeanplaice', 'ev-br', 'evanlimanto', 'evbernardes', 'evgenyzhurko', 'evgueni-ovtchinnikov', 'ewmoore', 'eytanadler', 'f0k', 'fabian-paul', 'fabianegli', 'fabianp', 'falcondai', 'fandreuz', 'fbnrst', 'fcollman', 'felixhekhorn', 'felixlen', 'fetorres', 'fhs', 'figiel', 'finefoot', 'fish2000', 'fiveseven-lambda', 'fjhheras', 'flxai', 'fo40225', 'foogod', 'francisco-dlp', 'fred-renner', 'frewsxcv', 'fsaad', 'fuglede', 'futurulus', 'fweimer-rh', 'gabrfarina', 'gandhis1', 'ganesh-k13', 'garrison', 'gauchm', 'gaulinmp', 'gaurav-1205', 'gauss256', 'gauteh', 'gavin74', 'gbonomib', 'gdmcbain', 'georgebv', 'gerlero', 'gerritholl', 'gertingold', 'gfyoung', 'ghl3', 'gjhuizing', 'gkiar', 'glemaitre', 'gmcastil', 'gmrukwa', 'gokceneraslan', 'golnazir', 'gotham13', 'goxberry', 'graingert', 'grapheo12', 'gregcaporaso', 'gregor-robinson', 'greyltc', 'grlee77', 'grochefort', 'guiweber', 'guofei9987', 'gustavla', 'guziy', 'gwgundersen', 'gyu-don', 'h-ikeda', 'h-vetinari', 'h3jia', 'habi', 'hacman', 'hadrev', 'hakeemo', 'hameerabbasi', 'haphaeu', 'harivamsi9', 'harmbuisman', 'harshvardhan2707', 'haudren', 'heisenbuug', 'helderc', 'heni', 'henryiii', 'heroxbd', 'hfactor13', 'hickford', 'hildensia', 'hlin117', 'hmaarrfk', 'hokinus', 'hollowaytape', 'honnorat', 'hoodmane', 'horta', 'hovavalon', 'hroskes', 'hugovk', 'huitseeker', 'huizew', 'iamDecode', 'iandall', 'ianhi', 'ianthomas23', 'idan-david', 'ideasrule', 'ilayn', 'ilblackdragon', 'imoiwm', 'inducer', 'inoryy', 'insertinterestingnamehere', 'ionelberdin', 'iosonofabio', 'iprapas', 'isjoung', 'islem-esi', 'isuruf', 'ivirshup', 'iwbc-mzk', 'j-bowhay', 'jackieleng', 'jacobcvt12', 'jacoblapenna', 'jacopok', 'jagaudin', 'jaimefrio', 'jake-is-ESD-protected', 'jakevdp', 'jakirkham', 'jakobjakobson13', 'jamestwebber', 'jankoslavic', 'janlehky', 'janvle', 'jarrodmillman', 'javvy', 'jb-leger', 'jbweston', 'jcalbert', 'jcampbell', 'jcharlong', 'jcmgray', 'jdamp', 'jdilanzo', 'jdreaver', 'jdriscoll7', 'jeanlucmargot', 'jeanpauphilet', 'jeertmans', 'jeffplourde', 'jennystone', 'jeremiedbb', 'jesseengel', 'jetuk', 'jfbu', 'jfinkels', 'jgarcke', 'jgborch', 'jhelgert', 'jhelie', 'jimmy60504', 'jjerphan', 'jjhelmus', 'jkelling', 'jleinonen', 'jllanfranchi', 'jluttine', 'jmbr', 'jmkuebler', 'jmmanley', 'jmoy', 'jmsmkn', 'jni', 'jnothman', 'jo-mueller', 'joergdietrich', 'joernhees', 'johannct', 'johannfaouzi', 'johschmitz', 'jona-sassenhagen', 'jonas-eschle', 'jonasjonker', 'jonasrauber', 'jonathan-conroy', 'jondo', 'jonycgn', 'jor-', 'jordan-heemskerk', 'josef-pkt', 'joseluisvaz', 'josephmernst', 'jpaalasm', 'jpreiss', 'jremes-foss', 'jrsassen', 'jrwrigh', 'js850', 'jseabold', 'jsilter', 'jspeed-meyers', 'jtaylor', 'jtravs', 'judahrand', 'juliantaylor', 'juliusbierk', 'jusack', 'justhalf', 'jvavrek', 'jvkersch', 'jwilk', 'jwkvam', 'jyuv', 'k-styles', 'kadatatlukishore', 'kain88-de', 'kalekundert', 'kangwonlee', 'katherinehuang', 'katrinleinweber', 'kbg', 'kbrose', 'kburns', 'kdavies4', 'kechtel', 'kellieotto', 'keuj6', 'kevinrichardgreen', 'kianelbo', 'kianmeng', 'kif', 'killthekitten', 'kktsubota', 'kleskjr', 'kmader', 'kmilos', 'kmuehlbauer', 'kohr-h', 'kokorev', 'kolibril13', 'kolojoe', 'korneix', 'kousu', 'kozachynskyi', 'kristianeschenburg', 'krzysztofpioro', 'kshitij12345', 'kstoneriv3', 'ktritz', 'kwsp', 'kyleaoman', 'lagru', 'lakshayg', 'larrybradley', 'larsmans', 'larsoner', 'lbellomo', 'lciti', 'lcnature', 'lemonlaug', 'leockl', 'leofang', 'lesteve', 'levelfour', 'lezcano', 'lhilt', 'lhoupert', 'liam-o-marsh', 'lispsil', 'liviofetahu', 'lizzardius', 'ljwolf', 'llchan', 'lmwang9527', 'lndr', 'lobpcg', 'loftusa', 'loganthomas', 'loluengo', 'lorentzbao', 'lorentzenchr', 'lorenzophys', 'lpsinger', 'lschwetlick', 'ltiao', 'ludcila', 'luigifcruz', 'luispedro', 'lutefiskhotdish', 'luzpaz', 'lysnikolaou', 'm-albert', 'macrocosme', 'madphysicist', 'magnusja', 'mainak33', 'majiang', 'makbigc', 'malch2', 'mamrehn', 'maniteja123', 'manns', 'manuel-rhdt', 'marianasalamoni', 'mariprudencio', 'markusmeister', 'markwmuller', 'marscher', 'martinitus', 'martinosorb', 'mathnathan', 'matkoniecz', 'matmel', 'mattdzugan', 'matthew-brett', 'matthewborish', 'matthias-k', 'mattip', 'matusvalo', 'mawesi', 'maxfrei750', 'mborland', 'mcclurmc', 'mckib2', 'mdeff', 'mdhaber', 'mdunphy', 'meawoppl', 'mefuller', 'megies', 'melissawm', 'metakermit', 'mfeurer', 'mfkasim1', 'mgaitan', 'mgeier', 'mgorny', 'mherkazandjian', 'michaelaye', 'michaelstewart', 'migueldvb', 'mihaic', 'mikeWShef', 'mikebenfield', 'mikkelmk', 'mikofski', 'millivolt9', 'minho42', 'minrk', 'mirca', 'mkg33', 'mknorps', 'mkoeppe', 'mloning', 'mmartin8', 'mmohrhard', 'mobiusklein', 'moble', 'mocquin', 'mohmmadd', 'mon23c', 'mortonjt', 'mountaindust', 'mp4096', 'mrava87', 'mreineck', 'mrkwjc', 'mromberg', 'mruffalo', 'msabramo', 'msakai', 'mschulteg', 'mseri', 'mspacek', 'mszep', 'mtasaka', 'musically-ut', 'musoke', 'musteng', 'mvdoc', 'mwhudson', 'mwshinn', 'mwtoews', 'n-takumasa', 'n8jhj', 'nadukandi', 'naharrosp', 'nanodan', 'nateyoder', 'nbelakovski', 'nboudrie', 'ndreys', 'ndvanforeest', 'nedlrichards', 'neilflood', 'nekopsykose', 'neksa', 'nelson-liu', 'nelsonauner', 'newville', 'nforro', 'nh2', 'nicodelpiano', 'nicolamontecchio', 'nightvision04', 'niknow', 'nils-werner', 'nimral', 'ninepints', 'nitesh4146', 'niyas-sait', 'njj67229', 'njwilson23', 'nkaretnikov', 'nmayorov', 'nmoya', 'nobelwong99', 'nokados', 'nomisto', 'nonhermitian', 'nordam', 'nosseb', 'not522', 'nprav', 'nrnrk', 'nschloe', 'ntessore', 'nwjenkins', 'nzinov', 'o-alexandre-felipe', 'odidev', 'ofirr', 'ogauthe', 'ogrisel', 'oleksandr-pavlyk', 'olgabot', 'orena1', 'orestisfl', 'ortylp', 'otizonaizit', 'oyamad', 'paigem', 'pantelisantonoudiou', 'pared', 'partev', 'pasky', 'patnr', 'patricksnape', 'patvarilly', 'paugier', 'pbrod', 'pcallier', 'pdebuyl', 'pdonnat', 'pearu', 'pentschev', 'peppedilillo', 'perimosocordiae', 'person142', 'peterSweter', 'peterbell10', 'peterjc', 'peteryin21', 'petroselo', 'peytondmurray', 'pfctdayelise', 'pharshalp', 'phildias', 'philipdeboer', 'philippslang', 'piecot', 'pierre-haessig', 'pijyoi', 'pizzathief', 'pjwerneck', 'pkienzle', 'plafl', 'pllim', 'pmla', 'pmli', 'polyatail', 'poolio', 'potpath', 'pradghos', 'pranavrajpal', 'prisae', 'proinsias', 'psarka', 'ptooley', 'puenka', 'pv', 'pvanmulbregt', 'pwolfram', 'qbarthelemy', 'qrqiuren', 'quantifiedcode-bot', 'raamana', 'radford', 'radosuav', 'rafalalgo', 'ragibson', 'rainwoodman', 'randyheydon', 'raoulbq', 'raphaelw', 'rc', 'rcasero', 'reidarkind', 'remyleone', 'reneeotten', 'reshamas', 'rgommers', 'rhkarls', 'richardjgowers', 'rickiepark', 'ririw', 'rishi-kulkarni', 'rkarmaka98', 'rkern', 'rlamy', 'rlucas7', 'rmcgibbo', 'rngantner', 'robbystk', 'robertuhl', 'robfalck', 'rohitjamuar', 'roryyorke', 'rossbar', 'rostyboost', 'rrsq', 'rshanker779', 'rsivapr', 'rth', 'rtshort', 'rupprecht', 'ruslanye', 'rvinas', 'rwolst', 'ryu577', 'sabonerune', 'saiteja13427', 'sampan501', 'samtygier', 'samuelstjean', 'samvrlewis', 'samyak0210', 'santiher', 'sarafridov', 'sargas', 'saurabhkgp21', 'sayantikabanik', 'sbellem', 'sbyrnes321', 'scb-school', 'scbarton', 'scheinatadobe', 'schettino72', 'scholtzan', 'scidam', 'sciunto', 'scopatz', 'scottshambaugh', 'scottstanie', 'scottza', 'sdvillal', 'seanpquinn', 'seberg', 'sebp', 'seewalker', 'segasai', 'sepastian', 'seppwerk', 'serge-sans-paille', 'sethtroisi', 'sg-s', 'sgillies', 'sgubianpm', 'shak360', 'shashankks0987', 'shaunagm', 'shoyer', 'siddhantwahal', 'siddhesh', 'simongibbons', 'sirtom67', 'sjmielke', 'sjpeterson', 'skirpichev', 'skjerns', 'skresearcher', 'slayoo', 'smason', 'smcquay', 'smola', 'smopucilowski', 'snood1205', 'sntgl', 'solarjoe', 'soluwalana', 'sotte', 'soupault', 'souravsingh', 'spaceman-codes', 'springcoil', 'sriki18', 'srtlg', 'srvanrell', 'st--', 'stefanv', 'stefmolin', 'steko', 'stepeos', 'stephenbeckr', 'stephenpcook', 'steppi', 'storopoli', 'stsievert', 'sturlamolden', 'sudojan', 'sudosoph', 'suen-bit', 'sumitbinnani', 'surhudm', 'suttonje', 'svank', 'swallan', 'synapticarbors', 'syrte', 'szcf-weiya', 't-vi', 't5', 'tacaswell', 'tacchinotacchi', 'tadamcz', 'takagi', 'takluyver', 'taldcroft', 'taliastocks', 'talih0', 'taoky', 'tapaswenipathak', 'tavinathanson', 'taylor-scott', 'tbenthompson', 'tborisow', 'tchiarawongs', 'tecki', 'teddyort', 'teoliphant', 'terrdavis', 'terrycojones', 'thezealousfool', 'thisch', 'thomasjpfan', 'thomaskeck', 'thomaspingel', 'thomasrockhu', 'thorstenkranz', 'thouis', 'thrasibule', 'tiagopereira', 'tillahoffmann', 'timbalam', 'timcera', 'timleslie', 'tirthasheshpatel', 'tkoyama010', 'tlunet', 'tnowotny', 'toddrjen', 'tomflannaghan', 'tomspur', 'tonysyu', 'tosh1ki', 'toslunar', 'tpudlik', 'trallard', 'trendelkampschroer', 'tretherington', 'treverhines', 'trianam', 'trueprice', 'tschm', 'tsery-ns', 'tshauck', 'tstoeger', 'tttthomasssss', 'tupui', 'tuxcell', 'tylerjereddy', 'udiboy1209', 'uniontech-lilinjie', 'v0dro', 'vahan3x', 'valentineap', 'vals', 'vanpact', 'vbarrielle', 'vbasu', 'vedantrathore', 'venthur', 'vermelha', 'vickyclose', 'vigna', 'viknat', 'vinayakdsci', 'vincentarelbundock', 'vkk800', 'vladutmd', 'vmpyr', 'vnmabus', 'vollbier', 'vovaf709', 'vrgsdaniel', 'vstinner', 'vyasr', 'w-alves', 'wa03', 'walshb', 'waltsims', 'wardbradt', 'wei2222', 'wenhui-prudencemed', 'wesm', 'will133', 'williamjameshandley', 'wimglenn', 'windows-server-2003', 'wiredfool', 'wirew0rm', 'wolever', 'woodscn', 'wuhaochen', 'xoviat', 'yakovlevvs', 'yamaken1343', 'yannislinardos', 'yanxun827', 'yarikoptic', 'ybeltukov', 'ycopin', 'yhlam', 'yingted', 'yoch', 'yotam', 'yotarok', 'yqiuu', 'ytbaum', 'yuanx749', 'yw5aj', 'ywatanabex', 'zaikunzhang', 'zaz', 'zblz', 'zchelseal', 'zebengberg', 'zeehio', 'zerothi', 'zhaofeng-shu33', 'zhaog6', 'zheddie', 'ziejcow', 'ziyaointl', 'zoj613', 'zolabar', 'zploskey', 'zywina', '0x3430D', '0xarash', 'FelixBer', 'Henning1', 'K-Mayer', 'Luluno01', 'MoA-Shaun', 'ReallyNothing', 'Wenzel', 'adrianlshaw', 'aisaila', 'aoshiken', 'awsaba', 'azizulhakim', 'bdpayne', 'bentau', 'besser82', 'blsvntn', 'carter-yagemann', 'chivay', 'clarkb7', 'disaykin', 'dl9rdz', 'dlevy022', 'dongphuong2410', 'flyn-org', 'ftPeter', 'icedevml', 'jeffcarp', 'kscieslinski', 'lehmannro', 'manorit2001', 'masthoon', 'mattshockl', 'maxking', 'mbushou', 'mdolmen', 'mfusaro', 'mleinhos', 'mmomeu', 'mneilsen', 'mtarral', 'mzguanglin', 'namidairo', 'npc1054657282', 'nystilaps', 'pjcolp', 'rageagainsthepc', 'redspot', 'richarduu', 'ryan-johnson2', 'sergej-proskurin', 'skvl', 'smaresca', 'srujan', 'ssentanoe', 'thehoustonian', 'thomasdangl', 'tklengyel', 'ufo95', 'zu3st', '0x4c6565', '0x6c7862', '0xBF', '2rs2ts', '7heo', 'Adron', 'Akasurde', 'AlexLov', 'Ancillas', 'AwaNoodle', 'BGnoinski', 'BenPhegan', 'Berrescuda', 'BetaGrumm', 'BlackIkeEagle', 'BrianHicks', 'CJ-Obermaier', 'Cbeck527', 'ChrisKozak', 'ChrisLundquist', 'ColinHebert', 'Constantin007', 'CpuID', 'DanHam', 'DavidJFelix', 'DracoBlue', 'EikeVerdenhalven', 'FGtatsuro', 'IslandUsurper', 'JelleHissink', 'JessThrysoee', 'JoakimLofgren', 'KFishner', 'Linuturk', 'Malet', 'MaximF', 'MikeStankavich', 'Nitrodist', 'PatrickLang', 'QuantumGhost', 'Rican7', 'SLAZ666', 'Sharpie', 'Sheile', 'StefanScherer', 'SwampDragons', 'TFDuesing', 'Thingee', 'TimAtLassian', 'Tom-Byrne', 'Trip09', 'TsuyoshiUshio', 'UnquietCode', 'VladRassokhin', 'WeatherGod', 'Xiol', 'YungSang', 'aaronharnly', 'abayer', 'abridgett', 'abulford', 'acaire', 'acranox', 'ahawkins', 'aknuds1', 'alibazlamit', 'amangoel', 'ameir', 'amildahl', 'amosshapira', 'andersquist', 'andrewschleifer', 'andrewsomething', 'andreychernih', 'andytson', 'aneeshusa', 'anish', 'ankon', 'antonlindstrom', 'apparentlymart', 'arafato', 'ariaviran', 'arizvisa', 'armon', 'arthurbarr', 'arturhoo', 'asagage', 'asatara', 'ashb', 'asifrc', 'askholme', 'atsushi-ishibashi', 'automaticgiant', 'ayqazi', 'b', 'b2jrock', 'batzen', 'bazbremner', 'bdon', 'bdwyertech', 'beezly', 'benlangfeld', 'bensojona', 'benwtr', 'benzenwen', 'berendt', 'bhcleek', 'bhourigan', 'blalor', 'blt04', 'boumenot', 'bpot', 'brandonheller', 'brendanhay', 'brentrojas', 'brett-richardson', 'brettporter', 'briancain', 'briandowns', 'brycefisher', 'btd', 'c22', 'caiush', 'candlerb', 'captainill', 'carletes', 'catsby', 'cbednarski', 'ceh', 'celkins', 'cfortier2', 'chaintng', 'charlieegan3', 'charlievieth', 'chiastolite', 'chilcote', 'chris-rock', 'chrisfarms', 'chulkilee', 'chuyeow', 'ciarand', 'clstokes', 'cmoscardi', 'combatpoodle', 'crunk1', 'cure', 'czerasz', 'dacamp', 'dan9186', 'danielcompton', 'daniellockard', 'danisla', 'danp', 'danschaffer', 'dantran', 'databus23', 'dave2', 'davebiffuk', 'davebuckley-ppb', 'davidjahn', 'dayer4b', 'dayglojesus', 'dcarlino', 'deitch', 'delitescere', 'devcamcar', 'dkinzer', 'dlovell', 'dmikurube', 'dnABic', 'doka', 'dougireton', 'dougm', 'dragon788', 'dregin', 'dvrkps', 'dysinger', 'efx-jjohnson', 'egraff', 'eherot', 'ehershey', 'einarf', 'elconas', 'eloycoto', 'emate', 'emo3', 'ephemeralsnow', 'ericlathrop', 'erikabarcott', 'erjohnso', 'esemplare', 'evandbrown', 'extraordinaire', 'fabiang', 'fajpunk', 'fgo', 'frapposelli', 'friism', 'fullcup', 'garethr', 'garnaat', 'geerlingguy', 'geetarista', 'georgevicbell', 'gergnz', 'gmiroshnykov', 'gnawhleinad', 'goodwinb99', 'gotcha', 'gottwald', 'grafjo', 'grange74', 'gregburek', 'gregkare', 'greglu', 'gregorskii', 'grosskur', 'grubernaut', 'grv87', 'guessi', 'hartzell', 'hazelesque', 'hdeadman', 'heckj', 'henrysher', 'hfinucane', 'higebu', 'hiroyuki-sato', 'hkhkhk1987', 'hnakamur', 'holidayworking', 'huyanhvn', 'iainelder', 'iamjarvo', 'iandelahorne', 'ianunruh', 'imduffy15', 'infonaut', 'inntran', 'ironpinguin', 'it-praktyk', 'jacobwgillespie', 'jakobadam', 'james-portman', 'jamiegs', 'jamtur01', 'janschumann', 'jappja', 'jarl-dk', 'jasonberanek', 'jasoncostello', 'jasonramey', 'jc00ke', 'jcline', 'jcrosby', 'jefferai', 'jen20', 'jenspinney', 'jeremy-asher', 'jerryclinesmith', 'jessehub', 'jfbibeau', 'jgkim', 'jgornick', 'jhmartin', 'jimbishopp', 'jimbrowne', 'jimmythedog', 'jinesh-choksi', 'jkodroff', 'jmassara', 'joelhandwell', 'johnbellone', 'johndaviesco', 'jorisvddonk', 'jose-cardoso', 'josephholsten', 'josharian', 'jquast', 'jrandall', 'jrnt30', 'jsiebens', 'jsoriano', 'jszwedko', 'jtopper', 'jtslear', 'jugatsu', 'justincampbell', 'justinclayton', 'justinsb', 'jvandyke', 'jwreagor', 'kamazee', 'kant', 'kelseyhightower', 'keyan', 'kholloway', 'kikitux', 'kimor79', 'kirikaza', 'klynton', 'kmcquade', 'knakayama', 'kopaka', 'kopernikus', 'kouk', 'krismolendyke', 'ksaifullah', 'ksatirli', 'ktruong7', 'kwilczynski', 'kyleconroy', 'ladar', 'lalyos', 'lamdor', 'lamoni', 'lancelafontaine', 'lantrix', 'larstobi', 'ldx', 'legal90', 'leto', 'lfarnell', 'ligurio', 'lisimia', 'localghost', 'lochnesh', 'lokulin', 'lolindrath', 'lookfirst', 'lvillani', 'lyrixx', 'mafrosis', 'magicalbob', 'mahcsig', 'malclocke', 'manicai', 'manojlds', 'mansunkuo', 'manul', 'marcomorain', 'marcw', 'marema31', 'mark-rushakoff', 'markjaquith', 'markpeek', 'maspwr', 'masteinhauser', 'mastier', 'matthbak', 'matthew-intercom', 'mattieb', 'mattr-', 'mattthias', 'mayn', 'mbrukman', 'mdelillo', 'meatballhat', 'mefellows', 'mehulkar', 'meringu', 'mexisme', 'mheidenr', 'michaeltravisuk', 'mieciu', 'mikechau', 'minac', 'minimum2scp', 'miry', 'mitchellh', 'mkuzmin', 'mlafeldt', 'mmckeen', 'mmcquillan', 'mmerdes', 'mnaser', 'mohae', 'moinfar', 'monsterzz', 'mpage', 'mprince', 'mrqwer88', 'msteinhoff', 'mvermaes', 'mwhooker', 'mxl', 'nBerg', 'nak3', 'ncdc', 'nchammas', 'neekipatel', 'neiled', 'nerd0', 'nfagerlund', 'nickpad', 'nickpresta', 'nictrix', 'nifr', 'njhartwell', 'noeding-adobe', 'notogawa', 'nouney', 'nyankichi820', 'obazoud', 'obilodeau', 'octplane', 'ofosos', 'optix2000', 'outscale-rjt', 'pas256', 'paulmey', 'pcfens', 'pdecat', 'pearkes', 'pecigonzalo', 'pengkh', 'pepoirot', 'petrhosek', 'petrkle', 'philipcristiano', 'phinze', 'phoxelua', 'phyrex1an', 'pieter-lazzaro', 'pkandathil', 'pmorie', 'pnikonowicz', 'podollb', 'priteau', 'prydie', 'pschultz', 'psi', 'punkle', 'pvandervelde', 'qoomon', 'quintok', 'qur', 'rach', 'rasa', 'raylu', 'razzfox', 'rhburrows', 'ricardclau', 'richardowen', 'rickard-von-essen', 'rjocoleman', 'rk295', 'rodriguezsergio', 'rogers0', 'roidrage', 'roktas', 'romainbossart', 'rosstimson', 'rothwerx', 'routelastresort', 'rozha', 'rremer', 'rrzaripov', 'rsabitov', 'ruslansalikhov', 'rvoicilas', 'ryanbreed', 'ryansb', 'ryanuber', 'ryon', 'samdunne', 'sandersaares', 'sanyer', 'sarahhodne', 'sawanoboly', 'scott2449', 'sean-', 'seanmalloy', 'sergiopantoja', 'sethvargo', 'siepkes', 'sijis', 'simonguest', 'sit', 'sjlamerton', 'skierkowski', 'sl1pm4t', 'slackpad', 'slothelle', 'smerrill', 'sneal', 'snowsky', 'sobrinho', 'sodabrew', 'sourabhpawar', 'sparkprime', 'spheromak', 'spuder', 'srhaber', 'stack72', 'stagrlee', 'stedaniels', 'stefanfoulis', 'stefanlasiewski', 'stefanozanella', 'steranin', 'stonith', 'strcrzy', 'sudharsh', 'svmastersamurai', 'svpernova09', 'sysadmiral', 'szkl', 't-tran', 'takaishi', 'taliesins', 'tamsky', 'tas50', 'tateeskew', 'tdg5', 'tdhite', 'tdooner', 'teadur', 'tedpennings', 'tgecho', 'thachmai', 'theang', 'thecloudtaylor', 'themalkolm', 'thomaslorentsen', 'thorduri', 'thrashr888', 'timmow', 'timsutton', 'timurb', 'tobyjaffey', 'toddnni', 'tomconte', 'tomdev', 'tommyulfsparre', 'tpbrown', 'troytoman', 'trumant', 'tsmolka', 'tsugliani', 'ttres', 'tubadude49', 'tylert', 'ubermuda', 'veshi', 'victortrac', 'vijayinvites', 'viktorbenei', 'vladimir-shcherbakov', 'vogxn', 'vronin', 'vtolstov', 'vvchik', 'w1mvy', 'walterdolce', 'whoisjake', 'whostolebenfrog', 'yamamoto-febc', 'ygina', 'yosssi', 'yuki-takeichi', 'yuuzi41', 'yveslaroche', 'yyuu', 'z00m1n', 'zhuzhih2017', 'zimbatm', '0x4d31-sfdc', '0xl3x1', '0xxon', 'Cable-2-5', 'J-Gras', 'JonZeolla', 'JustinAzoff', 'Kleinspider', 'LBLSecurity', 'MalakhatkoVadym', 'Max-Love', 'Mraoul', 'NSkelsey', 'bbannier', 'benjeems', 'captainGeech42', 'ckreibich', 'dopheide-esnet', 'dw2102', 'elcabezzonn', 'fatemabw', 'fdekeers', 'flautossec', 'fullmetalcache', 'giralt', 'grigorescu', 'hhzzk', 'hosom', 'hud-c', 'initconf', 'irtimmer', 'jalthouse-sfdc', 'jatkinson-sfdc', 'jbaggs', 'jlagermann', 'jmellander', 'jsiwek', 'jswaro', 'keithjjones', 'markoverholser', 'mavam', 'mfrndz', 'micrictor', 'mmguero', 'mpgough', 'mportatoes', 'mvlnetdev', 'pgaulon', 'philrz', 'precurse', 'rsmmr', 'rvictory', 'scott-qintel', 'sethhall', 'sfd', 'sfinlon', 'srozb', 'stevesmoot', 'stu-h', 'theflakes', 'thibaultbl', 'tylabs', 'vitalyrepin', 'voteblake', 'ynadji', 'zaowen', 'zeek-bot', '0xaf1f', 'AdamSimpson', 'ArangoGutierrez', 'DrDaveD', 'EmmEff', 'GH-maggio', 'GodloveD', 'IanVL', 'JiaLiPassion', 'Kundan28', 'Kunzol', 'LaHaine', 'RvDijk', 'SDkie', 'WestleyK', 'aduffy19', 'ajohannesson', 'akkornel', 'alaindomissy', 'alhirzel', 'ana', 'bauerm97', 'bbockelm', 'bernardl', 'bleuchien', 'bow', 'c-ney', 'carterpeel', 'cclerget', 'ch741', 'chrisburr', 'cjprybol', 'crbaird', 'csonuryilmaz', 'ctmadison', 'czka', 'dcl', 'dependabot-preview[bot]', 'dexter2cz', 'divyacote', 'drhpc', 'dtrudg', 'e4t', 'edytuk', 'eshelman', 'flx42', 'ghuls', 'gijzelaerr', 'gmkurtzer', 'gvallee', 'hcraT', 'henryhjung', 'hmlth', 'hollowec', 'ikaneshiro', 'ilmagico', 'jack-morrison', 'jdolitsky', 'jekriske', 'jjohnson42', 'jmstover', 'jscook2345', 'jtriley', 'kadeng', 'kcgthb', 'kellyrowland', 'kmuriki', 'kzap', 'lgibelli', 'marcelm', 'mboisson', 'mem', 'michaelmoore10', 'mikegray', 'mimame', 'moskalenko', 'mschubert', 'muffgaga', 'multimeric', 'nathanchou4', 'nathanielknight', 'near the mountains, Colorado', 'obreitwi', 'oddodaoddo', 'olifre', 'osallou', 'oschulz', 'paulo7777', 'pedroalvesbatista', 'phpHavok', 'pisarukv', 'pontus', 'remram44', 'remyd1', 'rfehren', 'sashayakovtseva', 'satra', 'schebro', 'serious-steve', 'skluth', 'sloretz', 'soichih', 'spartas', 'sudosays', 'sushma-4', 'syl-ilumb', 'tin6150', 'tri-adam', 'tristan0x', 'truatpasteurdotfr', 'tsnowlan', 'twhitehead', 'vsoch', 'wickberg', 'wpoely86', 'yhcote', 'yqin', 'zashary', 'zhsj', '0xamogh', '4molybdenum2', 'AbhigyanBose', 'Airmansmith97', 'Akram9', 'Alex-Ian-Hamilton', 'Anubhav1107', 'BStoneLASP', 'BoboTiG', 'Bracciata', 'Cadair', 'CaptainDaVinci', 'ConorMacBride', 'Cubostar', 'CyclingNinja', 'DShivansh', 'DanRyanIrish', 'DuyguKeskek', 'EdBehn', 'FinMacDov', 'Hypnus1803', 'Jett-Code', 'JordanBallew', 'Kate028', 'Krish2208', 'MSKirk', 'Mihan786Chistie', 'Mmendero', 'Naman9639', 'OussCHE', 'PaulJWright', 'PritishC', 'Punyaslok', 'Qtty', 'Raahul-Singh', 'RhnSharma', 'Satan-Claws', 'SecurityAndStuff', 'SolarDrew', 'StanczakDominik', 'SuleimanFarah', 'Swapnil99007', 'Telomelonia', 'ToyDragon', 'WilliamJamieson', 'abhijeetmanhas', 'abhishekpandey1880', 'abiB27', 'abit2', 'adwaitbhope', 'agneet42', 'akash5100', 'akaszynski', 'alasdairwilson', 'ankitkmr', 'arfon', 'aribalam', 'aringlis', 'aritrasinha108', 'asinghgaba', 'ayshih', 'bmampaey', 'cbard', 'cguennou', 'chouhanaryan', 'cmolinaord', 'coder006', 'codetriage-readme-bot', 'cquark7', 'davnish', 'ddialer', 'derdon', 'devanshshukla99', 'dgarciabriseno', 'dhruvgoel2295', 'dipanshu231099', 'dodoextinct', 'dpshelio', 'drdavella', 'dstansby', 'dumindux', 'eamanu', 'ehsteve', 'eigenbrot', 'ejm4567', 'embray', 'entrepreneurj', 'eteq', 'examon', 'exitflynn', 'fluxtransport', 'fmayer', 'freekv', 'gbear605', 'gcetusic', 'geekypathak21', 'getsanjeev', 'gmrpr321', 'gulshan-mittal', 'gunner272', 'haathi', 'hannahc243', 'harshmathur1990', 'hayesla', 'himanshukgp', 'iamrajiv', 'ibab', 'jains8844', 'jairideout', 'jamescalixto', 'jaylenw', 'jeffreypaul15', 'jgieseler', 'jiaqing23', 'jmason86', 'johan12345', 'jongyeob', 'kaichogami', 'kathivashkiv', 'kaustubhhiware', 'kc611', 'khughitt', 'kiendang', 'kots14', 'kurtmckee', 'larrymanley', 'lzivadinovic', 'm-charlton', 'm11dedhia', 'mariusgiger', 'martiansideofthemoon', 'mateoi', 'mattearnshaw', 'mbobra', 'mdmueller', 'mm-git01', 'mridullpandey', 'mwhv2', 'nabobalis', 'nakul-shahdadpuri', 'naltun', 'namurphy', 'naveensrinivasan', 'ndchorley', 'neerajkulk', 'nitinkgp23', 'olebole', 'pkj-m', 'platipo', 'prateekiiest', 'pre-commit-ci[bot]', 'pymilo', 'quintusdias', 'rajasekharmekala', 'rajul', 'ratuldas6', 'resakra', 'rhewett', 'rubendv', 'rutujasurve94', 'ryuusama09', 's0nskar', 'samriddhi-dev', 'sashank27', 'shubham00jain', 'sidhu1012', 'souravghosh97', 'stellarskylark', 'sudk1896', 'sudozer', 'swapsha96', 'tal66', 'talsperre', 'tdwilkinson', 'thelazy', 'thewindsofwinter', 'timgates42', 'tirkarthi', 'tlml', 'transientlunatic', 'tyaq', 'utkarshparkhi', 'varunbankar', 'vermashresth', 'vn-ki', 'wafels', 'warussel', 'wtbarnes', 'x249wang', 'xuanxu', 'yashkgp', 'yashrsharma44', 'ytann', 'yudhik11', 'yukienomiya', '0xd5dc', 'evaneill', 'lyralan', 'milicag', 'taburke', '0xflotus', 'Jarscott1', 'JulienLoiseau', 'KnightKu', 'LiXi-storage', 'Michael-Hennecke', 'Njinx', 'ObsidianKnife', 'adammoody', 'aglad-eng', 'akesandgren', 'awellington', 'bdevcich-hpe', 'bringhurst', 'daltonbohning', 'fwang2', 'gonsie', 'groffta', 'hlim88', 'jadams', 'junghans', 'kkvarfordt', 'korobkin', 'ktsai7', 'levatin1', 'markaltenborn', 'morrone', 'mtfs', 'n8hacks', 'piercema', 'sagert', 'schallee', 'sjtbham', 'spakin', 'tuxfan', 'wiliamhuang', 'zetwal', '0xmachos', 'AlastairPooley', 'AstrobioMike', 'CARR-Josh', 'ChrisSCISA', 'CodeAlligator', 'DCKcode', 'DavidPHirsch', 'Ebennetteng', 'Firminator', 'FreakyNobleGas', 'Hallewellgov', 'JLLeitschuh', 'KwadwoBCISA', 'LA100ti', 'Lcerkov', 'PBXMonitor', 'Sidgawri', 'TVACyberRisk', 'ThatDeaf-ITGuy', 'ThisLimn0', 'WaldenL', 'andreasglanfalt', 'attritionorg', 'aylsal-3295', 'ayodernm', 'aytey', 'bryns-j-matillion', 'c42-mshepperd', 'cgoldsch1', 'chair6', 'cisagovbot', 'cliv', 'cmscherbert', 'connellyt', 'cristianmenghi', 'cryptopixel', 'cscharf', 'dan-omb', 'daniel-beck', 'danielhartnell', 'danivovich', 'danpritts', 'dav3r', 'daveherrald', 'dawnpm', 'dingo15', 'dzomaya', 'ethans', 'felddy', 'flintg', 'francescor', 'h0ffayyy', 'haster', 'hillaryj', 'iainDe', 'infamousjoeg', 'inl-ics', 'jacobdepriest', 'jeis4wpi', 'jessehouwing', 'john-talbert', 'jsf9k', 'jsparmann', 'juliannphelpsGSA', 'justindmurphy', 'justmurphy', 'kopilo', 'kyle-ni', 'kz6fittycent', 'lordoxley', 'madmatt', 'mark-adams', 'masq', 'maurycupitt', 'maxandersen', 'mcdonnnj', 'mrshorten', 'mtecson', 'new23d', 'nohn', 'olegmukhin', 'pblankenship', 'primarytyler', 'productcert', 'rajendrapshrestha', 'rfrht', 'sagar1025', 'santosomar', 'schnatterer', 'sduquette-devolutions', 'seakintruth', 'simbaja-ey', 'smjreynolds', 'stevea1', 'tanium-product-security', 'toro-', 'uschindler', 'wessel1512', 'xzy29w', 'yasuyuki-baba', 'zachsanford', 'zentera-servops', 'zmanion', '12Chao', 'BangShiuh', 'CyberDrudge', 'DavidAkinpelu', 'KyleLinevitchJr', 'MarcDuQuesne', 'ThanasisMattas', 'agarwalrounak', 'anthony-walker', 'arghdos', 'band-a-prend', 'benjaminkee', 'bryanwweber', 'burkenyo', 'c-randall', 'cannondale1492', 'chinahg', 'corykinney', 'd-e-t', 'decaluwe', 'dschmider-HSOG', 'g3bk47', 'gkogekar', 'hallaali', 'hkmoffat', 'imitrichev', 'ischoegl', 'jchewson', 'jongyoonbae', 'jsantner', 'kyleniemeyer', 'lavdwall', 'leesharma', 'luxe', 'mgashwinkumar', 'nicholasmalaya', 'paulblum', 'pwcnorthrop', 'rwest', 'sameshl', 'santoshshanbhogue', 'sin-ha', 'speth', 'spinnau', 'ssun30', 'stijn76', 'thomasfiala', 'tsikes', 'vbrunini', 'vdevgan', 'wandadars', 'wbessler', '183amir', 'SylvainCorlay', 'ajgpitch', 'almarklein', 'ccordoba12', 'danielballan', 'dopplershift', 'duncanwp', 'frol', 'gillins', 'groutr', 'ivoflipse', 'jankatins', 'kalefranz', 'kwilcox', 'mariusvniekerk', 'msarahan', 'ocefpaf', 'pelson', 'phobson', 'stefan-balke', 'whart222', '198d', 'AMeng', 'Aramgutang', 'ChadKillingsworth', 'DamianZaremba', 'Erkan-Yilmaz', 'Fluxx', 'JTCunning', 'JshWright', 'Kronuz', 'LewisJEllis', 'LordMike', 'Lothiraldan', 'MaxBittker', 'Melevir', 'SBoudrias', 'Simek', 'SteveEdson', 'acdha', 'adamchainz', 'akrylysov', 'alex', 'alexm92', 'alexmuller', 'alfakini', 'allanlei', 'alstrong', 'alvra', 'amiraliakbari', 'andrewwatts', 'anentropic', 'arloc', 'arty-name', 'askfor', 'atdt', 'bbigras', 'beeftornado', 'benhodgson', 'benvinegar', 'bjornkri', 'bkonkle', 'bogdal', 'bpowers', 'bremac', 'bretthoerner', 'brosner', 'bryanchow', 'buriy', 'cameronmcefee', 'camilonova', 'carmi', 'caxap', 'cesarandreu', 'chadwhitacre', 'chemax79', 'chroto', 'ckj', 'coagulant', 'colons', 'crankycoder', 'cwndrws', 'dAnjou', 'daevaorn', 'danielchatfield', 'darkpixel', 'dave-shawley', 'davedash', 'davidszotten', 'dca', 'dcolish', 'dcramer', 'dcvz', 'dekkers', 'denisenkom', 'dfeeney', 'dgholz', 'dlamotte', 'dmishe', 'dmk23', 'do3cc', 'dokterbob', 'drcapulet', 'dryan', 'duncm', 'dwatson', 'dz', 'eagletmt', 'ecarreras', 'ehfeng', 'ekohl', 'emidln', 'encbladexp', 'eric', 'eternicode', 'exallium', 'eyvoro', 'faulkner', 'fetzig', 'fjorgemota', 'fotinakis', 'gabesmed', 'gabrielgrant', 'gavinwahl', 'glasslion', 'gmixo', 'gotoplanb', 'gthb', 'guilhermef', 'harmv', 'hason', 'heynemann', 'hustcc', 'idanz', 'ilyahumbar', 'imankulov', 'jacobb', 'japherwocky', 'jaylett', 'jaysoffian', 'jbrownbridge', 'jdunck', 'jessedhillon', 'jisaacks', 'jkozera', 'jokey2k', 'jonashaag', 'jpadilla', 'jpellerin', 'jpvanhal', 'jsma', 'jsykora', 'justquick', 'kbourgoin', 'keegancsmith', 'kevgathuku', 'kevin1024', 'kevinlondon', 'kjagiello', 'kjoconnor', 'kmike', 'lardissone', 'lettertwo', 'liorsion', 'llonchj', 'lukegb', 'lxyu', 'm0n5t3r', 'macqueen', 'madssj', 'marksteve', 'martinfilliau', 'mastacheata', 'mattrobenolt', 'mattspitz', 'maxdeviant', 'maxnaude', 'maxvipon', 'mdaniel', 'messense', 'mfrasca', 'mgedmin', 'mgood', 'michaelhelmick', 'micolous', 'mitsuhiko', 'mjumbewu', 'mkhattab', 'mrooney', 'msheldyakov', 'mvaled', 'mvantellingen', 'nateberkopec', 'ngonzalvez', 'nicholasserra', 'nikitka', 'nilsel', 'niran', 'olevinsky', 'pborreli', 'peterbe', 'poswald', 'punkeel', 'ramusus', 'raptium', 'rbas', 'rdoursenaud', 'rkeilty', 'rogerhu', 'ronaldevers', 'russell-stripe', 'rvanlaar', 'salty-horse', 'samjy', 'sashahilton00', 'sataloger', 'saw2th', 'semekh', 'serdardalgic', 'shimizukawa', 'shivramk', 'slafs', 'sneeu', 'snkashis', 'sophiebits', 'ssafejava', 'stig', 'streeter', 'sungjuly', 'tahajahangir', 'tail', 'tehranian', 'tgr', 'thewarpaint', 'thraxil', 'thurloat', 'tkaemming', 'tobio', 'tonyo', 'tracehelms', 'treyhunner', 'tylrtrmbl', 'umutgultepe', 'vanclevstik', 'vassilevsky', 'vitaliyf', 'vls', 'vortec', 'vperron', 'wlcx', 'wo0dyn', 'wolph', 'wyattisimo', 'x0xMaximus', 'xealot', 'xordoquy', 'xtao', 'yaniv-aknin', 'yoloseem', 'yurtaev', 'z4r', 'zemanel', '1Copenut', 'ATeal', 'AdamFreemer', 'AlexanderSherrow', 'Andrew565', 'Ark3u0', 'Asterix22', 'BBarone1', 'CBonade', 'Cgfor3', 'Charles-Stone', 'Clark-W-Griswold', 'ConnorJeff', 'Conroy-William-bah', 'CoryTrimmUSDS', 'CyberKoz', 'DanSmithSC', 'DanielleSoCompany', 'DanielleThierryUSDSVA', 'DouglasGilbert1', 'Dr-Pongo', 'EmilyTav', 'EricSchles', 'FernandoBoza', 'GcioNapoleon', 'J-Quag', 'JoshingYou1', 'KHarshawat', 'KevinMHoffmanUSDS', 'KolbyVA', 'Kwoly', 'LanceGundersen', 'LeKeve', 'MarinaNitze', 'Mottie', 'NateJohnson-BAH', 'OpenGlobe', 'OptionSelect', 'PaulPhillips-va', 'RajiVenkatesh18', 'Rleahy22', 'RobAWilkinson', 'RudyOnRails', 'ScottyRJames', 'SebVortex', 'SimonSchama', 'TSimmz', 'TamGIBill', 'TravisGM', 'U-DON', 'Wyzardsleeves', 'Yuffster-usds', 'aaronjlech', 'aaronyoung-tw', 'abhijitvk', 'abuchanan83', 'acabouet', 'acald-creator', 'acaruso-oddball', 'accbjt', 'acrollet', 'adam-antonioli', 'adamwhitlock1', 'ahelkit', 'ajmagdub', 'akainic', 'alexandec', 'alexose', 'alexose-gov', 'allisonlu', 'alsleaders', 'amponce', 'andresriveratoro', 'andrewhughey', 'anitadewitt-va', 'annaswims', 'annekainicUSDS', 'apisandipas', 'asg5704', 'ashagross', 'ataker', 'aub', 'aubreyarcangel', 'aurora-a-k-a-lightning', 'austin-martinez', 'awong-dev', 'ayaleloehr', 'batemapf', 'beeyayjay', 'ben-USDS-damman', 'benbalter', 'benniemosher', 'bethpotts', 'billfienberg', 'bjmccotter7192', 'bkjohnson', 'bosawt', 'bradbergeron-us', 'bradl3yC', 'bramleyjl', 'brangi', 'brdunfield', 'brianseek', 'bshyong', 'bsmartin-ep', 'carlmjohnson', 'cehsu', 'cesaresantiago', 'cfeeney-va', 'cferris32', 'charCodelet', 'charwo', 'christinec-fftc', 'cmgiven', 'cohnjesse', 'craigwheeler', 'crwallace', 'cvalarida', 'cweber', 'cypress-viewport-updater-bot[bot]', 'cyriltech', 'dan-brooking', 'dannychapman', 'dat-gcio', 'data-doge', 'dcgoodwin2112', 'dcloud', 'ddzz', 'dellerbie', 'delli-gatti-michael', 'desireeturner', 'devonjhills', 'diondredroidios', 'dmccurdybah', 'drorva', 'dsasser', 'dsrr47', 'dvogel', 'edmangimelli', 'edmkitty', 'edpaget', 'egarreau', 'elder-joseph', 'elwoodva', 'ericbuckley', 'ericvoshall', 'erikphansen', 'ethanteague', 'eubiera', 'ewaz-farhang', 'f1337', 'fazilqa', 'ffafara-tw', 'gescobardev', 'gmrabian', 'gnakm', 'goldenmeanie', 'greggersh', 'grossb1', 'gunsch', 'haniasma', 'helene-mccarron', 'helenshin-va', 'hinzed1127', 'holdenhinkle', 'hollyallen', 'hpjaj', 'hughes-dustin', 'ianmagenta', 'igreulich', 'imeecuison', 'it-harrison', 'jadon1979', 'jamigibbs', 'jaredcunha', 'jaredcunha-usds', 'jbalboni', 'jbritt1', 'jcatergovy', 'jchapin', 'jcmeloni', 'jcmeloni-usds', 'jeana-adhoc', 'jenniemc', 'jerekshoe', 'jgacek', 'jholton', 'jhonnyoddball', 'jilladams', 'jkassemi', 'joehall-tw', 'joeniquette', 'joesoftware', 'johnpaulashenfelter', 'jonbot', 'jonpugh', 'josephpreisser', 'josephrlee', 'jpresley23-tw', 'jsev-io', 'jsimonVA', 'jstanek', 'jtmst', 'justin-trieu', 'k80bowman', 'kaipyroami', 'kalilsn', 'katieho-va', 'kellyskennedy', 'kelsonic', 'kevwalsh', 'kfrz', 'khathuynh-tw', 'kind-claudio', 'kjduensing', 'knkski', 'konklone', 'kreek', 'kreimann', 'kristinagore', 'ksantiagoBAH', 'kscoulter', 'kylesoskin', 'lanaduffy', 'lbai001', 'leahbannon', 'lee-delarm6', 'lihanli', 'llimllib', 'longmd', 'lzapson', 'madebydna', 'manfromtexas', 'mariahsager-tw', 'marisahoenig', 'markgreenburg', 'markolson', 'marybyrnepark', 'mattwrightva', 'maxx1128', 'mc-usds', 'mchelen-gov', 'mdewey', 'melaniegershman', 'melwoodard', 'micahchiang', 'michelpmcdonald', 'mjlumetta', 'mlauren', 'mmoyer-va', 'mojaray2k', 'mollyblake', 'mpelzsherman', 'mydesignrocks', 'nagaborra', 'narin', 'nathanhruby', 'nathanielbuck', 'navaeddie', 'nbarthelemy', 'ncbui', 'ncksllvn', 'ndouglas', 'ndsprinkle', 'nickjg231', 'noahgelman', 'nprimak', 'nsinai', 'obliviga', 'oksana-c', 'oleksii-morgun-va', 'omgitsbillryan', 'oseasmoran73', 'patrickvinograd', 'pdavies88', 'peggygannon', 'phiden', 'pjhill', 'powellkerry', 'ptouchton', 'r-mc2', 'raineystraus', 'randimays', 'randomsync', 'raquelromano-gov', 'rcarthur', 'rd-huerta', 'reblg', 'rhasselle-oddball', 'rickleegit', 'rjohnson2011', 'rmessina1010', 'robbiethegeek', 'robbiethegeek-usds', 'robertbylight', 'robertfairhead', 'robfelder', 'rocio-desantiago', 'rrmatthews', 'rroueche', 'rruuww', 'rsmithadhoc', 'ryanshaw', 'ryguyk', 's-caso', 'saman-moshafi-va', 'samcoforma', 'saneshark', 'sanlouise', 'scottymeyers', 'shauni', 'shawkey-daniel', 'shefalinayak-tw', 'simiadebowale', 'singletrackr', 'sjb912', 'smeneni', 'srsuddath', 'ss0ss', 'starryknight7', 'stephenBarrs', 'stephte', 'swathichelika', 'swirtSJW', 'tehp', 'theodur', 'timcosgrove', 'timothy-steele-va', 'timwright12', 'tjheffner', 'tlei123', 'tmac9494', 'tmitchellgcio', 'tony-valdez-accenture', 'tskinn', 'vbahinwillit', 'vsaleem', 'webinista', 'wslack', 'wullaski', 'wunderhund', 'wyattwalter', 'yonidoronpeters', 'youngfreezyVA', 'zacharymorel', 'zurbergram', '1kastner', 'IanLee1521', 'tgmachina', '1tnguyen', 'AngusMingare', 'DmitryLyakh', 'Jeriimiah', 'WrathfulSpatula', 'acastanedam', 'amccaskey', 'amrutn', 'ausbin', 'czhao39', 'danclaudino', 'devcentral-pnnl', 'eugescu', 'flatslm', 'guenp', 'joehellmers', 'kharazity', 'mileschen360', 'nmoran', 'osbornjd', 'rsand17', 'rsoftone', 'spowers', 'travishumble', 'uuudown', 'yukwangmin', 'zpparks314', '2018-02-15T16:30:44-07:00', 'amametjanov', 'ambrad', 'bartgol', 'david-m-hall', 'ikalash', 'jayeshkrishna', 'jgfouca', 'lbertagna', 'mfdeakin', 'mfdeakin-sandia', 'mrnorman', 'mt5555', 'ndkeen', 'oksanaguba', 'singhbalwinder', 'susburrows', 'yjinho', '21dmohan', 'aaronrr', 'adamrrubin', 'egreen77', 'kellykochanski', 'r-barnes', 'rountree-alt', 'zbeekman', '987poiuytrewq', 'A-Gordon', 'AKoetsier', 'AlexanderEkdahl', 'AndHei', 'BSick7', 'BabakMN', 'BenjaminFarley', 'BobVanB', 'Bowbaq', 'CaseyLeask', 'Charg', 'Chili-Man', 'ChrisMcKenzie', 'ChrisParis', 'DanielMSchmidt', 'DavidWittman', 'DevOpsFu', 'DevoKun', 'Djuke', 'Dominik-K', 'EdwardBetts', 'Erouan50', 'EvanKrall', 'Felivel', 'FieldFlux', 'GiovanniPaoloGibilisco', 'Graham-M', 'GuiSim', 'HoardingInfo', 'IvanVergiliev', 'JDiPierro', 'JacobASeverson', 'JamesBelchamber', 'JasonGiedymin', 'Jberlinsky', 'JeanMertz', 'JefStat', 'Jonnymcc', 'Jonty', 'JrCs', 'KCrawley', 'KensoDev', 'KoenDeCausmaecker-TomTom', 'LeftyBC', 'LinusU', 'MarcusNoble', 'MattiasGees', 'MerlinDMC', 'MichalGuminiak-TomTom', 'Mike-Dunton', 'Mongey', 'MrGossett', 'MrSaints', 'NicholasPCole', 'Ninir', 'OJFord', 'ParthaDutta', 'PaulAtkins', 'PavelVanecek', 'PayscaleNateW', 'PeteGoo', 'Phomias', 'Pryz', 'Puneeth-n', 'PurrBiscuit', 'Quentin-M', 'RevCBH', 'RichSteele', 'RodrigoAlmodovar', 'RussVanBert', 'RyanNielson', 'SamClinckspoor', 'SeanKnight', 'SoMuchToGrok', 'StephenWeatherford', 'TStraub-rms', 'TeaBough', 'Techbrunch', 'VEBERArnaud', 'ValFadeev', 'ValerieDittmar', 'Vlatombe', 'Widdershin', 'WolverineFan', 'ZZelle', 'a-h', 'ab', 'aboschke', 'abraithwaite', 'ack', 'adambyrtek', 'adamdecaf', 'adamenger', 'aerostitch', 'afomi', 'aheeren', 'ahl', 'ahoka', 'aibou', 'aifred', 'ajlanghorn', 'ajmath', 'ajvb', 'akmalabbasov', 'akramhussein', 'alekstorm', 'alessfg', 'alex1x', 'alexef', 'alexis-turpin', 'alexpbrown', 'alexwlchan', 'alfonso-cabrera', 'alindeman', 'alkersan', 'alrs', 'alvelcom', 'amadeus', 'anapsix', 'andresilva', 'andrewtarry', 'andskli', 'andykingking', 'andyroyle', 'anniehedgpeth', 'antonbabenko', 'antonta0', 'arcadiatea', 'archgrove', 'arsdehnel', 'ashishth09', 'ashmere', 'atward', 'aussielunix', 'av1nashs1ngh', 'avichalbadaya', 'aybabtme', 'ayudemura', 'aznashwan', 'b-ryan', 'baboune', 'bahner', 'balser', 'bandesz', 'banks', 'bascht', 'bbasata', 'bchelli', 'bclodius', 'bearcage', 'beedub', 'bengesoff', 'benjvi', 'bernerdschaefer', 'betawaffle', 'bfallik', 'bflad', 'bhops', 'bigkraig', 'billf', 'bjorand', 'blakesmith', 'bmarini', 'bmcustodio', 'bobbydeveaux', 'bobtfish', 'bodgit', 'bonifaido', 'boompig', 'borgified', 'borgstrom', 'boyvanduuren', 'bpineau', 'br0ch0n', 'bradfeehan', 'brandongalbraith', 'brandontosch', 'brbbs', 'brettski', 'brianantonelli', 'brianshumate', 'brotbert', 'bruun', 'bryanburgers', 'brycekahle', 'bschwind', 'bsingr', 'builtinnya', 'buth', 'buzztroll', 'c4milo', 'caarlos0', 'cagriy', 'caiofilipini', 'cakoose', 'captainpete', 'carinadigital', 'carl-youngblood', 'carlosdp', 'carlossg', 'carlpett', 'cblecker', 'cbroglie', 'cbuben', 'cchildress', 'cecchi', 'cewood', 'chadothompson', 'charlieoleary', 'chaseadamsio', 'chbrown', 'chids', 'chiradeep', 'chrislovecnm', 'chrisportela', 'christoe', 'chrusty', 'ckarlsen84', 'claytono', 'cloudnautique', 'cmorent', 'codeinthehole', 'codekoala', 'coffeepac', 'combor', 'comebackoneyear', 'commarla', 'complexsplit', 'coreone', 'craigknott', 'cristicalin', 'csabapalfi', 'cstamm13', 'ctavan', 'ctiwald', 'cuongnv23', 'curtisallen', 'curx', 'cvlc', 'cwarden', 'cwood', 'd-grigorenko', 'd4v3y0rk', 'dagnello', 'damacus', 'danawillow', 'danielbryantuk', 'dannytrigo', 'darend', 'darrenswhite', 'darron', 'dasch', 'daveadams', 'davewalter', 'dbalan', 'dblooman', 'dcarley', 'dcgoss', 'dcjohnson', 'dcosson', 'ddcprg', 'ddegoede', 'de-husk', 'deanwilson', 'demonwy', 'deoxxa', 'derBroBro', 'desimone', 'deverton', 'devinlundberg', 'devonbleak', 'devonharvey', 'devopsbrett', 'dgellow', 'dgolja', 'dharrisio', 'dhilton', 'dhoeric', 'dimfeld', 'directionless', 'dj80hd', 'djoos', 'dkalleg', 'dlanner', 'dlsniper', 'dmportella', 'dn1s', 'doertedev-instana', 'dominik-lekse', 'donaldgray', 'donjohnson', 'dotariel', 'dougneal', 'drebes', 'drich10', 'drnic', 'dstine', 'dtan4', 'dthagard', 'dtolnay', 'dtzar', 'dublx', 'duckpuppy', 'duggan', 'duplich', 'dupuy', 'dustyburwell', 'dwradcliffe', 'dylanvaughn', 'ebekker', 'ebrucucen', 'echuvyrov', 'econnell', 'edef1c', 'edevil', 'edmundcraske', 'edmundcraske-bjss', 'egarbi', 'ehmo', 'elad', 'elblivion', 'eltimmo', 'emilymye', 'endofcake', 'enieuw', 'enspencer', 'eraserhd', 'ericwestfall', 'erobert-amadeus', 'errriclee', 'erutherford', 'evalphobia', 'evanphx', 'ewbankkit', 'ewdurbin', 'ewypych', 'exo', 'ezaekiel', 'ezbercih', 'f440', 'famousgarkin', 'fatih', 'fatmcgav', 'fd', 'feanil', 'feelobot', 'fgbreel', 'fillup', 'flacito', 'flamingspaz', 'florianlechner', 'foragerr', 'fossabot', 'fosskers', 'freeman', 'frezbo', 'frntn', 'frodenas', 'gaker', 'gambrose', 'gazoakley', 'gbarboza', 'gcmalloc', 'gechr', 'geekq', 'geoffreywiseman', 'gepser', 'gerr1t', 'ggiamarchi', 'ggriffiths', 'gh-mlfowler', 'gitlabbin', 'gkze', 'glasser', 'glenjamin', 'glerchundi', 'goodshailesh', 'gotascii', 'gotyoooo', 'gposton', 'grayaii', 'gregswift', 'grisha', 'grothja', 'gruendd', 'gtheys', 'gthole', 'guidob', 'gulyasm', 'gusmat', 'h-imaoka', 'haklop', 'handlerbot', 'hanks', 'hanninen', 'hany', 'hauleth', 'hden', 'hectcastro', 'heimweh', 'henning', 'hhercules', 'hmcgonig', 'holyjak', 'hrach', 'hugoduncan', 'iadvizeponey', 'icebourg', 'iceycake', 'idubinskiy', 'ifuyivara', 'igable', 'ijin', 'innossh', 'iroller', 'ivuk', 'jadametz', 'jagregory', 'jakepusateri', 'jalemieux', 'jalessio', 'jamesgoodhouse', 'jangaraj', 'jannyg', 'jarrodjackson', 'jason-riddle', 'jasonamyers', 'jasonlotito', 'jasonmcintosh', 'javawizard', 'jaytaylor', 'jbardin', 'jbruettcva', 'jcalonso', 'jcardinal', 'jcrowthe', 'jd3nn1s', 'jedineeper', 'jeffawang', 'jefflaplante', 'jennyd', 'jeremylivingston', 'jeroendekorte', 'jeshuaborges', 'jessecollier', 'jesusvazquez', 'jfromaniello', 'jgjay', 'jharriman', 'jimmycuadra', 'jkburges', 'jkinred', 'jklukas', 'jkordish', 'jlund', 'jmartelletti', 'jmasseo', 'jmcarp', 'jmettes', 'jmstone617', 'joegross', 'joelcollin', 'joelmoss', 'joelthompson', 'johannesboyne', 'johanneswuerbach', 'john-mcgowan-wowza', 'johnewart', 'johnrengelman', 'johnthedev97', 'johnwards', 'jonatanblue', 'jonoden', 'joonas', 'jorjao81', 'jornu', 'joscha', 'joshdk', 'joshmyers', 'joshrtay', 'joshuaspence', 'jpadvo', 'jpamies', 'jpluscplusm', 'jrasell', 'jringuette', 'jritsema', 'jrm16020', 'jrperritt', 'jrstarke', 'jschneiderhan', 'jtopjian', 'jtsaito', 'juliandunn', 'julienba', 'julienvey', 'julius-bonial', 'juls', 'justinlarose', 'justnom', 'jvoorhis', 'jwaldrip', 'jwayong', 'jwbowler', 'jwegis', 'jwieringa', 'jwinter', 'jzbruno', 'jzohrab', 'k-kawa', 'kars7e', 'kavehmz', 'kavu', 'kbrowns', 'kddejong', 'kelcecil', 'kellydavid', 'kelvl', 'kenkku', 'kenshiro-o', 'keshavdv', 'ketzacoatl', 'kevinburke', 'kevinprince', 'keymon', 'kford55', 'kian', 'kitsunde', 'kjmkznr', 'kjperry', 'knuckolls', 'kocsismate', 'koenijn', 'korotovsky', 'kozo002', 'kpersohn', 'kristinn', 'kubek2k', 'kung-foo', 'kvisscher', 'kvz', 'kwoods', 'kyhavlov', 'kylemcc', 'kylewest', 'kyxap1', 'laferrieren', 'lagartoflojo', 'lalloni', 'lamielle', 'lcrisci', 'ldanz', 'leecalcote', 'leeprovoost', 'liamjbennett', 'lian', 'liranp', 'littleidea', 'ljfranklin', 'lmorfitt', 'lnguyen', 'loicalbertin', 'lorengordon', 'lorentzca', 'louis-paul', 'lrsmith', 'lstolyarov', 'lucasvasconcelos', 'lusis', 'lvjp', 'lwander', 'lwilliams-oats', 'm-s-austin', 'macheins', 'magnumopus', 'majormoses', 'manuwela', 'marccardinal', 'marcosnils', 'markgar', 'martinssipenko', 'maryelizbeth', 'mastor', 'mathematician', 'mathieuherbert', 'matschaffer', 'matsuzj', 'matt-deboer', 'mattclegg', 'mattmoyer', 'mattyjones', 'maxenglander', 'maxvt', 'mbainter', 'mbfrahry', 'mblakele', 'mbode', 'mbrannigan', 'mcinteer', 'mclarke47', 'mcuadros', 'mdb', 'mechastorm', 'mengesb', 'methane', 'meyertime', 'mfischer-zd', 'micahhausler', 'miguelaferreira', 'miketheman', 'mildred', 'milkcocoa', 'minamijoyo', 'mindw', 'mioi', 'miquella', 'misham', 'mixacha', 'mjsteger', 'mleventi', 'mmell', 'modax', 'moio', 'momamene', 'monder', 'moofish32', 'moorara', 'mootpt', 'mooyoul', 'moredip', 'mrdavidlaing', 'mrjefftang', 'mrmiyagi', 'mrwacky42', 'msuterski', 'msysyamamoto', 'mtchavez', 'mtougeron', 'mtougeron-gpsw', 'mubeta06', 'mumblez', 'murphybytes', 'mwarkentin', 'mwhipple', 'myoung34', 'mysza', 'mzupan', 'nTraum', 'nabeken', 'nathanielks', 'ndarilek', 'nearlythere', 'negz', 'netjunki', 'nevins-b', 'nevir', 'nextrevision', 'nibalizer', 'nicholasjackson', 'nickhs', 'nickithewatt', 'nickryand', 'nicksantamaria', 'niclasnilsson', 'niclic', 'nicolai86', 'niravradia', 'nmcalabroso', 'nnalam', 'nrempel', 'nwalke', 'nwwebb', 'nyanshak', 'obsh', 'octo', 'odise', 'ogennadi', 'ohaiwalt', 'ojongerius', 'okumin', 'okushchenko', 'olegch', 'opteemister', 'ottenhoff', 'paddycarver', 'paradoxbound', 'pashap', 'patdowney', 'patrickdlee', 'paul91', 'paulbellamy', 'pauljrob', 'pauloconnor', 'paultyng', 'pawbur', 'pbthorste', 'pbzdyl', 'pearcec', 'peay', 'personalcomputer', 'peterbeams', 'pforman', 'pgray', 'phekmat', 'philk', 'philsttr', 'philwitty', 'phoolish', 'phrawzty', 'pickgr', 'pikeas', 'pmcatominey', 'pmorton', 'pmoust', 'pmuller', 'pokle', 'portovep', 'pradeepbhadani', 'pragkent', 'premist', 'protochron', 'pshima', 'purefan', 'pvcnt', 'q3k', 'qivers', 'qjcg', 'radarhere', 'radeksimko', 'randomcamel', 'randomeizer', 'raphink', 'raylu-stripe', 'rdark', 'realflash', 'reedloden', 'reggi', 'relaxdiego', 'renier', 'rfletcher', 'rgl', 'rhenning', 'rhoegg', 'richardbowden', 'richardc', 'rileykarson', 'ringods', 'rjeczalik', 'rkhozinov', 'rkulagowski', 'rliebz', 'rlweb', 'rmariuzzo', 'rmenn', 'rnaveiras', 'roachmd', 'robcoward', 'robdaemon', 'roboll', 'robothor', 'robphoenix', 'robrankin', 'robzienert', 'roidelapluie', 'rolo', 'ross', 'rowanjacobs', 'rowleyaj', 'rrudduck', 'rsrchboy', 'ruippeixotog', 'ryane', 'ryanmoran', 'ryansch', 'ryansroberts', 'ryno75', 'rzh', 'sa3dany', 'salewski', 'saliceti', 'samber', 'samcrang', 'samirageb', 'sandeep-sidhu', 'sarkis', 'sathiyas', 'sbadia', 'sbfaulkner', 'scalp42', 'schans', 'scottslowe', 'scottsuch', 'scottzilla', 'scriptnull', 'scross01', 'sdboyer', 'seanherron', 'seanknox', 'sebastus', 'seeingidog2', 'selmanj', 'serbaut', 'serialdoom', 'seriousben', 'sethbergman', 'sethp-jive', 'sevagh', 'sfilipov', 'shaneog', 'shanielh', 'shanoor', 'sharmaansh21', 'shawnsilva', 'sheerun', 'shin1x1', 'shvar', 'silas', 'simonmcc', 'sjwl', 'skalle', 'skfmu', 'skovorodkin', 'skyzyx', 'smasue', 'smesch', 'smuth4', 'snakeb1t', 'snehaso', 'soblom', 'sodre', 'sofuture', 'solarnz', 'soniah', 'sozercan', 'spangenberg', 'spenczar', 'spesnova', 'sprutner', 'squaresurf', 'srikalyan', 'stavxyz', 'stephenchu', 'stephencoe', 'steve-jansen', 'steveh', 'stevehorsfield', 'stumbaumr', 'stuntgoat', 'stvnwrgs', 'suguru', 'supergibbs', 'supergicko', 'superseb', 'svanzoest', 'svend', 'svenwltr', 'swestcott', 'syohex', 'syskill', 'szollo', 'tam7t', 'tboerger', 'telepath', 'terraformbot', 'thanhtong89', 'theanalyst', 'thegedge', 'theherk', 'thetuxkeeper', 'thiagocaiubi', 'thirstydeveloper', 'thomaschaaf', 'timmartin19', 'timmytofu', 'timonwong', 'titanous', 'tjinjin', 'tkak', 'tlovett-rmn', 'tmshn', 'tmtk75', 'tombuildsstuff', 'tomelliff', 'tomfitzherbert', 'tomgoren', 'tommymalmqvist', 'tomohiro', 'tomwilkie', 'tphummel', 'tpoindessous', 'tpounds', 'travertischio', 'travispaul', 'trentio', 'trotttrotttrott', 'trung', 'turkenh', 'turtlemonvh', 'u2mejc', 'ubershmekel', 'unguiculus', 'ungureanuvladvictor', 'uzyexe', 'vancluever', 'vanstee', 'vertis', 'vic3lord', 'vincentkwok', 'vincepri', 'vincer', 'virtualbeck', 'visit1985', 'vkantsev', 'vladgolubev', 'vrenjith', 'w32-blaster', 'walid-halabi-myob', 'wangyuelucky', 'wata727', 'watters', 'wchrisjohnson', 'weargoggles', 'wendorf', 'weppos', 'wgliang', 'whiskeyjay', 'wholroyd', 'willemvv', 'willrstern', 'wjam', 'wkonkel', 'wojtekmach', 'wuan', 'xaptronic', 'xetorthio', 'xiaozhu36', 'xla', 'xoob', 'xt84', 'xuwang', 'yanndegat', 'yawn', 'yeeplusplus', 'yfronto', 'yikaus', 'yissachar', 'yn', 'yob', 'youyo', 'yusukegoto', 'yyamano', 'zachgersh', 'zbikmarc', 'zhebr', 'zhukau', 'zopanix', 'zpatrick', 'zsalzbank', '32bitmicro', '4ast', 'AaronBallman', 'AbhilashBhandari', 'Abramo-Bagnara', 'AlexDenisov', 'AndrewScheidecker', 'AndreyChurbanov', 'AndyAyersMS', 'AnnaZaks', 'AntonBikineev', 'Arnaud-de-Grandmaison', 'Arnaud-de-Grandmaison-ARM', 'Artem-B', 'Axel-Naumann', 'Bay Area, California, USA', 'BenjaminPoulain', 'Bigcheese', 'BillSeurer', 'BittnerBarnabas', 'BorisUlasevich', 'CareyJWilliams', 'CarlosAlbertoEnciso', 'ChristianKoenigAMD', 'CodaFi', 'CunningBaldrick', 'DanAlbert', 'DaveBartolomeo', 'DavidCallahan', 'DenisBakhvalov', 'DiamondLovesYou', 'Djuffin', 'Dor1s', 'DougGregor', 'EdSchouten', 'EricWF', 'EugeneZelenko', 'EwanC', 'GBuella', 'GeorgiiR', 'Gerolf-Apple', 'GorNishanov', 'HLJ2009', 'Hsiangkai', 'J-Liu', 'JDevlieghere', 'JiadingGai', 'JohanEngelen', 'JonChesterfield', 'JonPsson', 'JonasToth', 'JosephTremoulet', 'JyotsnaVerma', 'Kariddi', 'KarlSchimpf', 'Keno', 'LebedevRI', 'Lekensteyn', 'LionNatsu', 'LuoYuanke', 'MaggieYingYi', 'MarkMurrayARM', 'MaskRay', 'MatzeB', 'Meinersbur', 'NWilson', 'NutshellySima', 'OCHyams', 'PkmX', 'Quolyk', 'RARelph', 'RKSimon', 'Ralender', 'RichBarton-Arm', 'RoboTux', 'RolandF77', 'SLTozer', 'SamWot', 'ScottEgerton', 'SeanEveson', 'ShivaChen', 'SidManning', 'Sterling-Augustine', 'Stilgar84', 'Szelethus', 'TNorthover', 'Teemperor', 'Theodor', 'ThomasRaoux', 'ThomsonTan', 'TomWeaver18', 'TylerNowicki', 'WenleiHe', 'Weverything', 'Wilfred', 'WiseMaestro', 'Xazax-hun', 'Xiangling-Liao1915', 'YuanLinNV', 'aakanksha555', 'aardappel', 'aaronpuchert', 'aaronsm', 'abasana', 'abrachet', 'abramobagnara', 'adasgupt1', 'adrian-prantl', 'adsk-belleyb', 'aelovikov-intel', 'aemerson', 'againull', 'aganea', 'ahatanak', 'ahatanaka', 'aheejin', 'ahmedbougacha', 'ahmedcharles', 'ahsansaghir', 'aisoard', 'aizatsky-chromium', 'akuegel', 'akyrtzi', 'aleksandr-urakov', 'alekseyshl', 'alexander-shaposhnikov', 'alexey-bataev', 'alexfh', 'alinas', 'alitamur', 'amaiorano', 'amaury-dlv', 'amccarth-google', 'amharc', 'amilendra', 'amishne', 'amusman', 'amy-kwan', 'amykhuang', 'anarazel', 'andreybokhanko', 'androm3da', 'andyg1001', 'andykaylor', 'anemet', 'aniragil', 'anmolparalkar', 'anmparal', 'annamthomas', 'anton-afanasyev', 'aoli-al', 'apazos', 'arpilipe', 'arpith-jacob', 'arsenm', 'artagnon', 'asb', 'aschwaighofer', 'asl', 'atamazov', 'atanasyan', 'atoker', 'atrick', 'aturetsk', 'avieira-arm', 'avl-llvm', 'avt77', 'awatry', 'axw', 'ayartsev7', 'aykevl', 'aymanmusa', 'ayonam', 'azaks', 'azharudd', 'azhogin', 'bader', 'bcahoon', 'bcardosolopes', 'bd1976bris', 'belkadan', 'benlangmuir', 'bergeret', 'bgabor666', 'bhamiltoncx', 'bigboze', 'bixia1', 'bjope', 'blunted2night', 'bmahjour', 'bmrzycki', 'bob-wilson', 'bogner', 'brad0', 'brads55', 'broune', 'bryanpkc', 'bryant', 'bsdjhb', 'bulbazord', 'bwyma', 'bzEq', 'c-rhodes', 'cachemeifyoucan', 'calixteman', 'cao-z', 'carlokok', 'ccadar', 'cdavis5e', 'cddouma-arm', 'cdevadas', 'chandlerc', 'changpeng', 'chaoren', 'chapuni', 'charles-l', 'charlesturner7c5', 'chefmax', 'chenzheng1030', 'cheshire', 'chfast', 'chih-hung', 'chisophugis', 'christinaa', 'ckennelly', 'clayborg', 'clchiou', 'cmtice', 'comex', 'compnerd', 'congliuthu', 'cooperp', 'cray-arxan', 'cuviper', 'cwabbott0', 'cyndyishida', 'd0k', 'd1r7y', 'daltenty', 'danchr', 'danielcdh', 'danliew', 'darkbuck', 'davemgreen', 'davezarzycki', 'davidbolvansky', 'dberlin', 'dcaballe', 'dcandler', 'dcci', 'ddcc', 'ddunbar', 'deadalnix', 'deanberris', 'derekbruening', 'devincoughlin', 'devnexen', 'dexonsmith', 'df2218380513f49d8a3d896fc45740e9', 'dfukalov', 'dgross144', 'djasper', 'djtodoro', 'dkdwivedi', 'dlj-NaN', 'dlrobertson', 'dmmikulin', 'dmpolukhin', 'dmpots', 'dnovillo', 'dnuzman', 'doac', 'donhinton', 'dotdash', 'dpreobra', 'drichards-87', 'dsandersllvm', 'dschuff', 'dstepanovsrc', 'dstutt', 'dtellenbach', 'dtemirbulatov', 'dtzWill', 'dvlahovski', 'dvyukov', 'dwblaikie', 'dwmw2', 'dylanmckay', 'dyung', 'earl', 'earthdok', 'echristo', 'ecnelises', 'eddyb', 'edward-jones', 'edwintorok', 'eeckstein', 'eefriedman', 'efriedma-quic', 'ehostunreach', 'ehsan', 'eleviant', 'eleviant777', 'eliben', 'elizabethandrews', 'emankov', 'emaste', 'enderby', 'enferex', 'eocallaghan', 'epilk', 'erichkeane', 'erikjv', 'eschnett', 'espindola', 'etherzhhb', 'eugenis', 'evstupac', 'fangism', 'fhahn', 'filcab', 'fjricci', 'fpichet', 'francisvm', 'frasercrmck', 'fredriss', 'fvbommel', 'gadihaber', 'ganeshgit', 'gareevroman', 'garious', 'gburgessiv', 'gchatelet', 'geoffberry', 'ggreif', 'gix', 'gkistanova', 'googlewalt', 'gottesmm', 'goussepi', 'gramanas', 'graydon', 'greened', 'gregbedwell', 'gribozavr', 'h4xr', 'hahnjo', 'hakzsam', 'haoNoQ', 'harlanhaskins', 'hctim', 'helloqirun', 'henline', 'henrickarlsson', 'hhb', 'hhexo', 'hidekisaito', 'higuoxing', 'hjyamauchi', 'hkaiser', 'hliao2', 'hokein', 'homerdin', 'honggyukim', 'hubert-reinterpretcast', 'huihzhang', 'huntergr-arm', 'hyojinsung', 'hyp', 'iains', 'igor-laevsky', 'igorkudrin', 'ijsung', 'ilya-biryukov', 'indutny', 'indygreg', 'inglorion', 'inolen', 'inouehrs', 'ipazarbasi', 'irishrover', 'isanbard', 'ismail', 'jacobbaungard', 'jainnk', 'jakehehrlich', 'jankratochvil', 'jasonliudev', 'jasonmolenda', 'javedabsar', 'jayfoad', 'jaykang10', 'jbhateja', 'jcai19', 'jckarter', 'jcownie-intel', 'jdennett', 'jdenny-ornl', 'jdmdj', 'jedilyn', 'jfbastien', 'jgalenson', 'jgouly', 'jgravelle-google', 'jgu222', 'jh7370', 'jholewinski', 'jinlin-bayarea', 'jklontz', 'jkorous-apple', 'jmorse', 'joelkevinjones', 'john-brawn-arm', 'johnson-troy', 'joker-eph', 'jonathanmetzman', 'jpienaar', 'jroelofs', 'jrose-apple', 'jryans', 'jsjodin', 'jsonn', 'jtsoftware', 'junbumlim', 'junmopark-sec', 'jush31666', 'jvesely', 'jwroorda', 'jyasskin', 'jyknight', 'kadircet', 'kanarayan', 'kanheim00', 'kaomoneus', 'karka228', 'kastiglione', 'kbelochapka', 'kbeyls', 'kbsmith-intel', 'kcc', 'kees', 'kennethuil', 'kerbowa', 'kirillbobyrev', 'kitbarton', 'kito-cheng', 'kkwli', 'kmclaughlin-arm', 'komalon', 'kongy', 'kparzysz-quic', 'kpneal', 'kpyzhov', 'krajaratnam', 'krasimirgg', 'kripken', 'krytarowski', 'ktkachov-arm', 'kubamracek', 'kuhar', 'kvbhat', 'kwk', 'kwongyuan', 'kzhuravl', 'labath', 'labrinea', 'lanza', 'lattner', 'laurovenancio', 'ldionne', 'ldm5180', 'legrosbuffle', 'lei137', 'lenary', 'lewis-revill', 'lgerbarg', 'lhames', 'liangdzou', 'lic9', 'lihuang916', 'llvm-beanz', 'llvmgnsyncbot', 'loganchien', 'lplarson', 'lsaba', 'luismarques', 'lukeg101', 'luqmana', 'lvoufo', 'm-gupta', 'majnemer', 'maksfb', 'mamasten', 'manman-ren', 'mantognini', 'manueljacob', 'marco-c', 'markuslavin', 'marsupial', 'martell', 'martinboehme', 'matthijskooijman', 'maya-cm', 'mcinally', 'mclow', 'mdlemay', 'mdtrent', 'mdvoretc-intel', 'meadori', 'meheffernan', 'melshuber', 'mfleming', 'mgehre', 'mikael-nilsson-arm', 'mikaelholmen', 'mikhailramalho', 'milseman', 'miyuki', 'mkuperst', 'mnbvmar', 'modocache', 'momchil-velikov', 'morehouse', 'movie-travel-code', 'mplatings', 'mppf', 'mspertus', 'msriram', 'mssimpso', 'mstorsjo', 'mtrofin', 'mveriksson', 'mvillmow', 'mwkmwkmwk', 'mydeveloperday', 'nadavrot', 'nandor', 'nathawes', 'neerajbadlani', 'neilb-xx', 'nemanjai', 'nga888', 'nhaehnle', 'nhukc', 'nickdesaulniers', 'nico', 'nikic', 'nikolaivk', 'nilanjana87', 'niravhdave', 'nkeynes', 'nlewycky', 'nobled', 'nunoplopes', 'nuta', 'nzaghen', 'o-ran', 'ohmantics', 'olesalscheider', 'omer-paparo-bivas', 'omjavaid', 'ormris', 'ornata', 'orodley', 'ostannard', 'ovyalov', 'paulsemel', 'paulwalker-arm', 'pawosm-arm', 'pbarrio', 'pcc', 'pendingchaos', 'pepsiman', 'perlfu', 'petar-jovanovic', 'petecoup', 'pfaffe', 'pftbest', 'pgavlin', 'pgode', 'pgurd', 'phoebewang', 'phschaad', 'piotrAMD', 'pirama-arumuga-nainar', 'pjaaskel', 'plabath', 'plotfi', 'pogo59', 'popizdeh', 'pranavb-ca', 'prazek', 'preames', 'preejackie', 'prestonbriggs', 'pzhengqc', 'qcolombet', 'quantum5', 'r4nt', 'rafaelauler', 'ramntry', 'ramosian-glider', 'rampitec', 'raulherbster', 'rauls5382', 'rdhindsa14', 'rdivacky', 'rdpennington', 'rdwampler', 'redstar', 'regehr', 'rengolin', 'resistor', 'rgal', 'ributzka', 'rjmccall', 'rmitton', 'rnk', 'rnkovacs', 'robkh', 'rofirrim', 'roman-kashitsyn', 'ronlieb', 'rotateright', 'rovka', 'rprichard', 'rs-arm', 'rsandifo-arm', 'rudkx', 'rui314', 'sam-mccall', 'sampo3k', 'sanjoy', 'sanxiyn', 'sas', 'sbaranga-arm', 'sbc100', 'scallanan', 'scott-linder', 'sdardis', 'sdesmalen-arm', 'searlmc1', 'sebpop', 'serge-sans-paille-qb', 'serguei-katkov', 'sgundapa', 'shafik', 'shantonusen', 'shawfly', 'shawnl', 'sheng-sq', 'shenhanc78', 'simonpcook', 'simpal01', 'sipherhex', 'sivachandra', 'slackito', 'sloper42', 'smeenai', 'smithp35', 'sndmitriev', 'snnw', 'snuglas', 'socantre', 'sparker-arm', 'spavloff', 'spiderofmean', 'sqlbyme', 'ssahasra', 'ssarda-qcom', 'sstamenova', 'sstefan1', 'statham-arm', 'stbergmann', 'stephan-tolksdorf', 'stephenhines', 'stephentyrone', 'stephenwlin', 'steveire', 'stoklund', 'stuij', 'supertriceratops', 'svenvh', 'swaroop-sridhar', 'swiftix', 'sylvestre', 'syzaara', 'szepet', 't-tye', 'taewookoh', 'tanderson-google', 'tclin914', 'teresajohnson', 'tfiala', 'tfiala-goog', 'thanm', 'thekoosisloose', 'tilera', 'timshen91', 'timurrrr', 'tinti', 'tjablin', 'tkrasnukha', 'tkremenek', 'tkrupa-intel', 'tlively', 'tmroeder', 'tmsri', 'tobiasgrosser', 'tomtab', 'topperc', 'trenouf', 'trentxintong', 'tschwinge', 'tstellar', 'tstellarAMD', 'tvvikram', 'uabjean', 'uenoku', 'uweigand', 'v-kutuzov', 'vaartis', 'vadimcn', 'vedantk', 'vedranmiletic', 'vegovin', 'vgvassilev', 'vharron', 'vhscampos', 'viridia', 'vitalybuka', 'vivekvpandya', 'vlad902', 'vns-mn', 'vo4', 'voltur01', 'vonosmas', 'vpykhtin', 'vsapsai', 'vvereschaka', 'walter-erquinigo', 'wanders', 'waywardmonkeys', 'weiguozhi', 'weimingzha0', 'weliveindetail', 'whitequark', 'whitneywhtsang', 'whjthu', 'willschm', 'wjristow', 'wmi-11', 'wolfy1961', 'wschmidt-ibm', 'wujingyue', 'wuzish', 'xairy', 'xiangzhai', 'xingmingjie', 'xingxue-ibm', 'xranby', 'xur-llvm', 'xuzhongxing', 'yamaguchi1024', 'yiannist', 'yln', 'yonghong-song', 'yrnkrn', 'yrouban', 'yroux', 'yuanfang-chen', 'yuchenericwu', 'yugr', 'yurydelendik', 'yuyichao', 'yxsamliu', 'zatrazz', 'zawtom725', 'zbrid', 'zhangkangcool', 'zhanjunl', 'zhanyongwan', 'zhaoqin', 'zhaoshiz', 'zhizhouy', 'zmodem', 'zwarich', 'zygoloid', '360macky', 'Drew-Daniels', 'HollowMan6', 'JoelMcKinnon', 'JonanOribe', 'LuciNyan', 'MarvinJWendt', 'PunkChameleon', 'SimonWaldherr', 'SyedAhmedCU', 'TypicalFooBar', 'VWoeltjen', 'ZachMoreno', 'aayusharora', 'adoubekk', 'afahey87', 'akhenry', 'alizenguyen', 'arturcarvalho', 'aterribili', 'brianwyu', 'charbelrami', 'charlesh88', 'cseale', 'danielpacak', 'davetsay', 'deeptailor', 'depperm', 'dhrubomoy', 'dimitriharding', 'dmilewicz', 'eltociear', 'evenstensberg', 'gholin', 'ivikash', 'jdsandifer', 'jesusprubio', 'johnriedel', 'josephml-nasa', 'joshbaldwin', 'jrevillas', 'juliecwang', 'jvigliotta', 'khalidadil', 'kobe1104', 'krynju', 'larkin', 'loftwah', 'luisschubert', 'mariuszr', 'michaelrogers', 'mockingjamie', 'mpingleton', 'mrdjohnson', 'nikhilmandlik', 'nunoguedelha', 'ozyx', 'pacozaa', 'prestonjcrowe', 'psarram', 'raoulsullivan', 'rukmini-bose', 'sanchitsinghal7', 'scottbell', 'shefalijoshi', 'slhale', 'slowy07', 'smirecki', 'taintedbones', 'tarikozket', 'thesamprice', 'tobiasbrown', 'trusktr', 'unlikelyzero', 'vankessel', 'vhenckel', '3rav', 'PhilMiller', 'ac48392', 'bartlettroscoe', 'bourdin', 'brian-kelley', 'codacy-badger', 'cquammen', 'daniellivingston', 'ecoon', 'gdsjaar', 'github-actions[bot]', 'gjtempl', 'gsjaardema', 'ibaned', 'jbakosi', 'jbcarleton', 'jschueller', 'jspanchu', 'kruceter', 'mathstuf', 'micahahoward', 'milljm', 'mrbuche', 'mvlopri', 'mwestphal', 'natis1', 'npe9', 'raovgarimella', 'rppawlo', 'rrdrake', 'scottnlevy', 'sebrowne', 'seheracer', 'spyridon97', 'tbeu', 'tjfulle', 'tjotaha', 'tkordenbrock', 'tokusanya', 'utkarshayachit', 'wortiz', '3x0dv5', 'AugustusKling', 'Kuvalda', 'Morgul', 'NicolasBrandli', 'ThomasG77', 'Turbo87', 'ZiglioUK', 'adube', 'ahocevar', 'argson', 'austinhyde', 'bartvde', 'bbinet', 'bill-chadwick', 'bjornharrtell', 'brendankenny', 'brianreavis', 'cedricmoullet', 'crschmidt', 'cwgrant', 'drnextgis', 'dwins', 'ebelo', 'ejn', 'elemoine', 'eriktim', 'fbuchinger', 'felixgirault', 'fgravin', 'flamandro', 'fperucic', 'fredj', 'gberaudo', 'gjn', 'glennvorhes', 'gravitystorm', 'gregersrygg', 'hegemonic', 'htulipe', 'icholy', 'j16sdiz', 'jachym', 'jomue', 'jorix', 'juliensam', 'jumpinjackie', 'kalbermattenm', 'kalinbas', 'klokan', 'kryger', 'lazaruslarue', 'madair', 'marcjansen', 'mike-mcgann', 'mprins', 'nachouve', 'noppelmax', 'okv', 'oterral', 'pagameba', 'paulsimon', 'petrsloup', 'photostu', 'pksorensen', 'probins', 'sarametz', 'sbrunner', 'scharrier', 'schuyler', 'sdikiy', 'simonseyock', 'sirtet', 'stweil', 'sweco-sebhar', 'szymonc', 'tmcw', 'tomhughes', 'tonio', 'towa48', 'tschaub', 'twpayne', 'vicb', 'vmx', 'yportier', '404mike', 'Chapabu', 'JDDoesDev', 'Michel-Settembrino', 'ShaunLawsNREL', 'Tigatok', 'TravisCarden', 'Zorlin', 'a-fro', 'adam-bergstein', 'brockfanning', 'calebtr-metro', 'ccjjmartin', 'cdmo', 'cmodern', 'cthos', 'ctorgalson', 'danbohea', 'danepowell', 'danylevskyi', 'derimagia', 'dhaley', 'dreamfony', 'eelkeblok', 'entendu', 'esteinborn', 'finnlewis', 'frob', 'gobinathm', 'gparami', 'heddn', 'hjuarez20', 'hoff331', 'hussainweb', 'iainhouston', 'ijf8090', 'jaytavares', 'jimmyko', 'joel-travieso', 'joelpittet', 'joestewart', 'jonathanjfshaw', 'justAChris', 'justinlevi', 'jvdschraaf', 'kburakozdemir', 'kekkis', 'kentr', 'kevinhowbrook', 'kmbremner', 'lo5an', 'mchelen', 'mglaman', 'mminklet', 'mogtofu33', 'nemeth', 'nerdstein', 'opdavies', 'opdavies-cti', 'oxyc', 'petrillek', 'phizev', 'quicksketch', 'ravbaba', 'rhuffstedtler', 'richardrobinsonx', 'rocketeerbkw', 'rockymountainhigh1943', 'rodrigoeg', 'rsanzante', 'scottreese', 'scottrigby', 'shawnachieve', 'sidneygijzen', 'siliconmeadow', 'slimatic', 'stephenpurkiss', 'stevenspasbo', 'subhojit777', 'tgroff', 'thom8', 'tormi', 'valeygal1990', 'vitalii-c', 'vml-jbartlett', 'weitzman', 'wizonesolutions', '640kb', 'AMDmi3', 'AdriCS', 'Alexibu', 'AnyOldName3', 'Capostrophic', 'D-A-Heitbrink', 'DeadParrot', 'Dyuzz', 'Haojia521', 'LaurensVoerman', 'MeyerFabian', 'PissedCapslock', 'PjotrSvetachov', 'StefanBruens', 'Tordan', 'Vic-Min', 'alavenant', 'alex-roan', 'aluaces', 'ananace', 'ankurvdev', 'anormann1974', 'anormann74', 'asokol24', 'blobfish', 'bosvensson1', 'calumr', 'cbuchner1', 'cedricpinson', 'cj-mcdonald', 'crubel', 'cxw42', 'dan-t', 'david-sinuela-pix4d', 'dedowsdi', 'denyskoch', 'dquam', 'draccagni', 'dsfdeeeg', 'dstephan1', 'eknabevcc', 'elsid', 'emminizer', 'ewmailing', 'fabausch', 'filnet', 'flashk', 'fredowski', 'fwiesel', 'glebm', 'gmibango', 'gramnation', 'grdowns', 'gwaldron', 'herrkos', 'jamierobertson1', 'jasonbeverage', 'jcarpent', 'jpabst0', 'jslee02', 'jtorresfabra', 'juval', 'kornerr', 'leevers', 'limbolily', 'longhuan2018', 'marchelbling', 'mathieu', 'mijiping', 'minghia', 'mmassing', 'mmurrian', 'mnaehrig', 'mp3butcher', 'mxgrey', 'nicokruithof', 'nim65s', 'openscenegraph', 'paulnovo', 'philip-lamb', 'plevy', 'podsvirov', 'poelmanc', 'psyinf', 'ravidavi', 'rdiankov', 'reedev', 'remoe', 'rhabacker', 'rickyviking', 'robertosfield', 'sbrkopac', 'scttgs0', 'solvingj', 'tehnick', 'thaolt', 'thomasanish-hub', 'timoore', 'tomhog', 'torokati44', 'uhertlein', 'unelsson', 'uwewoessner', 'valid-ptr', 'wlssirius', 'xyzz', 'yaroslav-tarasov', 'zakalawe', 'ALouis38', 'AlexandreMinotCSI', 'AlexyPellegrini', 'BobObara', 'CharlesGueunet', 'ChristianWitzler', 'ChristosT', 'DavidBerger98', 'Erotemic', 'EthanS94', 'EvgenyVRN', 'Fabian188', 'Faroito', 'HalCanary', 'JeromeDuboisPro', 'JonasLukasczyk', 'LucasGandel', 'MarDiehl', 'MicK7', 'NickLaurenson', 'NicolasRannou', 'NicolasVuaille', 'Oblomov', 'Paul-Ferrell', 'RustyBlue', 'Stan-Hammon', 'Sven-Buijssen', 'SvensenSeven', 'aashish24', 'acbauer', 'alex-ong', 'alvarosan', 'andinet', 'angrave', 'arnaudgelas', 'aronhelser', 'atwilso', 'ax3l', 'aylward', 'bastienjacquet', 'bcd123', 'berkgeveci', 'biddisco', 'bilke', 'billhoffman', 'bjoernthiel', 'boonth', 'boucaud', 'bradking', 'burlen', 'bwspenc', 'c-wetterer-nelson', 'caitlinross', 'carrardt', 'carsonbrownlee', 'cbourcier', 'chart3388', 'chetnieter', 'cjh1', 'cobohub', 'cryos', 'dalcinl', 'danlipsa', 'daviddoria', 'demarle', 'dgobbi', 'dhrogers', 'djzielin', 'dlrdave', 'drone2537', 'drpeterfranz', 'dstoup', 'fbertelatkitware', 'fghorow', 'finetjul', 'florianziemen', 'fogleman', 'francois-kitware', 'gruenich', 'gvilanovac', 'hippo91', 'huayang', 'jadh4v', 'jalcdna', 'jcfr', 'jeffbaumes', 'jfavre', 'jfsheph', 'jmlineb', 'johnkit', 'jonwoodring', 'jourdain', 'jperryhouts', 'jpocom', 'jpouderoux', 'ka5854', 'karthikkrishnan', 'kevinsmia1939', 'kitleo', 'kvankooten', 'kwrobot', 'kwryankrattiger', 'laurentmalka', 'lhofmann', 'lucas-givord-kitware', 'lug-iitm', 'malaterre', 'martinken', 'martyngigg', 'mathturtle', 'matthewturk', 'maxGimeno', 'mennodeij', 'mrasquintest', 'msmolens', 'mwoehlke-kitware', 'ndfabia', 'neundorf', 'njwalla', 'opoplawski', 'patmarion', 'patrickoleary', 'petebachant', 'pfasel', 'phcerdan', 'pjcross', 'psavery', 'quantumsteve', 'qwofford', 'rjk9w5', 'sankhesh', 'schussman', 'schuylerkylstra', 'scottwittenburg', 'seanm', 'sebastienbarre', 'serval2412', 'shtepan', 'shuhaowu', 'sobieavila', 'sploix', 'sujin-philip', 'tao558', 'tbiedert', 'tfogal', 'thewtex', 'timthirion', 'tjcorona', 'todoooo', 'tshead2', 'vibraphone', 'vicentebolea', 'vovythevov', 'weihuayi', 'williamfgc', 'wschroed', 'wsherman64', 'xantares', 'yasushi-saito', 'yohannbearzi', 'yufeimi', 'yumin', 'zachmullen', 'zackgalbreath', 'zidnut', '8ig8', 'BrandonShutter', 'DArtagan', 'Foxaii', 'FuhuXia', 'JulienMelissas', 'QWp6t', 'SkipKeats', 'TomasVotruba', 'aaemnnosttv', 'adborden', 'alexsomeoddpilot', 'anup-khanal', 'austinpray', 'benjibee', 'chrisnx', 'dannyfischer', 'dano-reisys', 'dvorakluk', 'eastmanenator', 'emzo', 'etcook', 'fabschurt', 'francescolaffi', 'fredriksundstrom', 'iamskok', 'iloveitaly', 'jbrown-xentity', 'jonknapp', 'justinpage', 'kix', 'liviucmg', 'louim', 'mogul', 'nmec', 'pcfreak30', 'philipashlock', 'pjsharpe07', 'ptibbetts', 'rasmusbe', 'reiz', 'remyvv', 'retlehs', 'robert-bryson', 'rslnk', 'starise', 'swalkinshaw', 'thewunder', 'ydave-reisys', '9b', 'flandr', 'mlaferrera', 'philhagen', 'ryanguest', 'ryanpersaud', 'sysopfb', 'tstallings', 'AABoyles', 'ATRADER1000', 'DanielJDufour', 'MMirabito', 'Mossy1022', 'RicardoAReyes', 'Sergey-Knyazev', 'bedwar14', 'billswitzer2', 'frankambrosio3', 'gmkarl', 'ikb6', 'jaywokim', 'leebrian', 'mossy426', 'nagano564', 'reagank', 'snyk-bot', 'timotee99', 'toboyles', 'wje7-cdc', 'AALEKH', 'ABresting', 'Alchemist1411', 'Anushi1998', 'Bcorde5', 'BryantLam', 'EverYoung124', 'Finomnis', 'G-071', 'HadrienG2', 'JLTastet', 'Jakub-Golinowski', 'Jedi18', 'JiakunYan', 'Johan511', 'John98Zakaria', 'K-ballo', 'KADichev', 'KhalidHasanov', 'MukundVaradarajan', 'NK-Nikunj', 'Naios', 'Neumann-A', 'Pansysk75', 'PhilipDeegan', 'PoroCoco', 'PrimeF', 'SAtacker', 'Sanac', 'ShmuelLevine', 'Smasherr', 'Sr-316', 'Syntaf', 'Titzi90', 'VeXocide', 'akcube', 'akemp', 'akheir', 'albestro', 'alexmyczko', 'andreasbuhr', 'apmccartney', 'aserio', 'aurianer', 'autoantwort', 'avyavkumar', 'bhumitattarde', 'birsoyo', 'brakmic', 'brandon-kohn', 'bremerm31', 'brjsp', 'brycelelbach', 'chgarth', 'chinz07', 'cogle', 'ct-clmsn', 'danielskatz', 'dcbdan', 'ddemidov', 'devangb', 'diehlpk', 'dimitraka', 'elfring', 'ericLemanissier', 'fabrizioprimerano', 'folshost', 'fr3sh-l337', 'gentryx', 'gonidelis', 'haampie', 'harshitpant1', 'hcq9102', 'helvihartmann', 'hendrx', 'inanc-can', 'isidorostsa', 'jefftrull', 'jnvance', 'jokteur', 'justwagle', 'jwakely', 'kempj', 'khronos4', 'khuck', 'kleinhenz', 'kordejong', 'lasote', 'light2802', 'listout', 'ltroska', 'm-diers', 'maciekab', 'maeneas', 'maikel', 'mcopik', 'mgaunard', 'mgnisia', 'mlang', 'msimberg', 'nidhimj22', 'npezolano', 'orgarten', 'parsa', 'pierrele', 'piersh-aetheros', 'prayagverma', 'pyrtsa', 'rajrekha85', 'rstobaugh', 'satyaki3794', 'severinstrobl', 'shahrzad', 'shoshijak', 'sithhell', 'srinivasyadav18', 'stevenrbrandt', 'sudo-panda', 'taeguk', 'taless474', 'tianyi93', 'vamatya', 'vesperiaLSU', 'victor-ludorum', 'weilewei', 'westjohn', 'woodmeister123', 'wteiwewte', 'xaguilar', 'zao', 'zbyerly', 'zkhatami88', 'AAndersn', 'Jeffrey-Simpson', 'afisher1', 'areiman', 'bibiraju', 'blthayer', 'craig8', 'ericstephan', 'garydblack', 'jillylikedf', 'poorva1209', 'poorvasharma', 'ronmelton', 'shpoudel', 'singha42', 'tdtalbot', 'temcdrm', 'tonya1', 'yliu250', 'ABrambleNinja', 'CRobeck', 'Dannnno', 'DavidPoliakoff', 'JohnHynes', 'Jokeren', 'MrBurmark', 'adayton1', 'adrienbernede', 'aidan-epperly', 'ajkunen', 'andrewcorrigan', 'artv3', 'balos1', 'bmhan12', 'braxtoncuneo', 'cdwdirect', 'clarkse', 'cyrush', 'davidbeckingsale', 'dtaller', 'gzagaris', 'jeffhammond', 'jonesholger', 'joshessman-llnl', 'kab163', 'kennyweiss', 'koning', 'ksuarez1423', 'liu15', 'maxpkatz', 'mdavis36', 'metalberkeley', 'noelchalmers', 'pearce8', 'rchen20', 'rfhaque', 'rhornung67', 'robinson96', 'rrsettgast', 'tepperly', 'tgamblin', 'timrlaw', 'tomstitt', 'trws', 'willkill07', 'ADLMeganBohland', 'Argenrost', 'FlorianTolk', 'Godloveet', 'JoeyBowserADL', 'blister', 'creighton', 'hsmith-adl', 'kgrandis', 'ljwolford', 'pauliejes', 'simis-trey', 'vbhayden', 'wegrata', 'ADPennington', 'George-Hudson', 'Miatta18F', 'RafterGit', 'SelenaJV', 'Smithh-Co', 'amilash', 'andrew-jameson', 'carltonsmith', 'cmajel', 'elipe17', 'hilvitzs', 'hursey013', 'iamjolly', 'jenewingpierce', 'jorgegonzalez', 'jtimpe', 'jtwillis92', 'kniz-raft', 'lfrohlich', 'lilybl1', 'miles-reiter', 'msohanifr', 'n0remac', 'omnipresent07', 'raftmsohani', 'reitermb', 'riatzukiza', 'rnafarrete', 'shubhi-raft', 'sreedevip', 'stevenino', 'timothy-spencer', 'ttran-hub', 'valcollignon', 'AGuyNamedMarco', 'Bray-Michael-bah', 'BrianZito', 'DruidSmith', 'ErieMeyer', 'GUI', 'JoshData', 'MaxwellKendall', 'MikePulsiferDOL', 'MillerBecky', 'StacSch', 'alburde1', 'alexjajabah', 'andrew-wolfe', 'anjenkin', 'aoelschlaeger', 'aprilosajima', 'ashikbanjade', 'bahfolkoff', 'bminahan-kc', 'boozallendanny', 'bsweger', 'cmc333333', 'danmunz', 'defvol', 'dfrasier', 'digiphile', 'dpb-bah', 'dsmorgan77', 'dtrinh50', 'dylanbah', 'ebdabbs', 'ejgullo', 'elainekamlley', 'et', 'gbinal', 'gitapablabah', 'gpontejos', 'jhawk28', 'jonasalmeida', 'jonhill13', 'jqnatividad', 'justinle', 'jworcestBAH', 'kaitlin', 'kevinli-work', 'kim-minahm', 'kkuratsu', 'klrBAH', 'kojodoesdesign', 'kwhickey', 'kyle-fox', 'lisaam', 'listrophy', 'lourinaldi', 'mbland', 'meiqimichelle', 'mhogeweg', 'micahsaul', 'michaeldhess', 'mikeendale', 'mtpress', 'nice-giraffe', 'nick-torres', 'nmonga91', 'pschweitzerusgsgov', 'rmaziarz', 'rrbaker', 'russellpwirtz', 'rypan', 'scor', 'shinson', 'steph-shields-bah', 'stevenvdc', 'sturdy5', 'teshsharma', 'tony-sappe', 'vurcease', 'willkjackson', 'willpugh', 'wmidcap', 'yehk', 'AH159', 'DomCritchlow', 'JLyons1985', 'TrellixVulnTeam', 'amaruca', 'amaruca141', 'ashermuse', 'brandonherzog', 'britton-jason', 'cWren0110', 'dakotahavel', 'jram930', 'katerdowdy', 'kroop-olivia-bah', 'mishoe', 'mstyslinger', 'rha930', 'smalagon15', 'takao8', 'taylormadehdz', 'vctrstrm', 'vhakkal', 'AI-Pranto', 'ChasingNeutrons', 'DanShort12', 'GiudGiud', 'HunterBelanger', 'JoffreyDorville', 'LukeLabrie', 'Mikolaj-A-Kowalski', 'NuclearEngideer', 'NybergWISC', 'PaleNeutron', 'QingmingHe', 'RemDelaporteMathurin', 'RonRahaman', 'SamPUG', 'YuanHu-PKU-KIT', 'alex-lyons', 'amandalund', 'ameliajo', 'andrsd', 'aprilnovak', 'awgolas', 'bam241', 'bhermanmit', 'billingsley-john', 'brbass', 'bryanherman', 'burberger', 'cfichtlscherer', 'christinacai123', 'church89', 'cjosey', 'cjwyett', 'colinelarmier', 'davidjohnlong', 'drewejohnson', 'dryuri92', 'dubway420', 'ebknudsen', 'eepeterson', 'emerzari', 'friedmud', 'gonuke', 'graybri3', 'gridley', 'guyshtot', 'hanzhuoran', 'hapfang', 'helen-brooks', 'icmeyer', 'isaac-gs', 'janmalec', 'jdangerx', 'jiankai-yu', 'jlogan03', 'johnnyliu27', 'joshmay1', 'jtramm', 'keckler', 'kingyue737', 'kkiesling', 'lebuller', 'lewisgross1296', 'liangjg', 'lindsayad', 'lockmatrix', 'makeclean', 'marquezj', 'matiaslavista', 'mellis13', 'mkreher13', 'myerspat', 'nelsonag', 'nhorelik', 'ojschumann', 'paulromano', 'pshriwise', 'richmorrison', 'rockfool', 'roystgnr', 'samuelshaner', 'shikhar413', 'shimwell', 'simondrichards', 'smharper', 'sphamil', 'stchaker', 'stevendargaville', 'tjlaboss', 'tkittel', 'valeriogiusti', 'walshjon', 'wbinventor', 'yardasol', 'ypark234', 'yslan', 'zoeprieto', 'zxkjack123', 'AMReX-Fusion', 'ChrisDeGrendele', 'Ishita-S', 'KISSFORMISS', 'KiranEiden', 'LTRNolan', 'Tom-Y-Liu', 'WeiqunZhang', 'XinlongSBU', 'asalmgren', 'atmyers', 'bcfriesen', 'bfovet', 'blaireness', 'cmsquared', 'cychan-lbnl', 'drummerdoc', 'dwillcox', 'eloisabentivegna', 'guadabsb15', 'harpolea', 'ickc', 'jaharris87', 'jbbel', 'jmsexton03', 'khanakbhargava', 'maximuspy', 'melilly', 'nmford20', 'shardi2', 'taehoryu', 'vebeckner', 'yingtchen', 'yut23', 'zhichen3', 'zingale', 'kakawait', 'marcrohlfs', 'sdavids', 'silphopp', 'AP97', 'BarrySmith', 'BenBrands', 'CamStan', 'CamelliaDPG', 'DDevHan', 'DarylGrunau', 'EmreAtes', 'FrankD412', 'HaochengLIU', 'JRWynneIII', 'JavierCVilla', 'JohnWestlund', 'KineticTheory', 'Miles-Perry', 'NasrHassanein', 'NickRF', 'PDoakORNL', 'PaulDapolito', 'RasmusWL', 'Rombur', 'Sinan81', 'SteVwonder', 'TheQueasle', 'TomTheBear', 'TomasPuverle', 'Try2Code', 'YtterbiJum', 'Zehvogel', 'aprokop', 'baberlevi', 'baip', 'balay', 'bcouturi', 'bebosudo', 'becker33', 'benjaminjeliot', 'benjaminwalters', 'berrill', 'bertwesarg', 'besnardjb', 'bgoglin', 'bhatele', 'bodduv', 'boegel', 'brettviren', 'briedel', 'brobey', 'brockpalen', 'bvanessen', 'carns', 'cedricchevalier19', 'certik', 'charlesareynolds', 'christianbaensch', 'clementval', 'cmacmackin', 'cpraveen', 'cugni', 'cwsmith', 'daboehme', 'darachg', 'daveh86', 'davidorman', 'davydden', 'dev-zero', 'dguibert', 'dhandeo', 'diaena', 'disheng222', 'djfitzgerald', 'dlukes', 'dorier', 'dpgrote', 'drbenmorgan', 'drwells', 'dshrader', 'edoapra', 'eklee15', 'eloygil', 'erimar77', 'estebanpauli', 'f-sim', 'fanne-stat', 'floquet', 'fpruvost', 'g-mathias', 'gahansen', 'gardner48', 'gartung', 'gchavez2', 'glennpj', 'glentner', 'gmatteo', 'greenc-FNAL', 'grondo', 'gweodoo', 'hauten', 'healther', 'hegner', 'hfp', 'hppritcha', 'ifelsefi', 'irisTa56', 'isu-rassilon', 'iulian787', 'ivotron', 'j-woz', 'jadickson', 'jadoro', 'jameshclrk', 'jasonfenglu', 'jayavanth', 'jcftang', 'jdeaton', 'jedbrown', 'jimmy04500', 'jiseung', 'jlingema', 'jlippuner', 'johnwfinigan', 'jonwong12', 'joshuata', 'jppelteret', 'jprotze', 'jrood-nrel', 'js947', 'jsquyres', 'jungwonkim', 'junkudo', 'jwallior', 'karenyyng', 'katherlee', 'keitat', 'kiwifb', 'kjbrandstatter', 'kljohann', 'koebbe', 'kothah', 'krafczyk', 'kshitij-v-mehta', 'kylefernandes', 'labeln', 'lahlidahlia', 'ledif', 'lee218llnl', 'lgarren', 'likask', 'lingnanyuan', 'loikki', 'louisvernon', 'lpoirel', 'luca-heltai', 'lucjaulmes', 'luigi-calori', 'luigicalori', 'luszczek', 'lyon-fnal', 'maiterth', 'mamelara', 'manavbhatia', 'markcmiller86', 'mathomp4', 'matteoguglielmi', 'matthiasdiener', 'matz-e', 'matze', 'mcfadden8', 'mcneish1', 'mdavezac', 'mdevlin1', 'mfherbst', 'mgsternberg', 'mic84', 'michaelkuhn', 'mikebentley15', 'mikedep333', 'mjwoods', 'mkstoyanov', 'mkuron', 'mmwolf', 'moxcodes', 'mpbelhorn', 'mplegendre', 'mrzv', 'muakasan', 'mwilliammyers', 'mwkrentel', 'naromero77', 'nazavode', 'nilsdeppe', 'nolta', 'nrichart', 'nshtg', 'nvarini', 'olesenm', 'oliver-pola', 'omor1', 'opadron', 'paul-chelarescu', 'paulhopkins', 'payerle', 'pbalapra', 'peetsv', 'pghysels', 'philip-davis', 'pkondamudi', 'pozulp', 'pramodk', 'pramodskumbhar', 'psaravan', 'psychocoderHPC', 'ptbremer', 'raffenet', 'rajachan', 'rajeeja', 'raznikk', 'rblake-llnl', 'reidpr', 'rgmiller', 'rice31', 'rmsds', 'robertdfrench', 'roblatham00', 'rspavel', 's-sajid-ali', 'samfux84', 'samuelkgutierrez', 'sarich', 'sbna', 'scheibelp', 'serbanmaerean', 'sethrj', 'shuds13', 'simo-tuomisto', 'simonflood', 'sknigh', 'skosukhin', 'snehring', 'ssergien', 'stefanosoffia', 'suzannepk', 'svenevs', 't-brown', 'thelfer', 'thilinarmtb', 'tjesser-ucdavis-edu', 'tjhei', 'tjstavenger-pnnl', 'tmerrick1', 'tobbez', 'trecakov', 'trmwzm', 'twang15', 'tz-rrze', 'tzanio', 'tzislam', 'ursache', 'v-dobrev', 'verolero86', 'villegar', 'weijianwen', 'willfurnass', 'wohlbier', 'womeld', 'wrwilliams', 'wscullin', 'xfzhao', 'xjrc', 'ygrange', 'ynanyam', 'zenln', 'zepx', 'zzzoom', 'APRashedAhmed', 'MattHooverSLAC', 'Mbosum', 'ZLLentz', 'ZryletTC', 'apraSLAC', 'christina-pino', 'cristinasewell', 'cymel123', 'ghalym', 'hhslepicka', 'jeannas', 'jortiz-slac', 'jyin999', 'klauer', 'ljansen7', 'mcb64', 'mkestra', 'n-wbrown', 'nrwslac', 'peacelovesapples', 'rajanplumley', 'rsmm97', 'sfsyunus', 'silkenelson', 'slacAWallace', 'slacAdpai', 'slactjohnson', 'spenc333', 'tangkong', 'teddyrendahl', 'tongju12', 'vespos', 'wnwright', 'yashrao99', 'ygarnica', 'ARIbemoss', 'ashrafulhaque99', 'rajeee', 'zxymark221', 'ATNDiaye', 'H0lland', 'bafflerbach', 'dwinston', 'fraricci', 'johuck', 'josuav1', 'knc6', 'mkhorton', 'raulf2012', 'rkingsbury', 'shyamd', 'smithmackensie96', 'tschaume', 'waffle-iron', 'Aamer21', 'AndreaSigz', 'Bkim0928', 'CTOJoeN', 'KehindeOgundolie', 'Lulitts', 'MaggieFero', 'Sgtpluck', 'actuallyjenn', 'afeld', 'aliciacyrus', 'casciom-work', 'jcastle-zz', 'jfredrickson5', 'josephderosales', 'mvogelgesang', 'nv-fcc', 'nvembar', 'rkbright-gsa', 'rrefoy', 'saracope', 'wqwales', 'Mohit7', 'angargo', 'jmgao', 'yabinc', 'AaronDonahue', 'BunnyVon', 'E3SM-Autotester', 'JS-WRF-SBM', 'JackReevesEyre', 'Jiwengithub', 'JunoHsuUCI', 'Katetc', 'Larofeticus', 'MiCurry', 'PeterCaldwell', 'Sukhamjot-Singh', 'acme-y9s', 'adityakavalur', 'agsalin', 'akturner', 'aldivi', 'alicebarthel', 'allibco', 'alperaltuntas', 'amschne', 'apcraig', 'ashao', 'asteyer', 'bandre-ucar', 'bbye', 'beharrop', 'benhills', 'benjamroz', 'bertinia', 'beyerle', 'bishtgautam', 'bogensch', 'bradyrx', 'brhillman', 'brian-eaton', 'brian-oneill', 'briandobbins', 'cacraigucar', 'cameronsmith1', 'caozd999', 'cbegeman', 'cecilehannay', 'celdredsandia', 'chengdang', 'chengzhuzhang', 'christophergeiger3', 'cjvogl', 'ckoven', 'climate-dude', 'climbfuji', 'colleenRooney', 'crterai', 'dabail10', 'daleihao', 'daliwang', 'daniel-j-henderson', 'daniele-peano', 'darincomeau', 'dengwirda', 'dmricciuto', 'donghuix', 'douglasjacobsen', 'dqwu', 'eclare108213', 'edhartnett', 'ekluzek', 'elynnwu', 'erinethomas', 'eroesler', 'evasinha', 'fdongyu', 'fhyuancn', 'fischer-ncar', 'fmyuan', 'forsyth2', 'fritzt', 'fvitt', 'gdicker1', 'glemieux', 'golaz', 'grnydawn', 'hassanbeydoun', 'hollyhan', 'hsiangheleellnl', 'hu5970', 'huebleruwm', 'huiwanpnnl', 'hwangacme', 'hydrotian', 'hyungyukang', 'jasonb5', 'jedwards4b', 'jeff-cohere', 'jhkennedy', 'jinyun1tang', 'jinyuntang', 'jli628', 'jn4snz', 'johnmauff', 'johnsonbk', 'jonbob', 'jqyin', 'jtruesdal', 'kaizhangpnl', 'kdraeder', 'keziming', 'kkeene44', 'klindsay28', 'kmpaul', 'knbarton', 'ldfowler58', 'lee1046', 'lexming', 'liho745', 'lizziel', 'lowrie', 'lukaszlacinski', 'lzhenn', 'mabrunke', 'mahf708', 'maltrud', 'mark-petersen', 'mattdturner', 'matthewhoffman', 'mchen0312', 'mfossitt', 'mgduda', 'milenaveneziani', 'mingxuanwupnnl', 'minxu74', 'mkstratos', 'mndevec', 'mnlevy1981', 'mperego', 'mtaylo12', 'mvdebolskiy', 'mvertens', 'mwatwood-cu', 'nairita87', 'nickszap', 'njeffery', 'nusbaume', 'pbosler', 'pbtoast', 'peterdschwartz', 'philipwjones', 'polunma', 'pratherUCI', 'precc', 'pressel', 'proteanplanet', 'qingli411', 'quantheory', 'qzhu-lbl', 'rebassoo', 'rgknox', 'rljacob', 'rmontuoro', 'rsdunlapiv', 'samsoncheung', 'samsrabin', 'sarats', 'sashashura', 'sbrus89', 'serbinsh', 'shollyucar', 'sjsprecious', 'skamaroc', 'sshu3', 'stephenprice', 'steveghan', 'syha', 'tangq', 'tanzeli1982', 'tcclevenger', 'thorntonpe', 'thurber', 'tktesfa2014', 'toddringler', 'tongzhangice', 'trhille', 'uturuncoglu', 'vanroekel', 'wadeburgess', 'wanggangsheng', 'weiwangncar', 'whannah1', 'whlipscomb', 'wilke', 'wlin7', 'worleyph', 'wrosenberger', 'wyigzaw', 'xtcai', 'xuchongang', 'xuezhengllnl', 'xyk-ornl', 'xylar', 'xyuan', 'yfang-repo', 'yfenganl', 'yildirim', 'ypolius', 'zhangshixuan1987', 'zhunguo', 'zyuying', 'AaronEpiney', 'AnthoneyGriffith', 'CarloParisi', 'EmeraldRyan', 'FlanFlanagan', 'GabrielSoto-INL', 'JiaZhou-PU', 'Jimmy-INL', 'JunyungKim', 'MagresTR', 'Nhatkhang', 'PaulTalbot-INL', 'aeslaughter', 'alfoa', 'alptezbasaran', 'baoh0212', 'bobkinl', 'crisrab', 'derekstucki', 'dgarrett622', 'dylanjm', 'elementx54', 'gmaronati', 'greenwoodms06', 'huang714', 'j-bryan', 'jasondhales', 'joshua-cogliati-inl', 'kaks2000', 'kit-', 'klfrick2', 'lpswile', 'maldil', 'maljovec', 'mandd', 'mgarrouste', 'nieljw', 'permcody', 'pralhadburli', 'rouxpn', 'senrs', 'sujong-yoon', 'taoyiliang', 'wangcj05', 'wanghy-anl', 'worseliz', 'yenili', 'yoshiurr-INL', 'AaronMcDaniel', 'Abdur-rahmaanJ', 'AdvaitDhingra', 'AliMuhammadOfficial', 'AmarNathH', 'Anirban166', 'BastianZim', 'Blabla51', 'Brian-Campuzano', 'Drosaca', 'DurandSacha', 'EbenezerA99', 'Emil808', 'FabrizioSandri', 'FrankFeenix', 'IvanReznikov', 'JHDeerin', 'Joshua-Anderson', 'Kemyt', 'Kronos3', 'LMPS97', 'LeStarch', 'Linked-Liszt', 'MSumulong', 'MangoPieface', 'NoahBraasch', 'Piphi5', 'Ruben1729', 'SMorettini', 'SSteve', 'Saurabh3333', 'Schweinepriester', 'Serwios', 'SterlingPeet', 'ThibFrgsGmz', 'WaterBubbles', 'abcouwer-jpl', 'ablack-jpl', 'acxz', 'aditsachde', 'adityadees', 'aidan-wagner', 'arijitdas123student', 'arizvi786', 'astroesteban', 'baylessj', 'benallard', 'billallen256', 'bocchino', 'bstaletic', 'bwignall', 'cadomani', 'capsulecorplab', 'cbiffle', 'chrisdonlan', 'cmuck', 'codeflight1', 'connorfuhrman', 'csmith608', 'danjwait', 'dinkelk', 'dmitri-mcguckin', 'dochoss', 'dwillmer', 'fchapoton', 'gaius-gracchus', 'gazayas', 'genemerewether', 'gjwatney', 'gkieszkowski', 'gleich', 'howjmay', 'hunterpaulson', 'inPhraZ', 'ivanperez-keera', 'iw4p', 'jasonduley', 'jonathanmichel', 'jugmac00', 'jweadick', 'keck-in-space', 'kevin-f-ortega', 'kevinthegreat1', 'lijuno', 'ljreder', 'lnxpy', 'loannaflip', 'm-aleem', 'markyjackson-taulia', 'matzipan', 'metzdigital', 'mrtuvn', 'muath-ye', 'nabcouwer', 'notmatical', 'pbouffard', 'pcrosemurgy', 'pelmini', 'plan-do-break-fix', 'r9-pena', 'rbowen', 'rdaruwala', 'redixin', 'rohandkn', 'saba-ja', 'sfregoso', 'shubham-shahh', 'smir45', 'sommercharles', 'stephen-oleary', 'suriyaa', 'tarampampam', 'the-c0d3br34k3r', 'theidexisted', 'thnkslprpt', 'thomas-bc', 'tiffany1618', 'timcanham', 'tniessen', 'tobiasduerschmid', 'ugo94490', 'usamahz', 'zachar1a', 'zkneupper', 'zouyonghao', 'AaronRobson', 'JustinGOSSES', 'MarcusOtter', 'MilesCrabbe', 'akionsight', 'brianthomas', 'danielcrendon', 'dsvdmeer', 'evantayloryates', 'guptarohit', 'jnbetancourt', 'kgmyatthu', 'lusiaold', 'nwunderly', 'vn7n24fzkq', 'AbbyGi', 'BriannaRomasky', 'MikeHart85', 'RobertSchaffer1', 'awalter-bnl', 'bruceravel', 'dmgav', 'gwbischof', 'jennmald', 'jklynch', 'jrmlhermitte', 'jwlodek', 'ke-zhang-rd', 'ktoth17', 'licode', 'maffettone', 'moellep', 'mpmdean', 'mrakitin', 'oksanagit', 'rlb131', 'sbillinge', 'story645', 'stuartcampbell', 'stuwilkins', 'thomaswmorris', 'vstadnytskyi', 'yugangzhang', 'AbhinayMethuku', 'drewry', 'erik1066', 'jtrotter', 'lmcnabb', 'russell-ingram', 'samcantrell', 'skipperwarlock', 'AboorvaDevarajan', 'Akshay-Venkatesh', 'AntoineD', 'Artemy-Mellanox', 'B-a-S', 'CalebProvost', 'Colton-K', 'EmmanuelBRELLE', 'Evstrife', 'Fangcong-Yin', 'Flamefire', 'FlorentGermain-Bull', 'GuillaumeMercier', 'James-A-Clark', 'Joe-Downs', 'MamziB', 'OMGtechy', 'PDeveze', 'PedramAlizadeh', 'PeterGottesman', 'PhilippOtte', 'RandomDSdevel', 'Sergei-Lebedev', 'SeyedMir', 'SpinTensor', 'Stonesjtu', 'ThemosTsikas', 'United States', 'Webcretaire', 'WiltonLoch', 'Zhiming-Wang', 'abouteiller', 'acgoldma', 'acolinisi', 'adrianreber', 'afriedle-intel', 'alex--m', 'alex-anenkov', 'alex-mikheev', 'alinask', 'amirshehataornl', 'anandhis', 'andreas-schwab', 'annu13', 'apjanke', 'aravindksg', 'artpol84', 'avilcheslopez', 'awlauria', 'badgerious', 'bartonski', 'benmenadue', 'bfitzgit23', 'bharatpotnuri', 'blegat', 'boileaum', 'bosilca', 'brminich', 'bsergentm', 'bureddy', 'bwbarrett', 'chenlcl', 'classicsman', 'clementFoyer', 'cniethammer', 'cpshereda', 'dancejic', 'davideberius', 'derbeyn', 'devreal', 'dmitrygx', 'dmt4', 'dong0321', 'drwootton', 'dsolt', 'dycz0fx', 'e-kwsm', 'edgargabriel', 'elenash', 'euloh', 'extrowerk', 'federeghe', 'francois-wellenreiter', 'ftab', 'gbossu', 'ggouaillardet', 'giordano', 'gkatev', 'gleon99', 'goodell', 'gpapaure', 'gpaulsen', 'gpichot', 'greg-koenig', 'gshipman', 'guserav', 'hadimontakhabi', 'haraldkl', 'heasterday', 'hjelmn', 'hkuno', 'hoopoepg', 'hpcraink', 'hunsa', 'igor-ivanov', 'janciesko', 'janjust', 'jdhayes', 'jijo733', 'jithinjose', 'jjhursey', 'jladd-mlnx', 'jmciver', 'jo-pillar', 'jocherry', 'jolivain', 'joseeroman', 'joshfisher-cornelisnetworks', 'jotabf', 'jtamzn', 'jurenz', 'jywangx', 'karasevb', 'kawashima-fj', 'kizill', 'kmroz', 'knuedd', 'lachlanbell', 'lanl-ompi', 'lrbison', 'lrrajesh', 'lrrountr', 'manjugv', 'marisaroman-cornelisnetworks', 'markalle', 'marksantcroos', 'martinkontsek', 'matcabral', 'matney', 'mattaezell', 'maxlevesque', 'mcoil1', 'mdosanjh', 'michaellass', 'mike-dubman', 'mike0042', 'mitchelltopaloglu', 'mjbhaskar', 'mjkoop', 'mkurnosov', 'mohanasudhan', 'msbrowning', 'nariba-fj', 'nathanweeks', 'naughtont3', 'ninadkhanolkar', 'nmorey', 'nrgraham23', 'nrspruit', 'nuriallv', 'nysal', 'ollielo', 'ompiteam', 'osvegis', 'paklui', 'paulkefer', 'pkovacs', 'plesn', 'qkoziol', 'raafatfeki', 'rakhmets', 'rbbrigh', 'regrant', 'rfaucett', 'rhc54', 'rivis', 'rlangefe', 'rlgraham32', 'roiedanino', 'rolfv', 'rppendya', 'rwespetal', 'rzambre', 's417-lama', 'sam6258', 'samcho', 'samnordmann', 'santa65', 'sb17v', 'selvintxavier', 'shamisp', 'shanekimble', 'shijin-aws', 'shimmybalsam', 'shintaro-iwasaki', 'simonbyrne', 'sjeaugey', 'sssharka', 'sydidelot', 't-kurita', 'teng-lin', 'thananon', 'therault', 'thesamesam', 'timattox', 'tjahns', 'tjcw', 'tomhers', 'uberlinuxguy', 'usarov', 'vuw-ecs-kevin', 'vvenkates27', 'wbailey2', 'wckzhang', 'wenduwan', 'wesbland', 'wkliao', 'wlepera', 'wojciechwasko', 'wthrowe', 'wzamazon', 'xinzhao3', 'yanagibashi', 'yburette', 'yosefe', 'zhngaj', 'zosman1', 'AbsCode', 'AdelekeBankole', 'AlexisMarb', 'David-Wobrock', 'DrXiangHuang', 'DynamicSSSP', 'GregDMeyer', 'Hofer-Julian', 'IgorBaratta', 'IvanYashchuk', 'JDBetteridge', 'Jacobfaib', 'Kgawar', 'Kooky089', 'LeilaGhaffari', 'LocutusOfBorg', 'MagunRa', 'MalachiTimothyPhillips', 'Marriaga', 'PierreBdR', 'ReubenHill', 'SanderA', 'ScottMacLachlan', 'SurtaiHan', 'UZerbinati', 'VictorEijkhout', 'XL64', 'ZedThree', 'acroucher', 'adamqc', 'adenchfi', 'ahmadia', 'aidanhamilton', 'alejandrootero', 'arcowie', 'arthursoprana', 'ashish-onscale', 'aterrel', 'baagaard-usgs', 'bangerth', 'basvanthof', 'blechta', 'bueler', 'bwhitchurch', 'caidao22', 'celdred', 'cianwilson', 'cjhurani', 'cmg43', 'cnkin', 'connorjward', 'curfman', 'danofinn', 'danshapero', 'deleeke', 'denera', 'derekmikesell', 'dham', 'dkarpeyev', 'dmaldona', 'dmay23', 'eaulisa', 'eikehmueller', 'emconsta', 'fdkong', 'felker', 'florian98765', 'florianwechsung', 'francesco-ballarin', 'franklin5', 'fsimonis', 'fspacheco', 'funsim', 'garth-wells', 'gbetrie', 'gdavidoff', 'girving', 'gouarin', 'grzegorzmazur', 'guyer', 'hansolsuh', 'haplav', 'hmmorgan', 'hy144328', 'hzhang', 'ianwilliamson', 'irinasok', 'jczhang07', 'jeremylt', 'jeremyonscale', 'jkruzik', 'jmlarson1', 'johannrudi', 'johnfettig', 'jonathanlambrechts', 'jorgensd', 'jpusztay', 'jrt54', 'juhaj', 'jwallwork23', 'jychang48', 'karlrupp', 'kaushikcfd', 'kaushikggg', 'keceli', 'kerrykey', 'khazali', 'knepley', 'kruger', 'ksagiyam', 'liliazk', 'lrtfm', 'luzhanghpp', 'manasi-t24', 'marekdam', 'markadams', 'mesgarnejad', 'michakraus', 'miklos1', 'mirzadeh', 'mlange05', 'mliertzer', 'mlohry', 'mmcgurn', 'mpecha', 'nabw', 'narnoldm', 'nathawani', 'negf', 'nemethedr', 'nocollier', 'olivecha', 'pbartholomew08', 'pbrubeck', 'pefarrell', 'pierreXVI', 'placasse', 'poulson', 'prbrune', 'prj-', 'psanan', 'ranocha', 'rbeucher', 'reykoki', 'rietmann', 'rj-jesus', 'roliveira', 'rtmills', 'salazardetroya', 'samtaney', 'schuang', 'seanfarley', 'sebastiangrimberg', 'sozmen', 'spott', 'stefanozampini', 'stevengj', 'suyashtn', 'tadeu', 'taupalosaurus', 'tbridel', 'tchen01', 'thbtppl', 'tianyikillua', 'tisaac', 'tj-sun', 'tkonolige', 'tlanyan', 'tmijieux', 'tmunson', 'tom-klotz', 'uphoffc', 'valeriabarra', 'victorminden', 'vijaysm', 'vlc1', 'wence-', 'wenjundeng', 'wgropp', 'x-4321', 'xmjiao', 'xuanjzhou', 'zatkins-dev', 'AdamAdHocTeam', 'GarrettEHill', 'OHS-christine-nguyen', 'PatricePascual-ACF', 'SarahJaine', 'Spanglemonkey', 'dcmcand', 'gopar', 'hardwarehuman', 'jasalisbury', 'jtress0112', 'kcirtapfromspace', 'kryswisnaskas', 'matthinz', 'nvms', 'pamlo412', 'rahearn', 'thewatermethod', 'AdamBark', 'MarkRivers', 'RobbieClarken', 'dchabot', 'ericdill', 'eschuhmacher', 'mdmoo1978', 'GcioGregg', 'LindseySaari', 'PJart', 'adi-pen', 'af-manish', 'ericboehs', 'jsgarmon', 'maneshkommidi', 'markkvba', 'mphprogrammer', 'nfstern02', 'saintsoup52', 'thilton-oddball', 'typesend', 'veterans-affairs-code-scanning', 'zkoppert', 'DavidPoliakoff-backup', 'anagainaru', 'anjohan', 'crtrott', 'csiefer2', 'dalg24', 'delpinux', 'dholladay00', 'etphipp', 'jhux2', 'jrmadsen', 'keichi', 'kyungjoo-kim', 'masterleinad', 'ndellingwood', 'nmhamster', 'romintomasetti', 'stanmoore1', 'vlkale', 'vsurjadidjaja', 'wcohen', 'winklerf-zih', 'zfrye-llnl', 'AdamTheisen', 'HumphreysCarter', 'Quba1', 'Striges', 'TulipaSilva', 'Vforcell', 'ajsockol', 'bdermold', 'cgodine', 'codypiersall', 'csnardi', 'dcedgren', 'deeplycloudy', 'dennyh-ssec', 'dopplerchase', 'dstex', 'es5nhc', 'freemansw1', 'gamaanderson', 'jfigui', 'jhemedin', 'jkyrouac', 'josephhardinee', 'joshua-hampton', 'jrobrien91', 'jsignell', 'jthielen', 'juhi24', 'kenkehoe', 'kirknorth', 'klgaustad', 'lauratomkins', 'meteoswiss-mdr', 'mgrover1', 'mhpicel', 'mmacduff', 'mrugna', 'neutrinoceros', 'nguy', 'normbw', 'rcjackson', 'ritvje', 'rtanamachi', 'scollis', 'swnesbitt', 'tjlang', 'vanandel', 'vlouf', 'wave100', 'wolfidan', 'wx4stg', 'zflamig', 'zouihao', 'zssherman', 'zxdawn', 'AdamWill', 'FGrose', 'MarcGrimme', 'Quarky9', 'VictorLowther', 'aidecoe', 'amluto', 'anssih', 'antonblanchard', 'apevec', 'arvidjaar', 'atodorov', 'ausil', 'bcl', 'bitness', 'blino', 'bonzini', 'brainflux', 'bubble75', 'buytenh', 'cgwalters', 'cleech', 'congwang', 'daveyoung', 'dcantrell', 'devurandom', 'dillow', 'duaneg', 'fcrozat', 'haraldh', 'ixs', 'jboggs', 'jkeating', 'jlaska', 'jonanh', 'jpirko', 'jreiser', 'jstodola', 'jwrdegoede', 'katzj', 'konradwilk', 'kwizart', 'lberra', 'lkraav', 'lkundrak', 'mganisin', 'mgorse', 'michich', 'msoltyspl', 'pixelb', 'pqarmitage', 'prajnoha', 'prudy', 'ramereth', 'rbu', 'rhvgoyal', 'rvykydal', 'scop', 'seewer', 'sfionov', 'sharkcz', 'slaine75', 'snitm', 'thisdavejohnson', 'vathpela', 'wenottingham', 'wgwoods', 'wimmuskee', 'yaneti', 'zdzichu', 'Aditya23456', 'Adrian-Diaz', 'erinheilman', 'jfkiviaho', 'nathanielmorgan', 'yencal', 'Adriennelg', 'AileenMcGraw-PIF', 'AminPIC', 'BalajiJBcs', 'DK1999', 'DanielJPino-ux', 'Danielle-Leonhardt', 'EssbieWGT', 'Gabr1elleKING', 'JacquelineSnee', 'JennNoinaj', 'Jkrzy', 'Krithisree', 'RachelF', 'RhettSkelton', 'RonWilliams', 'Schultea', 'SoncerrayBolling', 'StanOlshefski', 'ToniBonittoGSA', 'WebRuin', 'afeijoo', 'amirbey', 'anatecture', 'anoopjohn', 'apburnes', 'ayerkes', 'bonnieAcameron', 'brennanangel', 'bruce-usab', 'danielimmke', 'drewbo', 'ecayer', 'el-mapache', 'epramer-godaddy', 'evelyntorres1', 'gboone', 'georgephillips', 'gyourusaid', 'h-m-f-t', 'its-a-lisa-at-work', 'jarahameador', 'jdotyoon', 'jennstein2017', 'jeremyzilar', 'jmhooper', 'johnvenable-nist', 'jonadecker', 'jthalls', 'juliaklindpaintner', 'katielotterman', 'kyleacarrick', 'lachellel', 'lalitha-jonnalagadda', 'laurenancona', 'lchidlow', 'lcrabb419', 'lggsa', 'libremente', 'mara-goldberg', 'mark-a-wilson', 'mattbrundage', 'matthewbogdan', 'mejiaj', 'mgifford', 'mitchell-lucia', 'mitchellhenke', 'monkeywithacupcake', 'nick-mon1', 'oghaffari', 'oguntee12', 'pburkholder', 'phernand42', 'quarterback', 'rahulkumarsingh73690', 'ryankavalsky-ssa', 'ryanwoldatwork', 'sheevdave', 'shelane', 'tbaxter-18f', 'tdlowden', 'thisisdano', 'twgsa16', 'vwales32', 'wbyoko', 'Afterrain-XS', 'ArsenArsen', 'Arseney300', 'ComcastDJ', 'F1rebird', 'FuzzyStatic', 'GabrielGanne', 'JoeKarlsson', 'LikHait', 'Safari77', 'ShaunCurrier', 'TheRealDJ', 'WatcherOfTheSkies', 'ajaissle', 'alex-sever-h', 'anarkiwi', 'arlake228', 'asavah', 'atcorner', 'awilfox', 'bbczeuz', 'ben-foxmoore', 'bjackman', 'bltierney', 'bmah888', 'bobobo1618', 'carl8382', 'carlsborg', 'chenshuo', 'crazyfermions', 'davidBar-On', 'disprosium8', 'dmdailey', 'dongfengweixiao', 'dtaht', 'edupont', 'fornwall', 'g-coder', 'gilles-chanteperdrix', 'hanvari', 'hasso', 'he32', 'hoang-tranviet', 'hyswtj', 'jasonleschnik', 'jdugan1024', 'jefposkanzer', 'jenkins-bbva', 'jijianwen', 'jimying', 'joemce', 'jtdor', 'jtluka', 'kevinconstantine', 'klausman', 'lenormf', 'ludeeus', 'manedurphy', 'matt9j', 'mfeit-internet2', 'millert', 'mniestroj', 'montegoode', 'mriswyth', 'mruprich', 'mtp401', 'nhed', 'olichtne', 'p0intR', 'pprindeville', 'presto8', 'quartoxuna', 'quasoft', 'ralcini', 'rantala', 'richb-hanover', 'rollingslack', 'rpigott', 'samhookecc', 'sethdelliott', 'skasero', 'srgnk', 'sspreitzer', 'stefano-garzarella', 'sureshsundriyal', 'swlars', 'tamird', 'teto', 'tutunak', 'wallyatgithub', 'wesgarrison', 'wjowsa', 'wmbr', 'woody77', 'xiaoxiang781216', 'xphil', 'yeahdongcn', 'yjiang-c', 'AhmedAlmetwally', 'brianmoose', 'cpgr', 'crswong888', 'cticenhour', 'dschwen', 'huangh-inl', 'jbradford12', 'jtbrad', 'jwpeterson', 'loganharbour', 'lynnmunday', 'maxnezdyur', 'railitaylor', 'rpodgorney', 'rwcarlsen', 'sapitts', 'socratesgorilla', 'somu15', 'wjin33', 'yidongxia', 'yidongxiainl', 'AhsenBaig', 'arcsector', 'jasonodoom', 'jmorrowomni', 'AidanBeltonS', 'AlexReinemann', 'FMarno', 'JOCwriter', 'JackAKirk', 'NadyaTen', 'Rbiessy', 'TejaX-Alaghari', 'akabalov', 'anantsrivastava30', 'andrewtbarker', 'andreyfe1', 'cdgarland', 'dnhsieh-intel', 'ericlars', 'fabiomestre', 'fitchbe', 'hdelan', 'hjabird', 'jasukhar', 'mcao59', 'mehdi-goli', 'mkrainiuk', 'mmeterel', 'muhammad-tanvir-1211', 'nilsfriess', 'npmiller', 'pgorlani', 'sbalint98', 'sknepper', 'srilekhainkulu99', 'vmalia', 'vrpascuzzi', 'yhmtsai', 'AlanPearl', 'Christopher-Bradshaw', 'EiffL', 'alanxuhaojie', 'andrew-zentner', 'aphearin', 'beckermr', 'duncandc', 'hamogu', 'kbarbary', 'kilianbreathnach', 'manodeep', 'mclaughlin6464', 'mdboom', 'mwcraig', 'nbeckman', 'nickhand', 'nvanalfen', 'tmcclintock', 'wkerzendorf', 'yymao', 'AlejandroColinaGSA', 'AnnaShchelokova', 'Bibek-Regmi', 'BlakeDixon-REISys', 'CarlosValle-REISys', 'Carryace', 'CharanMareedu-REISys', 'Hemal1975', 'HemalPatelBC', 'IrbisTheCat', 'amyanani-REISys', 'ascreven-gsa', 'bbkregmi', 'carlosvalle', 'christyhermansen', 'colinalford', 'colinalford-gsa', 'cwolf10', 'davereed', 'diego-ruiz', 'diego-ruiz-rei', 'feralislatr', 'hieutrang-reisys', 'isaackim-reisys', 'jbabbs', 'jesseboydgsa', 'jkimbtc', 'joshnezianya', 'julieduong22', 'julieduong46', 'kevin-song-reisys', 'kevinchiu-bah', 'madhaviambati-rei', 'matthewcfinnell', 'mehtaruchir', 'mkellogg91', 'murali101002', 'nanacharyareisystems', 'nomo-kazza', 'pammiller0', 'rli-reisys', 'samanthabaker', 'shayan-roshan', 'shayan9211', 'shivankar-reisys', 'solomon2k', 'thomastighe', 'tigerligsa', 'tigerpway', 'tim-wu-rei', 'tmirzaev', 'trandrew08', 'vguptareisystems', 'yerramshilpa', 'AleksiNummelin', 'bhatiaharsh', 'AlexBroughton', 'JudeKratzer', 'StephenCzarnecki', 'anandkp92', 'anna-liao', 'mspears-lbl', 'AlexGilleran', 'RacingTadpole', 'greenkeeperio-bot', 'kring', 'meh9', 'stevage', 'AlexKiryushkin', 'miroilias', 'AlexLaferriere', 'AntoineGautier', 'EttoreZ', 'FWuellhorst', 'Heineken', 'JavierArroyoBastida', 'JayHuLBL', 'KremerMartin', 'Kristoff6', 'LauraMaier', 'LisaRivalin', 'MassimoCimmino', 'Mathadon', 'MichaMans', 'PMehrfeld', 'amaccarini', 'bramvdh91', 'bravache', 'carlesRT', 'crlaugh', 'cvering', 'dhblum', 'dietmarw', 'giplessis', 'hannah-kruetzfeldt', 'hcasperfu', 'icupeiro', 'jmoeckel', 'k-sartor', 'katharinabr', 'khinkelman', 'kldjonge', 'marcusfuchs', 'martinkremer', 'mlauster', 'modelonrobinandersson', 'mwetter', 'nytschgeusen', 'rubenbaetens', 'saroele', 'sjoelund', 'thorade', 'AlexanderSinn', 'AngelFP', 'EZoni', 'ElisaRheaume', 'EloiseJYangOld', 'IlianCS', 'KZhu-ME', 'LDAmorim', 'MKieburtz', 'MathisMewes', 'MaxThevenet', 'NeilZaim', 'Pierre-Bartoli', 'RTSandberg', 'RemiLehe', 'RevathiJambunathan', 'SeverinDiederichs', 'Thierry992', 'Yin-YinjianZhao', 'amadou38', 'aveksler1', 'bensoub', 'berceanu', 'camille12225', 'coulibaly-mouhamed', 'danielbelkin', 'dbizzozero', 'ghweber', 'gpotter2', 'gtrichardson', 'guj', 'hightower8083', 'hklion', 'jcarlsson-aed', 'jeanbez', 'jlvay', 'johnson452', 'juliettepech', 'kaplannp', 'kngott', 'levinem', 'lge0303', 'lgiacome', 'lgtm-com[bot]', 'lucafedeli88', 'mrowan137', 'n01r', 'nckwcq', 'nruof', 'oshapoval', 'peterscherpelz', 'prkkumar', 'roelof-groenewald', 'rscohn2', 's9105947', 'steelan', 'titoiride', 'tmsclark', 'AlexandreEichenberger', 'DavidTruby', 'StephanTLavavej', 'TerryLWilmarth', 'atmnpatel', 'chichunchen', 'doru1004', 'estewart08', 'ggeorgakoudis', 'grokos', 'guansong', 'hansangbae', 'hkao13', 'jdoerfert', 'jhuber6', 'jpeyton52', 'kiszk', 'manorom', 'nawrinsu', 'omalyshe', 'pavanbalaji', 'pdhaliwal-amd', 'saiislam', 'sfantao', 'shiltian', 'tambry', 'terdner', 'ye-luo', 'zhuhan0', 'AlexandreLapene', 'AntoineMazuyer', 'CusiniM', 'IsaacJu-debug', 'MatthiasCremon', 'MelReyCG', 'TotoGaz', 'WuHuiLLNL', 'andrea-borio', 'andrea-franceschini', 'andrembcosta', 'aure-lily', 'castelletto1', 'cssherman', 'dkachuma', 'francoishamon', 'frankfeifan', 'herve-gross', 'huang40', 'jafranc', 'jhuang2601', 'jiemeng-total', 'joshua-white', 'karimifard', 'kjdugan', 'klevzoff', 'labesse40', 'llaniewski', 'madonnay', 'mkhait', 'mndiaye24', 'mquanbui', 'nmbader', 'paloma-martinez', 'paveltomin', 'robinspb', 'ryar9534', 'sframba', 'shabnamjs', 'sytuannguyen', 'tang39', 'taojinllnl', 'tbeltzun', 'tjligocki-lbl', 'untereiner', 'victorapm', 'white238', 'wrtobin', 'yue-2018', 'AlexeyMalkhanov', 'Bayyapu', 'Jayyee-HPC', 'Kerilk', 'SergeyGubanov', 'WHMHammer', 'Zabari', 'alobano1', 'arakashic', 'atulkulk', 'danghvu', 'ddurnov', 'dsolovyev', 'gcongiu', 'geoffreyblake', 'gnzlbg', 'hajimefu', 'huansong', 'hzhou', 'irozanova', 'jainsura-intel', 'jandres742', 'jdinan', 'jensh', 'jyvet', 'keszybz', 'kim-mcmahon', 'lisanna-dettwyler', 'masamichitakagi', 'mblockso', 'mchaarawi', 'mhatanaka', 'michael-chuvelev', 'minsii', 'mjwilkins18', 'mshiryaev', 'naveen-rn', 'nitbhat', 'pjmccarthy', 'pkcoff', 'ralfgunter', 'rikardfalkeborn', 'rithwiktom', 'rkalidas', 'sagarth', 'shawnccx', 'sonjahapp', 'spickartz', 'srirajpaul', 'sudheerchunduri', 'suhuang99', 'tarudoodi', 'thomasgillis', 'travisk1154', 'vehre', 'yfguo', 'zhenggb72', 'AlexisDucastel', 'DavidZisky', 'Davidsoff', 'Rucknar', 'dalareo', 'dominikhahn', 'galal-hussein', 'ibuildthecloud', 'sshipway', 'vincent99', 'xinity', 'AlexisPerry', 'Franckcappello', 'PHHargrove', 'bernhold', 'bonachea', 'bws', 'cswoodward', 'dicengine', 'dongahn', 'drhansj', 'egboman', 'gklimowicz', 'hainest', 'hartwiganzt', 'iskra-anl', 'jagode', 'jmellorcrummey', 'jwillenbring', 'kathrynmohror', 'klondikemike', 'lindstro', 'maherou', 'mgates3', 'ndebard', 'neely4', 'olivier-snl', 'pmccormick', 'pnorbert', 'sameershende', 'sbyna', 'sinha2', 'sivarajamanickam', 'sslattery', 'stomov', 'terryturton', 'tpatki', 'ulrikeyang', 'vetter', 'xiaoyeli', 'ScottMcMichael', 'bcoltin', 'furlong-cmu', 'martialbm', 'mvonpohle', 'parkeraddison', 'rcampbell95', 'snoyes', 'AlixHaider', 'Aquaharmonics', 'H0R5E', 'Jeffalo1', 'NREL-Jim-McNally', 'SiHeTh', 'bradling', 'cmichelenstrofer', 'crobarcro', 'dav-og', 'dforbush2', 'efantnu', 'emiliofa', 'gparisella', 'j-vanrij', 'jhbates', 'jleonqu', 'jtgrasb', 'kmruehl', 'lawsonro3', 'lilnguy', 'mancellin', 'mattEhall', 'nathanmtom', 'ratanakso', 'salhus', 'sedwardsand', 'srflp', 'yuyihsiang', 'zmorrell-sand', 'AllieTbo', 'ChristopherRC', 'NoMoreFood', 'Protiviti-JSargent', 'clstmbrly', 'csash', 'djpackham', 'godadada', 'grandamp', 'idmken', 'indrajit-gsa', 'maoconnor', 'maxwellfunk', 'mttcpr', 'omar-nmi-ahmed', 'ryancdickson', 'sarahdobson', 'AlvandSalehi', 'Arjun-Vijay', 'EtherTyper', 'Kthulu120', 'MikeNGarrett', 'PhilipBale', 'YellowKirby', 'bodnarbm', 'cdoremus', 'cixtor', 'coreylenertz', 'ctrimm', 'cwkummer', 'dreidenbaugh', 'ftonato', 'jeffbcross', 'jlow81', 'joewiz', 'kerrynordstrom', 'kishoregh', 'lukad03', 'marctjones', 'mattbailey0', 'mcmahonjohn', 'michael-balint', 'pashariger', 'paulschreiber', 'peteranglea', 'rossdakin', 'spiraldancer', 'theresaanna', 'tomdyson', 'valedaemon', 'yozlet', 'zachary-kuhn', 'AlvaroFurlani', 'atribera', 'cancom84', 'rconcep', 'wilchesf', 'AmbientLighter', 'DasAllFolks', 'HaToHo', 'Legrandin', 'LotharSee', 'SpamapS', 'WilliamRen', 'arne-cl', 'arucard21', 'baijum', 'bcopeland', 'benjaminbecker', 'biancini', 'c00kiemon5ter', 'caustin', 'ccooper21', 'cmurphy', 'dallerbarn', 'dcoleman17', 'ddohler', 'dfeinzeig', 'dsully', 'dwang159', 'erickt', 'ezarowny', 'fredrikt', 'frostburn', 'fruechel', 'generalpiston', 'ghostrocket', 'helmus', 'hlein', 'hlflanagan', 'hpk', 'hudolejev', 'igorpejic', 'invariant-ripple', 'j3hyde', 'jdufresne', 'jgehrcke', 'jkakavas', 'johanlundberg', 'julienp', 'kalevivt', 'knaperek', 'koliber', 'leifj', 'liamkinney', 'lorenzogil', 'ludwigkraatz', 'lzen', 'mdipierro', 'mheijink', 'mrvanes', 'nazrulworld', 'patrickbr', 'paulftw', 'peppelinux', 'pganssle', 'puiterwijk', 'qianlei90', 'reaperhulk', 'rectalogic', 'rhoerbe', 'richtera', 'rohe', 'russel1237', 'shabda', 'sheilatron', 'sigmunau', 'skanct', 'skastel', 'skoranda', 'spaceone', 'srinivasreddy42', 'srynot4sale', 'stdedos', 'taizo', 'teknott-dod', 'toopy', 'tpazderka', 'yuqing0708', 'zehuanli', 'Armenm', 'Jgearheart-GSA', 'JosephAmalfitanoSSA', 'Kab1r', 'Kapil-bulchandani', 'KidusTadesseCode', 'MrsMirsky', 'asutaria-GSA', 'bjbhattGSA', 'cryptofilegsa', 'dhcole', 'dyokum', 'gmgozum', 'griffintaub', 'halemayo', 'hbillings', 'jeremiak', 'jqinguo', 'kadem1', 'karandazzo', 'laurenruthanderson', 'lgstocker', 'lisamayo-gsa', 'luna-fed-developer', 'meganlooff', 'michelleanderson10', 'mlooff', 'mvedataydin', 'nahiggins', 'nitheshmundada', 'npurohit', 'peterbenmeyer', 'rachelcrew2', 'ruthmambo', 'rwuhrman', 'sama-goldstein', 'samagoldstein', 'sanjayguptagsa', 'shivankarojha', 'skonzem', 'stim371', 'wcongdon', 'Amstercad', 'Tom-Camp', 'ba66e77', 'benjifisher', 'brianreese', 'cnovick-doj', 'dangur', 'doj-ci', 'jesseday', 'jhuang0427', 'jprasmussen', 'maebug', 'malikkotob', 'mattdanger', 'rgristroph', 'rgristroph-acquia', 'searnest-e3', 'sundarcreosen', 'theGiftedMonky', 'thetagfirm', 'ychen-doj', 'AmyKort', 'JonellaCulmer', 'LindsayYoung', 'PaulClark2', 'ccostino', 'dorothyyeager', 'eddietejeda', 'emileighoutlaw', 'ethanheppner', 'jeanninehunter', 'jwchumley', 'lbeaufort', 'nickykrause', 'onezerojeremy', 'patphongs', 'rfultz', 'vz3', 'AnabelSMRuggiero', 'ClausKlein', 'Ghost-LZW', 'J-Meyers', 'bernhardmgruber', 'hcho3', 'jacobmerson', 'jbigot', 'mattja', 'mhoemmen', 'nliber', 'nmm0', 'r-burns', 'rafal-c', 'tobiashienzsch', 'tpadioleau', 'trivialfis', 'wmaxey', 'xvitaly', 'youyu3', 'AndersNiklasson', 'ares201005', 'cawkwell', 'chliu1990', 'cnegre', 'nfaguirrec', 'rperriot', 'suemni', 'Andr00dz', 'Biswa96', 'BradWhitlock', 'Dan2997925', 'F3dR19', 'HennesHajduk', 'IdoAkkerman', 'JacobLotz', 'KazemKamran', 'NoseKnowsAll', 'TobiasDuswald', 'YohannDudouit', 'aschaf', 'ataber', 'barker29', 'barracuda156', 'benson31', 'bensworth', 'benyee', 'benzwick', 'brendankeith', 'bslazarov', 'camierjs', 'cdl-ilight', 'cervenal', 'chakshinglee', 'cnpetra', 'delyank', 'dmed256', 'drzisga', 'dylan-copeland', 'ebchin', 'flomnes', 'gauthier12', 'gelever', 'greene30', 'hillyuan', 'hughcars', 'jakubcerveny', 'jamiebramwell', 'jandrej', 'jdahm', 'jehicken', 'jetremblay', 'jmartfrut', 'kmittal2', 'koomie', 'kvoronin', 'lcheng9', 'liruipeng', 'martemyev', 'mdeuse', 'mlstowell', 'mortezah', 'mstees', 'najlkin', 'nbeams', 'nnpp-schneier', 'pazner', 'pratikvn', 'pratyuksh', 'psocratis', 'ptsuji', 'publixsubfan', 'pwang234', 'rcarson3', 'rezgarshakeri', 'rw-anderson', 'rwa', 'smattis-nnl', 'smsolivier', 'sshiraiwa', 'stefanhenneking', 'termi-official', 'thorvath12', 'trevilo', 'tuckerbabcock', 'vikramsg', 'vladotomov', 'wcdawn', 'wnissen', 'wo80', 'wsmoses', 'zulianp', 'Bdragenice', 'JohnnyLuce', 'MichelleMcNellis', 'MyriamSam', 'RobOK2050', 'bweinheimer', 'bwhtt', 'cantsin', 'daniellegallant', 'davidstenger', 'julieberarducci', 'kirasanford', 'kirasanfordCOE', 'maya', 'micah-kim', 'michaelfrising', 'mitchmoccia', 'nickttng', 'sasankaj', 'sknep', 'stvnrlly', 'thomhalla', 'vbitzer', 'AndreasOpdahl', 'Conzar', 'DavidLemayian', 'EnxEng', 'MarekGrznar', 'PetoO', 'RouxRC', 'Stibila', 'Zharktas', 'apoikola', 'aron', 'bboissin', 'beilharz', 'bellisk', 'benjaminlaot', 'bjb', 'brew', 'danieljohnlewis', 'deniszgonjanin', 'domoritz', 'eraviart', 'gawel', 'guysoft', 'hwaring', 'icmurray', 'ilabastida', 'ilja-dev', 'jared-brown', 'joetsoi', 'johnbywater', 'johnglover', 'johnjohndoe', 'johnmartin', 'jsuchal', 'kindly', 'marfoloop', 'marks', 'mattfullerton', 'mbellotti', 'morty', 'mwahlroos', 'nickstenning', 'nigelbabu', 'okibot', 'ollyc', 'pastarace', 'pitr12', 'pudo', 'razz0', 'richardjpope', 'rossjones', 'rparrapy', 'rshk', 'rufuspollock', 'saulshanabrook', 'seanh', 'sebbacon', 'simonavril', 'slavosarik', 'smotornyuk', 'smth', 'stefanw', 'tanmayAccela', 'teajaymars', 'thejimmyg', 'tlacoyodefrijol', 'tlukasiak', 'tobes', 'underko', 'vitoravelino', 'vitorbaptista', 'waldoj', 'wardi', 'wwaites', 'xspaniki', 'zydio', 'Andresj89', 'ElmiraShamlou', 'KonicaMulani', 'MAZamarripa', 'MichaelPesce', 'NienkeWagenaar', 'Xinhe-Chen', 'andrewlee94', 'apd-ypuranik', 'bduffieldKL', 'bknueven', 'dangunter', 'dguittet', 'drouvenm', 'jsiirola', 'ksbeattie', 'lbianchi-lbl', 'melody-shellman', 'nareshsusarla', 'radhakrishnatg', 'tarnold17', 'xiangao1', 'Hyradus', 'PicoJr', 'ShashankBice', 'SmithB', 'anefian', 'broxtronix', 'dshean', 'harguess', 'jlaura', 'jomey', 'khusmann', 'ljexplore', 'mstyer', 'novas0x2a', 'oleg-alexandrov', 'rbeyer', 'saravkin', 'trey0', 'zmoratto', 'AndrewAvalos', 'KevL927', 'PatKelsh', 'RoloDMonkey', 'ariperez', 'averysmithproductions', 'brooksa321', 'bushong1', 'cdcampbell24', 'chris-poe', 'cyber-decker', 'jennywagg', 'johnshortess', 'jrwatts', 'lsemesky', 'mastermndio', 'menuka-sba', 'mikewolfd', 'outsidejking', 'peggles2', 'sigfriedjk', 'unblevable', 'zandernelson', 'AndrewGaspar', 'Azrael3000', 'Char-Aznable', 'Chrismarsh', 'Crghilardi', 'JBludau', 'KyleFromKitware', 'LeviBarnes', 'MicheldeMessieres', 'PGXavier', 'PhilipFackler', 'XzzX', 'anne-glerum', 'bavier', 'bjoo', 'breyerml', 'chipfreitag', 'cjj19970505', 'cwpearson', 'cz4rs', 'dalabre', 'dsunder', 'e10harvey', 'finkandreas', 'fnrizzi', 'glesur', 'gmackey', 'haykh', 'hcedwar', 'j8asic', 'jeffmiles63', 'jewatkins', 'jjellio', 'jmgate', 'joeatodd', 'jphill4', 'jrobcary', 'kbthomp1', 'kliegeois', 'kmorel', 'krasznaa', 'kuberry', 'ldh4', 'lifflander', 'lkersting', 'lucbv', 'matt-stack', 'mpokorny', 'nroberd', 'ocaisa', 'pedrovalerolara', 'pfultz2', 'pgrete', 'pkestene', 'ptrendx', 'rfbird', 'rgayatri23', 'sampollard', 'seyonglee', 'simon-schlepphorst', 'stelleg', 'swbova', 'thearusable', 'tom91136', 'vqd8a', 'wdeconinck', 'weinbe2', 'AndrewLitteken', 'BenGalewsky', 'ConnorPigg', 'EricLee543', 'JG-QuarkNet', 'PaulPrice', 'WardLT', 'Xarthisius', 'ZhuozhaoLi', 'annawoodard', 'b-butler', 'bakerjl', 'benclifford', 'benhg', 'btovar', 'cms21', 'daheise', 'dgasmith', 'dthain', 'earslan58', 'ehusby', 'garri1105', 'gerrick', 'hannayjd', 'hategan', 'ianfoster', 'jacopo-exact', 'jameshcorbett', 'jan-janssen', 'jhover', 'jmoon1506', 'jrueb', 'khurtado', 'knagaitsev', 'kodingkoning', 'kommav', 'kulshekhar', 'kylechard', 'lgray', 'lhayhurst', 'macintoshpie', 'manning-ncsa', 'mattebaughman', 'meschw04', 'mjwilde', 'monicadlewis97', 'radiantone', 'rapguit', 'ravihansa3000', 'rc-git', 'rohankumar42', 'ryanchard', 'sohitmiglani', 'tcompa', 'timarmstrong', 'tjdasso', 'tovrstra', 'tphung3', 'tskluzac', 'vkhodygo', 'yadudoc', 'yochannah', 'yongyanrao', 'zonca', 'PrometheusPi', 'dbindel', 'franzpoeschel', 'hvincenti', 'jgerity', 'jlnav', 'jucaleb4', 'marc-marcos', 'mosesyhc', 'nneveu', 'pordyna', 'soerenjalas', 'thchang', 'wildsm', 'AngenZheng', 'briankoco', 'davidfiala', 'drouyang', 'friedy10', 'gorgonical', 'jarusl', 'jhlaros', 'jrmcclurg', 'kevin-pedretti', 'ktpedre', 'labnerd', 'mjleven', 'omondragon', 'osresearch', 'patrickb314', 'rishikhan', 'skanduru', 'sporgj', 'AnjoMan', 'NLaws', 'NicolasGensollen', 'britt-camus', 'brittbinler', 'daniel-thom', 'etimberg', 'kavuribhavya', 'kdheepak', 'nadiavp', 'nlaws-camus', 'tarekelgindy', 'tareknrel', 'xzhu628', 'AnneFelden', 'EnnaDelfen', 'baperry2', 'ccse', 'cgilet', 'deepakdalakoti', 'emotheau', 'esclapez', 'hbrunie', 'john-qingwang', 'ldowen', 'nickwimer', 'rgrout', 'vricchiu', 'AnonNick', 'colleeneb', 'fabianmcg', 'fel-cab', 'jacobdweightman', 'jhdavis8', 'josemonsalve2', 'jrreap', 'krishols', 'mjcarr458', 'nolanbaker31', 'simoatze', 'spophale', 'sunitachandra', 'tmh97', 'tob2', 'utimatu', 'scottwedge', 'shenmidelin', 'Anteige', 'CTLaChance', 'Codym48', 'David4Danger', 'Mrockwell2', 'Transurgeon', 'avinashc99', 'cherpin00', 'dbankieris', 'ddj116', 'excaliburtb', 'garshaam', 'gaurignukala', 'hchen99', 'iamthad', 'irowebbn', 'jason-watkins', 'jdeans289', 'jmpenn', 'jsooknan', 'jubalh', 'julianvu', 'kdarafsh', 'keithvetter', 'lauzadis', 'meganlim', 'merchantzain', 'mricks1', 'nkapliev', 'nmerlene', 'pappyvw', 'shahzadlone', 'sharmeye', 'spfennell', 'teubert', 'Anthchirp', 'Baharis', 'BobWangRobot', 'DiamondLightSource-build-server', 'JBlaschke', 'JiriCernyJC', 'Oeffner', 'RandyRead', 'TiankunZhou', 'Trzs', 'Zeldebeest', 'antonvila', 'asmit3', 'benjaminhwilliams', 'bhintze', 'biochem-fan', 'bkpoon', 'chrisjwilliams', 'chrissciwilliams', 'clacri', 'cmura', 'cschlick', 'dacase', 'dagewa', 'dcliebschner', 'dermen', 'dhs-struct-bio', 'dperl-sol', 'dwmoreau', 'dwpaley', 'elliottslaughter', 'emckee', 'gbunkoczi', 'graeme-winter', 'hattne', 'hgliu', 'hlasimpk', 'hohn', 'irees', 'irisdyoung', 'iwd32900', 'jak137', 'jamasi', 'jbeilstenedmands', 'jjheadd', 'jmholton', 'jmp1985', 'joelbard', 'jongablop', 'keitaroyam', 'kirienko', 'latrocinia', 'lsgcarter', 'luc-j-bourhis', 'luttero', 'lwhung1', 'malmerbe', 'mamin03', 'massimosammito', 'mewall', 'mlxd', 'mmarat', 'monarin', 'mphancock', 'naderm', 'natechols', 'ndevenish', 'nicholas-pearce', 'nksauter', 'nwmoriarty', 'olegsobolev', 'pafonine', 'pascal22p', 'pavoljuhas', 'pcxod', 'phyy-nx', 'phzwart', 'randyjread', 'rjgildea', 'russell-taylor', 'rwgk', 'slawdom', 'terwill', 'tmmclark', 'toastisme', 'tomburnley', 'vbchen', 'vermav', 'vganapati', 'voklejas2', 'weninc', 'wojdyr', 'yayahjb', 'youdar', 'BotrosHanna-INL', 'dhill2522', 'lefebvrera', 'yangx789', 'AnthonyDiGirolamo', 'AntiFreeze', 'JoshuaStankus', 'WA9ACE', 'cablej', 'climber-girl', 'fartbagxp', 'mlove-9', 'rpeaston', 'sckooop', 'todrobbins', 'yoaaiz', 'FastFluidDynamics', 'Helarga', 'PeterGrant', 'WalterZWang', 'casella', 'kbenne', 'kim1077', 'kinonotofu', 'kuzha', 'leo037', 'mbonvini', 'perost', 'sewtian', 'tianwei1989', 'tzakula', 'xuhan425', 'zuowangda', 'Rajpratik71', 'brainwane', 'ArcTanSusan', 'JAFrederick', 'LisaGee', 'NoahKunin', 'Yarrgh1244', 'barkimedes', 'brentcas', 'brownpl', 'diego-', 'dmedfsa', 'engstrom', 'jfredrickson', 'jjoteal', 'justinleveck', 'kynetiv', 'nacin', 'plbrownrti', 'rdurdenRTI', 'rongoro', 'sharms', 'shawnbot', 'stevenbuccini', 'ultrasaurus', 'vgvg', 'Lomilar', 'ArielMiara', 'isannwang', 'kurbansitterley', 'kvanalls', 'ArielSAdamsNASA', 'CDKnightNASA', 'HugoValente11', 'JandlynBentley-at-NASA', 'Nodraak', 'Shefali199', 'asgibson', 'astrogeco', 'avan989', 'chillfig', 'davearch', 'dmknutsen', 'dzbaker', 'ejtimmon', 'ezpollack', 'havencarlson', 'himanshu007-creator', 'jasendo', 'jbohren-hbr', 'jcmarsh', 'jphickey', 'jtovias', 'kurtjd', 'lbleier-GSFC', 'lethuillierg', 'nmullane', 'oliverhamburger', 'paulober', 'pducolin', 'pepepr08', 'rosspeters6', 'semaldona', 'skliper', 'stanislaw', 'the-other-james', 'yammajamma', 'zanzaben', 'Ariunaa-CTAC', 'JeffreyKHendrickson', 'Ramaraju-Kalidindi-REISYS', 'Rob-Ashley', 'USAGovDeployer', 'dnarkiewicz', 'kyle-jester', 'mjtanski', 'prigorctac', 'ramarajukalidindigsa', 'smileytech', 'AroArz', 'CedricMidoux', 'SilasK', 'Waschina', 'brwnj', 'colinbrislawn', 'coverall2357', 'ctb', 'jmtsuji', 'johnne', 'jotech', 'mdehollander', 'mladen5000', 'molecules', 'philippbayer', 'raw937', 'roshni-b', 'smcolby', 'vmikk', 'wangzhichao1990', 'yanhui09', 'ArturGajowy', 'PuKoren', 'cloverstd', 'ianneub', 'jacobmassey', 'jaycyb', 'jsfillman', 'jwilder', 'metamode', 'metmajer', 'mstrzele', 'multani', 'neiljain', 'samjarrett', 'sebest', 'sstarcher', 'sychan', 'thomasleveil', 'w4tson', 'xizhibei', 'Ashwin-Deshmukh-REISystems', 'BhargavBoppana', 'BhargavBoppana-Personal', 'CinnyaSm', 'DaleFrey', 'DaleMHFrey', 'DanielKim1', 'JohnHillegass', 'MorganRedden', 'NairChandu', 'Paul-ReiSystems', 'RamyaKalagara', 'SandeepRuthala', 'VeeraRSareddy', 'ayushchak', 'bryanlalexander', 'charanvmareedu', 'dvito', 'emihangvo', 'fsedghi2021', 'kalyaninaljala', 'kcho01', 'maheshamuthukuda', 'mahrukhabidi', 'masoodbarekzai', 'mdeorukhkar', 'monisahmedkhan', 'nigusudassefa', 'niharika-REI', 'ostranme', 'patricknowlan', 'richardcsmith-itc', 'rinktelgsa', 'sanand-gsa', 'seanstar12', 'whrkddnjs135', 'Asoul', 'DavidTPate', 'NickWashburn', 'brianjmiller', 'bryant1410', 'bscSCORM', 'canweriotnow', 'chaimleib', 'dnjohnson', 'fugu13', 'garemoko', 'jhaag75', 'jloic', 'jono-poltrack', 'jonopoltrack', 'liveaspankaj', 'mhailstone', 'michaelwheeler', 'paul-esch', 'phamdt', 'pondermatic', 'rswetnam', 'ryansmith94', 'scara', 'thomasturrell', 'ty-', 'ywarnier', 'AstroBarker', 'Yurlungur', 'brryan', 'chadmeyer', 'jdolence', 'jhp-lanl', 'jonahm-LANL', 'mauneyc-LANL', 'rbberger', 'sfogerty', 'Atash3000', 'ShawnStringfield', 'Viseghoh', 'chicofish', 'cooms13', 'jeffrainey', 'mpallansch', 'peraton-user', 'rshelnutt', 'tturnerswdev33', 'AtefBN', 'HansVahlenkamp', 'KatharinaBuelow', 'LucaCinquini', 'RuthPetrie', 'William-Hill', 'cehbrecht', 'glevava', 'gredmond-mo', 'pchengi', 'pchengi2', 'sashakames', 'soay', 'sterlingbaldwin', 'thiasB', 'AubreyHewes', 'JJediny', 'Mattes1000', 'Reggino', 'benurb', 'bmcbride', 'brettz9', 'ebeeson', 'englercj', 'geek', 'initjh', 'jdao', 'jdorn', 'jevakallio', 'jt3k', 'keynslug', 'kkirsche', 'kshepard', 'leeorengel', 'lepinay', 'mbknor', 'mbrodala', 'mohsen1', 'pangon', 'rodikh', 'xeno14', 'yaronyam', 'AxxL', 'bukun', 'drwelby', 'frafra', 'gsaaportal', 'ingenieroariel', 'jfdickens', 'jiwalker-usgs', 'jmckenna', 'johanvdw', 'kalxas', 'mandyellow', 'menegon', 'milokmet', 'minhd', 'rcoup', 'ricardogsilva', 'rouault', 'sebastic', 'simod', 'sriranganathan', 'tomkralidis', 'volter', 'warmerdam', 'BEA-RyanByrnes', 'Cleo1963', 'TheLastQuestion', 'btylerburton', 'chris-macdermaid', 'clingerman', 'crysacarter', 'estheromara', 'hkdctol', 'nickumia-reisys', 'rebeccawilliams', 'ruxftc', 'sawtoothwave', 'thecapacity', 'tromanoff', 'wiringa', 'BFOSTER72', 'IsaacRay', 'PaulSD', 'jasvatos', 'myazidi', 'rrenomeron', 'sharb', 'BTruman', 'Davanden', 'DonnaChristianson', 'IB-FCC', 'Jones-Puthoff', 'KaliUSAsdgs', 'KarenEGreene', 'LCHStrickler', 'Moris-OMB', 'OGWDW2115', 'SmithersA', 'Snyder1789', 'calebdow', 'cbnewman', 'cheridanc', 'cyveenis', 'dmintzepa', 'eggle005', 'henningsh', 'jacob2479', 'jyoon1', 'lasimmons', 'lewis410', 'maggiewoodward', 'mboroush', 'mimidiorio', 'mwdumas', 'nicolenorris', 'proct001', 'ptice45', 'raichoudhary-r', 'rmwilson18', 'sbeningo', 'smith165GITHUB', 'smithkimberj', 'BaconMichelle', 'Scotchester', 'bblair31', 'codesue', 'coreyjjames', 'dkniffin', 'geromegrignon', 'heatherdesigns', 'hendersonanalytics', 'mamooredesigns', 'peterrowland', 's0', 'BaptisteGerondeau', 'ikarlin', 'JPeterMugaas', 'bjandre', 'bsulman', 'ghammond86', 'jbeisman', 'liuyangzhuan', 'sfabbro', 'smolins', 'BarthV', 'CloCkWeRX', 'JulesAU', 'KodeAndGame', 'LeoCavaille', 'PierreRambaud', 'danieljimenez', 'duro', 'eheydrick', 'elskwid', 'fnichol', 'guilhem', 'he9lin', 'jirikolarik', 'jodosha', 'jonlil', 'luntzel', 'markbirbeck', 'matthewjstanford', 'mburns', 'mdxp', 'mgs255', 'mhayashi', 'nickmarden', 'othreed', 'paulRbr', 'penland365', 'portertech', 'ratdaddy', 'robertkowalski', 'rohansingh', 'rteabeault', 'sax', 'smith', 'videlalvaro', 'wanelo-pair', 'BattulaSwathi', 'd3j331', 'BeauJoh', 'Geekdude', 'miniskar', 'monil01', 'Becka1', 'WABSHEU', 'bglassman15910', 'michaeljmartincensus', 'Ben-Mertz', 'HaymanConsulting', 'IAbda', 'MarshallBuhl', 'NobuhiroKUSUNO', 'RHammond2', 'Russell9798', 'SimonHH', 'bjonkman', 'deslaughter', 'dzalkind', 'ebranlard', 'ewquon', 'fabianf-wendt', 'fxcoudert', 'gantech', 'gbarter', 'hkross', 'itd', 'jennirinker', 'jjonkman', 'jmill2492', 'kshaler', 'lapadron', 'lssraman', 'lucas-carmo', 'mattrphillips', 'michaelasprague', 'mjs271', 'mylonasc', 'nrmendoza', 'pablo-benito', 'psakievich', 'pschuenemann', 'ptrbortolotti', 'rafmudaf', 'rcorniglion', 'rdamiani', 'reos-rcrozier', 'robynnemurrayNREL', 'samuel-ramsahoye', 'sayerhs', 'shousner', 'sinolonghai', 'tatesnow', 'tonyinme', 'BenBreaksThings', 'bjb28', 'nickviola', 'tarrell13', 'teal-e', 'BenCasses', 'chu11', 'lpmi-13', 'mrepper', 'neilkatin', 'stuartm-dugeo', 'BenGardiner', 'KyleEvers', 'bengardiner-at-irdeto', 'echudow', 'egyptiankarim', 'ericlaw1979', 'garrettr', 'jsha', 'klauern', 'siccovansas', 'teancom', 'ultiferrago', 'BenStormer', 'MFTabriz', 'PaulUTK', 'bzizou', 'cluening', 'dschwoerer', 'emilyb-scott', 'grosa1', 'hroncok', 'j-ogas', 'jlowellwofford', 'jsta', 'kpelzel', 'lnussbaum', 'loveshack', 'lucaudill', 'mcv21', 'mphinney1100', 'nspark', 'pagrubel', 'rstyd', 'sc13-bioinf', 'shanegoff', 'trandles-lanl', 'wiene', 'Benbenbenin0', 'bnash', 'bruhwiler', 'cchall', 'cwmcallister', 'e-carlin', 'garsuga', 'gurhar1133', 'hyperrealist', 'messamer', 'michaelherold', 'mkeilman', 'njsmith', 'nsipplswezey', 'robnagler', 'rorour', 'Benjaki2', 'Dylan-Brown', 'IamTechknow', 'NaderCHASER', 'Tomcariello', 'ZachTRice', 'codemacabre', 'edplato', 'grabermtw', 'jschmaltz', 'jtroberts', 'kunallanjewar', 'localjo', 'mcechini', 'minniewong', 'rboller', 'ryanweiler92', 'silavajhala', 'victorsh', 'Berkeley, CA', 'FlyingUnicornSF', 'briehl', 'dakotablair', 'danielolson5', 'dauglyon', 'eapearson', 'hyoo', 'kkellerlbl', 'mlhenderson', 'nconrad', 'nlharris', 'psdehal', 'scanon', 'thomasoniii', 'tiramisu24', 'BesnikAjazi', 'BethanyL', 'Deathn0t', 'Romit-Maulik', 'SunHaozhe', 'Z223I', 'bigwater', 'boneyag', 'craymichael', 'dipendra009', 'felixeperez', 'iamyixuan', 'jtchilders', 'masalim2', 'mdorier', 'minesweeter', 'nesar', 'rmjcs2020', 'saforem2', 'sjiang87', 'BigTheta', 'dmageeLANL', 'fweik', 'Bill-Becker', 'JesseKaczmarski', 'hdunham', 'jmpohl', 'sakshi-mishra', 'thomastu', 'BillArrighi', 'chldkdtn', 'debog', 'dreamer2368', 'jtlau', 'kevinhkhuynh', 'pranav-vempati', 'siuwuncheung', 'slmcbane', 'DesWurstes', 'JasonRuonanWang', 'JieyangChen7', 'MichaelLaufer', 'NAThompson', 'brtnfld', 'chuckatkins', 'dmitry-ganyushin', 'eisenhauer', 'germasch', 'godoywf', 'hyoklee', 'jychoi-hpc', 'lastephey', 'lizdulac', 'lwan86', 'manauref', 'mathrack', 'qliu21', 'rhaas80', 'rkube', 'robertu94', 'sameehj', 'shawnyang610', 'shevateng0', 'stevenwalton', 'tammojan', 'tobyjamez', 'PaulTsagaroulis', 'BlairArchibald', 'Rodbourn', 'ZhenrongJING', 'cliosaglietti', 'dpzwick', 'dshaver-ANL', 'fischer1', 'freemalloc', 'ggiannako', 'hackljf', 'jlottes', 'juaneco2710', 'kent0', 'klheisey', 'kris-rowe', 'lcarasik', 'lleonaw', 'mattiasbr', 'maxhutch', 'misunmin', 'mmrezaie', 'nchristensen', 'negips', 'nicooff', 'pschlatt1', 'ricardofrantz', 'stgeke', 'timofeymukha', 'yhaomin2007', 'BobanL', 'DanielSass', 'JSkeets', 'Rebecca-LM', 'TimBest', 'TomNUSDS', 'cdevent', 'dmethvin-gov', 'emmanuel-apau', 'emmastephenson', 'emyl3', 'femmebot', 'fzhao99', 'georgehager', 'hmyers-cms', 'jayna-SkylightDigital', 'jdorothy', 'jeremyzitomer-usds', 'jeskew-gov', 'johanna-skylight', 'katiealoisi', 'lauraykerr', 'mehansen', 'mpbrown', 'nathancrtr', 'nickbristow', 'nickclyde', 'nickrobison', 'nickrobison-usds', 'nickscialli-usds', 'nullflux', 'pete-gov', 'rin-skylight', 'ronaldheft-usds', 'sharmaneil', 'snesm', 'timbest-usds', 'timothybest-usds', 'will-ys', 'zdeveloper', 'Borelset', 'The-Alchemist', 'dingwentao', 'ggorman', 'lxAltria', 'munnybearz', 'vasole', 'BorisBochkaryov', 'Caden-Ellis77', 'Elwell', 'GeraldCSC', 'Jehops', 'JimNordby', 'LecrisUT', 'Lehi, Utah USA', 'MarshallGarey', 'OleHolmNielsen', 'RemiLacroix-IDRIS', 'Robert-Tweedy-Emory', 'RomeroMalaquias', 'ScottHilton', 'SkylerMalinowski', 'TimoRoth', 'VeroniqueLegrand', 'bsngardner', 'cbyun1067', 'ccrhx4', 'cfenoy', 'chrissamuel', 'chwilk', 'cinek810', 'clayerm', 'commonism', 'cpaschoul', 'cread', 'cvizino', 'dahcray', 'danbarke', 'dannyauble', 'davidbigagli', 'davidorville', 'dbs900', 'derics', 'dgloe', 'dgloe-hpe', 'dletai', 'dmjacobsen', 'dmshaw', 'doctaweeks', 'donaghy1', 'dparisek', 'dpmatthews', 'dupgit', 'dynjnelson', 'elliotwaite', 'enjensena', 'eric-roman', 'ersereik', 'ethanhsimmons', 'fafik23', 'fdiakh', 'fenoyc', 'filipjs', 'fossing', 'gaijin03', 'gaudin-r', 'gazdi31', 'gbrath-lbl', 'georgemarselis', 'ghjs', 'gingergeeks', 'glowkey', 'golivag', 'gskouson', 'guoshimin', 'hautreux', 'hintron', 'hongjia', 'inodb', 'irush-cs', 'jabl', 'jacob-jenson', 'jboothdude', 'jcovers', 'jeffwhite530', 'jette', 'jnettel', 'johntconklin', 'jsegitz', 'jsollom', 'jtfrey', 'jthiltges', 'jvilarru', 'jwm', 'jxuamazon', 'ke3vin', 'keir', 'kemp-ke', 'kent-engstrom', 'kohnke', 'krausedfzj', 'lbljfbotts', 'lindenb', 'lipari', 'lipixx', 'lsmatott', 'lukeyeager', 'matthb2', 'mattmix', 'mcmult', 'mdklein', 'mdnelson8', 'megahallon', 'mehdid', 'mgerstner', 'mharvey-jt', 'miketxli', 'minnus', 'morrisonlevi', 'mperryatos', 'mrobbert', 'natefoo', 'naterini', 'neicker', 'nerscchris', 'njoly', 'novosirj', 'nsimakov', 'nufsty2', 'outpaddling', 'pawsey-kbuckley', 'pdesr', 'pescobar', 'peterver', 'planetA', 'plazonic', 'pmargara', 'ralphbean', 'rathamahata', 'realsobek', 'retinator', 'retsimx', 'rezib', 'rmdickson', 'robberteggermont', 'robertsbp', 'rrzefox', 'ryanbcox', 'ryancaicse', 'ryanday36', 'saboritoscar', 'samiilvonen', 'schelcj', 'scottm1llj', 'sderr', 'sgenie68', 'snickny', 'souravzzz', 'strofino', 'supermanue', 'svalgaard', 'tabaer', 'tardigradus', 'tcooper', 'theacodes', 'tinchogb', 'tjnz', 'torkelsson', 'trawl', 'tripiana', 'veorq', 'watson6282', 'wavexx', 'yaghobvtm', 'yblein', 'ygeorgiou', 'yuwata', 'zhensydow', 'Bounga', 'RobertLowe', 'cainlevy', 'danieltennant', 'davec', 'dlepage', 'dustin', 'ewildgoose', 'flavorjones', 'gaffo', 'gnowoel', 'greatseth', 'interesse', 'jsurrett', 'jtek', 'kou', 'lackac', 'lukemelia', 'manuelmorales', 'mbbx6spp', 'murdoch', 'robd', 'shingara', 'shoe', 'timcharper', 'vhochstein', 'web-flow', 'yairgo', 'Bprotano', 'Hyeondeok-Shin', 'LeonOtis', 'Paul-St-Young', 'TApplencourt', 'bwvdg', 'camelto2', 'chrislzhao', 'correaa', 'cynthiagu23', 'dcyang', 'eneuscamman', 'fdmalone', 'gjohnson3', 'grahamlopez', 'jakurzak', 'jbatson5', 'jefflarkin', 'jngkim', 'johngergely', 'jptowns', 'jtkrogel', 'kayahans', 'kgasperich', 'khou2020', 'koparasy', 'kpesler', 'kpesler@gmail.com', 'kryczko', 'kylanpaa', 'lshulen', 'lsvvt', 'maletich', 'markdewing', 'mcbennet', 'mcminis1', 'mmorale3', 'nsblunt', 'ntubman', 'nutellacrepe', 'prckent', 'rcclay', 'shivupa', 'spinedaflores', 'stephan-rohr', 'tiihonej', 'vsharmaornl', 'walshmm', 'williamdparker', 'yingwaili', 'yliu7949', 'zenandrea', 'zoowe', 'David-Camp', 'ELCapitanLLNL', 'HaluskaR', 'JustinPrivitera', 'MarkoSterbentz', 'MishaZakharchanka', 'SeifIbrahim', 'brugger1', 'brunner6', 'bryujin', 'davidgunderman', 'davis274', 'dpugmire', 'gunney1', 'hankchilds', 'hennis1', 'jakebolewski', 'jcs15c', 'keithhealy', 'ltaylor16', 'mclarsen', 'mlawsonca', 'mvictoras', 'nicolemarsaglia', 'nselliott', 'oruebel', 'raineyeh', 'ryujin1', 'samuelpmishLLNL', 'siramok', 'slabasan', 'spetruzza', 'ssane113', 'sshudler', 'stephdempsey', 'vbruder', 'willdunklin', 'yuya737', 'BrandonBouier', 'Brorean', 'MRNederlof', 'MehmetAli-Simsoft', 'NickHeiner', 'SCasarottoDDS', 'VassilIordanov', 'bssimsoft', 'ce-simsoft', 'cemalettin-work', 'crbinz', 'csmig', 'david-saeger', 'dependabot-support', 'efo-usds', 'erincd', 'evdhoudt', 'fulldecent', 'gjvoosten', 'hyesilAnka', 'jack-dds', 'jakerella', 'jgarber623-gov', 'jose-west', 'jscancella', 'lorimt-usds', 'lovettbarron', 'maradragan', 'mbermanarl', 'mehmetalikilic', 'michaelansel', 'midmarch', 'milovanderlinden', 'mk-simsoft', 'ndcenginer', 'nickjs', 'nickjs-usds', 'nschonni', 'ny-simsoft', 'oayvazoglusim', 'patrickatusds', 'rajkowski', 'renovate-bot', 'renovate[bot]', 'rthbound', 'sdiebler', 'shawoods', 'spoon16', 'timward77', 'tomberek', 'vesche', 'wmhaynes', 'ysf-simsoft', 'BrannanVillee', 'MrsSmith100', 'clantjm', 'Sreeramk', 'jsabol', 'namkyux', 'Brian-Johnson-NREL', 'brianlball', 'stephen-frank', 'willybernal', 'BrianWilson1', 'Burrch3s', 'MBoustani', 'MJJoyce', 'MichaelArthurAnderson', 'Omkar20895', 'WIZARDELF', 'cgoodale', 'chrismattmann', 'dmitri1357', 'huikyole', 'jarifibrahim', 'justinlulejian', 'kwhitehall', 'lewismc', 'markschnitzer', 'mhajder', 'rlaidlaw', 'shakeh', 'smarru', 'veduardo', 'wirelesswithbrain', 'BryanWhitehurst', 'Codeleen', 'Gameslinger', 'NCC912', 'Sarah-Mings', 'ValenYamamoto', 'christinedn', 'cpalomo7', 'elianajn', 'emily-ramirez', 'ericsledge', 'foxdllnl', 'garrettbslone', 'lamaro02', 'meghaut1', 'morenodelgad1', 'nishap1225', 'rachelsyamamoto', 'sbalingit211', 'wesley-hsieh', 'Btslade', 'calccrypto', 'dmanno', 'garygrider', 'jti-lanl', 'nzrutman', 'piyushthange', 'prajwalchalla', 'sfpwhite', 'BuckinghamAJ', 'CBeattyGSA', 'csmcallister', 'gsa-bri', 'i-am-us', 'lbisson', 'lenbisson', 'mjtravers', 'rbuccigrossi', 'sbchrist', 'vyotsukura-gsa', 'ysscott2012', 'BuhariS', 'GalPerelman', 'JQOrtiz', 'Oops404', 'Thaulino', 'YuChunTsao', 'aclong', 'arpanseth', 'bernardoct', 'carldlaird', 'carmine1990', 'dbhart', 'dlvilla', 'dmmoria', 'jamesuber', 'jckett', 'jhogge', 'jrings', 'kaklise', 'kbonney', 'mariocastrogama', 'michaelbynum', 'pahbloo', 'pshassett', 'redcraft2374', 'reganmurray', 'santiagoropb', 'terrahaxton', 'this-josh', 'BurlMHall', 'chapman39', 'evaleev', 'metere1llnl', 'Burton', 'contolini', 'himedlooff', 'iuloshi', 'khandelwal', 'marcesher', 'stephanieosan', 'virtix', 'CAEUSAISG', 'MrBillMcDonald', 'garajo', 'gblxapi', 'johngriner91', 'phtyson', 'rchadwic', 'CB2', 'fureigh', 'CCoffie', 'IngaFeick', 'Javaru', 'MarkVedderTR', 'NDevox', 'Qmando', 'Ropes', 'RubieV', 'ThomasdOtreppe', 'danielpops', 'ddrozdov', 'dforste', 'domanchi', 'dotie', 'fbmbown', 'fiunchinho', 'fongscgm', 'gitter-badger', 'henb', 'hmatland', 'ikoniaris', 'jaguasch', 'jasonrhaas', 'jcockhren', 'jgaxn', 'jmizell', 'johnlinp', 'jraby', 'justinaspeciura', 'lchi', 'leoprince', 'ltagliamonte', 'luk4hn', 'mesozoic', 'mrosterm', 'msil', 'mzstic', 'neetesh16', 'nicolashohm', 'nrvnrvn', 'omar-m-othman', 'omercnet', 'oweizman', 'pedrorijo91', 'pgaubatz', 'pjl', 'sathieu', 'sluceno', 'smashedtoatoms', 'ssandler', 'steelheaddigital', 'steiza', 'stensonb', 'stumyp', 'tebeka', 'thecubed', 'thomdixon', 'tobyb121', 'tomelm', 'unicell', 'vdechenaux', 'viditmaniyar', 'wataru-chocola', 'wting', 'ytsibizov', 'zarnovican', 'zetsub0u', 'zinic', 'CDCTNK6', 'KarenKailun', 'scotthlee', 'too9', 'mdicicco-hbr', 'michael-s-scott', 'spockTheGrizzly', 'CJ-Wright', 'EricAtORS', 'FedeMPouzols', 'JunAishima', 'KedoKudo', 'WilliamJudge94', 'cowanml', 'dakefeng', 'data-exchange', 'decarlof', 'dgursoy', 'dhidas', 'djvine', 'dkazanc', 'dmpelt', 'dreycenfoiles', 'gromitsun', 'hsabrina', 'kyueaes', 'lbluque', 'malte-storm', 'mdw771', 'mhagdorn', 'michael-sutherland', 'nghia-vo', 'nikitinvv', 'prjemian', 'ravescovi', 'ronpandolfi', 'samtygier-stfc', 'skylarjhdownes', 'swelborn', 'thejinx0r', 'ttgmichael', 'xmap', 'zronaghi', 'CJKohler', 'Marina-Zafiris', 'TammieYu', 'eslee556556', 'hannesb0', 'sjpfenninger', 'taoning', 'CLTB', 'Exa-Graph', 'Jodasue', 'cmahrens', 'jmohdyusof', 'lucyahuang', 'mschr476', 'nitinehpc', 'sandeepmittal', 'schr476', 'thomasflynn918', 'ThorBl', 'CSchoel', 'jakobdreyer', 'jvdd', 'nikdon', 'raphaelvallat', 'samgdotson', 'CUDI-bixal', 'hlieberman-gov', 'jamesatheyDDS', 'jkoulish-bixal', 'rich-allen-gov', 'scottqueen-bixal', 'Cain-Ish', 'CarlQLange', 'KrzysztofMadejski', 'dennisrpnw', 'dvainio', 'threeaims', 'wwitzel3', 'Callum-Pe', 'JonnySQ', 'dmejiar', 'hjjvandam', 'ipdrm16', 'keipertk', 'landwehrj', 'marcinz', 'pjknowles', 'sriramkmoorthy', 'Matthew-Whitlock', 'MichaelBrim', 'chaseleif', 'craigsteffen', 'hariharan-devarajan', 'hbchen1984', 'ivadmitry', 'jenest', 'jgmoore-or', 'kosinovsky', 'kshoga1', 'rinkug', 'robertkb', 'sandrain', 'shurickdaryin', 'violinteng', 'wangvsa', 'DrBooom', 'Joshua-Robbins', 'PaulMullowney', 'WeiliangChenOIST', 'dcmania', 'ddement', 'djglaze', 'gdeskos', 'iyamazaki', 'jamelvin', 'janiadcock', 'jmlamb', 'jrobbin', 'jvo1012', 'kilojoules', 'lawrenceccheung', 'marchdf', 'mbarone81', 'mbkuhn', 'mchurchf', 'micpowe', 'neilmatula', 'neumantm', 'overfelt', 'rcknaus', 'skennon10', 'smelchio', 'spdomin', 'stumpjumper', 'tasmith4', 'tslund', 'wilsonrvornlgov', 'wjhorne', 'CameronRutherford', 'GitBytes', 'fritzgoebel', 'jaelynlitz', 'jdmacam', 'jwang125', 'kswirydo', 'michel2323', 'nkoukpaizan', 'nychiang', 'pate7', 'pelesh', 'rothpc', 'ryandanehy', 'sayefsakin', 'sl4ven', 'CameronTStark', 'Golden, CO', 'cdeline', 'jalderman9', 'kandersolar', 'kperrynrel', 'm-bartlett', 'mcbrown042', 'shirubana', 'CarolineConcatto', 'KevinHaoranZhang', 'LittleMeepo', 'Narutoworld', 'PeixinQiao', 'SouraVX', 'davis-matthew', 'erjin', 'grypp', 'ianhbell', 'janisozaur', 'kaadam', 'kenjiang67', 'kiranchandramohan', 'mgabka', 'michalpasztamobica', 'mleair', 'mmuetzel', 'nextsilicon-itay-bookstein', 'peterwaller-arm', 'ppenzin-nv', 'psoni2628', 'pwisniewskimobica', 'qiaozhang-hnc', 'rasoolmaghareh', 'shivaramaarao', 'sscalpone', 'tdusnoki', 'tskeith', 'vigbalu', 'waldyrious', 'xinliu-hnc', 'yaoliu-hnc', 'zhaochuanfeng', 'CassandraGoose', 'Mkellyeng', 'jasondegraw', 'katien', 'macumber', 'shorowit', 'wintersieck', 'CayvonH', 'Mouseferatu', 'TomA-R', 'TylerHeald1', 'cduma', 'cgokey', 'charleshuang80', 'chris-durbin', 'daniel-zamora', 'doug-newman-nasa', 'dpesall', 'eed-earthdataci', 'eereiter', 'eriknelson11', 'eudoroolivares2016', 'hgrams-e84', 'indiejames', 'isja17', 'jasongilman', 'jaybarra', 'jceaser', 'jdf-eos', 'jflewis', 'jhoojhoo', 'jwteague', 'kigou', 'klcarr1', 'laurenfrederick', 'littleidiot40', 'macrouch', 'mitchstartzel', 'mmorahan', 'mschmele', 'oubiwann', 'ryanmiller-1', 'sdavu', 'sxu123', 'tgoff', 'vbjayanti', 'vjphilli', 'xsc', 'ygliuvt', 'yiduoke', 'zimzoom', 'Cgettys', 'MikiGrit', 'fieldOfView', 'gheber', 'hintjens', 'keent', 'madarp', 'papr', 'rio', 'shader', 'slacrherbst', 'sphaero', 'wesyoung', 'Chan9390', 'Hlynrkjaer', 'Martin407', 'PaterSiul', 'Sliim', 'TmmmmmR', 'clong', 'commiebstrd', 'deargle', 'devec0', 'djschaap', 'elreydetoda', 'erran', 'erran-r7', 'fullstackinfo', 'jbarnett-r7', 'jikuja', 'jmartin-r7', 'kairat-kempirbaev', 'kgray-r7', 'mattreduce', 'mkienow-r7', 'ncharron', 'nkakouros', 'pbarry-r7', 'tijldeneut', 'usmcfiredog', 'wchen-r7', 'CharlesEdisonTripp', 'davebiagioni', 'dmdu', 'erskordi', 'harrysorensennrel', 'jlaw9', 'pstjohn', 'rimplesandhu', 'scottwsides', 'shreesowndarya', 'ChettWillighan', 'SaraLHerbst', 'echappen', 'elizap55', 'jseppi', 'lancesmith', 'margo29', 'mesilber', 'rhoesing', 'shivaalipour', 'tjuneau1', 'CheyenneNS', 'JamesJeffryes', 'Tianhao-Gu', 'Yzm1234', 'dcchivian', 'ialarmedalien', 'jaredbischof', 'jayrbolton', 'jfroula', 'jkbaumohl', 'jmchandonia', 'jungbluth', 'landml', 'mclark58', 'pranjan77', 'qzzhang', 'samseaver', 'sean-mccorkle', 'ugswork', 'zhlu9890', 'Chitrasivaraman', 'clansing', 'emma-d-cotter', 'jmcvey3', 'kefeimo', 'maxwelllevin', 'Chjulian', 'Cholokiwi', 'Daniel-Mietchen', 'Hirthe', 'JSHuisman', 'JiscaH', 'KyobinKang', 'M-nied7', 'Maijin', 'MoiraZuber', 'PierreBarrat', 'SalehA74', 'Simon-LoriereLab', 'cornhundred', 'dahaj1897', 'dmaccannell', 'donkirkby', 'dtaliun', 'eharkins', 'emmahodcroft', 'erenada', 'ericenns', 'falnaji', 'felixonmars', 'fillorkill', 'frogtraveler', 'fzhang12', 'gtonkinhill', 'hanbin973', 'hmkim', 'huddlej', 'irina95511', 'ivan-aksamentov', 'jacaravas', 'jameshadfield', 'jhphan', 'joverlee521', 'kairstenfay', 'lmoncla', 'lxy0107', 'meriemelkaroui', 'mg878', 'mhrimaz', 'minkyuxyz', 'miparedes', 'misjailcisin', 'nicfel', 'nodrogluap', 'pleunipennings', 'rneher', 'roanvanscheppingen', 'ronakb128', 'rvosa', 'sarameiqi', 'satotake', 'sidneymbell', 'tolot27', 'tomkinsc', 'tomoyuki-nezu', 'trvrb', 'tsibley', 'ttung', 'typd', 'victorlin', 'vpuller', 'wdingx', 'whispererindarkness', 'ChrisAldridge', 'MarkHMorrison', 'rdugarSFDC', 'JLague', 'JOThurgood', 'doreenfan', 'simonguichandut', 'ChrisMcGowan', 'LinuxBozo', 'SaveTheRbtz', 'ZKjellberg', 'cnelson', 'datn', 'dlapiduz', 'dylanking42', 'jacobian', 'jbarnicle', 'jcscottiii', 'jessieay', 'jessykacastillo-zz', 'jontours', 'juliaelman', 'karareinsel', 'mheadd', 'mxplusb', 'mzia', 'ondrae', 'ozzyjohnson', 'pkarman', 'rememberlenny', 'richardparker-cg', 'rogeruiz', 'rosskarchner', 'ryanhofdotgov', 'spgreenberg', 'tammersaleh', 'tmaybe', 'toolness', 'vdavez', 'wjwoodson', 'claytonjbarnette', 'JSGGSA', 'JustinHerman', 'davidlarrimore', 'folksgl', 'gbchelak', 'jpyuda', 'mark-meyer', 'mboone', 'polastre', 'ClearlyEnergy', 'Myoldmopar', 'TravisWalterLBNL', 'danielbressan', 'danielmcquillen', 'ebeers-png', 'evanweaver', 'fablet', 'haneslinger', 'juliecov', 'justindbelanger', 'kflemin', 'lainsworth8801', 'laurenliz22', 'maronnax', 'meghasandesh', 'mmclark', 'nllong', 'nmerket', 'paddatrapper', 'perryr16', 'philngo', 'pipermerriam', 'rHorsey', 'rebrownlbnl', 'rgm', 'stephenheard', 'tallus', 'ClementJ35', 'mjourdan', 'monoflo', 'Clytie', 'crrodriguez', 'dplanella', 'garlick', 'goeranu', 'iustin', 'jankara', 'jkkm', 'jmaggard10', 'karelzak', 'keybuk', 'kvaneesh', 'lczerner', 'ldv-alt', 'mandree', 'meyering', 'mkatiyar', 'mrothNET', 'namhyung', 'nialv7', 'nugroho', 'qboosh', 'rd235', 'sandeen', 'sigprof', 'sthibaul', 'tim-seoss', 'tytso', 'vapier', 'CoP-Tom', 'HendersonSC', 'KyleVaughn', 'Qicang', 'djabaay', 'djwalter', 'ew4', 'jipuwang', 'jpjones6', 'laxderek', 'lukecornejo', 'maroonbear', 'mattkab2', 'mbairdphys', 'mgjarrett', 'rks171', 'sooyoung0321', 'stimpsonsg', 'tghaddar', 'thfolk', 'wgurecky', 'yl5', 'youngmit', 'zdodson94', 'zhuoranh', 'CodeShtuff', 'Jin-Sun-tts', 'eric-asongwed', 'hareeshreddyg', 'jasonschulte', 'kmanaseryan', 'kvuppala', 'neilhunt1', 'random415', 'srinirei', 'sstevens21', 'starsinmypockets', 'thejuliekramer', 'visar', 'woodt', 'ColdFusionX', 'genericcontributor', 'paulbadcock', 'ryansisco', 'ColinKohler', 'JoshRackers', 'L-sky', 'Linux-cpp-lisp', 'dmadisetti', 'frellsen', 'jatentaki', 'jkhales', 'jnooree', 'marcelroed', 'mariogeiger', 'mister-bailey', 'mixarcid', 'mjwen', 'muhrin', 'simonbatzner', 'sophiaas', 'wouterboomsma', 'jbergler', 'CoryAtTruss', 'Igarfinkle', 'LeDeep', 'Leofscott', 'NamibiaTorres', 'PDickeyTruss', 'Ronolibert', 'Ryan-Koch', 'SirenaBorracha', 'StuTruss', 'YanZ777', 'donaldthai', 'duncan-truss', 'dymonmoore', 'eamahanna', 'elliottdotw', 'esacteksab', 'felipe-lee', 'gidjin', 'hannaliebl', 'jacquelineIO', 'jeffsclark', 'jenniferlynparsons', 'jesset-truss', 'jim', 'jneuner-mitre', 'jsarnovsky', 'kahlouie', 'kctruss', 'kennethchow-truss', 'kilbergr', 'kimallen', 'kylehilltruss', 'leia-sefkin', 'lynzt', 'macrael', 'mandaem', 'mboren', 'mdawn', 'mergify[bot]', 'michaelvaldes-truss', 'mikena-truss', 'mkrump', 'mlm55', 'mmayo-truss', 'monfresh', 'mr337', 'nelztruss', 'noelledusahel', 'ntwyman', 'nyanbinaryneko', 'pearl-truss', 'pjdufour-truss', 'pmohal', 'ralren', 'rdhariwal', 'reggieriser', 'ronaktruss', 'rswerve', 'ruizajtruss', 'sandy-wright', 'sarboc', 'scottmries', 'sheenamt', 'shimonacarvalho', 'shkeating', 'sojeri', 'stangah', 'tenshiemi', 'tinyels', 'travelar', 'willowbl00', 'CowanSM', 'SiggyF', 'TobiasKipp', 'dblodgett-usgs', 'dokai', 'ict4eo', 'iguess', 'ldesousa', 'mbertrand', 'mhermida', 'ochriste', 'rclark', 'rhattersley', 'rsignell-usgs', 'segv01', 'selimnairb', 'severo', 'dstndstn', 'esheldon', 'iMichka', 'kadrlica', 'menanteau', 'rmjarvis', 'saimn', 'sbailey', 'simonrw', 'ussegliog', 'CreeKee', 'JeffOlsen-SLAC', 'ddoering', 'jesusvasquez333', 'jgthayer', 'jkprudhomme', 'jmdewart', 'king-pietro', 'leosap', 'lorenzrota', 'mkwiatko', 'mvodnik', 'ruck314', 'sioan', 'thatweaver', 'till-s', 'ulegat', 'vanxiong', 'CrimsonK1ng', 'l50', 'CvX', 'JCallicoat', 'dillona', 'edmundsalvacion', 'francois', 'minter', 'niels', 'sasimpson', 'slyphon', 'smathy', 'technoweenie', 'tfe', 'tobowers', 'xaviershay', 'xinuc', 'Cwilli33', 'katucker', 'DEVELOPgeo', 'Smewhen', 'DJensen94', 'KeithBonesJr', 'Matthew-Grayson', 'RoddyFJ', 'ValeriaReveles', 'epicfaace', 'jhackshaw', 'joshhighet', 'kitley197', 'lfilip-ivaal', 'mbachtell-nais', 'milesmcc', 'plowary', 'rc-raizen', 'royyblume', 'sramaswami11', 'DKilkenny', 'JustinSGray', 'Kenneth-T-Moore', 'dpsanders', 'ehariton', 'eshendricks', 'hschilling', 'hwangjt', 'jdgratz10', 'joel-martin', 'johnjasa', 'kanekosh', 'kaushikponnapalli', 'kmarsteller', 'lamkina', 'm-derra', 'mjfwest', 'naylor-b', 'nsteffen', 'pgkirsch', 'swryan', 'tadkollar', 'wright', 'DLWoodruff', 'esrawli', 'jeanpaulwatson', 'jwatsonnm', 'DStoloff', 'tomgiancola', 'gillette7', 'juan42', 'rhebergens', 'tangqi', 'DanBerrios', 'JieD', 'NijaShi', 'harleigh', 'rohan5a', 'DanRaudonisTC', 'Dithy-Balaji', 'DithyBalaji', 'SSgtKRich', 'fpigeonjr', 'lanebecker', 'maomeara63', 'mattkasten', 'mecedaa', 'mmcmanusOMB', 'nfraseromb', 'plummer-flex', 'qhirschomb', 'qmanderson1', 'smaromb', 'sstatz', 'thebestsophist', 'werdnanoslen', 'wesley-dean-gsa', 'willcahoe', 'wliberanteomb', 'DanSmith70', 'Givemeup', 'PhiloNL', 'dfreerksen', 'erkattak', 'fborraccetti', 'ggoforth', 'hasokeric', 'jacksonj04', 'jamierumbelow', 'jerel', 'juanatgmo', 'marine675', 'mileswebdesign', 'rhbecker', 'ruthlessfish', 'sekati', 'simontech', 'sskylar', 'swas', 'zaherg', 'zoster', 'Michael-Hanley', 'Nosferican', 'jbjonesjr', 'jmhorn2015', 'jordanpapaleo', 'k-cogswell', 'nkorrapa', 'normanbrobinson', 'DanielRichtmann', 'detar', 'grokqcd', 'jcosborn', 'kostrzewa', 'Darkside73', 'RicSwirrl', 'desheikh', 'lloeki', 'maxd', 'metaskills', 'mynameisrufus', 'pemulis', 'sabril', 'simi', 'spider-network', 'stratequip', 'thejonanshow', 'trentclowater', 'vickash', 'David-Blubaugh', 'jahangiriqbal-rei', 'tddpirate', 'ziadhaddad', 'DavidGoldwasser', 'JanghyunJK', 'TShapinsky', 'howardcheung', 'tijcolem', 'frothga', 'fywang', 'mxz297', 'nrbarton', 'srini009', 't-nojiri', 'timmah', 'TylerDixon', 'gavbaa', 'kylemoran', 'toaster33', 'vbudhram', 'JimmySpivey', 'YAmikep', 'eRadical', 'erikjwaxx', 'ernestas-poskus', 'gomes', 'hedii', 'mtpereira', 'nickjj', 'oaleynik', 'rathboma', 'slapers', 'splitice', 'zephyrean', 'Dbones202', 'DebbieMorford', 'DeemOnSecurity', 'KennethMLdk', 'genericdevname', 'greyl0cke', 'itsreallynick', 'julianblanco', 'surbo', 'DefenseDigitalService', 'HusseyDDS', 'dreeeeewwwww', 'emilybowman', 'jhackshaw-dds', 'kathleeareeclark', 'marieksmith', 'paultag-gov', 'ptzimmerman', 'racheldds', 'willgov', 'DeniseWorthen', 'JFLemieux73', 'TillRasmussen', 'duvivier', 'lettie-roach', 'mhrib', 'phil-blain', 'rallard77', 'rgrumbine', 'DevSolar', 'miyulz', 'taketwo', 'theMarix', 'GarrettDMorrison', 'LennartNoordsij', 'halehawk', 'jwsblokland', 'maddyscientist', 'mohamed', 'salasoom', 'william-silversmith', 'wmamrak', 'Dmac26', 'Maca30', 'MelissaBraxton', 'Rebekah-Hernandez', 'hannahkane', 'lisaredux', 'msadakFS', 'DnOberon', 'Irrationalist', 'ebohneyINL', 'inl-labtrack', 'jack-cavaluzzi', 'jerenmb', 'kwilsdon', 'nwoodr94', 'samthuey', 'taylorashbocker', 'DocEmmetBrown', 'jamesmacwhite', 'jnovinger', 'kboratynski', 'laurentquillerou', 'lpirl', 'markruys', 'mboelen', 'mpepping', 'noone-silent', 'paldiz', 'pyllyukko', 'ratrop', 'rhyven', 'rsmith-nl', 'stefanomarty', 'technimad', 'toniblyx', 'yilas', 'zltl', 'DoctorEww', 'Pascal-0x90', 'gusmann', 'jcpunk', 'terlyga', 'DrOppenheimer', 'indiagordon', 'jaredwilkening', 'sage-service-user', 'teharrison', 'wgerlach', 'DrewLazzeriKitware', 'FabianGasper', 'ROBDEROOIJ', 'elena-leo', 'grapp1', 'i-ferguson', 'ian-bertolacci', 'jsacerot', 'jswilley-csm', 'kulkarni1', 'kvrigor', 'lecondon', 'nbengdahl', 'niklaswr', 'reedmaxwell', 'sluehrs', 'smithsg84', 'vineetbansal', 'xy124', 'zperzan', 'Dustin-Walker', 'imartinezortiz', 'rneatrour', 'DylanAPDavis', 'JeremyPlante', 'MeanRollerCoding', 'haniotak', 'sartaj10', 'DylanMcKinney', 'JaeseungYeom', 'KIwabuchi', 'LukeJaffe', 'fiedorowicz1', 'graham63', 'jslenderman', 'lukebroskop', 'mrwyattii', 'naoyam', 'ndryden', 'oyamay', 'samadejacobs', 'soumyadipghosh', 'spears9', 'szaman19', 'tbennun', 'timmoon10', 'tnat410', 'wderekjones', 'Dynorat', 'ejsimley', 'joejoeyjoseph', 'jordanperr', 'kthyng', 'moptis', 'nateagarwal', 'nbodini', 'sebastianpfaffel', 'Earthraid', 'Homerade', 'ebeidel', 'jdonis', 'kgkempe', 'mhotch24', 'morrisjosephd', 'oestrich', 'piercemcmanus', 'Ehesp', 'ludoo', 'oadetoye', 'redwyre', 'EitanEliahu', 'GalSagie', 'JoePerches', 'MonamAgarwal', 'MrBan', 'MurphyMc', 'RonSadlier', 'Samuel-Ghinet', 'Scorpiion', 'SkypLabs', 'StephenKing', 'WenyuZhang', 'ejj', 'ericsesterhenn', 'fleitner', 'fujita', 'gashev', 'giangi', 'giuseppelettieri', 'grg', 'hanxueluo', 'helmut-jacob', 'himangi774', 'hlrichardson', 'honkiko', 'horms', 'hzhou8', 'igsilya', 'istokes', 'javacruft', 'jbemmel', 'jessegross', 'jingax10', 'jkoelker', 'jnakajim', 'joestringer', 'jonavest', 'jrajahalme', 'justinpettit', 'ketotek', 'kevintraynor', 'kghost', 'kmindg', 'konghuarukhr', 'krivenok', 'larsks', 'leoh0', 'linyinvmware', 'ljakab', 'mainframe', 'marcodiegomesquita', 'mark-kavanagh', 'mauriciovasquezbernal', 'mchalla', 'mestery', 'minchnew', 'mshindo', 'nithinrajub', 'nitirohilla', 'numansiddique', 'orgcandman', 'otherwiseguy', 'padkrish', 'paramesh2012', 'petersenna', 'petrutlucian94', 'pl-semiotics', 'pmatilai', 'pmullaney', 'pommi', 'pshelar', 'ramirosen', 'raorn', 'ravikondamuru', 'readams', 'ricky-li-j', 'rlane', 'rlenglet', 'roampune', 'robhoes', 'russellb', 'sacren', 'salonijain12', 'samuel-gauthier', 'sashalevin', 'saumoh-cplane', 'sflow', 'shemminger', 'shettyg', 'shihhaoli', 'shorman-netronome', 'shushen', 'spil-jasper', 'srini084', 'sspans', 'sstjohn', 'stephenfin', 'strikov-canonical', 'sugyo', 'svinturis', 'takahashiminoru', 'tfherbert', 'tgraf', 'thomasgoirand', 'tpuhax', 'trasz', 'vStone', 'vgough', 'vireshk', 'williamtu', 'wuzhy', 'xushengping', 'yamt', 'yasuhito', 'yew011', 'yinpeijun', 'yoshfuji', 'zhuj1983', 'zoltanbalogheth', 'zoltankisslinaro', 'Elchin', 'gaobhub', 'gmanzini-LANL', 'jd-moulton', 'lipnikov', 'radhakrishnabl96', 'saubhagya-gatech', 'zexuanxu', 'zgxn', 'Elizscott', 'MothOnMars', 'lorawoodford', 'EllaKim9', 'KevinDuvall-HHS', 'griffindvs', 'jackbastian', 'milesleinsicloud', 'Engerrs', 'LondonAppDev', 'MrkGrgsn', 'Starl3n', 'TkTech', 'ZoranPandovski', 'etj', 'iaroslav13', 'jeanpommier', 'letmaik', 'mattcen', 'miguelbgouveia', 'smellman', 'tino097', 'torfsen', 'u10313335', 'Eo300', 'Jiahuic', 'erikjensen', 'gengwh', 'ibloss', 'intendo', 'j3mdamas', 'karinaliles', 'keith923', 'kmonson', 'kozlac', 'lfelberg', 'lwwilson1', 'mchun0630', 'pzli3', 'rubadub', 'sobolevnrm', 'speleo3', 'thgucb', 'tonigi', 'Eothred', 'KOLANICH', 'Sahasrara', 'Thrameos', 'gidden', 'hinerm', 'i2r-yeokh', 'icedwater', 'jayesef', 'joequant', 'justussc', 'kristi', 'littmus', 'marsam', 'matrixx567', 'michaelwills', 'michi42', 'nils-braun', 'ofek', 'originell', 'pitmanst', 'plurye', 'rmangino', 'shivdhar', 'tcalmant', 'tduberne', 'theHamsta', 'wigbam', 'Eric-Arellano', 'TimMensch', 'iabw', 'miracle2k', 'pjm17971', 'siavelis', 'EricKreinar', 'scott-silo', 'EricMGero', 'LeoCYang', 'Erich-BAH', 'jakePrest', 'ErikSArnold', 'FloorLamp', 'HalahAb', 'IrrationalDesign', 'MickinSahni', 'MyNameIsMissing', 'Rlord', 'ethanewing', 'fermayo', 'germanattanasio', 'hhz', 'intelliot', 'jamesisaacs', 'jamesmadhoc', 'jayvirdy', 'jkreft-usgs', 'jmax-fearless', 'joelr', 'joshuakfarrar', 'kevin-buttercoin', 'kpavlov', 'krbhavith', 'livethisdream', 'lord', 'loren', 'lsamuels-fearless', 'mattes', 'mdlima', 'moizjv', 'niksamokhvalov', 'noremmie', 'realityking', 'rmundstock', 'rohitcolinrao', 'sobstel', 'stetzer', 'styloa', 'swarzech', 'tmhammer', 'viclim', 'xmo-odoo', 'xunzhang', 'yogesh27', 'zdenekdrahos', 'ErikTCrosby', 'Nimesh-Patel', 'YFE7', 'jkariuki7', 'manandappa', 'sethbilliau', 'tuyendo2021', 'kjenningsGSA', 'kyle-jennings', 'EstefanCanmet', 'WBSON', 'EthanKing-pnnl', 'Seth1Briney', 'madelynshapiro', 'mindbender12', 'robin-maack', 'EvanMargiotta', 'ifthompson', 'rplzzz', 'sg0', 'FGuillaume', 'Lunarium-Host', 'MrSeccubus', 'RepsaJN', 'Sphaz', 'SteveSmiley', 'fspijkerman', 'packs', 'FLX-0x00', 'GildedHonour', 'JoseW3b', 'Ne0nd0g', 'PaulSec', 'SamSutt', 'Sekhmet', 'StrangeUSB', 'SwitHak', 'Thiago-Medeiros', 'gfrancqu', 'glennzw', 'gliptak', 'jonathaningram', 'jordan-wright', 'mattaura', 'mitprasoon', 'mnickels', 'quelsan', 'rcutmore', 'shuheiktgw', 'ssssdl', 'stusmall', 'svigne1', 'withshubh', 'xtrasimplicity', 'FabricioSMarin', 'sichendart', 'Fahima-Islam', 'JeanBilheux', 'SmithRWORNL', 'fanchercm', 'jmborr', 'mdoucet', 'peterfpeterson', 'rosswhitfield', 'wdzhou', 'FarmGeek4Life', 'GrantFujimoto', 'Jian117', 'Jungkap', 'SProst', 'Spencer-Smith', 'Tweety79rw', 'WEKarnesky', 'gslysz', 'j-mend', 'jbotaldrich', 'jianm1992', 'kauberry', 'plithnar', 'thingcubed', 'wilkinscs', 'williamdanielson', 'FatmaUVA', 'lomaxfrog', 'mariamkiran', 'nhanford', 'FeralFlows', 'mengqi-z', 'zarrarkhan', 'FilMarini', 'RobertGlein', 'jeinstei', 'joshcalebrobinson', 'FinitePhaseSpace', 'SosoTughushi', 'TomMcGlynn', 'Zlika', 'jburke-cadc', 'keastrid', 'maxnoe', 'mbtaylor', 'ritchieGitHub', 'vforchi', 'wcleveland', 'IoannaP', 'neboduus', 'oliverfoster', 'ryanrolds', 'samthill', 'webb-nickj', 'fperez', 'gingi', 'janakagithub', 'jhutchings1', 'levinas', 'mdejongh', 'n1mus', 'olsonanl', 'psnovichkov', 'rw2', 'sjyoo', 'slebras', 'srividya22', 'sspoon', 'thebenallen', 'Forbu', 'pn51', 'FrancisPoe', 'tomaldous', 'Fudoshiki', 'JamesChevalier', 'JangoSteve', 'fzxu', 'georgeclaghorn', 'gtd', 'guilleiguaran', 'hartator', 'htp', 'indirect', 'jeremy', 'jeroenvisser101', 'joliss', 'jordimassaguerpla', 'josevalim', 'juank-pa', 'kaspth', 'kenn', 'lucasmazza', 'lukaszx0', 'maclover7', 'mattmenefee', 'mrhead', 'negonicrac', 'nicolasleger', 'pic', 'prathamesh-sonpatki', 'purcell', 'pwnall', 'rafaelfranca', 'robertd', 'robertomiranda', 'rosenfeld', 'rubys', 'runephilosof', 'slbug', 'snowyote', 'stan', 'takkanm', 'teeparham', 'thegcat', 'tricknotes', 'webmat', 'FuerstT', 'GeorgeEvans0', 'JasonjawsII', 'JeremyPinhel', 'NeerajaVadlapudi', 'Zeelot', 'georgethomas', 'gerbyzation', 'gonzalez669', 'hasanen', 'iffy', 'inferiorhumanorgans', 'jstange', 'jtorreggiani', 'justgrimes', 'koos303', 'lpaulmp', 'md5', 'mindbreaker', 'mokevnin', 'mordae', 'mpapis', 'mwengren', 'osahon-okungbowa', 'pdelboca', 'pittut', 'pkuczynski', 'pvlltvk', 'rjrobinson', 'roll', 'seuros', 'svyatov', 'tobijb', 'udondan', 'unazed', 'viruzzo', 'waldvogel', 'webjedi', 'wunzeco', 'zr2d2', 'zwmcfarland', 'Fxe', 'vkcshl', 'GSAllewell', 'PjEdwards', 'Rock-Bautumn', 'ThibautGery', 'gweissman86', 'haikusky', 'jasonferrier', 'jeffcappellucci', 'jhheila', 'joubertredrat', 'ksk5280', 'martinzuern', 'mrahill', 'oakley808', 'perfaram', 'psusmars', 'razzius', 'reger', 'shaliko', 't-kwasnik', 'Gabino3', 'geocam-space', 'gitjwh', 'jrasky', 'rburhum', 'tamarmot', 'yglee', 'GarryLenz-SRA', 'hpatel1605', 'sax5', 'GaryHudmanAZGS', 'Geof23', 'IanBriggs', 'JohnJacobsonIII', 'jjgarzella', 'GeoffDanielson', 'gnailzenh', 'gnuoyd', 'jolivier23', 'liuxuezhao', 'matthewcurry', 'oserres', 'scottatchley', 'soumagne', 'yulujia', 'taylchas', 'GeremyClair', 'sarsees', 'stratkg', 'GertThiel', 'Mange', 'Marchino', 'UnderpantsGnome', 'gjb83', 'hamzakc', 'hannahwhy', 'huned', 'jashkenas', 'jasoncodes', 'jgradim', 'jmileham', 'jronallo', 'kjvarga', 'landlessness', 'lardawge', 'lparry', 'maxdemarzi', 'mgornick', 'mikepack', 'mrcsparker', 'mwmitchell', 'nbraem', 'nengxu', 'nz', 'outoftime', 'paulccarey', 'pcg79', 'raphaelcm', 'redox', 'rguggemos', 'robinst', 'salgadobreno', 'samgranieri', 'ssoroka', 'thbar', 'tmeasday', 'voxik', 'GhostofGoes', 'glattercj', 'jacdavi', 'jasoncontrib', 'jcrussell', 'jericks-sandia', 'jericks-umich', 'jerry-cruz', 'jfktrey', 'john-floren-gravwell', 'jpavlakos3', 'levilloyd', 'michaelwisely', 'mkunz7', 'mpopple', 'msymonds', 'mwisely', 'sdelliot', 'snl-brokerbot', 'x64x6a', 'GinaSierra', 'kjjarvis', 'GinoFazioNIOSH', 'NIOSH-Roger', 'giridhar', 'neilneyman', 'skeeJay', 'wcscholtes', 'Git2dachoppa', 'TravisBres', 'WSmith01', 'gtallen1187', 'jeffkause', 'jr8359', 'michelle-rago', 'mkallon22', 'smarina04', 'travisd-nws', 'zbraiterman', 'hofmockel', 'SaiSharathParsi1995', 'SudiptaBiswas', 'WilkAndy', 'YaqiWang', 'hoffwm', 'hrishiv', 'jain651', 'jiangwen84', 'lmpeterson', 'mguddati', 'mriganabh', 'recuero', 'reverendbedford', 'ssbodda', 'sveerara', 'vprithiv', 'zachmprince', 'GlazerMann', 'Gluttton', 'Oliviers-OSS', 'jnsat', 'kfitch', 'kindkaktus', 'kwadrat', 'mathbunnyru', 'ptomulik', 'sorbits', 'yazug', 'GoodwillComputingLab', 'Tirthak', 'WolfLink', 'khnikhil', 'mtweiden', 'GordStephen', 'MRossol', 'MartySchwarz', 'grantbuster', 'ianfiske', 'icherny44', 'jennielu92', 'mattirish', 'oconnellm', 'sarahawara', 'siersb9e', 'sinnott', 'JoonYongLee', 'picowatt', 'GregorCH', 'hustkisas', 'iSoron', 'GrossBJ', 'quang-ha', 'zishengye', 'Matthew-Boyd', 'hivanov-nrel', 'kbrode22', 'mfaltas-sandia', 'parangat94', 'rpauly18', 'HELICS-bot', 'HimanshuJain17', 'Jacobhansens', 'MuMonish', 'OwenArnold', 'SimonHeybrock', 'hgngo', 'jcfuller1', 'jl-wynen', 'kerim371', 'manoj1511', 'nightlark', 'nitin-barthwal', 'parthb83', 'petersteneteg', 'phlptp', 'shwethanidd', 'slashgk', 'trevorhardy', 'vbarsuk', 'HIGGO36', 'higgo3636', 'jfinest', 'millerbennett', 'minjungb', 'mkayan', 'phirephox', 'r1teshkumar', 'ray760', 'tma001', 'yogeshgadge', 'HJ-UCSD', 'philipsoutham', 'vlall', 'wmburke', 'yih-en', 'joe-eklund', 'murray55', 'ngreco', 'tldahlgren', 'zekemorton', 'HarikaMunipalle', 'IceKareemy', 'SanjayGupta-REISys', 'Trigve-Hagen', 'nbandaru18', 'neelam-bandaru18', 'santoshGSA', 'vincedubay-rei', 'HarinarayanKrishnan', 'ThomasMaxwell', 'hvo', 'jbeezley', 'jccosta', 'jdeyton', 'leung25', 'mattben', 'mcenerney1', 'muryanto1', 'painter1', 'stefraynaud', 'stephenpascoe', 'tcpatt', 'tomvothecoder', 'williams13', 'zshaheen', 'HarrisonHall', 'JanC', 'MichaelRThompson', 'NPrincen', 'jnz', 'miltoncs', 'mrusme', 'nlsn', 'oberion', 'sanderdatema', 'YanfeiNREL', 'tanushree04', 'HelmJ', 'james-bird', 'HitMarkor', 'jhochhal', 'nightdr', 'shailshouryya', 'Hongjiequ', 'khanson1029', 'martbillinl', 'mattrwins', 'HoodedCrow', 'jariba', 'jasongho85', 'makroberts', 'mcgannc', 'meboyce', 'miatauro-NASA', 'mortacious', 'phmorris', 'tristanbsmith', 'walshie4', 'Hopper262', 'Huink7', 'orangehaze', 'sawyerh', 'IBPeng', 'mayagokhale', 'xiszishu', 'IDolgirev', 'ReadmeCritic', 'ScriptAutomate', 'jescholl', 'jperville', 'jtwarren', 'karmi', 'martinb3', 'michaelklishin', 'mitch-roblox', 'mohitsethi', 'momokatte', 'nathwill', 'nwadams', 'paulka', 'sT331h0rs3', 'salsa-dev', 'skyshard', 'thomasdziedzic-pd', 'tmortensen', 'JasonMWhite', 'JeffLong6', 'LRWeber', 'MMdeCastro', 'MacPatch', 'MrStevenFeldman', 'Peggy-Li', 'SeanPapps', 'SledKnight', 'XiaohuaZhangLLNL', 'janeelizabeth', 'jayvdb', 'johnlvogt', 'johnsonlva', 'keknight', 'kirshner1', 'landajuela', 'lostmyhat', 'marybethwest', 'mauzey1', 'mkluge', 'moschlar', 'mshensley', 'nelsonjc-osti', 'nensor', 'nicolae-stroncea', 'nikhil-jain', 'noguchi-k', 'omhafez', 'osamot', 'parkr', 'pawpepe', 'planetmarshall', 'rcthomas', 'regier1', 'richards12', 'robbi5', 'rocheller123', 'rogerpearce', 'rountree', 'scott-walker-llnl', 'spanezz', 'steiltre', 'stooksburysl', 'surajioe', 'tadhg-ohiggins', 'tahsinreza', 'thatch', 'twelsch1', 'vowelllDOE', 'xavierandrade', 'xorJane', 'IanTeda', 'ImanHosseini', 'jennfshr', 'ImgBotApp', 'JeffreyFG', 'Xiangs18', 'paulmure', 'prathmesh4321', 'shahzebsiddiqui', 'wspear', 'Irubataru', 'walkloud', 'ItsNotYou', 'JAntonioPerezSandia', 'japlews', 'jilpi', 'lbmunda', 'lxmota', 'mdmosby', 'pierrepebay', 'rjones-sandia', 'stmcgovern', 'uhetmaniuk', 'JBPayne007', 'JillTunick', 'jzepp', 'pkothare', 'powellamaranth', 'rsherwood-gsa', 'techliaison', 'Julius-Plehn', 'MichaelMcKinsey1', 'Omer-Sharif', 'kawilliams', 'kisaacs', 'matthewkotila', 'ocnkr', 'JCAurre', 'KAClough', 'TaigoFr', 'ThomasHelfer', 'kazewong', 'mirenradia', 'mkunesch', 'paufigueras', 'rc634', 'zainabnazari', 'JCantu248', 'JEB12345', 'PerryBhandal', 'kmorse15', 'larajvv', 'mallorycdaly', 'ryan1248', 'simonkotwicz', 'srlessard', 'vsunspiral', 'zhu-edward', 'JJL772', 'untzag', 'JJarboeGSA', 'weirdscience', 'KedishaC', 'LuisGi93', 'ManojChalise', 'Mel-Leusch', 'PCrayton', 'SitoRBJ', 'SocGee', 'Vermyndax', 'kishorebabu12', 'lauraleppert', 'memelet', 'mjallday', 'openprivacy', 'ouadi', 'paskl47', 'paulcalabro', 'pchaigno', 'pezholio', 'pillarsdotnet', 'saez0pub', 'santiago-bassett', 'saydlette', 'singuliere', 'snaow', 'srudra', 'struan', 'tadwhitaker', 'timwis', 'tomlynch-gsa', 'tomquisel', 'yfuksenko', 'JLaoo', 'QiaoK', 'jyamu', 'kencasimiro', 'rawarren', 'zhangwei217245', 'JLaureantiPNNL', 'JTIvery', 'Jacob-Moore', 'rtohid', 'ryosukep', 'staleyLANL', 'JacobDomagala', 'jstrzebonski', 'marcinwrobel1986', 'mperrinel', 'nlslatt', 'philmiller-charmworks', 'pnstickne', 'ppebay', 'prwolfe', 'JacobNeumann88', 'joshuacolvin0', 'ryants', 'wshlavacek', 'JonathanPNNL', 'jeffdaily', 'palsmt', 'plnordquist', 'shapp546', 'thomas-edgar', 'Kgeorgouli', 'JakAlof', 'LasseSH', 'MDBrothers', 'jamitch-snl', 'johntfoster', 'jritta', 'jtostie', 'masoudbehzadinasab', 'thesaientist', 'JakeNunemaker', 'WilliamsTravis', 'kevybear', 'mmoniot', 'nikhar-abbas', 'pduff-code', 'pgraf', 'ppinchuk', 'ryannking', 'sbredenk', 'taylor-parsons', 'James-Crean', 'SandiSamuel', 'lee1043', 'matthewma7', 'James-OHara', 'jmcarter9t', 'JamesClonk', 'johnnydtan', 'malston', 'rkoster', 'stoyanr', 'yanhui', 'SherylMartin', 'jimdavis1', 'jplfaria', 'kellyhuang21', 'nixonpjoshua', 'plane83', 'pranjanutk', 'r2sunita', 'realmarcin', 'rroutsong', 'rsutormin', 'JamieStumpORNL', 'MattRolchigo', 'streeve', 'JasonGlazer', 'jugonzal07', 'supriyagoel', 'vijayvardhan94', 'weilixu', 'xingcx', 'yunjoonjung-PNNL', 'JayasreeSumangalaKumari', 'JeffLCoughlin', 'wyphan', 'JeremyMcCormick', 'lcdprod', 'mdiamon', 'mholtrop', 'omar-moreno', 'pbutti', 'sarahgaiser', 'JerryQian7', 'LSaldyt', 'keikojima02', 'pjuangph', 'shrutix', 'vikramshyam', 'rguo123', 'JieXiong9119', 'Ryoken', 'ThibaultMarzullo', 'markborkum', 'spanziera', 'jstrube', 'nrtallent', 'rdfriese', 'MattBBaker', 'krempel-pt', 'sanjaymsh', 'stoeckmann', 'vchuravy', 'JoeKleinschmidt', 'maheese', 'ntknguyen', 'rwashing523', 'JoeSc', 'Lucretiel', 'NiltonVolpato', 'Preston-Landers', 'WohthaN', 'Zannick', 'lgtm-migrator', 'marcelotrevisani', 'matthewwardrop', 'max-arnold', 'mueslo', 'nxsofsys', 'okeuday', 'pR0Ps', 'paulo-raca', 'raingo', 'rgeoghegan', 'ritze', 'stuertz', 'terencehonles', 'tnestmeyer', 'william-andre', 'zzzsochi', 'locascio-m', 'michaeljbrazell', 'misi9170', 'moprak-nrel', 'nataraj2', 'ndevelder', 'nicholasbl', 'rybchuk', 'sbidadi9', 'shashankNREL', 'JonNelson', 'maluke', 'paxan', 'pjenvey', 'JonathanJoa', 'kathycarothers', 'llienfec', 'mbrickn', 'pkfec', 'qqss88', 'rjayasekera', 'tmpayton', 'xtine', 'zsmith-fec', 'Joscha90', 'MaximeBaudette', 'JosephAllen', 'JosephArora', 'JuliaKB', 'SuperNerb', 'vipena', 'JosephCottam', 'JoshuaSBrown', 'marshallmcdonnell', 'robertslw', 'ssomnath', 'mikkdm', 'kayavila', 'samoehlert', 'solidgoldbomb', 'JustinBakerMath', 'SauravMaheshkar', 'markoburcul', 'pzhanggit', 'RainbowCache', 'rurata', 'walshahi', 'nwu63', 'thearn', 'toddrme2178', 'treforevans', 'Jwely', 'RitwikGupta', 'kwross', 'lancewatkins', 'mrb364', 'rbavery', 'stapleCamel', 'whturne3', 'ztmma', 'KCMOJohn', 'StephenOTT', 'leereilly', 'smathermather-cm', 'ReetBarik', 'mminutoli', 'neffrw', 'ppete', 'stoned-ape', 'KMnOFour', 'TeddyTesfaye', 'maneeshl', 'ml-git', 'originalname51', 'paruff', 'sheldonm', 'simbam1', 'simbamarufu1', 'svempati2006', 'tgudmund88', 'tjwdev', 'tsegay', 'tsegaygit', 'yashpatil', 'meadej', 'KarlLevik', 'KasperGam', 'kburova', 'klaskyhb', 'l33tlabs', 'menghanli', 'nickstanish', 'wo-amlangwang', 'KateMcCall-Kiley', 'rljacobuc', 'rloy', 'Katy-katy', 'SSRL-developers', 'lensonp', 'varchasgopalaswamy', 'KelseyHorowitz', 'pyvelepor', 'pziegfeld', 'setowns1', 'mattjorg', 'mjackson21', 'mshiyk', 'yaythecloud', 'KevinLee2', 'OCIOOAPS', 'syang-bizflow', 'taehobpm', 'youngjinz', 'RyanWollaeger', 'warsa', 'KirtusLeyba', 'mghinga', 'stevenhofmeyr', 'melaniepierce', 'nagilum2007', 'taeganw', 'Klortho', 'NLM-LucyE', 'stevenemrick', 'KoyamaSohei', 'shanedsnyder', 'Krebrov001', 'Xunjin', 'lhlawson', 'pathway27', 'rountree2', 'scoumeri', 'sidjana', 'ThrawnCA', 'thenets', 'volpino', 'KurtJacobson', 'NineNein', 'Ryan-McClanahan', 'YektaY', 'laispc', 'lvhuihui1988', 'mattgibbs', 'scalverson', 'tcope', 'vosarah', 'xresende', 'Kwpolska', 'KyleAMathews', 'ThomWright', 'petehunt', 'sebmarkbage', 'zpao', 'm1j09830', 'sei-dspooner', 'st0rmbl3ss3d', 'LBC0705', 'peckard', 'sgurung2018', 'umanzoor81', 'LCY-M', 'wdinkel', 'LLTommy', 'simonjupp', 'tburdett', 'Travis-S', 'msarovar', 'pyIonControl', 'robinbk', 'robpkelly', 'sserita', 'tjproct', 'LWisteria', 'LaVillaStargato', 'rclaus2', 'zixu', 'Lanyavikins', 'madduri', 'markxiao', 'pcamach2', 'liujake', 'svahl991', 'thomasuhoh', 'LaurenFormichella', 'rjmajma', 'titlecharacter', 'Lax', 'LukasKnuth', 'SegFaultAX', 'SethArchambault', 'lorensr', 'lzcabrera', 'markijbema', 'marshallshen', 'mjpieters', 'nolith', 'openbrian', 'opie4624', 'philips', 'pierredup', 'plusjade', 'pradeep1288', 'robot-c0der', 'rsertelon', 'sdball', 'sstarr', 'studiomohawk', 'subosito', 'tfm', 'tommyblue', 'vattay', 'xuhdev', 'Lbookman', 'Lcjacobpd', 'LeePlace', 'MattGaud2425', 'mindware', 'nchudiwale', 'rebel-one', 'rwhorton66', 'solipet', 'tbolt', 'thetif', 'Leimeroth', 'liamhuber', 'lxknll', 'muh-hassani', 'niklassiemer', 'pmrv', 'pyiron-runner', 'raynol-dsouza', 'samwaseda', 'srmnitc', 'sudarsan-surendralal', 'usaikia', 'LenaTrudeau', 'paulswartz', 'mattkimery-fed', 'scottmarks-gsa', 'LeonanCarvalho', 'Leonidas-Z', 'srwopschall', 'LichengWang', 'MaChenhao', 'meyerson', 'sunssss', 'umansky', 'LifeHasOrder', 's2t2', 'wongperson', 'LittleMeow', 'MPratt0123', 'phil-trinh', 'swson', 'Los Alamos, NM', 'whaeck', 'LouisJenkinsCS', 'mandysack', 'sarahharun', 'SebastienGardoll', 'mkjpryor-stfc', 'nathanlcarlson', 'philipkershaw', 'sturoscy-personal', 'vegasm', 'watucker', 'MDKempe', 'MEVincentPL', 'mikestok', 'nicoleslaw', 'MKSCertiPath', 'pretzbach', 'stvnewbold', 'RSpencer019', 'ryancoe', 'somerandomsequence', 'xieyupku', 'MacHu-GWU', 'octavialarentisgsa', 'rjlupinek', 'Madeeks', 'maxim-belkin', 'miguelgila', 'pditommaso', 'rukkal', 'uvNikita', 'MapsPy', 'nschwarz-aps', 'Marcus-Goeckner', 'MathesonBrett', 'pmercado23', 'randywoods', 'randywoods1', 'zenine07', 'MarcusHolly', 'MuktaHardikar', 'OOAmusat', 'TimBartholomew', 'Zhuoran29', 'shelman', 'srikanthallu', 'wigging', 'Maria-G', 'ZachNew', 'Mark-E-Hamilton', 'sfilippone', 'xlxif', 'mp49', 'mrkraimer', 'ulrikpedersen', 'MartinNowak', 'mtevruchte-trifork', 'rbnrye', 'rud', 'sebastianludwig', 'solita-timo-mihaljov', 'tkanemoto', 'tylerturk', 'wanyingw193', 'Mathnerd314', 'mattooca', 'tdgoodrich', 'x6A646C73', 'xydinesh', 'SeanPluemer', 'ssolson', 'rfvander', 'MatthewSteen', 'MehdiChinoune', 'tclune', 'weiyuan-jiang', 'shashashasha', 'tvanantwerp', 'MichaelHopwood', 'tgunda', 'MichaelRFairhurst', 'sutt0n', 'nellingwood', 'rohit-mp', 'srajama1', 'william76', 'MightyNerdEric', 'roynielsen17', 'thebestoneever', 'RobertLRead', 'Supreet7', 'YerraSarath', 'robf83', 'supreetkohli', 'wvmikep', 'MikhailDorf', 'milodorr', 'wihobbs', 'roxycintron', 'xtopher-', 'nanzifan', 'pchong90', 'victor-anisimov', 'mschatz', 'rdolson', 'shreddd', 'Muxelmann', 'PMeira', 'NTRobinson', 'NanmiaoWu', 'VitoCastellana', 'Naomilutz', 'zolanaj', 'NickFernandezPNNL', 'NickeZ', 'NomAnor', 'TBirkeHZB', 'peteut', 'rokvintar', 'NicolasRouquette', 'StevenJenkinsJPL', 'ronnielsen', 'plinss', 'riking', 'thekaveman', 'willchan', 'peroame', 'viswamannam', 'Octo-Hackathon', 'scottastanton', 'sreedharboggarapu', 'PKUliubaojian', 'STejas6', 'sanketsaurav', 'rasolca', 'staar', 'ubulling', 'PacoDu', 'torht', 'zyinhls', 'PatrickAuld', 'radishman', 'rsargent', 'pflarr', 'shusenl', 'Pheosics', 'rmahfuz', 'spacecataz', 'vaniakj', 'yiqunyu', 'wjge', 'wjarrighi', 'Zhyrek', 'stvdwtt', 'Prenabhatt', 'rajanangunoorigsa', 'rnangunoori-r7', 'RDmitchell', 'YGaoLBNL', 'RMFerencz', 'samuelpmish', 'zarahm', 'RikkiButler20', 'Rob-Mina', 'RyanRusnak', 'RobertTranter', 'RobinGeuze', 'tkrizek', 'yiyuandao', 'RoshanLKini', 'SenHuang19', 'RunzhouHan', 'Ry10', 'whophil', 'RyanDavies19', 'stefan-dalecki', 'RyanSibley', 'tyler1016', 'vivbutler', 'zeldawait', 'SVLuedtke', 'SVLuedtke-LANL', 'SalvatoreDiGirolamo', 'swelch', 'whit-schonbein', 'SamFurman', 'Samuelstein1224', 'SandraVillamar', 'wfvining', 'yjy1663', 'vreshniak', 'SebastianLuzynski', 'SimonLammer', 'snoopotic', 'stbenjam', 'wookietreiber', 'yankcrime', 'superusercode', 'Snell1224', 'VanshIntel', 'tom95858', 'valleydlr', 'woodard', 'vidanovic', 'Steven-Roberts', 'StuntsPT', 'tshead', 'T-Man-Stan', 'tkphd', 'TannerNielsen', 'WeizhaoLi2018', 'Tenzer', 'tomtaylor', 'tonymeng', 'zhangcheng', 'TestSubjector', 'wlandsman', 'Tharre', 'vwax', 'TheYorkWei', 'Valentin-Seehausen', 'vieks', 'voideanvalue', 'wincent', 'xuorig', 'yungsters', 'yuzhi', 'wberod', 'wjbabicz', 'wolfram-schmidt', 'zarija', 'World-Worst-Detector', 'XinyaoYI', 'yanyh15', 'YuxingQiu', 'Yaying-llnl-summer', 'zygyz', 'a-garcia', 'aagallag', 'adricnet', 'brimstone', 'busterb', 'ch0mler', 'a-hamm', 'aatchley', 'ajkhattak', 'dasvyat', 'dharp', 'ekikinzon', 'a-szegel', 'abjoshi-brcm', 'a1346054', 'aaronmbr', 'acooks', 'a1k12', 'akohlmey', 'amirgholami', 'kjappelbaum', 'a4894z', 'YudongYao', 'xiaodong-yu', 'aFrankLion', 'stewartboyd119', 'aacebedo', 'adrianlzt', 'aegypius', 'aacirino', 'aadeogun', 'acmancuso', 'amyd11', 'aaelmeli', 'dewenyushu', 'aagimene', 'acfisher', 'adk9', 'adorostkar', 'aharrison24', 'aholler2', 'akhilpatlolla', 'alalazo', 'alanw0', 'alcharal', 'alfredo-gimenez', 'andreanegri', 'aaindex', 'Steve1Fox', 'brendansheets', 'drkiettran', 'kyontz', 'oxbx06', 'aakoch', 'aaronesilvers', 'adamnbowen', 'andyjohnson', 'anserran', 'aalfonsi', 'aalikaram', 'amandacostello', 'chriscct7', 'christianbundy', 'kpspivey', 'lgrabuck', 'aannabe', 'adbacze', 'alfC', 'amandadumi', 'anbenali', 'bkclark', 'aarograh', 'apfitzge', 'begroh', 'benbreeden', 'bkochuna', 'bscollin', 'bwnf', 'maxposchmann', 'mtnwalker', 'parikshitbajpai', 'simunovics', 'aaron-bru', 'kasemir', 'laszlopataki', 'spelletier', 'wz2b', 'aaron-hutton', 'aaronbuchwald', 'aaron-tuor', 'aarontuor', 'abhyshr', 'drgona', 'klarson1197', 'mkfold', 'zhangchuangnankai', 'aaron-wilson-gsa', 'awichman', 'dgsearchdev', 'eigenpath', 'aaronburk', 'annepetersen', 'colinpmacarthur', 'aaroncblack', 'aaronskinner', 'abagusetty', 'abbotts', 'adam-sim-dev', 'aeshapar', 'agcapps', 'agrayver', 'aileenperez', 'akgillette', 'alecampos2009', 'am-oler', 'bblakeley', 'bd4', 'aaroncsolomon', 'cassidylaidlaw', 'copenhafer', 'dje04001', 'donleyac', 'geoffbays', 'harlankadish', 'kasimhelil', 'aaronknister', 'aebruno', 'agaur-lbl', 'agilmor', 'agroesslinger', 'ajw1980', 'alejluther', 'alexbers', 'asanchez1987', 'atombaby', 'bamb0u', 'basnijholt', 'basvandervlies', 'bcmundim', 'ben-witham', 'benglines', 'bennyh2023', 'bfgilmer', 'bhmevik', 'billbrophy', 'birc-aeh', 'mitchell-es', 'aaronmlarsen', 'flow-phys', 'laschiavo', 'rfmiotto', 'scrasmussen', 'aaronorosen', 'akampjes', 'ambikaarora', 'amittbose', 'anbu-enovance', 'andyhky', 'ankursh', 'anoobs', 'anupamchanda', 'arielt', 'ashwinds', 'asuka2001', 'aymerice', 'azhou-nicira', 'biot', 'blp', 'borkmann', 'christophjaeger', 'chriswright', 'chrisy', 'cloftus', 'coumbes', 'crbarker', 'daisuke-k', 'dalgaaf', 'dankm', 'dave-tucker', 'davem330', 'dcurran', 'ddiproietto', 'deshantm', 'dhowells', 'dpw', 'ebiken', 'aaronporter', 'ccchart', 'cflanary', 'adcastel', 'adrpo', 'aaronrea', 'arirubinstein', 'avanishp', 'avichalp', 'bean5', 'bitsofinfo', 'bolshoy', 'aaronsalmon', 'aileendds', 'aaronsnow', 'aashaikh', 'awly', 'g-yusufsn', 'gcsl', 'marcushines', 'mhines01', 'robshakir', 'arulalant', 'bjpitts', 'blanchardjeremy', 'chaosphere2112', 'charlesdoutriaux', 'dakoop', 'davis278', 'dnadeau4', 'doutriaux1', 'downiec', 'durack1', 'glacials', 'gleckler1', 'jpittman', 'aavilaherrera', 'TFerrel8', 'khyox', 'brodygov', 'samslattery', 't4c1', 'wavefunction91', 'abarciauskas-bgse', 'abbottry', 'artisticlight', 'bilts', 'brianalexander', 'abatyiev', 'atomgalaxy', 'chickenkiller', 'coolhandmook', 'abbey2017', 'charlie9578', 'abbeykos', 'adelevie', 'arghya88', 'arowla', 'benjaminstokes', 'berndverst', 'brandocalrissian', 'bridgetkromhout', 'brittag', 'cannandev', 'catherinedevlin', 'bademiluyi', 'mightynimble', 'mreese84', 'trevorlang', 'abbyoung', 'afoon', 'ahobson', 'akostibas', 'amitch23', 'bellex3', 'blvrd', 'brainsik', 'breanneboland', 'carterjones', 'cblkwell', 'chrisgilmerproj', 'chrisrcoles', 'christopherhuii', 'chtakahashi', 'abbypribis', 'akilandrews', 'eberleim', 'gmfricke', 'htasnim', 'abdelrahim-hentabli', 'aelizaro', 'abdennour', 'abedk', 'chaupt', 'coaxial', 'danvaida', 'digmore', 'froblesmartin', 'gebn', 'jamesla', 'jaydrogers', 'jojo221119', 'koenpunt', 'kostyrev', 'larsmaes', 'merqlove', 'pad92', 'pgilad', 'rdeknijf', 'rnestler', 'severinkaelin', 'tacchino', 'xino12', 'abessiari', 'ayanbiswas', 'ayenpure', 'abhinavvishnu', 'ajaypanyala', 'ajmay81', 'bjpalmer', 'cabe1980', 'charlesmsiegel', 'rlamothe', 'abhisaw', 'abhishekvp', 'abigailbishop', 'adam-m-jcbs', 'aisclark91', 'ajnonaka', 'alancalder', 'abigailsnyder', 'kdorheim', 'abisker', 'alexsmithRTI', 'abisner', 'aetx', 'aimeehungerford', 'ascheinb', 'cferenba', 'charest', 'ddaniel', 'emedwede', 'guangyechen', 'juanecopro', 'kwitaechong', 'rhalver', 'terwin', 'abksr', 'aitorplaza', 'alvarogonzalezsalcedo', 'andrew-platt', 'ashesh2512', 'ablelly', 'aeriforme', 'abnsy', 'abouchat', 'daveh150', 'anderbubble', 'ashleypittman', 'brianjmurrell', 'footpatch', 'jaidayal', 'abqowen', 'clintonstimpson', 'clmcbri', 'corefmark', 'mattlstaten', 'samitch', 'abrahamtovarmob', 'alokkrsharma', 'arjunsuresh1987', 'bhuvanendrakumarn', 'abrogley', 'alex-free', 'alexlin0', 'abrooks98', 'aingerson', 'akhillanger', 'alexander-sannikov', 'bcumming', 'bfaccini', 'mark-mb', 'absfarah', 'brianewing', 'cnanney', 'abshinn', 'ambarishnag', 'mdeceglie', 'nb137', 'abunimeh', 'bengineerd', 'bhill-slac', 'cdollar7', 'daniellee0115', 'jk0rah', 'mskoufis', 'nichollsharrisonj', 'nwhitehorn', 'russell-slac', 'valmar', 'abuonomo', 'drsteve', 'acasagran', 'agiorla', 'albiedahal', 'gambka', 'acbergan', 'acboland', 'cqslayton', 'greensteph', 'grovepar', 'acceleanu', 'dizeee', 'dpursehouse', 'gaieges', 'itzikb', 'leifmadsen', 'loicortola', 'acitrain', 'aclowes', 'ahaysx', 'acme-oui-admin', 'amyhhuang', 'ericblau', 'jfharney', 'jfharney77', 'kterry', 'lebanks', 'acouch', 'acrigby', 'actionjack', 'adgon92', 'adriagalin', 'akhon', 'amirrustam', 'awr', 'carljm', 'chbruyand', 'danielkza', 'darthwade', 'davekonopka', 'actions-user', 'asnodin', 'biboyd', 'eparish1', 'kennychowdhary', 'meriadegp', 'pjb236', 'pressiotravis', 'sdbond', 'activeshadow', 'aenkoji1', 'afbagwell', 'aherna', 'allisonmcampbell', 'beroset', 'bjwrigh', 'bmkelley', 'bobfox', 'bpalmintier', 'cdshann', 'chengsteven', 'corinnegroth', 'csymonds', 'devinc', 'djfritz', 'eranschweitzer', 'floren', 'aczietlow', 'cschwartz', 'cyberbutler', 'dmaciejak', 'adah1972', 'amklinv-nnl', 'amozzhuhin', 'adam-a-a', 'agarciadiego', 'aladshaw3', 'arao53', 'avdudchenko', 'carson-tucker', 'eyoung55', 'hunterbarber', 'jefalon', 'k1nshuk', 'lbibl', 'luohezhiming', 'adam-at-mobomo', 'amoose', 'bkautter', 'cwacht', 'jakevose', 'jgrevich', 'mikefab', 'phirefly', 'qizwiz', 'adam-mcdaniel', 'asgard-bot', 'bmcdanie', 'cianciosa', 'ckendrick', 'dlg0', 'eendeve', 'elwasif', 'haolu12', 'jburz2001', 'stefan-schnake', 'stonecoldhughes', 'adamamyl', 'akulisek', 'aliceh75', 'amercader', 'adambergman', 'anyaelena', 'adamcaron', 'adamdoe', 'adamdrake', 'adamhp', 'allink28', 'dwinchell', 'griffincollege', 'hanymorcos', 'n4thankim', 'robotad', 'adamjubert', 'anna-zhang', 'aj-prime', 'ajyounge', 'alehaa', 'andrew-weisman', 'andy-yoo', 'azzaea', 'bburnett66', 'ben-bay', 'bnicolae', 'bnikolic', 'boehms', 'bsubei', 'c-a-h', 'davidHysom', 'eleon', 'jburge', 'jozik', 'ketancmaheshwari', 'ncollier', 'skrieder', 'spagnuolocarmine', 'adampep', 'akhoubani', 'aobabko', 'adams-lisa', 'johnsonpatrickk', 'adamsalter', 'alexspeller', 'alsemyonov', 'andhapp', 'andrewvc', 'angelic', 'bkeepers', 'bmaland', 'bogdan', 'brownbeagle', 'brupm', 'canavese', 'christospappas', 'davekrupinski', 'djmaze', 'adamsfallen', 'bendudson', 'btalamini', 'davidbloss', 'kswartz92', 'aduth', 'agriffis', 'ahadc', 'ahinz', 'ahmednoureldeen', 'ajturner', 'akariv', 'alanswx', 'alexdntowe', 'alexstuart', 'alison-arnold', 'alozie', 'alyciamyozzi', 'amanifarooque', 'ambranu', 'ameshkin', 'amygriffis', 'amymok', 'andrew-craig-bea', 'annalee', 'anthonygarvan', 'anuveyatsu', 'arantxarecio', 'artfulaction', 'ashleykimbell', 'audrey-a', 'avdata99', 'bShen-REISys', 'billynguyen', 'bmathesonFEC', 'brfeld', 'brian-ruf', 'btalebian', 'cbukovac', 'chadmandoo', 'clementmouchet', 'cnlucas', 'cptechiegal', 'd3j906', 'datagov-bot', 'davemcorwin', 'davidmiller', 'djgarr', 'dlennox24', 'dogweather', 'dracos', 'dysonhug', 'fec-jli', 'fecjjeng', 'gocemitevski', 'hcaofec', 'heymatthenry', 'jason-upchurch', 'jimkreft', 'johnnyporkchops', 'lamontwalton', 'mngardner', 'mrclay', 'pixlkat', 'adehecq', 'alain-hoang', 'alexbielen', 'anand-bhat', 'angjenkins', 'badaczewski', 'bandrzej', 'bengm', 'bknowles', 'blkperl', 'brendansudol', 'buckley-w-david', 'carloseberhardt', 'cbartlett', 'coolya', 'danielnaab', 'donjo', 'dstufft', 'elucify', 'erik-burgess', 'esonderegger', 'gplocke', 'harlanyu', 'inetbiz', 'jabley', 'jezhumble', 'josephlhall', 'jrep', 'kimberbat', 'mathiasbynens', 'mlazzeri', 'mlissner', 'ademouy', 'adevress', 'jf6b', 'adfarth', 'bergwolf', 'cgsecurity', 'adina', 'blue42u', 'etpalmer63', 'adityakpandare', 'adityapakki', 'airaudofacundo', 'brog2610', 'alexandermerritt', 'alfadir', 'adl-trey', 'ajanderson1209', 'bharatpareek', 'brian-learningpool', 'cr8onski', 'nicksorrell', 'adllewellyn', 'daniellegervalis', 'adowling2', 'adrecord', 'adrian-lara', 'anchapin', 'aviveiros11', 'axelstudios', 'ajpowelsnl', 'e-aranda', 'jeanlucf22', 'monwarez', 'beutlich', 'jdrader86', 'aktfrikshun', 'cfx47', 'elliotwutingfeng', 'flat-data', 'gdasher', 'adyreson', 'bradystoll', 'bsergi', 'daniellevie', 'llavin13', 'aegger13', 'apra93', 'slacmshankar', 'aegugup', 'jwarner308', 'aekazakov', 'agreiner', 'bio-boris', 'blink1073', 'brettinanl', 'cbun', 'charleshtrenholm', 'cshenry', 'devoid', 'gkora', 'hhaun', 'jgurtowski', 'jonathan-ko', 'aematts', 'annapiegra', 'cbolisetti', 'eusefalee', 'humrickhouse', 'micahjohnson150', 'pghasse', 'simopier', 'singhgp4321', 'snschune', 'brynbarker', 'markstock', 'aevans10', 'andreftavares', 'bootstraponline', 'bschoenfeld', 'capablemonkey', 'chrissrogers', 'cmccain513', 'cvkef', 'davidstanley01', 'dmyers', 'altrine', 'amirian28', 'anusha-reisys', 'brady-gsa', 'bwillman', 'carodew', 'doug-sillex', 'dvvolodin', 'ericmdev', 'fitzwaterb', 'geramirez', 'jameshupp', 'jaypinho', 'jpang02', 'kfogel', 'lauraponce', 'rdkc', 'aferber', 'afrasier', 'dawelch', 'dreachem', 'intijk', 'tonycurtis', 'agalustyan', 'bob-fontana', 'dmercer-google', 'bne86', 'fcruzcscs', 'lagerhardt', 'agcolom', 'agilecreativity', 'jgsmith-usds', 'aglavic', 'aglaws', 'aglowacki', 'azure-pipelines[bot]', 'brunoseivam', 'j-marjanovic', 'jeonghanlee', 'jlmuir', 'kmpeters', 'agoodm', 'agstephens', 'alaniwi', 'andrewfhart', 'bouweandela', 'laliberte', 'larsbuntemeyer', 'navass11', 'noah-de', 'agrippa', 'alex-mckinley', 'angelali4096', 'davidozog', 'ireed', 'jpdoyle', 'kholland-intel', 'lyu', 'rdesai16', 'richardnorth3', 'srki', 'wrrobin', 'jamiebresch', 'kmorris3', 'chrisacbr', 'dwest77a', 'fgreg', 'gardoll', 'gavinmbell', 'joesingo', 'sernik-59', 'ahebnl', 'aheithoff', 'alecblase', 'apostolos-stamenos', 'aherrema', 'andrewning', 'dykesk', 'evan-gaertner', 'mibu9938', 'pgebraad', 'ahh', 'alexfrolov', 'baldas', 'bholt', 'bmyerz', 'luisceze', 'markoskin', 'nelsonje', 'simonkahan', 'ahmedmetin', 'akeeste', 'ahmednuaman', 'alettieri', 'bogdanvlviv', 'ai', 'amatsuda', 'andrewhaines', 'benpickles', 'bquorning', 'cannikin', 'carlosantoniodasilva', 'chancancode', 'cibernox', 'csommerauer', 'deleteme', 'digitalpardoe', 'dy-dx', 'ereslibre', 'francocatena', 'ai134', 'apsabelhaus', 'axydes', 'brtietz', 'chanwooyang', 'dhustigschultz', 'eajung', 'jbeisen', 'arshita-s', 'balto-sys', 'bpryan99', 'aidanbharath', 'b0ndman', 'browniea', 'calumkenny', 'dylanmayes77', 'aik7', 'ashermancinelli', 'airlie', 'alyubimov', 'ajavadia', 'ajaybal0082', 'dmclark17', 'kzibrahim', 'thom-popovici', 'ajmokotoff', 'codementum', 'hanelarrison', 'jgoodall', 'mikeiannacone', 'rlyspn', 'akhilpotla', 'avdelor', 'cgcgcg', 'eric-c-cyr', 'euphoricpoptarts', 'jennloe', 'jjwilke', 'ak47', 'akitaonrails', 'alextk', 'andrew', 'ascarter', 'baroquebobcat', 'betamatt', 'bitprophet', 'brugidou', 'bschwartz', 'carols10cents', 'cgriego', 'ckozus', 'dubek', 'duien', 'esad', 'everzet', 'flori', 'hobodave', 'iGEL', 'imbriaco', 'jamis', 'jhf', 'jjb', 'jnewland', 'johnf', 'jtrupiano', 'jweiss', 'kerryb', 'leehambley', 'marxarelli', 'mathie', 'maxim', 'mbailey', 'mcarpenter', 'mikegehard', 'mkocher', 'natacado', 'ndbroadbent', 'nickhoffman', 'nilbus', 'pgr0ss', 'phillip', 'philrosenstein', 'ppg', 'prathe', 'quatauta', 'rmm5t', 'rosscooperman', 'shame', 'skwp', 'snsdigital', 'sunaku', 'tinogomes', 'topfunky', 'willbryant', 'akamsteeg', 'alobodzinski', 'andreasstieger', 'angoca', 'apraile', 'asiebelt', 'atao60', 'beelsr', 'bluec0re', 'bodine', 'cnrat', 'compermisos', 'd4t4king', 'dminca', 'akennerly', 'crash0ver1d3', 'akey7', 'barker59', 'ccoulombe', 'cfrontin', 'dakotaramos', 'eberlea', 'gnscott', 'jp5000', 'jwalzberg', 'rjhanes', 'tjlca', 'akifoss', 'al-epo', 'aliceLedda', 'alvinxhan', 'andersonbrito', 'aniafijarczyk', 'astridgall', 'babarlelephant', 'cassiawag', 'akononov', 'dillonyost', 'draeger1', 'aksarburak', 'akstagg', 'andrewfu77', 'bgranzow', 'anirban89', 'gstreletz', 'kevinrosa', 'akumar01', 'davidclark1', 'althonos', 'alamnrel', 'bravelittlescientist', 'cofinoa', 'gmk6351', 'alanquits', 'arbennett', 'arezaii', 'aureliayang', 'basileh', 'callachennault', 'alansill', 'jsthrn', 'kevans32', 'alapidas', 'ashgillman', 'christiam', 'drwilco', 'felipemfp', 'fvisin', 'hroff-1902', 'ikonst', 'joe-antognini', 'alawibaba', 'amarathe84', 'asmaalrawi', 'bgeltz', 'chriswasser', 'cmcantalupo', 'dannosliwcd', 'dianarg', 'etano', 'fkeceli', 'hong9lol', 'kelmanbee', 'albertcrowley', 'angular-cli', 'austinPeel0', 'alberthartono', 'axelyamel', 'brnorris03', 'coscbui', 'coti', 'kimoji', 'nchaimov', 'nelsonth', 'nshaila', 'albertico-gov', 'bryaNgwa', 'buster-luke', 'gisHokie', 'gisva', 'jondandois', 'jsmigovsky', 'jtsengatfearsol', 'julinjustin', 'kchan1028', 'ldjomgoue', 'albertkklam', 'aperezdieguez', 'albertozeni', 'giuliaguidi', 'albertstill', 'charlieschwabacher', 'chentsulin', 'cletusw', 'devknoll', 'fson', 'holmesal', 'josephsavona', 'kassens', 'kossnocorp', 'lvarayut', 'mhart', 'sevki', 'sibelius', 'steveluscher', 'albireox', 'at88mph', 'aurel32', 'cbonnett', 'conda-forge-daemon', 'alchemistmatt', 'EifX', 'bj-webb', 'brianlamarche', 'cascam07', 'lmbramer', 'msimmond', 'ale5000', 'andrewellis55', 'bbahiam', 'alecbcs', 'alecmdunton', 'bwpriest', 'igoumiri', 'aledalgrande', 'attilagyorffy', 'brandonaaron', 'danlucraft', 'jasondavies', 'jcoglan', 'josephwilk', 'lvonk', 'pixeltrix', 'bwelton', 'cobb', 'jfmu', 'kento', 'picsel2', 'schulzm', 'timcramer', 'alekseyg', 'brendanlim', 'cowboyd', 'revgum', 'alenu', 'ant4res', 'mmirto', 'sandrofiore', 'christyberghoff', 'dasgituser', 'alexanderAKU', 'alexanderbock', 'bbradbury', 'jdrodjpl', 'jeffreyrhall', 'lucianpls', 'marchuffnagle', 'alexanderjwilson', 'alexdeathway', 'doizuc', 'oceancolorcoder', 'alexeypolyakov', 'alexrlongne', 'attom', 'ckrisgarrett', 'clevelam', 'david8dixon', 'jhchang-lanl', 'keadyk', 'kgbudge', 'carjug', 'halprin', 'jdeangelis-flexion', 'johndeange', 'jonnalley', 'jskinne3', 'mgwalker', 'ninamak', 'smcnu82', 'stevtek', 'tdonaworth', 'xlorepdarkhelm', 'alexspetty', 'austinhlopez', 'cmertan', 'cpreisinger', 'alexstrel', 'azrael417', 'ddkalamk', 'diptorupd', 'dmochi', 'eromero-vlc', 'm-schroeck', 'martin-ueding', 'artuuuro', 'monkishprawn', 'alfredfarris', 'algonba', 'angystardust', 'cadoming', 'gmarziou', 'havidarou', 'jesuslinares', 'aliang-gsa', 'ccampbell-gsa', 'dodsonm', 'hatfieldjm4', 'alichnewsky', 'da-wad', 'alienzj', 'bsiranosian', 'cmks', 'gaberoo', 'alihanks', 'bplimley', 'chunhochow', 'cosama', 'dhellfeld', 'jccurtis', 'markbandstra', 'micahfolsom', 'thjoshi', 'aliounis', 'alishutc', 'bigdave', 'bitdeli-chef', 'camelspeed', 'coding46', 'codyh', 'danielfone', 'daz', 'dbtek', 'fleeting', 'ggtools', 'heimdallcicduser', 'jcn', 'jkuchta', 'joewils', 'jogjayr', 'jpibarra1130', 'koomar', 'koriroys', 'kvannotten', 'alismx', 'antonbogatyrov', 'belucid', 'benwarfield-usds', 'bmaden-usds', 'alisoncallahan', 'danizen', 'davidanderson3', 'jonathanbona', 'spiros', 'swigder', 'vojtechhuser', 'alisonthieme', 'alitalib-gsa', 'alkino', 'allaffa', 'VittorioGabbi', 'henrymai', 'luigicapone', 'vitst', 'allalala', 'allcontributors[bot]', 'fgeorgatos', 'allevin', 'berquist', 'bpswenson', 'dogquixote', 'donofrio', 'ericvh', 'feldergast', 'fkaplan3', 'gvoskuilen', 'hughes-c', 'jaganh', 'jeacook', 'jleidel', 'jonas25007', 'jpkenny', 'jpvandy', 'jwang323', 'jwilso', 'lpsmodsim', 'luisfnqoliveira', 'mikepfrank', 'mrasquinha', 'otuncer', 'rhendry', 'scogginsnl', 'shavvn', 'sst-autotester', 'stkaplan', 'vjleung', 'almancill', 'andersonfreitas', 'arjan0307', 'barbergeek', 'bbenezech', 'brianhartsock', 'aloftus23', 'colin-tim', 'alok-mishra', 'alok-pr', 'ddiestra', 'jateeter', 'alonkukl', 'edyounis', 'ethanhs', 'altendky', 'barbogast', 'baztian', 'bvallant', 'caspervdw', 'dadokkio', 'alvaroaleman', 'amadio', 'badshah400', 'loximann', 'slyon', 'stephanlachnit', 'andreapiacentini', 'eong9', 'jwalterlarson', 'bendahrooge', 'cmdrkeene', 'cprodhomme', 'danswick', 'mbautin', 'mpasternacki', 'amarouane', 'amazon-auto', 'georgebearden', 'ambarb', 'tankonst', 'andrisfreimanis', 'aulwes', 'avvasen', 'djlittl', 'anarak', 'eclipsewebmaster', 'jarrah42', 'jayjaybillings', 'jiokmiso', 'jonahgraham', 'amcody', 'barentsen', 'gully', 'amdarr', 'armarkos', 'bradybray', 'hobywan', 'amelialdrew', 'cjoana', 'draenog', 'jamescook106', 'ameliav', 'anotheredward', 'argv0', 'beazil', 'boabjohn', 'bradh', 'brucebolt', 'bzar', 'cleder', 'davychiu', 'drmalex07', 'duttonw', 'ameyjadiye', 'amj133', 'edatrix', 'enitz', 'erose357', 'samaygarg', 'ToQoz', 'andrzejsliwa', 'ariejan', 'arturtr', 'chrisfrommann', 'jasonlally', 'jedwood', 'larsthegeek', 'mkdynamic', 'pavels', 'amramsden', 'arcbeckman', 'atrain440', 'brookarch', 'anabutko', 'Electro1111', 'ffard-lbl', 'anacso17', 'anleslac', 'colbychang', 'fernandohds564', 'flowln', 'gabrielfedel', 'gu1lhermelp', 'herodotus77', 'hmbui', 'jacquelinegarrahan', 'jbellister-slac', 'justincslac', 'kleleux', 'hydroo', 'ananddharne', 'conno1234', 'samirtouzani', 'andersp', 'steffi7574', 'andre-merzky', 'bertjwregeer', 'cmoussa1', 'andrewdeandrade', 'avaranovich', 'andrewkallai', 'fzahle', 'mrosemeier', 'pjstanle', 'rethore', 'andrewsmith4814', 'awatsongroks', 'csherline', 'darelf', 'davisl-doe-osti', 'andrewssierra', 'iamkobold', 'NOBLES5E', 'cawerkenthin', 'andym331', 'crvernon', 'deleted', 'ekpneo', 'iansaxton', 'iceboundflame', 'mallan', 'angelaherring', 'nray', 'angelctac', 'danmartn1969', 'gsmcnamara-ctac', 'hmarkman', 'isadr', 'jalvarado', 'kchin99', 'anigmetov', 'dmsm', 'aniketkt', 'aps-7bm', 'arshadzahangirchowdhury', 'atekawade', 'aubartlett', 'ysatapathy23', 'anilsonmez-simsoft', 'asafkaganbezgin', 'boreblanc', 'anishathalye', 'michalschott', 'antonyakushin', 'gertbenert', 'anumercian', 'sowmyab', 'anyacastillo', 'austinshort', 'darrylmelander', 'dilr', 'asparke2', 'bonnema', 'corymosiman12', 'elainethale', 'henryHorsey', 'jcollinsnrel', 'jmarrec', 'lefticus', 'nrelbuilder', 'aowabinr', 'aowenson', 'aparkin', 'dasgituser2', 'dproudGSA', 'apfournier', 'fang-ren', 'apobbati', 'd-amit', 'dannyk3941', 'dave-r', 'davezen1', 'djKianoosh', 'apphys', 'simWgpu', 'aprotyas', 'brightlywoven', 'davidleitw', 'apsmithk', 'cesaramh', 'ds604', 'aqwolfe', 'chrisbalbach', 'dnicholaspsd', 'edward-ellis', 'fieldkm', 'hecsonline', 'aradi', 'RKLindsey', 'baradi09', 'linneamk', 'nicolasbock', 'nirgoldman', 'oseikuffuor1', 'rk-lindsey', 'suve', 'tokshgithub', 'doug-ranken', 'hcm004', 'kae6114', 'ardunn', 'arfathpasha', 'bobcottingham', 'brettin', 'arichiv-usds', 'arjunqcd', 'bglaessle', 'bvds', 'cpviolator', 'cthomas0', 'evanberkowitz', 'fwinter', 'sunwayihep', 'yoonbo', 'arkenoi', 'blabla1337', 'dgcombs', 'arkilic', 'berryma4', 'chiahaoliu', 'shroffk', 'asides-esnet', 'sowmyabalasubramanian', 'vvidic', 'armintoepfer', 'SoapZA', 'emollier', 'nileshpatra', 'armtash', 'austinbyers', 'chunyong-lin', 'jacknagz', 'javuto', 'ljharb', 'ryandeivert', 'stoggi', 'arniebradfo', 'arno', 'btravouillon', 'degremont', 'thiell', 'arodri7', 'aromero6', 'arondobos', 'StephenPaul27', 'bje-', 'cpaulgilman', 'fenollp', 'janinefreeman', 'mjwagner2', 'n8blair', 'nickdiorio', 'sjanzou', 'arpachuilo', 'csteed', 'daver208', 'arpignotti', 'bkmgit', 'cchambreau', 'milthorpe', 'Ram3sh', 'arwyer', 'man4ish', 'asad-cdc', 'asadis', 'cdc-dpbrown', 'cdc-jtmiller', 'davidnitschke', 'dbrown-am', 'jkhoosal', 'mlamtahri', 'sparitala', 'zfj4', 'david-salinas', 'dfm', 'diederikb', 'hr203', 'itopcuoglu', 'jmusser304', 'petermcLBL', 'asarkar-parsys', 'aschult5', 'fourstepper', 'maxhoesel', 'radek-sprta', 'aschwanden1', 'Prapti-044', 'devkotasabin', 'ascott1', 'asedova', 'ashepherd', 'brandonnodnarb', 'carueda', 'charlesvardeman', 'cmungall', 'dr-shorthair', 'esip', 'esip-lab', 'graybeal', 'ignazio1977', 'jmkeil', 'pbuttigieg', 'smrgeoinfo', 'devspyrosv', 'extremeshok', 'konstruktoid', 'mgoodness', 'scadu', 'asitang', 'ericjunkins', 'giuseppetotaro', 'asonnenschein', 'ccaudill', 'chkhm', 'ghc20', 'jessicagood', 'jmatti', 'kimjpatten', 'lmusil', 'paulbruschi', 'carlobianchi89', 'astevens-pnnl', 'breheme', 'daveengel', 'dusktreader', 'asurunis', 'gena', 'gfabricio', 'asvetek', 'cbakalis-slac', 'attipaci', 'erikfk', 'athomps', 'tcgermann', 'atorrez', 'brettkettering', 'cadejager', 'dmlb2000', 'gransom', 'leicao88124', 'thewacokid', 'Webneko5438', 'bdnewto', 'pabaxley', 'aubreyeckert', 'beseng', 'jamesstidard', 'mbruggs', 'nevmart', 'tyleresterly', 'zstuart', 'augu5te', 'dmargala', 'heinzsamuel', 'milroy', 'kstreepy', 'avandecreme', 'drreynolds', 'avery-rock', 'btalami', 'oriolcg', 'baallan', 'bnoyestrd2', 'bschwal', 'gregjoyce', 'iramin', 'joncooknmsu', 'medberry', 'mjmac', 'narategithub', 'nichamon', 'nick-enoent', 'oceandlr', 'opengridcomputing', 'sindhu-106', 'avysk', 'awailly', 'cpliakas', 'eastokes', 'fti7', 'jerplaysbass', 'awelzel', 'codekazoo', 'aworkman', 'veden', 'jguterl', 'axelaris', 'bonzofenix', 'cromega', 'dpb587', 'fandrei', 'fbonelle', 'geofffranks', 'hannayurkevich', 'joseph-robertson', 'axla-io', 'earlcl', 'luiarthur', 'mikegros', 'natalieklein229', 'aydinbuluc', 'cankizilkale', 'esaliya', 'faridrashidi', 'gabe-raulet', 'isratnisa', 'roguzsel', 'ayobamiedun', 'kperry2215', 'azhuwei', 'edryan04', 'jpke', 'juanpgomez-gsa', 'tbadmus', 'bacaldwell', 'bantic', 'bluefuton', 'cjwoodwardtest', 'coreyward', 'christinahedges', 'fergalm', 'iancrossfield', 'mrtommyb', 'rpoleski', 'barf', 'edowson', 'emanuelen5', 'flyingk', 'osborn9', 'barnett', 'sjdeal', 'bbangert', 'dholth', 'dnouri', 'hampus', 'ianb', 'bbrelje', 'caflack', 'cagdass', 'smcagdomain', 'bdice', 'bkmi', 'blondegeek', 'borisfom', 'bdsullivan', 'cgroer', 'jlothian', 'beansrowning', 'beeman', 'beskytter', 'liangzhen', 'matt-wu', 'beinvisible', 'SyntaxRules', 'chiroptical', 'macdems', 'mcb30', 'bemalmbe', 'dkennelLANL', 'homebysix', 'liquidoshin', 'ltucci-LANL', 'ben-cunningham', 'dahuget', 'eaton-lab', 'harmsm', 'kannes', 'melund', 'bsevere', 'ctbarna', 'harrychauhan80', 'jcarbaugh', 'jpgsa', 'orthographic-pedant', 'benbenolson', 'interous', 'lionkov', 'benbowen', 'greensii', 'hleegwater', 'mwang87', 'oerbilgin', 'raad0102', 'tderond', 'brettcfriedman', 'holm10', 'ilonster', 'johnomotani', 'jpsauppe', 'koleso1v', 'llnl-fesp', 'orso82', 'trognlien', 'benfen', 'bgschiller', 'chrisvam', 'dawoodalnajjar', 'ddamiani', 'hanyubo', 'jackpines', 'kocianml', 'mwkhader', 'benjaminpope', 'JudithKorth', 'hpparvi', 'japp', 'benliebersohn', 'pinshuai', 'soumendrabhanja', 'bennettmcbrendan', 'brendanmcbennett', 'claytonpbarrows', 'wesleykendall', 'bertrandda', 'bethanyfrew', 'beyond', 'bfoster-lbl', 'eskirton', 'hsalamon', 'stronggit', 'sulsj', 'tylern4', 'bggardner', 'bruffridge', 'cjobrie', 'dtseidl', 'bhaprayan', 'bscot', 'jakehlee', 'wkiri', 'bilgeacun', 'collinmccarthy', 'cscully-allison', 'dhruvnm', 'ilumsden', 'jarusified', 'ptaffet', 'sappyb', 'stacismith', 'yarden-livnat', 'ctlee', 'srk', 'bhuiyantanveer', 'col11', 'jesunsahariar', 'telsethag', 'chuckcranor', 'frobnitzem', 'gbalduzz', 'jiangmi', 'maierta', 'mbianco', 'bigerl', 'bigwaivedave', 'paden-rumsey', 'dpilone', 'matyasselmeci', 'birkenfeld', 'erangre', 'hartmansm', 'jackdwyer', 'bisogni', 'bjbhatt', 'goracle', 'bjornaxis', 'blochl', 'doughdemon', 'dthadi3', 'ebfe', 'eugmes', 'joeydumont', 'lfourquaux', 'nkichukov', 'pfpacket', 'pipcet', 'blaiszik', 'jkubal2', 'npaulson', 'blakewford', 'coder3101', 'bluca', 'c-rack', 'blnicho', 'daviskirk', 'ghackebeil', 'mrmundt', 'nerdoc', 'ruaridhw', 'bloodyyugo', 'kvtsang', 'davidhua', 'rueiminl', 'wisotzky', 'bmedici', 'brylie', 'darylrobbins', 'bmitrauncc', 'ellishil48', 'jgallegocalderon', 'bnb32', 'dhetting', 'mikebannis', 'mjgleason', 'bnbuckler', 'mrwiggins1', 'shmiglani', 'bnmajor', 'darrencpagan', 'donald-e-boyce', 'joelvbernier', 'ovillellas', 'rachelelim', 'ryanrygg', 'saransh13', 'bnystrom', 'bobbyrossberg', 'cabeggio', 'pullmonkey', 'bobloblog', 'ckras34', 'bodo0909', 'gbomarito', 'kcarlson2915', 'mjacquel', 'bonicim', 'bpraggastis', 'brendapraggastis', 'dlarendt', 'ftheberge', 'ghproek', 'hagberg', 'noah-farris', 'linnea-palmstrom', 'patchett2002', 'carsonmould', 'marcgamell', 'boursiquot', 'erikgela', 'hansentm', 'ibrahimkrad', 'ikrad', 'pikr001', 'bpark1327', 'lirainer', 'yzhou601', 'bparrello', 'braceal', 'helicansitoula', 'cwschilly', 'tlamonthezie', 'yaleLeeNGA', 'braithwaite', 'jmikeowen', 'breakfastdub', 'gjmf', 'brendanhoran', 'fennm', 'lvazquez7', 'davisrbr2', 'deepdataprofilerteam', 'brendenpetersen', 'f-leno', 'glatt1', 'brennanxyz', 'browjm4', 'brentryanjohnson', 'brettceiffert', 'earnestdl', 'mmundy42', 'mshukla1', 'wtangiit', 'edietrich', 'gilman-mh', 'mattb112885', 'sebhtml', 'wangqion', 'mpemy', 'ohsh6o', 'paisley', 'sjthespian', 'brianlarkins', 'rpears0n', 'moosebuild', 'brianv0', 'danfrankj', 'john-bodley', 'brittsmth', 'silverman', 'sophiejandrews', 'pnkelly', 'broderickpt', 'bvstraalen', 'spiralgen', 'bronevet', 'bronevet-abc', 'connorimes', 'danielecesarini', 'brouse-charles-e', 'byrnHDF', 'hammad45', 'helmutg', 'houjun', 'jjravi', 'kaushikvelusamy', 'mierl', 'jamienunez', 'meganap', 'nzavoshy', 'tdj28', 'bryan-inl', 'bryanhe877', 'freedmanv', 'pnlfang', 'bsatoriu', 'jsjuni', 'melaasar', 'bshimanuki', 'marianomoscato', 'nandantumu', 'bsigrin', 'khusakuofm', 'michaelavs', 'paritoshdas', 'bungernut', 'ignarra', 'mwittgen', 'sanderbreur', 'sluitz', 'burcuozcelik', 'mdrocco', 'mfbalin', 'dcahal', 'dsueltenfuss', 'esamanas', 'h4u5', 'kupsch', 'racheljackson1', 'bwvoss', 'cometeer', 'hrak', 'caizixian', 'magnatelee', 'rbuch', 'reble', 'tgmattso', 'calebbraun', 'evanoffPNNL', 'fengly20', 'kanishkan91', 'ssmithClimate', 'xavier-gutierrez', 'callwardt', 'camtauxe', 'carson-sue', 'cmbiwer', 'dtorban', 'miketynes', 'ricardosida', 'canthony3', 'mjocasio', 'cappelaere', 'ckthomps', 'dtchou802', 'thomasastanley', 'carbonneau1', 'carchiere', 'cmurphyUSAID', 'globalspin', 'carl-tom', 'carl-wallace', 'carlatpnl', 'fracek', 'jalving', 'joshuahaddad', 'carljbai', 'ceballossl', 'curtispb', 'ginsburgnm', 'josephvoss', 'rmadamson', 'carlosfelix2', 'rhood23699', 'thepipster', 'imneedle', 'jhendersonHDF', 'castillr', 'dyates', 'cbears', 'katsmith133', 'cbravo135', 'cchang5', 'dabrantley01', 'ngarron', 'd33bs', 'dzhang-fec', 'cd-rite', 'jason-a-benda-navy-mil', 'russdj', 'YarakarajuR', 'cdeccio', 'edmonds', 'fcelda', 'julianbrost', 'multiflexi', 'pemensik', 'elizabeth-wainwright', 'cedricleroy', 'wholmgren', 'hcadavid', 'lauratitolo', 'cewarr', 'eddy16112', 'jpietarilagraham', 'cfoellmann', 'jmslbam', 'markoheijnen', 'cgentemann', 'cgvalic', 'ch3pjw', 'htnguye3', 'john-tiberius', 'prkunz', 'stephenmontgomerysmith', 'ulvgard', 'chandrakola', 'dixonrl', 'flamingofugang', 'changliao', 'changliao1025', 'TorstenRathmann', 'charliepnnl', 'claperle', 'charuleka', 'dschristianson', 'vchendrix', 'charvel02', 'dawsonpa', 'dmuterspaw', 'john-navomi', 'missilen', 'pwhitebe', 'technicalta', 'chedoom3', 'dafew', 'dafew02', 'daisynadauld', 'jaredwadsworth', 'jeffmyoung', 'josephdfrazier', 'cheizer', 'escobarj', 'chgorman', 'lisaclaus', 'lucyg16', 'michaelneuder', 'rknop', 'topazus', 'chitrak-banerjee', 'jbessac', 'sriharikrishna', 'chrisfinco', 'dylanj1752', 'hanskp', 'hendricks-nick', 'hiltbj-inl', 'inlguy', 'itsmostafa', 'izzy64', 'jekuipers', 'chrisknewman', 'gsupriyo2004', 'nncarlson', 'chrisogonas', 'chunhualiao', 'ouankou', 'christiancoleman', 'dbennerAcumen', 'nav0229', 'christopherburke', 'christopheredsall', 'jspark1105', 'davidslac', 'hblair', 'msdubrovin', 'tjlane', 'chrlehman', 'ddonkuro', 'judhy', 'dunn', 'dylex', 'jerrymannil', 'jrstjohn', 'kraused', 'orbea', 'patman-cp', 'pete4abw', 'sergio-correia', 'sevan', 'tSed', 'venkatpatnala', 'ycaibb', 'dnystrom1', 'jjaraalm', 'mkuchnik', 'chuckie82', 'gleisonsdm', 'hassansalehe', 'mschordan', 'peihunglin', 'xintin', 'starintheuniverse', 'ckhuang-lanl', 'ckloss', 'jker', 'kprocopio', 'tshaffe1', 'danielsjf', 'eibanez', 'cmd-ntrf', 'cmharr', 'karcaw', 'mjbach', 'xsswfm', 'heycatwonton', 'cndreisbach', 'dezzie', 'm3brown', 'codeinred', 'hnkolla', 'coderv', 'codyjrivera', 'jtian0', 'wenyugai', 'colibri-coruscans', 'coreyostrove', 'dnadlinger', 'enielse', 'jarthurgross', 'johnkgamble', 'jordanh6', 'kevincyoung', 'kmrudin', 'lnmaurer', 'gdfletcher', 'jkwack', 'tiwarian', 'computingfreak', 'dvstans', 'jbreet', 'compwron', 'kleb', 'copeland3300', 'magic-hat-trick', 'nealey', 'near-feign', 'cpailing', 'cpeterp', 'jjd5150', 'cponder', 'dmlorenzetti', 'fstshrk', 'hlngo', 'jhaack', 'lmburke', 'rlutes', 'timothykang', 'craigulmer', 'crockettz', 'cromwellPNNL', 'Pennycook', 'KristianNelson', 'kmongird', 'ninozul', 'csafta', 'odiazib', 'cssandlin', 'eedrummer', 'ehathaway', 'hadleynet', 'jmazella', 'khennessy2', 'kierk', 'mkbajzek', 'mrnosal', 'rdingwell', 'schreiaj', 'scotslass', 'ttaylor249', 'yaremissola', 'yzycode', 'csun31', 'sotorrio1', 'ctjacks5', 'ctvaugh', 'curiousrobin', 'cva2', 'dfw2', 'gslota', 'cynthiacarpenter', 'd3m188', 'kevin-davis', 'd4rkr41n', 'faithcoslett', 'grahamannett', 'jthaile', 'macbryc', 'tidepodz', 'z-priest', 'dacracot', 'wwkong', 'zbmorrow', 'dalton', 'dimzar', 'emily-grace', 'katporter', 'william-smith-pnnl', 'jorgediazjr', 'parente', 'sameera2004', 'gkovats', 'dfnWorks', 'jrif565', 'millerta', 'rajeshjpawar', 'satkarra', 'shane-mckinney', 'spchu', 'viswana71', 'r-bartlett-gsa', 'dsjense', 'ixjlyons', 'metal-oopa', 'mojoee', 'rusu24edward', 'sixpearls', 'johnpaulfarmer', 'kachok', 'dannymarks', 'micah-prime', 'scotthavens', 'pshirodkar', 'ullasjos', 'danparker-sts', 'dareumnam', 'jmythms', 'mitchute', 'ddale', 'mwiebe', 'dataplumber', 'ngachung', 'Yablargo', 'dv4harr10', 'grgras71', 'kcoble', 'king-alexander', 'mzack5020', 'scottdwallace', 'xlyk', 'myjnjb', 'nithinemu', 'davidandrzej', 'dawson6', 'jwhite242', 'davidbuttler', 'davidecox', 'davidemontanari', 'jodok', 'josephcsible', 'kciredor', 'lippertmarkus', 'mahnkong', 'neomantra', 'number5', 'onnimonni', 'roynasser', 'threeiem', 'davidraker', 'mwcarlson', 'davidsgr', 'tmdelellis', 'governmentSponsored', 'davidwhogg', 'reshel3', 'pfiled', 'dbrgn', 'dhowden', 'drewolson', 'ebardsley', 'eelcocramer', 'funkymrrogers', 'guotie', 'jburnham', 'jdowning', 'jehiah', 'johnboxall', 'mattk42', 'pidah', 'ploxiln', 'pmosbach', 'r4um', 'rhencke', 'rhoml', 'sgnn7', 'sricola', 'dcsale', 'deepakrajan', 'tbenz9', 'dehartb', 'TJPierce', 'macmalone1', 'nskaff', 'sdewitti', 'dsl3000', 'dgehringer', 'gertvangravity', 'ggomes', 'glev-doug', 'hanleyja', 'hariyerramsetty', 'ibarra-michelle', 'j-tafoya', 'jmacauley', 'kognise', 'konrad-gajewski', 'marcosfsch', 'pgunerud', 'rfdrake', 'sacharya-ith', 'sanjeevbaral', 'sempervent', 'srichmond', 'sriniwas-acharya', 'temetski', 'tynanford', 'ugirumurera', 'vacas', 'greg-1-anderson', 'johnennewdeeson', 'stevector', 'fruitfly1026', 'gihanpanapitiya', 'jeff-welsh', 'jeff788', 'jenna1701', 'judithrobinson', 'kmkeene', 'mashby95', 'mkdwhite', 'pghosh2', 'saipushpak', 'tancheng', 'timcjohnson', 'kortschak', 'narayandesai', 'stefantalpalaru', 'nksaunders', 'rodluger', 'gbacelli', 'dghoshal-lbl', 'LRamakrishnan', 'dgruber1', 'omalled', 'porterma', 'sking963', 'vvasylkivska', 'dheater', 'jjbskir', 'matthewdewey', 'srtalole', 'hindsjr', 'holzman', 'hguo', 'djjensen', 'mrahman15', 'malihass', 'sz512', 'isakrejda', 'lpezzaglia', 'Maigard', 'dominiqueplante', 'eugeneswalker', 'ilagunap', 'mknobi', 'simon111111111', 'tborsa', 'partha-gsa', 'dougadodge', 'justinbarno', 'dougwhitehead', 'lilybradley', 'dramanadham89', 'drbiogeo', 'drewwilliams06', 'ornlpmcp', 'drmohundro', 'drslmw', 'gdinh', 'hrluo', 'oamarques', 'younghyunc', 'hcgodinez', 'katmipt', 'marshalltc', 'kemercator', 'dsw22', 'dtrinh100', 'lollipopman', 'dverloc', 'saphira1410', 'tomjoht', 'jeeembo66', 'dwcramer', 'ecassady', 'dwijnand', 'dwmunster', 'ProficientInMath', 'jaredthomas68', 'paulf81', 'dynova', 'emitra17', 'ionif', 'eapark38117', 'kelrenmor', 'ecabuhay', 'jdturnage', 'makopov', 'jdhunt', 'troycrews', 'eelsirhc', 'hreising', 'elgeoman', 'philregier', 'NRELAdmin', 'ekschuman', 'theJoeBiz', 'erkkar', 'nickhrdy', 'eljohnson1', 'lpresto', 'emcgill', 'emporter', 'endyna', 'erg-hzhou', 'eorland', 'erichCompSci', 'player1537', 'erickaloz', 'goharShoukat', 'ericovis', 'ericrevans', 'kannan-gsa', 'erikawdavies', 'esgoodman', 'rectheworld', 'jasonlharvey', 'exowanderer', 'sainap', 'skgrunblatt', 'ezcrues', 'fahimcsebuet', 'faithnih', 'feb32d', 'fenahuhu', 'nbp-lbl', 'fieldsey', 'fmoessbauer', 'freemacj', 'ftesstess', 'jananth1', 'g-hsu', 'mark0071m', 'trainic', 'gabezuckerman', 'gaccawi', 'gsakevin', 'jaalfaro', 'minhchaudinh', 'mutationtesting', 'prem1980-GSA', 'rspeidel', 'ggruse', 'greg-gruse', 'greggruse', 'jslavin', 'planetmaker', 'r-xue', 'sappjw-noaa', 'tbowers7', 'jeanniton', 'kundavaram-kireet', 'gitbook-bot', 'holsappled', 'jfkaras', 'martin-springer', 'lauramoraes', 'giuspugl', 'jsavarit', 'keskitalo', 'mhasself', 'triskadecaepyon', 'tskisner', 'ziotom78', 'glosli', 'gmpdt', 'laaraujo', 'laaraujo-dnt', 'granrothge', 'granthutchings', 'jgattiker', 'gregthebusker', 'jgebhardt', 'jimfb', 'gsa-paul-pick-aluas', 'gsledbetter', 'gslloyd', 'michael-barrow-llnl', 'yongescobar', 'guillaume1982', 'guruofgentoo', 'rsyring', 'SynHDProject2', 'liuyangz', 'sei-jbooz', 'sei-mkaar', 'marcandre', 'marcel', 'nbibler', 'hkthorn', 'hmendo', 'hnajm', 'hnnajm', 'hr87', 'hseabolt', 'mciprianoCDC', 'urbagal', 'iauns', 'tanmaytirpankar', 'illuhad', 'indranilroychoudhury', 'Roni-ms', 'RossKunz', 'TessOldemeyer', 'lioneltoba', 'mamunur-ipe', 'michaelzicc', 'nmde', 'otancm', 'pressr-inl', 'ruby-nguyen', 'tbphil', 'timothy-stowell', 'veronika-vazhnik', 'yokeshire-inl', 'iprotasov', 'j-edelen', 'jtmurphyANL', 'otonck', 'j0hnL', 'santiagobetelu', 'normanmr', 'jamead', 'jamock', 'laura-king', 'lpiccoli27', 'vaivas', 'zdomke', 'jannamartinek', 'qualand', 'JordanRHiggins', 'jfenbert', 'jishac', 'lekeely', 'rwbutler4', 'sval-dev', 'jbennetthhs', 'jcchin', 'jdilger', 'p-sherratt', 'rbw', 'ryancurrah', 'nikwoj', 'pweiss', 'jennahamlin', 'MarcelaTorresOte7', 'jessie-magat', 'mortonfox', 'Jweers', 'jhorsgsa', 'jiangweiyao', 'vishaln79', 'jkafader-esnet', 'jlconlin', 'samueldeklund', 'joelibaceta', 'johelli', 'pkormos', 'robertson-mark', 'kelslund', 'kinchb', 'markoris', 'soumide1102', 'jreadey', 'lkilcher', 'oguya', 'metasim', 'mmenickelly', 'sneelz', 'jtkristoff', 'tasseff', 'ychen-hpc', 'justdiscinaround', 'paulbry', 'jvtrigu', 'mbastia', 'kalebswartz7', 'karenBibb', 'matthewOConnell', 'mikepark', 'slwood2', 'wtjones1', 'kashifliaqat', 'kashingtonDC', 'KodieMcNamara', 'Malcolm-Hale', 'MaryBethFoley', 'kypriano', 'mary741', 'mluxtoncms', 'nadyasoto', 'patra-volarath', 's28kiru', 'siva-kannan', 'keccers', 'keithboone', 'sellitforcache', 'salilmahajan', 'taryni', 'timryanb', 'kuprat', 'popher', 'rrenslow', 'leaver2000', 'ledjon-behluli', 'lee-busby', 'sylvieaubry', 'wealthychef1', 'lrossen', 'nravilla', 'pplb-kelley', 'z-matson', 'leijerry888', 'lymereJ', 'yanchenpnnl', 'lingda-li', 'stanfill-pnnl', 'lygaret', 'lzhimin', 't-li', 'mabritt131', 'tsbyq', 'mcmillan03', 'paldar', 'sei-amellinger', 'sei-jlarkin', 'sei-smcmillan', 'thom991', 'marklise', 'mattatnersc', 'mattchallacombe', 'terryhaut', 'matthewjdaigle', 'SarahStangl', 'trinicheng', 'ssullivangh', 'meisenbach', 'naoki-yoshioka', 'mgawan', 'sbeus', 'zuhlmann', 'miguelcoolchips', 'penmaher', 'tpeterka', 'tristanvdb', 'nikkasala', 'mwasfy', 'omegacore', 'rdudschus', 'vicnieto', 'nancejd', 'wdj', 'xi-yang', 'xwang149', 'volpet2014', 'palmtag', 'pmy', 'turner61', 'trahay', 'pdaether', 'peleser', 'targos', 'pjtinker', 'SpoiledInk13', 'sbromberger', 'prakashkut', 'r-sakamoto', 'SarithaPalleySBA', 'stanfill', 'wohler'))"
      ]
     },
     "execution_count": 54,
     "metadata": {},
     "output_type": "execute_result"
    }
   ],
   "source": [
    "check"
   ]
  },
  {
   "cell_type": "code",
   "execution_count": 68,
   "metadata": {},
   "outputs": [
    {
     "ename": "ValueError",
     "evalue": "Shape of passed values is (16116, 1), indices imply (16116, 2)",
     "output_type": "error",
     "traceback": [
      "\u001b[0;31m---------------------------------------------------------------------------\u001b[0m",
      "\u001b[0;31mValueError\u001b[0m                                Traceback (most recent call last)",
      "Cell \u001b[0;32mIn[68], line 1\u001b[0m\n\u001b[0;32m----> 1\u001b[0m check_df \u001b[38;5;241m=\u001b[39m \u001b[43mpd\u001b[49m\u001b[38;5;241;43m.\u001b[39;49m\u001b[43mDataFrame\u001b[49m\u001b[43m(\u001b[49m\u001b[43mcheck\u001b[49m\u001b[43m,\u001b[49m\u001b[43m \u001b[49m\u001b[43mcolumns\u001b[49m\u001b[38;5;241;43m=\u001b[39;49m\u001b[43m[\u001b[49m\u001b[38;5;124;43m'\u001b[39;49m\u001b[38;5;124;43msource\u001b[39;49m\u001b[38;5;124;43m'\u001b[39;49m\u001b[43m,\u001b[49m\u001b[43m \u001b[49m\u001b[38;5;124;43m'\u001b[39;49m\u001b[38;5;124;43mtarget\u001b[39;49m\u001b[38;5;124;43m'\u001b[39;49m\u001b[43m]\u001b[49m\u001b[43m)\u001b[49m\n",
      "File \u001b[0;32m~/projects/OSS/.venv/lib/python3.10/site-packages/pandas/core/frame.py:867\u001b[0m, in \u001b[0;36mDataFrame.__init__\u001b[0;34m(self, data, index, columns, dtype, copy)\u001b[0m\n\u001b[1;32m    859\u001b[0m         mgr \u001b[38;5;241m=\u001b[39m arrays_to_mgr(\n\u001b[1;32m    860\u001b[0m             arrays,\n\u001b[1;32m    861\u001b[0m             columns,\n\u001b[0;32m   (...)\u001b[0m\n\u001b[1;32m    864\u001b[0m             typ\u001b[38;5;241m=\u001b[39mmanager,\n\u001b[1;32m    865\u001b[0m         )\n\u001b[1;32m    866\u001b[0m     \u001b[38;5;28;01melse\u001b[39;00m:\n\u001b[0;32m--> 867\u001b[0m         mgr \u001b[38;5;241m=\u001b[39m \u001b[43mndarray_to_mgr\u001b[49m\u001b[43m(\u001b[49m\n\u001b[1;32m    868\u001b[0m \u001b[43m            \u001b[49m\u001b[43mdata\u001b[49m\u001b[43m,\u001b[49m\n\u001b[1;32m    869\u001b[0m \u001b[43m            \u001b[49m\u001b[43mindex\u001b[49m\u001b[43m,\u001b[49m\n\u001b[1;32m    870\u001b[0m \u001b[43m            \u001b[49m\u001b[43mcolumns\u001b[49m\u001b[43m,\u001b[49m\n\u001b[1;32m    871\u001b[0m \u001b[43m            \u001b[49m\u001b[43mdtype\u001b[49m\u001b[38;5;241;43m=\u001b[39;49m\u001b[43mdtype\u001b[49m\u001b[43m,\u001b[49m\n\u001b[1;32m    872\u001b[0m \u001b[43m            \u001b[49m\u001b[43mcopy\u001b[49m\u001b[38;5;241;43m=\u001b[39;49m\u001b[43mcopy\u001b[49m\u001b[43m,\u001b[49m\n\u001b[1;32m    873\u001b[0m \u001b[43m            \u001b[49m\u001b[43mtyp\u001b[49m\u001b[38;5;241;43m=\u001b[39;49m\u001b[43mmanager\u001b[49m\u001b[43m,\u001b[49m\n\u001b[1;32m    874\u001b[0m \u001b[43m        \u001b[49m\u001b[43m)\u001b[49m\n\u001b[1;32m    875\u001b[0m \u001b[38;5;28;01melse\u001b[39;00m:\n\u001b[1;32m    876\u001b[0m     mgr \u001b[38;5;241m=\u001b[39m dict_to_mgr(\n\u001b[1;32m    877\u001b[0m         {},\n\u001b[1;32m    878\u001b[0m         index,\n\u001b[0;32m   (...)\u001b[0m\n\u001b[1;32m    881\u001b[0m         typ\u001b[38;5;241m=\u001b[39mmanager,\n\u001b[1;32m    882\u001b[0m     )\n",
      "File \u001b[0;32m~/projects/OSS/.venv/lib/python3.10/site-packages/pandas/core/internals/construction.py:336\u001b[0m, in \u001b[0;36mndarray_to_mgr\u001b[0;34m(values, index, columns, dtype, copy, typ)\u001b[0m\n\u001b[1;32m    331\u001b[0m \u001b[38;5;66;03m# _prep_ndarraylike ensures that values.ndim == 2 at this point\u001b[39;00m\n\u001b[1;32m    332\u001b[0m index, columns \u001b[38;5;241m=\u001b[39m _get_axes(\n\u001b[1;32m    333\u001b[0m     values\u001b[38;5;241m.\u001b[39mshape[\u001b[38;5;241m0\u001b[39m], values\u001b[38;5;241m.\u001b[39mshape[\u001b[38;5;241m1\u001b[39m], index\u001b[38;5;241m=\u001b[39mindex, columns\u001b[38;5;241m=\u001b[39mcolumns\n\u001b[1;32m    334\u001b[0m )\n\u001b[0;32m--> 336\u001b[0m \u001b[43m_check_values_indices_shape_match\u001b[49m\u001b[43m(\u001b[49m\u001b[43mvalues\u001b[49m\u001b[43m,\u001b[49m\u001b[43m \u001b[49m\u001b[43mindex\u001b[49m\u001b[43m,\u001b[49m\u001b[43m \u001b[49m\u001b[43mcolumns\u001b[49m\u001b[43m)\u001b[49m\n\u001b[1;32m    338\u001b[0m \u001b[38;5;28;01mif\u001b[39;00m typ \u001b[38;5;241m==\u001b[39m \u001b[38;5;124m\"\u001b[39m\u001b[38;5;124marray\u001b[39m\u001b[38;5;124m\"\u001b[39m:\n\u001b[1;32m    339\u001b[0m     \u001b[38;5;28;01mif\u001b[39;00m \u001b[38;5;28missubclass\u001b[39m(values\u001b[38;5;241m.\u001b[39mdtype\u001b[38;5;241m.\u001b[39mtype, \u001b[38;5;28mstr\u001b[39m):\n",
      "File \u001b[0;32m~/projects/OSS/.venv/lib/python3.10/site-packages/pandas/core/internals/construction.py:420\u001b[0m, in \u001b[0;36m_check_values_indices_shape_match\u001b[0;34m(values, index, columns)\u001b[0m\n\u001b[1;32m    418\u001b[0m passed \u001b[38;5;241m=\u001b[39m values\u001b[38;5;241m.\u001b[39mshape\n\u001b[1;32m    419\u001b[0m implied \u001b[38;5;241m=\u001b[39m (\u001b[38;5;28mlen\u001b[39m(index), \u001b[38;5;28mlen\u001b[39m(columns))\n\u001b[0;32m--> 420\u001b[0m \u001b[38;5;28;01mraise\u001b[39;00m \u001b[38;5;167;01mValueError\u001b[39;00m(\u001b[38;5;124mf\u001b[39m\u001b[38;5;124m\"\u001b[39m\u001b[38;5;124mShape of passed values is \u001b[39m\u001b[38;5;132;01m{\u001b[39;00mpassed\u001b[38;5;132;01m}\u001b[39;00m\u001b[38;5;124m, indices imply \u001b[39m\u001b[38;5;132;01m{\u001b[39;00mimplied\u001b[38;5;132;01m}\u001b[39;00m\u001b[38;5;124m\"\u001b[39m)\n",
      "\u001b[0;31mValueError\u001b[0m: Shape of passed values is (16116, 1), indices imply (16116, 2)"
     ]
    }
   ],
   "source": [
    "check_df = pd.DataFrame(check, columns=['source', 'target'])"
   ]
  },
  {
   "cell_type": "code",
   "execution_count": 24,
   "metadata": {},
   "outputs": [],
   "source": [
    "import networkx as nx\n",
    "import matplotlib.pyplot as plt\n",
    "import numpy as np"
   ]
  },
  {
   "cell_type": "code",
   "execution_count": 26,
   "metadata": {},
   "outputs": [],
   "source": [
    "G = nx.Graph()"
   ]
  },
  {
   "cell_type": "code",
   "execution_count": 27,
   "metadata": {},
   "outputs": [],
   "source": [
    "for _, row in result_df.iterrows():\n",
    "    G.add_edge(row['source'], row['target'], weight=row['weight'])\n"
   ]
  },
  {
   "cell_type": "code",
   "execution_count": 35,
   "metadata": {},
   "outputs": [
    {
     "data": {
      "text/plain": [
       "2575859"
      ]
     },
     "execution_count": 35,
     "metadata": {},
     "output_type": "execute_result"
    }
   ],
   "source": [
    "nx.number_of_edges(G)"
   ]
  },
  {
   "cell_type": "code",
   "execution_count": 36,
   "metadata": {},
   "outputs": [
    {
     "data": {
      "text/plain": [
       "17185"
      ]
     },
     "execution_count": 36,
     "metadata": {},
     "output_type": "execute_result"
    }
   ],
   "source": [
    "nx.number_of_nodes(G)"
   ]
  },
  {
   "cell_type": "code",
   "execution_count": 21,
   "metadata": {},
   "outputs": [],
   "source": [
    "# List of CSV filenames\n",
    "csv_file = 'department_of_energy_edge.csv'\n",
    "\n",
    "\n",
    "# Read the CSV file into a DataFrame\n",
    "df = pd.read_csv(csv_file)\n",
    "\n",
    "# Create a graph from the DataFrame\n",
    "G = nx.from_pandas_edgelist(df, source='source', target='target')"
   ]
  },
  {
   "cell_type": "code",
   "execution_count": 22,
   "metadata": {},
   "outputs": [
    {
     "data": {
      "text/plain": [
       "10"
      ]
     },
     "execution_count": 22,
     "metadata": {},
     "output_type": "execute_result"
    }
   ],
   "source": [
    "Gcc = sorted(nx.connected_components(G), key=len, reverse=True)\n",
    "G0 = G.subgraph(Gcc[0])\n",
    "nx.approximation.diameter(G0)"
   ]
  },
  {
   "cell_type": "code",
   "execution_count": 23,
   "metadata": {},
   "outputs": [
    {
     "ename": "KeyboardInterrupt",
     "evalue": "",
     "output_type": "error",
     "traceback": [
      "\u001b[0;31m---------------------------------------------------------------------------\u001b[0m",
      "\u001b[0;31mKeyboardInterrupt\u001b[0m                         Traceback (most recent call last)",
      "Cell \u001b[0;32mIn[23], line 1\u001b[0m\n\u001b[0;32m----> 1\u001b[0m shortest_path_lengths_G0 \u001b[38;5;241m=\u001b[39m \u001b[38;5;28;43mdict\u001b[39;49m\u001b[43m(\u001b[49m\u001b[43mnx\u001b[49m\u001b[38;5;241;43m.\u001b[39;49m\u001b[43mall_pairs_shortest_path_length\u001b[49m\u001b[43m(\u001b[49m\u001b[43mG0\u001b[49m\u001b[43m)\u001b[49m\u001b[43m)\u001b[49m\n",
      "File \u001b[0;32m~/projects/OSS/.venv/lib/python3.10/site-packages/networkx/algorithms/shortest_paths/unweighted.py:199\u001b[0m, in \u001b[0;36mall_pairs_shortest_path_length\u001b[0;34m(G, cutoff)\u001b[0m\n\u001b[1;32m    197\u001b[0m \u001b[38;5;66;03m# TODO This can be trivially parallelized.\u001b[39;00m\n\u001b[1;32m    198\u001b[0m \u001b[38;5;28;01mfor\u001b[39;00m n \u001b[38;5;129;01min\u001b[39;00m G:\n\u001b[0;32m--> 199\u001b[0m     \u001b[38;5;28;01myield\u001b[39;00m (n, \u001b[43mlength\u001b[49m\u001b[43m(\u001b[49m\u001b[43mG\u001b[49m\u001b[43m,\u001b[49m\u001b[43m \u001b[49m\u001b[43mn\u001b[49m\u001b[43m,\u001b[49m\u001b[43m \u001b[49m\u001b[43mcutoff\u001b[49m\u001b[38;5;241;43m=\u001b[39;49m\u001b[43mcutoff\u001b[49m\u001b[43m)\u001b[49m)\n",
      "File \u001b[0;32m<class 'networkx.utils.decorators.argmap'> compilation 30:3\u001b[0m, in \u001b[0;36margmap_single_source_shortest_path_length_27\u001b[0;34m(G, source, cutoff, backend, **backend_kwargs)\u001b[0m\n\u001b[1;32m      1\u001b[0m \u001b[38;5;28;01mimport\u001b[39;00m \u001b[38;5;21;01mbz2\u001b[39;00m\n\u001b[1;32m      2\u001b[0m \u001b[38;5;28;01mimport\u001b[39;00m \u001b[38;5;21;01mcollections\u001b[39;00m\n\u001b[0;32m----> 3\u001b[0m \u001b[38;5;28;01mimport\u001b[39;00m \u001b[38;5;21;01mgzip\u001b[39;00m\n\u001b[1;32m      4\u001b[0m \u001b[38;5;28;01mimport\u001b[39;00m \u001b[38;5;21;01minspect\u001b[39;00m\n\u001b[1;32m      5\u001b[0m \u001b[38;5;28;01mimport\u001b[39;00m \u001b[38;5;21;01mitertools\u001b[39;00m\n",
      "File \u001b[0;32m~/projects/OSS/.venv/lib/python3.10/site-packages/networkx/utils/backends.py:633\u001b[0m, in \u001b[0;36m_dispatchable.__call__\u001b[0;34m(self, backend, *args, **kwargs)\u001b[0m\n\u001b[1;32m    628\u001b[0m \u001b[38;5;250m\u001b[39m\u001b[38;5;124;03m\"\"\"Returns the result of the original function, or the backend function if\u001b[39;00m\n\u001b[1;32m    629\u001b[0m \u001b[38;5;124;03mthe backend is specified and that backend implements `func`.\"\"\"\u001b[39;00m\n\u001b[1;32m    631\u001b[0m \u001b[38;5;28;01mif\u001b[39;00m \u001b[38;5;129;01mnot\u001b[39;00m backends:\n\u001b[1;32m    632\u001b[0m     \u001b[38;5;66;03m# Fast path if no backends are installed\u001b[39;00m\n\u001b[0;32m--> 633\u001b[0m     \u001b[38;5;28;01mreturn\u001b[39;00m \u001b[38;5;28;43mself\u001b[39;49m\u001b[38;5;241;43m.\u001b[39;49m\u001b[43morig_func\u001b[49m\u001b[43m(\u001b[49m\u001b[38;5;241;43m*\u001b[39;49m\u001b[43margs\u001b[49m\u001b[43m,\u001b[49m\u001b[43m \u001b[49m\u001b[38;5;241;43m*\u001b[39;49m\u001b[38;5;241;43m*\u001b[39;49m\u001b[43mkwargs\u001b[49m\u001b[43m)\u001b[49m\n\u001b[1;32m    635\u001b[0m \u001b[38;5;66;03m# Use `backend_name` in this function instead of `backend`\u001b[39;00m\n\u001b[1;32m    636\u001b[0m backend_name \u001b[38;5;241m=\u001b[39m backend\n",
      "File \u001b[0;32m~/projects/OSS/.venv/lib/python3.10/site-packages/networkx/algorithms/shortest_paths/unweighted.py:62\u001b[0m, in \u001b[0;36msingle_source_shortest_path_length\u001b[0;34m(G, source, cutoff)\u001b[0m\n\u001b[1;32m     60\u001b[0m     cutoff \u001b[38;5;241m=\u001b[39m \u001b[38;5;28mfloat\u001b[39m(\u001b[38;5;124m\"\u001b[39m\u001b[38;5;124minf\u001b[39m\u001b[38;5;124m\"\u001b[39m)\n\u001b[1;32m     61\u001b[0m nextlevel \u001b[38;5;241m=\u001b[39m [source]\n\u001b[0;32m---> 62\u001b[0m \u001b[38;5;28;01mreturn\u001b[39;00m \u001b[38;5;28;43mdict\u001b[39;49m\u001b[43m(\u001b[49m\u001b[43m_single_shortest_path_length\u001b[49m\u001b[43m(\u001b[49m\u001b[43mG\u001b[49m\u001b[38;5;241;43m.\u001b[39;49m\u001b[43m_adj\u001b[49m\u001b[43m,\u001b[49m\u001b[43m \u001b[49m\u001b[43mnextlevel\u001b[49m\u001b[43m,\u001b[49m\u001b[43m \u001b[49m\u001b[43mcutoff\u001b[49m\u001b[43m)\u001b[49m\u001b[43m)\u001b[49m\n",
      "File \u001b[0;32m~/projects/OSS/.venv/lib/python3.10/site-packages/networkx/algorithms/shortest_paths/unweighted.py:89\u001b[0m, in \u001b[0;36m_single_shortest_path_length\u001b[0;34m(adj, firstlevel, cutoff)\u001b[0m\n\u001b[1;32m     87\u001b[0m nextlevel \u001b[38;5;241m=\u001b[39m []\n\u001b[1;32m     88\u001b[0m \u001b[38;5;28;01mfor\u001b[39;00m v \u001b[38;5;129;01min\u001b[39;00m thislevel:\n\u001b[0;32m---> 89\u001b[0m     \u001b[38;5;28;01mfor\u001b[39;00m w \u001b[38;5;129;01min\u001b[39;00m adj[v]:\n\u001b[1;32m     90\u001b[0m         \u001b[38;5;28;01mif\u001b[39;00m w \u001b[38;5;129;01mnot\u001b[39;00m \u001b[38;5;129;01min\u001b[39;00m seen:\n\u001b[1;32m     91\u001b[0m             seen\u001b[38;5;241m.\u001b[39madd(w)\n",
      "File \u001b[0;32m~/projects/OSS/.venv/lib/python3.10/site-packages/networkx/classes/coreviews.py:293\u001b[0m, in \u001b[0;36m<genexpr>\u001b[0;34m(.0)\u001b[0m\n\u001b[1;32m    291\u001b[0m \u001b[38;5;28;01mif\u001b[39;00m node_ok_shorter:\n\u001b[1;32m    292\u001b[0m     \u001b[38;5;28;01mreturn\u001b[39;00m (n \u001b[38;5;28;01mfor\u001b[39;00m n \u001b[38;5;129;01min\u001b[39;00m \u001b[38;5;28mself\u001b[39m\u001b[38;5;241m.\u001b[39mNODE_OK\u001b[38;5;241m.\u001b[39mnodes \u001b[38;5;28;01mif\u001b[39;00m n \u001b[38;5;129;01min\u001b[39;00m \u001b[38;5;28mself\u001b[39m\u001b[38;5;241m.\u001b[39m_atlas)\n\u001b[0;32m--> 293\u001b[0m \u001b[38;5;28;01mreturn\u001b[39;00m (n \u001b[38;5;28;01mfor\u001b[39;00m n \u001b[38;5;129;01min\u001b[39;00m \u001b[38;5;28mself\u001b[39m\u001b[38;5;241m.\u001b[39m_atlas \u001b[38;5;28;01mif\u001b[39;00m \u001b[38;5;28;43mself\u001b[39;49m\u001b[38;5;241;43m.\u001b[39;49m\u001b[43mNODE_OK\u001b[49m\u001b[43m(\u001b[49m\u001b[43mn\u001b[49m\u001b[43m)\u001b[49m)\n",
      "File \u001b[0;32m~/projects/OSS/.venv/lib/python3.10/site-packages/networkx/classes/coreviews.py:342\u001b[0m, in \u001b[0;36mFilterAdjacency.__getitem__.<locals>.new_node_ok\u001b[0;34m(nbr)\u001b[0m\n\u001b[1;32m    341\u001b[0m \u001b[38;5;28;01mdef\u001b[39;00m \u001b[38;5;21mnew_node_ok\u001b[39m(nbr):\n\u001b[0;32m--> 342\u001b[0m     \u001b[38;5;28;01mreturn\u001b[39;00m \u001b[38;5;28mself\u001b[39m\u001b[38;5;241m.\u001b[39mNODE_OK(nbr) \u001b[38;5;129;01mand\u001b[39;00m \u001b[38;5;28;43mself\u001b[39;49m\u001b[38;5;241;43m.\u001b[39;49m\u001b[43mEDGE_OK\u001b[49m\u001b[43m(\u001b[49m\u001b[43mnode\u001b[49m\u001b[43m,\u001b[49m\u001b[43m \u001b[49m\u001b[43mnbr\u001b[49m\u001b[43m)\u001b[49m\n",
      "\u001b[0;31mKeyboardInterrupt\u001b[0m: "
     ]
    }
   ],
   "source": [
    "shortest_path_lengths_G0 = dict(nx.all_pairs_shortest_path_length(G0))"
   ]
  },
  {
   "cell_type": "code",
   "execution_count": null,
   "metadata": {},
   "outputs": [],
   "source": [
    "\n",
    "average_path_lengths = [np.mean(list(spl.values())) for spl in shortest_path_lengths_G0.values()]\n",
    "\n",
    "np.mean(average_path_lengths)"
   ]
  },
  {
   "cell_type": "markdown",
   "metadata": {},
   "source": [
    "### Creating Interagency Edgelist Files for Gizem"
   ]
  },
  {
   "cell_type": "code",
   "execution_count": 55,
   "metadata": {},
   "outputs": [],
   "source": [
    " # Query to fetch all records\n",
    "\n",
    "import pandas as pd\n",
    "from sqlalchemy.sql import text\n",
    "sql = '''\n",
    "    SELECT * FROM inter_agency_edgelist;\n",
    "'''\n",
    "with engine.connect().execution_options(autocommit=True) as conn:\n",
    "    query = conn.execute(text(sql))         \n",
    "df_inter = pd.DataFrame(query.fetchall())"
   ]
  },
  {
   "cell_type": "code",
   "execution_count": 56,
   "metadata": {},
   "outputs": [
    {
     "data": {
      "text/html": [
       "<div>\n",
       "<style scoped>\n",
       "    .dataframe tbody tr th:only-of-type {\n",
       "        vertical-align: middle;\n",
       "    }\n",
       "\n",
       "    .dataframe tbody tr th {\n",
       "        vertical-align: top;\n",
       "    }\n",
       "\n",
       "    .dataframe thead th {\n",
       "        text-align: right;\n",
       "    }\n",
       "</style>\n",
       "<table border=\"1\" class=\"dataframe\">\n",
       "  <thead>\n",
       "    <tr style=\"text-align: right;\">\n",
       "      <th></th>\n",
       "      <th>source_agency</th>\n",
       "      <th>target_agency</th>\n",
       "      <th>weight</th>\n",
       "    </tr>\n",
       "  </thead>\n",
       "  <tbody>\n",
       "    <tr>\n",
       "      <th>0</th>\n",
       "      <td>Department of Energy</td>\n",
       "      <td>GSA</td>\n",
       "      <td>71</td>\n",
       "    </tr>\n",
       "    <tr>\n",
       "      <th>1</th>\n",
       "      <td>Department of Homeland Security</td>\n",
       "      <td>GSA</td>\n",
       "      <td>62</td>\n",
       "    </tr>\n",
       "    <tr>\n",
       "      <th>2</th>\n",
       "      <td>GSA</td>\n",
       "      <td>HHS</td>\n",
       "      <td>59</td>\n",
       "    </tr>\n",
       "    <tr>\n",
       "      <th>3</th>\n",
       "      <td>Department of Energy</td>\n",
       "      <td>NASA</td>\n",
       "      <td>53</td>\n",
       "    </tr>\n",
       "    <tr>\n",
       "      <th>4</th>\n",
       "      <td>Department of Energy</td>\n",
       "      <td>Environmental Protection Agency</td>\n",
       "      <td>31</td>\n",
       "    </tr>\n",
       "    <tr>\n",
       "      <th>...</th>\n",
       "      <td>...</td>\n",
       "      <td>...</td>\n",
       "      <td>...</td>\n",
       "    </tr>\n",
       "    <tr>\n",
       "      <th>110</th>\n",
       "      <td>Education</td>\n",
       "      <td>USDA</td>\n",
       "      <td>1</td>\n",
       "    </tr>\n",
       "    <tr>\n",
       "      <th>111</th>\n",
       "      <td>Department of Homeland Security</td>\n",
       "      <td>USDA</td>\n",
       "      <td>1</td>\n",
       "    </tr>\n",
       "    <tr>\n",
       "      <th>112</th>\n",
       "      <td>NASA</td>\n",
       "      <td>USDA</td>\n",
       "      <td>1</td>\n",
       "    </tr>\n",
       "    <tr>\n",
       "      <th>113</th>\n",
       "      <td>HHS</td>\n",
       "      <td>USDA</td>\n",
       "      <td>1</td>\n",
       "    </tr>\n",
       "    <tr>\n",
       "      <th>114</th>\n",
       "      <td>USDA</td>\n",
       "      <td>Veteran</td>\n",
       "      <td>1</td>\n",
       "    </tr>\n",
       "  </tbody>\n",
       "</table>\n",
       "<p>115 rows × 3 columns</p>\n",
       "</div>"
      ],
      "text/plain": [
       "                       source_agency                    target_agency  weight\n",
       "0               Department of Energy                              GSA      71\n",
       "1    Department of Homeland Security                              GSA      62\n",
       "2                                GSA                              HHS      59\n",
       "3               Department of Energy                             NASA      53\n",
       "4               Department of Energy  Environmental Protection Agency      31\n",
       "..                               ...                              ...     ...\n",
       "110                        Education                             USDA       1\n",
       "111  Department of Homeland Security                             USDA       1\n",
       "112                             NASA                             USDA       1\n",
       "113                              HHS                             USDA       1\n",
       "114                             USDA                          Veteran       1\n",
       "\n",
       "[115 rows x 3 columns]"
      ]
     },
     "execution_count": 56,
     "metadata": {},
     "output_type": "execute_result"
    }
   ],
   "source": [
    "df_inter"
   ]
  },
  {
   "cell_type": "code",
   "execution_count": 64,
   "metadata": {},
   "outputs": [],
   "source": [
    "df_inter.replace(\"GSA\", \n",
    "           \"General Services Administration\", \n",
    "           inplace=True)\n",
    "\n",
    "\n",
    "df_inter.replace(\"NASA\", \n",
    "           \"National Aeronautics and Space Administration\", \n",
    "           inplace=True)\n",
    "\n",
    "\n",
    "df_inter.replace(\"HHS\", \n",
    "           \"Department of Health & Human Services\", \n",
    "           inplace=True)\n",
    "\n",
    "df_inter.replace(\"Veteran Affairs\", \n",
    "           \"Veterans Affairs\", \n",
    "           inplace=True)\n",
    "\n",
    "df_inter.replace(\"DOD\", \n",
    "           \"Department of Defence\", \n",
    "           inplace=True)\n",
    "\n",
    "df_inter.replace(\"Small Business\", \n",
    "           \"Small Business Administration\", \n",
    "           inplace=True)\n",
    "\n",
    "df_inter.replace(\"Treasury\", \n",
    "           \"Department of the Treasury\", \n",
    "           inplace=True)\n",
    "\n",
    "df_inter.replace(\"Election\", \n",
    "           \"Federal Election Commision\", \n",
    "           inplace=True)\n",
    "\n",
    "df_inter.replace(\"USDA\", \n",
    "           \"Deparment of Agriculture\", \n",
    "           inplace=True)\n",
    "\n",
    "df_inter.replace(\"Transportation\", \n",
    "           \"Department of Transportation\", \n",
    "           inplace=True)\n",
    "\n",
    "df_inter.replace(\"Education\", \n",
    "           \"Department of Education\", \n",
    "           inplace=True)\n",
    "\n",
    "df_inter.replace(\"NSF\", \n",
    "           \"National Science Foundation\", \n",
    "           inplace=True)\n",
    "\n",
    "df_inter.replace(\"SSA\", \n",
    "           \"Social Security Administration\", \n",
    "           inplace=True)\n",
    "\n",
    "df_inter.replace(\"International\", \n",
    "           \"Agency for International Development\", \n",
    "           inplace=True)"
   ]
  },
  {
   "cell_type": "code",
   "execution_count": 65,
   "metadata": {},
   "outputs": [
    {
     "data": {
      "text/html": [
       "<div>\n",
       "<style scoped>\n",
       "    .dataframe tbody tr th:only-of-type {\n",
       "        vertical-align: middle;\n",
       "    }\n",
       "\n",
       "    .dataframe tbody tr th {\n",
       "        vertical-align: top;\n",
       "    }\n",
       "\n",
       "    .dataframe thead th {\n",
       "        text-align: right;\n",
       "    }\n",
       "</style>\n",
       "<table border=\"1\" class=\"dataframe\">\n",
       "  <thead>\n",
       "    <tr style=\"text-align: right;\">\n",
       "      <th></th>\n",
       "      <th>source_agency</th>\n",
       "      <th>target_agency</th>\n",
       "      <th>weight</th>\n",
       "    </tr>\n",
       "  </thead>\n",
       "  <tbody>\n",
       "    <tr>\n",
       "      <th>0</th>\n",
       "      <td>Department of Energy</td>\n",
       "      <td>General Services Administration</td>\n",
       "      <td>71</td>\n",
       "    </tr>\n",
       "    <tr>\n",
       "      <th>1</th>\n",
       "      <td>Department of Homeland Security</td>\n",
       "      <td>General Services Administration</td>\n",
       "      <td>62</td>\n",
       "    </tr>\n",
       "    <tr>\n",
       "      <th>2</th>\n",
       "      <td>General Services Administration</td>\n",
       "      <td>Department of Health &amp; Human Services</td>\n",
       "      <td>59</td>\n",
       "    </tr>\n",
       "    <tr>\n",
       "      <th>3</th>\n",
       "      <td>Department of Energy</td>\n",
       "      <td>National Aeronautics and Space Administration</td>\n",
       "      <td>53</td>\n",
       "    </tr>\n",
       "    <tr>\n",
       "      <th>4</th>\n",
       "      <td>Department of Energy</td>\n",
       "      <td>Environmental Protection Agency</td>\n",
       "      <td>31</td>\n",
       "    </tr>\n",
       "    <tr>\n",
       "      <th>...</th>\n",
       "      <td>...</td>\n",
       "      <td>...</td>\n",
       "      <td>...</td>\n",
       "    </tr>\n",
       "    <tr>\n",
       "      <th>110</th>\n",
       "      <td>Department of Education</td>\n",
       "      <td>Deparment of Agriculture</td>\n",
       "      <td>1</td>\n",
       "    </tr>\n",
       "    <tr>\n",
       "      <th>111</th>\n",
       "      <td>Department of Homeland Security</td>\n",
       "      <td>Deparment of Agriculture</td>\n",
       "      <td>1</td>\n",
       "    </tr>\n",
       "    <tr>\n",
       "      <th>112</th>\n",
       "      <td>National Aeronautics and Space Administration</td>\n",
       "      <td>Deparment of Agriculture</td>\n",
       "      <td>1</td>\n",
       "    </tr>\n",
       "    <tr>\n",
       "      <th>113</th>\n",
       "      <td>Department of Health &amp; Human Services</td>\n",
       "      <td>Deparment of Agriculture</td>\n",
       "      <td>1</td>\n",
       "    </tr>\n",
       "    <tr>\n",
       "      <th>114</th>\n",
       "      <td>Deparment of Agriculture</td>\n",
       "      <td>Veterans Affairs</td>\n",
       "      <td>1</td>\n",
       "    </tr>\n",
       "  </tbody>\n",
       "</table>\n",
       "<p>115 rows × 3 columns</p>\n",
       "</div>"
      ],
      "text/plain": [
       "                                     source_agency  \\\n",
       "0                             Department of Energy   \n",
       "1                  Department of Homeland Security   \n",
       "2                  General Services Administration   \n",
       "3                             Department of Energy   \n",
       "4                             Department of Energy   \n",
       "..                                             ...   \n",
       "110                        Department of Education   \n",
       "111                Department of Homeland Security   \n",
       "112  National Aeronautics and Space Administration   \n",
       "113          Department of Health & Human Services   \n",
       "114                       Deparment of Agriculture   \n",
       "\n",
       "                                     target_agency  weight  \n",
       "0                  General Services Administration      71  \n",
       "1                  General Services Administration      62  \n",
       "2            Department of Health & Human Services      59  \n",
       "3    National Aeronautics and Space Administration      53  \n",
       "4                  Environmental Protection Agency      31  \n",
       "..                                             ...     ...  \n",
       "110                       Deparment of Agriculture       1  \n",
       "111                       Deparment of Agriculture       1  \n",
       "112                       Deparment of Agriculture       1  \n",
       "113                       Deparment of Agriculture       1  \n",
       "114                               Veterans Affairs       1  \n",
       "\n",
       "[115 rows x 3 columns]"
      ]
     },
     "execution_count": 65,
     "metadata": {},
     "output_type": "execute_result"
    }
   ],
   "source": [
    "df_inter"
   ]
  },
  {
   "cell_type": "code",
   "execution_count": 66,
   "metadata": {},
   "outputs": [],
   "source": [
    "df_inter.to_csv('inter_agency_edgelist.csv')"
   ]
  }
 ],
 "metadata": {
  "kernelspec": {
   "display_name": ".venv",
   "language": "python",
   "name": "python3"
  },
  "language_info": {
   "codemirror_mode": {
    "name": "ipython",
    "version": 3
   },
   "file_extension": ".py",
   "mimetype": "text/x-python",
   "name": "python",
   "nbconvert_exporter": "python",
   "pygments_lexer": "ipython3",
   "version": "3.10.12"
  }
 },
 "nbformat": 4,
 "nbformat_minor": 2
}
