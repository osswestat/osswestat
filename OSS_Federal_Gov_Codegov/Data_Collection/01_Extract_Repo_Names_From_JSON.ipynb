{
 "cells": [
  {
   "attachments": {},
   "cell_type": "markdown",
   "metadata": {},
   "source": [
    "# Analysis of Linked GitHub and Code.gov"
   ]
  },
  {
   "attachments": {},
   "cell_type": "markdown",
   "metadata": {},
   "source": [
    "Data on open source software repositories of federal agencies is provided in a form of JSON files."
   ]
  },
  {
   "cell_type": "code",
   "execution_count": 3,
   "metadata": {},
   "outputs": [],
   "source": [
    "\n",
    "import json\n",
    "import pandas as pd\n",
    "\n",
    "pd.set_option('display.max_columns', None)"
   ]
  },
  {
   "cell_type": "code",
   "execution_count": 5,
   "metadata": {},
   "outputs": [],
   "source": [
    "import time\n",
    "import requests\n",
    "import json"
   ]
  },
  {
   "cell_type": "code",
   "execution_count": 7,
   "metadata": {},
   "outputs": [],
   "source": [
    "# Define a function to extract information from repository link strings\n",
    "\n",
    "def get_information(json_file, encoding):\n",
    "\n",
    "    file = open(json_file, encoding=encoding)\n",
    "   \n",
    "    data = json.load(file)\n",
    "    \n",
    "    df = pd.json_normalize(data['releases'])\n",
    "    \n",
    "    df.loc[df['repositoryURL'].str.lower().str.contains('.gov'), 'domain'] = '.gov'\n",
    "    df.loc[df['repositoryURL'].str.lower().str.contains('github'), 'domain'] = 'Github'\n",
    "    df.loc[df['repositoryURL'].str.lower().str.contains('bitbucket'), 'domain'] = 'Bitbucket'\n",
    "    df.loc[df['repositoryURL'].str.lower().str.contains('sourceforge'), 'domain'] = 'Sourceforge'\n",
    "    df.loc[df['repositoryURL'].str.lower().str.contains('gitlab'), 'domain'] = 'Gitlab'\n",
    "    df.loc[df['repositoryURL'].str.lower().str.contains('sites.google.com'), 'domain'] = 'Google Sites'\n",
    "    df.loc[df['repositoryURL'].str.lower().str.contains('zenodo'), 'domain'] = 'Zenodo'\n",
    "    df.loc[df['repositoryURL'].str.lower().str.contains('cran'), 'domain'] = 'CRAN'\n",
    "    \n",
    "    df['domain'] = df['domain'].fillna('Other')\n",
    "    \n",
    "    df_groupby = df.groupby('domain').size().reset_index().sort_values(0, ascending=False)\n",
    "    \n",
    "    df_groupby = df_groupby.rename(columns={0: json_file.split('_')[0]})\n",
    "    \n",
    "    df_github = df[df['domain'] == 'Github']['repositoryURL'].unique().tolist()\n",
    "    df_gov = df[df['domain'] == '.gov']['repositoryURL'].unique().tolist()\n",
    "    df_other = df[df['domain'] == 'Other']['repositoryURL'].unique().tolist()\n",
    "    df_bitbucket = df[df['domain'] == 'Bitbucket']['repositoryURL'].unique().tolist()\n",
    "    df_gitlab = df[df['domain'] == 'Gitlab']['repositoryURL'].unique().tolist()\n",
    "    df_sourceforge = df[df['domain'] == 'Sourceforge']['repositoryURL'].unique().tolist()\n",
    "    df_google = df[df['domain'] == 'Google Sites']['repositoryURL'].unique().tolist()\n",
    "    df_cran = df[df['domain'] == 'CRAN']['repositoryURL'].unique().tolist()\n",
    "    df_zenodo = df[df['domain'] == 'Zenodo']['repositoryURL'].unique().tolist()\n",
    "    \n",
    "    return df, df_groupby, df_github, df_gov, df_other, df_bitbucket, df_gitlab, df_sourceforge, df_google, df_cran, df_zenodo"
   ]
  },
  {
   "cell_type": "code",
   "execution_count": 4,
   "metadata": {},
   "outputs": [],
   "source": [
    "# usda_df, usda, github_usda, gov_usda, other_usda, bitbucket_usda, gitlab_usda, sourceforge_usda, google_usda, cran_usda, zenodo_usda = get_information(\"C:/Users/shrivastava_r/OneDrive - Westat/Desktop/OSS_Directory/OSS_Federal_Gov_Codegov/Data_Collection/Input_Files_JSON_06_01_2022/usda_code.json\",None)\n",
    "# dod_df, dod, github_dod = get_information(\"C:/Users/shrivastava_r/OneDrive - Westat/Desktop/OSS_Directory/OSS_Federal_Gov_Codegov/Data_Collection/Input_Files_JSON_06_01_2022/dod_code.json\",None)\n",
    "# education_df, education, github_education = get_information(\"C:/Users/shrivastava_r/OneDrive - Westat/Desktop/OSS_Directory/OSS_Federal_Gov_Codegov/Data_Collection/Input_Files_JSON_06_01_2022/education_code.json\",None)\n",
    "# hhs_df, hhs, github_hhs = get_information(\"C:/Users/shrivastava_r/OneDrive - Westat/Desktop/OSS_Directory/OSS_Federal_Gov_Codegov/Data_Collection/Input_Files_JSON_06_01_2022/hhs_code.json\",None)\n",
    "# security_df, security, github_security = get_information(\"C:/Users/shrivastava_r/OneDrive - Westat/Desktop/OSS_Directory/OSS_Federal_Gov_Codegov/Data_Collection/Input_Files_JSON_06_01_2022/security_code.json\",None)\n",
    "# transportation_df, transportation, github_transportation = get_information(\"C:/Users/shrivastava_r/OneDrive - Westat/Desktop/OSS_Directory/OSS_Federal_Gov_Codegov/Data_Collection/Input_Files_JSON_06_01_2022/transportation_code.json\",None)\n",
    "# treasury_df, treasury, github_treasury = get_information(\"C:/Users/shrivastava_r/OneDrive - Westat/Desktop/OSS_Directory/OSS_Federal_Gov_Codegov/Data_Collection/Input_Files_JSON_06_01_2022/treasury_code.json\",None)\n",
    "# veteran_df, veteran, github_veteran = get_information(\"C:/Users/shrivastava_r/OneDrive - Westat/Desktop/OSS_Directory/OSS_Federal_Gov_Codegov/Data_Collection/Input_Files_JSON_06_01_2022/veteran_code.json\",None)\n",
    "# environment_df, environment, github_environment = get_information(\"C:/Users/shrivastava_r/OneDrive - Westat/Desktop/OSS_Directory/OSS_Federal_Gov_Codegov/Data_Collection/Input_Files_JSON_06_01_2022/environment_code.json\",None)\n",
    "# nasa_df, nasa, github_nasa = get_information(\"C:/Users/shrivastava_r/OneDrive - Westat/Desktop/OSS_Directory/OSS_Federal_Gov_Codegov/Data_Collection/Input_Files_JSON_06_01_2022/nasa_code.json\",None)\n",
    "# international_df, international, github_international = get_information(\"C:/Users/shrivastava_r/OneDrive - Westat/Desktop/OSS_Directory/OSS_Federal_Gov_Codegov/Data_Collection/Input_Files_JSON_06_01_2022/international_code.json\",None)\n",
    "# gsa_df, gsa, github_gsa  = get_information(\"C:/Users/shrivastava_r/OneDrive - Westat/Desktop/OSS_Directory/OSS_Federal_Gov_Codegov/Data_Collection/Input_Files_JSON_06_01_2022/gsa_code.json\",None)\n",
    "# nsf_df, nsf, github_nsf = get_information(\"C:/Users/shrivastava_r/OneDrive - Westat/Desktop/OSS_Directory/OSS_Federal_Gov_Codegov/Data_Collection/Input_Files_JSON_06_01_2022/nsf_code.json\",None)\n",
    "# business_df, business, github_business = get_information(\"C:/Users/shrivastava_r/OneDrive - Westat/Desktop/OSS_Directory/OSS_Federal_Gov_Codegov/Data_Collection/Input_Files_JSON_06_01_2022/business_code.json\",None)\n",
    "# ssa_df, ssa, github_ssa = get_information(\"C:/Users/shrivastava_r/OneDrive - Westat/Desktop/OSS_Directory/OSS_Federal_Gov_Codegov/Data_Collection/Input_Files_JSON_06_01_2022/ssa_code.json\",None)\n",
    "# election_df, election, github_election = get_information(\"C:/Users/shrivastava_r/OneDrive - Westat/Desktop/OSS_Directory/OSS_Federal_Gov_Codegov/Data_Collection/Input_Files_JSON_06_01_2022/election_code.json\",None)\n",
    "# housing_df, housing, github_housing = get_information(\"C:/Users/shrivastava_r/OneDrive - Westat/Desktop/OSS_Directory/OSS_Federal_Gov_Codegov/Data_Collection/Input_Files_JSON_06_01_2022/housing_code.json\", 'utf-8')\n",
    "# labor_df, labor, github_labor = get_information(\"C:/Users/shrivastava_r/OneDrive - Westat/Desktop/OSS_Directory/OSS_Federal_Gov_Codegov/Data_Collection/Input_Files_JSON_06_01_2022/labor_code.json\", 'utf-8-sig')\n",
    "# justice_df, justice, github_justice = get_information(\"C:/Users/shrivastava_r/OneDrive - Westat/Desktop/OSS_Directory/OSS_Federal_Gov_Codegov/Data_Collection/Input_Files_JSON_06_01_2022/justice_code.json\", 'utf-8-sig')"
   ]
  },
  {
   "cell_type": "code",
   "execution_count": 8,
   "metadata": {},
   "outputs": [],
   "source": [
    "usda_df, usda, github_usda, gov_usda, other_usda, bitbucket_usda, gitlab_usda, sourceforge_usda, google_usda, cran_usda, zenodo_usda = get_information(\"C:/Users/shrivastava_r/OneDrive - Westat/Desktop/OSS_Directory/OSS_Federal_Gov_Codegov/Data_Collection/Input_Files_JSON_06_01_2022/usda_code.json\", None)\n",
    "dod_df, dod, github_dod, gov_dod, other_dod, bitbucket_dod, gitlab_dod, sourceforge_dod, google_dod, cran_dod, zenodo_dod = get_information(\"C:/Users/shrivastava_r/OneDrive - Westat/Desktop/OSS_Directory/OSS_Federal_Gov_Codegov/Data_Collection/Input_Files_JSON_06_01_2022/dod_code.json\", None)\n",
    "education_df, education, github_education, gov_education, other_education, bitbucket_education, gitlab_education, sourceforge_education, google_education, cran_education, zenodo_education = get_information(\"C:/Users/shrivastava_r/OneDrive - Westat/Desktop/OSS_Directory/OSS_Federal_Gov_Codegov/Data_Collection/Input_Files_JSON_06_01_2022/education_code.json\", None)\n",
    "hhs_df, hhs, github_hhs, gov_hhs, other_hhs, bitbucket_hhs, gitlab_hhs, sourceforge_hhs, google_hhs, cran_hhs, zenodo_hhs = get_information(\"C:/Users/shrivastava_r/OneDrive - Westat/Desktop/OSS_Directory/OSS_Federal_Gov_Codegov/Data_Collection/Input_Files_JSON_06_01_2022/hhs_code.json\", None)\n",
    "security_df, security, github_security, gov_security, other_security, bitbucket_security, gitlab_security, sourceforge_security, google_security, cran_security, zenodo_security = get_information(\"C:/Users/shrivastava_r/OneDrive - Westat/Desktop/OSS_Directory/OSS_Federal_Gov_Codegov/Data_Collection/Input_Files_JSON_06_01_2022/security_code.json\", None)\n",
    "transportation_df, transportation, github_transportation, gov_transportation, other_transportation, bitbucket_transportation, gitlab_transportation, sourceforge_transportation, google_transportation, cran_transportation, zenodo_transportation = get_information(\"C:/Users/shrivastava_r/OneDrive - Westat/Desktop/OSS_Directory/OSS_Federal_Gov_Codegov/Data_Collection/Input_Files_JSON_06_01_2022/transportation_code.json\", None)\n",
    "treasury_df, treasury, github_treasury, gov_treasury, other_treasury, bitbucket_treasury, gitlab_treasury, sourceforge_treasury, google_treasury, cran_treasury, zenodo_treasury = get_information(\"C:/Users/shrivastava_r/OneDrive - Westat/Desktop/OSS_Directory/OSS_Federal_Gov_Codegov/Data_Collection/Input_Files_JSON_06_01_2022/treasury_code.json\", None)\n",
    "veteran_df, veteran, github_veteran, gov_veteran, other_veteran, bitbucket_veteran, gitlab_veteran, sourceforge_veteran, google_veteran, cran_veteran, zenodo_veteran = get_information(\"C:/Users/shrivastava_r/OneDrive - Westat/Desktop/OSS_Directory/OSS_Federal_Gov_Codegov/Data_Collection/Input_Files_JSON_06_01_2022/veteran_code.json\", None)\n",
    "environment_df, environment, github_environment, gov_environment, other_environment, bitbucket_environment, gitlab_environment, sourceforge_environment, google_environment, cran_environment, zenodo_environment = get_information(\"C:/Users/shrivastava_r/OneDrive - Westat/Desktop/OSS_Directory/OSS_Federal_Gov_Codegov/Data_Collection/Input_Files_JSON_06_01_2022/environment_code.json\", None)\n",
    "nasa_df, nasa, github_nasa, gov_nasa, other_nasa, bitbucket_nasa, gitlab_nasa, sourceforge_nasa, google_nasa, cran_nasa, zenodo_nasa = get_information(\"C:/Users/shrivastava_r/OneDrive - Westat/Desktop/OSS_Directory/OSS_Federal_Gov_Codegov/Data_Collection/Input_Files_JSON_06_01_2022/nasa_code.json\", None)\n",
    "international_df, international, github_international, gov_international, other_international, bitbucket_international, gitlab_international, sourceforge_international, google_international, cran_international, zenodo_international = get_information(\"C:/Users/shrivastava_r/OneDrive - Westat/Desktop/OSS_Directory/OSS_Federal_Gov_Codegov/Data_Collection/Input_Files_JSON_06_01_2022/international_code.json\", None)\n",
    "gsa_df, gsa, github_gsa, gov_gsa, other_gsa, bitbucket_gsa, gitlab_gsa, sourceforge_gsa, google_gsa, cran_gsa, zenodo_gsa = get_information(\"C:/Users/shrivastava_r/OneDrive - Westat/Desktop/OSS_Directory/OSS_Federal_Gov_Codegov/Data_Collection/Input_Files_JSON_06_01_2022/gsa_code.json\", None)\n",
    "nsf_df, nsf, github_nsf, gov_nsf, other_nsf, bitbucket_nsf, gitlab_nsf, sourceforge_nsf, google_nsf, cran_nsf, zenodo_nsf = get_information(\"C:/Users/shrivastava_r/OneDrive - Westat/Desktop/OSS_Directory/OSS_Federal_Gov_Codegov/Data_Collection/Input_Files_JSON_06_01_2022/nsf_code.json\", None)\n",
    "business_df, business, github_business, gov_business, other_business, bitbucket_business, gitlab_business, sourceforge_business, google_business, cran_business, zenodo_business = get_information(\"C:/Users/shrivastava_r/OneDrive - Westat/Desktop/OSS_Directory/OSS_Federal_Gov_Codegov/Data_Collection/Input_Files_JSON_06_01_2022/business_code.json\", None)\n",
    "ssa_df, ssa, github_ssa, gov_ssa, other_ssa, bitbucket_ssa, gitlab_ssa, sourceforge_ssa, google_ssa, cran_ssa, zenodo_ssa = get_information(\"C:/Users/shrivastava_r/OneDrive - Westat/Desktop/OSS_Directory/OSS_Federal_Gov_Codegov/Data_Collection/Input_Files_JSON_06_01_2022/ssa_code.json\", None)\n",
    "election_df, election, github_election, gov_election, other_election, bitbucket_election, gitlab_election, sourceforge_election, google_election, cran_election, zenodo_election = get_information(\"C:/Users/shrivastava_r/OneDrive - Westat/Desktop/OSS_Directory/OSS_Federal_Gov_Codegov/Data_Collection/Input_Files_JSON_06_01_2022/election_code.json\", None)\n",
    "housing_df, housing, github_housing, gov_housing, other_housing, bitbucket_housing, gitlab_housing, sourceforge_housing, google_housing, cran_housing, zenodo_housing = get_information(\"C:/Users/shrivastava_r/OneDrive - Westat/Desktop/OSS_Directory/OSS_Federal_Gov_Codegov/Data_Collection/Input_Files_JSON_06_01_2022/housing_code.json\", 'utf-8')\n",
    "labor_df, labor, github_labor, gov_labor, other_labor, bitbucket_labor, gitlab_labor, sourceforge_labor, google_labor, cran_labor, zenodo_labor = get_information(\"C:/Users/shrivastava_r/OneDrive - Westat/Desktop/OSS_Directory/OSS_Federal_Gov_Codegov/Data_Collection/Input_Files_JSON_06_01_2022/labor_code.json\", 'utf-8-sig')\n",
    "justice_df, justice, github_justice, gov_justice, other_justice, bitbucket_justice, gitlab_justice, sourceforge_justice, google_justice, cran_justice, zenodo_justice = get_information(\"C:/Users/shrivastava_r/OneDrive - Westat/Desktop/OSS_Directory/OSS_Federal_Gov_Codegov/Data_Collection/Input_Files_JSON_06_01_2022/justice_code.json\", 'utf-8-sig')\n"
   ]
  },
  {
   "cell_type": "code",
   "execution_count": 10,
   "metadata": {},
   "outputs": [],
   "source": [
    "file = open(\"C:/Users/shrivastava_r/OneDrive - Westat/Desktop/OSS_Directory/OSS_Federal_Gov_Codegov/Data_Collection/Input_Files_JSON_06_01_2022/department_energy_code.json\", encoding='utf-8')\n",
    "data = json.load(file)\n",
    "\n",
    "department_energy = pd.json_normalize(data)\n",
    "\n",
    "department_energy.loc[department_energy['repository_link_landing_page'].str.lower().str.contains('.gov'), 'domain'] = '.gov'\n",
    "department_energy.loc[department_energy['repository_link_landing_page'].str.lower().str.contains('github'), 'domain'] = 'Github'\n",
    "department_energy.loc[department_energy['repository_link_landing_page'].str.lower().str.contains('bitbucket'), 'domain'] = 'Bitbucket'\n",
    "department_energy.loc[department_energy['repository_link_landing_page'].str.lower().str.contains('sourceforge'), 'domain'] = 'Sourceforge'\n",
    "department_energy.loc[department_energy['repository_link_landing_page'].str.lower().str.contains('gitlab'), 'domain'] = 'Gitlab'\n",
    "department_energy.loc[department_energy['repository_link_landing_page'].str.lower().str.contains('sites.google.com'), 'domain'] = 'Google Sites'\n",
    "department_energy.loc[department_energy['repository_link_landing_page'].str.lower().str.contains('zenodo'), 'domain'] = 'Zenodo'\n",
    "department_energy.loc[department_energy['repository_link_landing_page'].str.lower().str.contains('cran'), 'domain'] = 'CRAN'\n",
    "department_energy['domain'] = department_energy['domain'].fillna('Other')\n",
    "\n",
    "github_department_energy = department_energy[department_energy['domain'] == 'Github']['repository_link_landing_page'].unique().tolist()\n",
    "gov_department_energy = department_energy[department_energy['domain'] == 'Government']['repository_link_landing_page'].unique().tolist()\n",
    "other_department_energy = department_energy[department_energy['domain'] == 'Other']['repository_link_landing_page'].unique().tolist()\n",
    "bitbucket_department_energy = department_energy[department_energy['domain'] == 'Bitbucket']['repository_link_landing_page'].unique().tolist()\n",
    "gitlab_department_energy = department_energy[department_energy['domain'] == 'GitLab']['repository_link_landing_page'].unique().tolist()\n",
    "sourceforge_department_energy = department_energy[department_energy['domain'] == 'SourceForge']['repository_link_landing_page'].unique().tolist()\n",
    "google_department_energy = department_energy[department_energy['domain'] == 'Google']['repository_link_landing_page'].unique().tolist()\n",
    "cran_department_energy = department_energy[department_energy['domain'] == 'CRAN']['repository_link_landing_page'].unique().tolist()\n",
    "zenodo_department_energy = department_energy[department_energy['domain'] == 'Zenodo']['repository_link_landing_page'].unique().tolist()\n",
    "\n",
    "\n",
    "department_energy_df = department_energy\n",
    "\n",
    "department_energy = department_energy.groupby('domain').size().reset_index().sort_values(0, ascending=False)\n",
    "    \n",
    "department_energy = department_energy.rename(columns={0: 'department_energy'})"
   ]
  },
  {
   "cell_type": "code",
   "execution_count": 11,
   "metadata": {},
   "outputs": [],
   "source": [
    "file = open(\"C:/Users/shrivastava_r/OneDrive - Westat/Desktop/OSS_Directory/OSS_Federal_Gov_Codegov/Data_Collection/Input_Files_JSON_06_01_2022/state_code.json\", encoding='utf-8-sig')\n",
    "\n",
    "data = json.load(file)"
   ]
  },
  {
   "cell_type": "code",
   "execution_count": 12,
   "metadata": {},
   "outputs": [
    {
     "data": {
      "text/plain": [
       "'https://github.com/USStateDept/BIDS'"
      ]
     },
     "execution_count": 12,
     "metadata": {},
     "output_type": "execute_result"
    }
   ],
   "source": [
    "data['projects'][0]['repository']"
   ]
  },
  {
   "cell_type": "code",
   "execution_count": 14,
   "metadata": {},
   "outputs": [],
   "source": [
    "state = pd.DataFrame()\n",
    "state['domain'] = ['Github']\n",
    "state['state'] = [1]"
   ]
  },
  {
   "cell_type": "code",
   "execution_count": 16,
   "metadata": {},
   "outputs": [],
   "source": [
    "github_state = data['projects'][0]['repository']"
   ]
  },
  {
   "attachments": {},
   "cell_type": "markdown",
   "metadata": {},
   "source": [
    "These agencies are listed on the code.gov website, but the link to their JSON file is either not working or there is a syntax error:\n",
    "- Department of Interior (\"Page doesn't exist\")\n",
    "- Nuclear Regulatory Commission - SyntaxError: JSON.parse: unexpected character at line 1 column 1 of the JSON data\n",
    "- Office of Personnel Management - SyntaxError: JSON.parse: unexpected character at line 6 column 1 of the JSON data"
   ]
  },
  {
   "attachments": {},
   "cell_type": "markdown",
   "metadata": {},
   "source": [
    "# Github"
   ]
  },
  {
   "attachments": {},
   "cell_type": "markdown",
   "metadata": {},
   "source": [
    "Get the Github links for agencies"
   ]
  },
  {
   "cell_type": "code",
   "execution_count": 18,
   "metadata": {},
   "outputs": [],
   "source": [
    "github_links = github_department_energy + github_nasa + github_gsa + github_hhs + github_security + github_justice + github_environment + github_labor + github_veteran + github_transportation + github_ssa + github_education + github_usda + github_dod + github_nsf + github_business + github_election + github_treasury + github_international + [github_state]"
   ]
  },
  {
   "cell_type": "code",
   "execution_count": 19,
   "metadata": {},
   "outputs": [],
   "source": [
    "def get_dataframe(agency_name, github_links):\n",
    "    \n",
    "    df = pd.DataFrame()\n",
    "    df['agency'] = [agency_name]*len(github_links)\n",
    "    df['link'] = github_links\n",
    "    \n",
    "    return df"
   ]
  },
  {
   "cell_type": "code",
   "execution_count": 20,
   "metadata": {},
   "outputs": [],
   "source": [
    "department_energy_df = get_dataframe('Department of Energy',github_department_energy)\n",
    "nasa_df = get_dataframe('NASA',github_nasa)\n",
    "gsa_df = get_dataframe('GSA', github_gsa)\n",
    "hhs_df = get_dataframe('HHS', github_hhs)\n",
    "security_df = get_dataframe('Department of Homeland Security', github_security)\n",
    "justice_df = get_dataframe('Department of Justice', github_justice)\n",
    "environment_df = get_dataframe('Environmental Protection Agency', github_environment)\n",
    "labor_df = get_dataframe('Department of Labor', github_labor)\n",
    "veteran_df = get_dataframe('Veteran', github_veteran)\n",
    "transportation_df = get_dataframe('Transportation', github_transportation)\n",
    "ssa_df = get_dataframe('SSA', github_ssa)\n",
    "education_df = get_dataframe('Education', github_education)\n",
    "usda_df = get_dataframe('USDA', github_usda)\n",
    "dod_df = get_dataframe('DOD', github_dod)\n",
    "nsf_df = get_dataframe('NSF', github_nsf)\n",
    "business_df = get_dataframe('Small Business', github_business)\n",
    "election_df = get_dataframe('Election', github_election)\n",
    "treasury_df = get_dataframe('Treasury', github_treasury)\n",
    "international_df = get_dataframe('International', github_international)"
   ]
  },
  {
   "cell_type": "code",
   "execution_count": 21,
   "metadata": {},
   "outputs": [],
   "source": [
    "state_df = pd.DataFrame()\n",
    "state_df['agency'] = ['State']\n",
    "state_df['link'] = github_state"
   ]
  },
  {
   "cell_type": "code",
   "execution_count": 22,
   "metadata": {},
   "outputs": [],
   "source": [
    "github_df = pd.concat([department_energy_df,nasa_df,gsa_df,hhs_df,security_df,justice_df,environment_df,labor_df,veteran_df,transportation_df,ssa_df,education_df,usda_df,dod_df,nsf_df,business_df,election_df,treasury_df,international_df,state_df])\n"
   ]
  },
  {
   "cell_type": "code",
   "execution_count": 23,
   "metadata": {},
   "outputs": [
    {
     "data": {
      "text/plain": [
       "6076"
      ]
     },
     "execution_count": 23,
     "metadata": {},
     "output_type": "execute_result"
    }
   ],
   "source": [
    "len(github_links)"
   ]
  },
  {
   "cell_type": "markdown",
   "metadata": {},
   "source": [
    "## Gov"
   ]
  },
  {
   "cell_type": "markdown",
   "metadata": {},
   "source": [
    "Get links for gov"
   ]
  },
  {
   "cell_type": "code",
   "execution_count": 24,
   "metadata": {},
   "outputs": [],
   "source": [
    "gov_links = gov_department_energy + gov_nasa + gov_gsa + gov_hhs + gov_security + gov_justice + gov_environment + gov_labor + gov_veteran + gov_transportation + gov_ssa + gov_education + gov_usda + gov_dod + gov_nsf + gov_business + gov_election + gov_treasury + gov_international\n"
   ]
  },
  {
   "cell_type": "code",
   "execution_count": 51,
   "metadata": {},
   "outputs": [],
   "source": [
    "gov_department_energy_df = get_dataframe('Department of Energy', gov_department_energy)\n",
    "gov_nasa_df = get_dataframe('NASA', gov_nasa)\n",
    "gov_gsa_df = get_dataframe('GSA', gov_gsa)\n",
    "gov_hhs_df = get_dataframe('HHS', gov_hhs)\n",
    "gov_security_df = get_dataframe('Department of Homeland Security', gov_security)\n",
    "gov_justice_df = get_dataframe('Department of Justice', gov_justice)\n",
    "gov_environment_df = get_dataframe('Environmental Protection Agency', gov_environment)\n",
    "gov_labor_df = get_dataframe('Department of Labor', gov_labor)\n",
    "gov_veteran_df = get_dataframe('Veteran', gov_veteran)\n",
    "gov_transportation_df = get_dataframe('Transportation', gov_transportation)\n",
    "gov_ssa_df = get_dataframe('SSA', gov_ssa)\n",
    "gov_education_df = get_dataframe('Education', gov_education)\n",
    "gov_usda_df = get_dataframe('USDA', gov_usda)\n",
    "gov_dod_df = get_dataframe('DOD', gov_dod)\n",
    "gov_nsf_df = get_dataframe('NSF', gov_nsf)\n",
    "gov_business_df = get_dataframe('Small Business', gov_business)\n",
    "gov_election_df = get_dataframe('Election', gov_election)\n",
    "gov_treasury_df = get_dataframe('Treasury', gov_treasury)\n",
    "gov_international_df = get_dataframe('International', gov_international)\n",
    "\n"
   ]
  },
  {
   "cell_type": "code",
   "execution_count": 53,
   "metadata": {},
   "outputs": [],
   "source": [
    "gov_df = pd.concat([gov_department_energy_df, gov_nasa_df, gov_gsa_df, gov_hhs_df, gov_security_df, gov_justice_df, gov_environment_df, gov_labor_df, gov_veteran_df, gov_transportation_df, gov_ssa_df, gov_education_df, gov_usda_df, gov_dod_df, gov_nsf_df, gov_business_df, gov_election_df, gov_treasury_df, gov_international_df])"
   ]
  },
  {
   "cell_type": "code",
   "execution_count": 54,
   "metadata": {},
   "outputs": [
    {
     "data": {
      "text/html": [
       "<div>\n",
       "<style scoped>\n",
       "    .dataframe tbody tr th:only-of-type {\n",
       "        vertical-align: middle;\n",
       "    }\n",
       "\n",
       "    .dataframe tbody tr th {\n",
       "        vertical-align: top;\n",
       "    }\n",
       "\n",
       "    .dataframe thead th {\n",
       "        text-align: right;\n",
       "    }\n",
       "</style>\n",
       "<table border=\"1\" class=\"dataframe\">\n",
       "  <thead>\n",
       "    <tr style=\"text-align: right;\">\n",
       "      <th></th>\n",
       "      <th>agency</th>\n",
       "      <th>link</th>\n",
       "    </tr>\n",
       "  </thead>\n",
       "  <tbody>\n",
       "    <tr>\n",
       "      <th>0</th>\n",
       "      <td>NASA</td>\n",
       "      <td>https://software.nasa.gov/software/ARC-12015-1</td>\n",
       "    </tr>\n",
       "    <tr>\n",
       "      <th>1</th>\n",
       "      <td>NASA</td>\n",
       "      <td>https://software.nasa.gov/software/ARC-14504-1</td>\n",
       "    </tr>\n",
       "    <tr>\n",
       "      <th>2</th>\n",
       "      <td>NASA</td>\n",
       "      <td>https://www.nasa.gov/multimedia/3d_resources/s...</td>\n",
       "    </tr>\n",
       "    <tr>\n",
       "      <th>3</th>\n",
       "      <td>NASA</td>\n",
       "      <td>https://www.nasa.gov/centers/ames/Sector33/iOS/</td>\n",
       "    </tr>\n",
       "    <tr>\n",
       "      <th>4</th>\n",
       "      <td>NASA</td>\n",
       "      <td>https://software.nasa.gov/software/ARC-14776-1</td>\n",
       "    </tr>\n",
       "    <tr>\n",
       "      <th>...</th>\n",
       "      <td>...</td>\n",
       "      <td>...</td>\n",
       "    </tr>\n",
       "    <tr>\n",
       "      <th>73</th>\n",
       "      <td>Transportation</td>\n",
       "      <td>https://fhwaapps.fhwa.dot.gov/upacsp/tm?transN...</td>\n",
       "    </tr>\n",
       "    <tr>\n",
       "      <th>74</th>\n",
       "      <td>Transportation</td>\n",
       "      <td>https://www.volpe.dot.gov/infrastructure-syste...</td>\n",
       "    </tr>\n",
       "    <tr>\n",
       "      <th>0</th>\n",
       "      <td>USDA</td>\n",
       "      <td>https://www.drupal.org/project/gov_analytics</td>\n",
       "    </tr>\n",
       "    <tr>\n",
       "      <th>1</th>\n",
       "      <td>USDA</td>\n",
       "      <td>https://inventory.data.gov/dataset/97f9a5cf-61...</td>\n",
       "    </tr>\n",
       "    <tr>\n",
       "      <th>0</th>\n",
       "      <td>NSF</td>\n",
       "      <td>http://www.nsf.gov</td>\n",
       "    </tr>\n",
       "  </tbody>\n",
       "</table>\n",
       "<p>950 rows × 2 columns</p>\n",
       "</div>"
      ],
      "text/plain": [
       "            agency                                               link\n",
       "0             NASA     https://software.nasa.gov/software/ARC-12015-1\n",
       "1             NASA     https://software.nasa.gov/software/ARC-14504-1\n",
       "2             NASA  https://www.nasa.gov/multimedia/3d_resources/s...\n",
       "3             NASA    https://www.nasa.gov/centers/ames/Sector33/iOS/\n",
       "4             NASA     https://software.nasa.gov/software/ARC-14776-1\n",
       "..             ...                                                ...\n",
       "73  Transportation  https://fhwaapps.fhwa.dot.gov/upacsp/tm?transN...\n",
       "74  Transportation  https://www.volpe.dot.gov/infrastructure-syste...\n",
       "0             USDA       https://www.drupal.org/project/gov_analytics\n",
       "1             USDA  https://inventory.data.gov/dataset/97f9a5cf-61...\n",
       "0              NSF                                 http://www.nsf.gov\n",
       "\n",
       "[950 rows x 2 columns]"
      ]
     },
     "execution_count": 54,
     "metadata": {},
     "output_type": "execute_result"
    }
   ],
   "source": [
    "gov_df"
   ]
  },
  {
   "cell_type": "code",
   "execution_count": 55,
   "metadata": {},
   "outputs": [],
   "source": [
    "gov_df.to_csv('C:/Users/shrivastava_r/OneDrive - Westat/Desktop/OSS_Directory/OSS_Federal_Gov_Codegov/Data_Collection/additional_sources/gov_sources.csv')"
   ]
  },
  {
   "cell_type": "code",
   "execution_count": 27,
   "metadata": {},
   "outputs": [
    {
     "data": {
      "text/plain": [
       "950"
      ]
     },
     "execution_count": 27,
     "metadata": {},
     "output_type": "execute_result"
    }
   ],
   "source": [
    "len(gov_links)"
   ]
  },
  {
   "cell_type": "markdown",
   "metadata": {},
   "source": [
    "## Other"
   ]
  },
  {
   "cell_type": "markdown",
   "metadata": {},
   "source": [
    "Get links for Other"
   ]
  },
  {
   "cell_type": "code",
   "execution_count": 29,
   "metadata": {},
   "outputs": [],
   "source": [
    "other_links = other_department_energy + other_nasa + other_gsa + other_hhs + other_security + other_justice + other_environment + other_labor + other_veteran + other_transportation + other_ssa + other_education + other_usda + other_dod + other_nsf + other_business + other_election + other_treasury + other_international\n"
   ]
  },
  {
   "cell_type": "code",
   "execution_count": 30,
   "metadata": {},
   "outputs": [
    {
     "data": {
      "text/plain": [
       "117"
      ]
     },
     "execution_count": 30,
     "metadata": {},
     "output_type": "execute_result"
    }
   ],
   "source": [
    "len(other_links)"
   ]
  },
  {
   "cell_type": "code",
   "execution_count": 56,
   "metadata": {},
   "outputs": [],
   "source": [
    "other_department_energy_df = get_dataframe('Department of Energy', other_department_energy)\n",
    "other_nasa_df = get_dataframe('NASA', other_nasa)\n",
    "other_gsa_df = get_dataframe('GSA', other_gsa)\n",
    "other_hhs_df = get_dataframe('HHS', other_hhs)\n",
    "other_security_df = get_dataframe('Department of Homeland Security', other_security)\n",
    "other_justice_df = get_dataframe('Department of Justice', other_justice)\n",
    "other_environment_df = get_dataframe('Environmental Protection Agency', other_environment)\n",
    "other_labor_df = get_dataframe('Department of Labor', other_labor)\n",
    "other_veteran_df = get_dataframe('Veteran', other_veteran)\n",
    "other_transportation_df = get_dataframe('Transportation', other_transportation)\n",
    "other_ssa_df = get_dataframe('SSA', other_ssa)\n",
    "other_education_df = get_dataframe('Education', other_education)\n",
    "other_usda_df = get_dataframe('USDA', other_usda)\n",
    "other_dod_df = get_dataframe('DOD', other_dod)\n",
    "other_nsf_df = get_dataframe('NSF', other_nsf)\n",
    "other_business_df = get_dataframe('Small Business', other_business)\n",
    "other_election_df = get_dataframe('Election', other_election)\n",
    "other_treasury_df = get_dataframe('Treasury', other_treasury)\n",
    "other_international_df = get_dataframe('International', other_international)\n"
   ]
  },
  {
   "cell_type": "code",
   "execution_count": 57,
   "metadata": {},
   "outputs": [],
   "source": [
    "other_df = pd.concat([other_department_energy_df, other_nasa_df, other_gsa_df, other_hhs_df, other_security_df, other_justice_df, other_environment_df, other_labor_df, other_veteran_df, other_transportation_df, other_ssa_df, other_education_df, other_usda_df, other_dod_df, other_nsf_df, other_business_df, other_election_df, other_treasury_df, other_international_df])"
   ]
  },
  {
   "cell_type": "code",
   "execution_count": 58,
   "metadata": {},
   "outputs": [],
   "source": [
    "other_df.to_csv('C:/Users/shrivastava_r/OneDrive - Westat/Desktop/OSS_Directory/OSS_Federal_Gov_Codegov/Data_Collection/additional_sources/other_sources.csv')"
   ]
  },
  {
   "cell_type": "markdown",
   "metadata": {},
   "source": [
    "## Bitbucket"
   ]
  },
  {
   "cell_type": "markdown",
   "metadata": {},
   "source": [
    "Get links for Bitbucket"
   ]
  },
  {
   "cell_type": "code",
   "execution_count": 31,
   "metadata": {},
   "outputs": [],
   "source": [
    "bitbucket_links = bitbucket_department_energy + bitbucket_nasa + bitbucket_gsa + bitbucket_hhs + bitbucket_security + bitbucket_justice + bitbucket_environment + bitbucket_labor + bitbucket_veteran + bitbucket_transportation + bitbucket_ssa + bitbucket_education + bitbucket_usda + bitbucket_dod + bitbucket_nsf + bitbucket_business + bitbucket_election + bitbucket_treasury + bitbucket_international\n"
   ]
  },
  {
   "cell_type": "code",
   "execution_count": 32,
   "metadata": {},
   "outputs": [
    {
     "data": {
      "text/plain": [
       "79"
      ]
     },
     "execution_count": 32,
     "metadata": {},
     "output_type": "execute_result"
    }
   ],
   "source": [
    "len(bitbucket_links)"
   ]
  },
  {
   "cell_type": "code",
   "execution_count": 59,
   "metadata": {},
   "outputs": [],
   "source": [
    "bitbucket_department_energy_df = get_dataframe('Department of Energy', bitbucket_department_energy)\n",
    "bitbucket_nasa_df = get_dataframe('NASA', bitbucket_nasa)\n",
    "bitbucket_gsa_df = get_dataframe('GSA', bitbucket_gsa)\n",
    "bitbucket_hhs_df = get_dataframe('HHS', bitbucket_hhs)\n",
    "bitbucket_security_df = get_dataframe('Department of Homeland Security', bitbucket_security)\n",
    "bitbucket_justice_df = get_dataframe('Department of Justice', bitbucket_justice)\n",
    "bitbucket_environment_df = get_dataframe('Environmental Protection Agency', bitbucket_environment)\n",
    "bitbucket_labor_df = get_dataframe('Department of Labor', bitbucket_labor)\n",
    "bitbucket_veteran_df = get_dataframe('Veteran', bitbucket_veteran)\n",
    "bitbucket_transportation_df = get_dataframe('Transportation', bitbucket_transportation)\n",
    "bitbucket_ssa_df = get_dataframe('SSA', bitbucket_ssa)\n",
    "bitbucket_education_df = get_dataframe('Education', bitbucket_education)\n",
    "bitbucket_usda_df = get_dataframe('USDA', bitbucket_usda)\n",
    "bitbucket_dod_df = get_dataframe('DOD', bitbucket_dod)\n",
    "bitbucket_nsf_df = get_dataframe('NSF', bitbucket_nsf)\n",
    "bitbucket_business_df = get_dataframe('Small Business', bitbucket_business)\n",
    "bitbucket_election_df = get_dataframe('Election', bitbucket_election)\n",
    "bitbucket_treasury_df = get_dataframe('Treasury', bitbucket_treasury)\n",
    "bitbucket_international_df = get_dataframe('International', bitbucket_international)\n"
   ]
  },
  {
   "cell_type": "code",
   "execution_count": 60,
   "metadata": {},
   "outputs": [],
   "source": [
    "bitbucket_df = pd.concat([bitbucket_department_energy_df, bitbucket_nasa_df, bitbucket_gsa_df, bitbucket_hhs_df, bitbucket_security_df, bitbucket_justice_df, bitbucket_environment_df, bitbucket_labor_df, bitbucket_veteran_df, bitbucket_transportation_df, bitbucket_ssa_df, bitbucket_education_df, bitbucket_usda_df, bitbucket_dod_df, bitbucket_nsf_df, bitbucket_business_df, bitbucket_election_df, bitbucket_treasury_df, bitbucket_international_df])"
   ]
  },
  {
   "cell_type": "code",
   "execution_count": 61,
   "metadata": {},
   "outputs": [],
   "source": [
    "bitbucket_df.to_csv('C:/Users/shrivastava_r/OneDrive - Westat/Desktop/OSS_Directory/OSS_Federal_Gov_Codegov/Data_Collection/additional_sources/bitbucket_sources.csv')"
   ]
  },
  {
   "cell_type": "markdown",
   "metadata": {},
   "source": [
    "## Gitlab"
   ]
  },
  {
   "cell_type": "code",
   "execution_count": 33,
   "metadata": {},
   "outputs": [],
   "source": [
    "gitlab_links = gitlab_department_energy + gitlab_nasa + gitlab_gsa + gitlab_hhs + gitlab_security + gitlab_justice + gitlab_environment + gitlab_labor + gitlab_veteran + gitlab_transportation + gitlab_ssa + gitlab_education + gitlab_usda + gitlab_dod + gitlab_nsf + gitlab_business + gitlab_election + gitlab_treasury + gitlab_international\n"
   ]
  },
  {
   "cell_type": "code",
   "execution_count": 34,
   "metadata": {},
   "outputs": [
    {
     "data": {
      "text/plain": [
       "0"
      ]
     },
     "execution_count": 34,
     "metadata": {},
     "output_type": "execute_result"
    }
   ],
   "source": [
    "len(gitlab_links)"
   ]
  },
  {
   "cell_type": "markdown",
   "metadata": {},
   "source": [
    "## Sourceforge"
   ]
  },
  {
   "cell_type": "code",
   "execution_count": 35,
   "metadata": {},
   "outputs": [],
   "source": [
    "sourceforge_links = sourceforge_department_energy + sourceforge_nasa + sourceforge_gsa + sourceforge_hhs + sourceforge_security + sourceforge_justice + sourceforge_environment + sourceforge_labor + sourceforge_veteran + sourceforge_transportation + sourceforge_ssa + sourceforge_education + sourceforge_usda + sourceforge_dod + sourceforge_nsf + sourceforge_business + sourceforge_election + sourceforge_treasury + sourceforge_international\n"
   ]
  },
  {
   "cell_type": "code",
   "execution_count": 36,
   "metadata": {},
   "outputs": [
    {
     "data": {
      "text/plain": [
       "39"
      ]
     },
     "execution_count": 36,
     "metadata": {},
     "output_type": "execute_result"
    }
   ],
   "source": [
    "len(sourceforge_links)"
   ]
  },
  {
   "cell_type": "code",
   "execution_count": 62,
   "metadata": {},
   "outputs": [],
   "source": [
    "sourceforge_department_energy_df = get_dataframe('Department of Energy', sourceforge_department_energy)\n",
    "sourceforge_nasa_df = get_dataframe('NASA', sourceforge_nasa)\n",
    "sourceforge_gsa_df = get_dataframe('GSA', sourceforge_gsa)\n",
    "sourceforge_hhs_df = get_dataframe('HHS', sourceforge_hhs)\n",
    "sourceforge_security_df = get_dataframe('Department of Homeland Security', sourceforge_security)\n",
    "sourceforge_justice_df = get_dataframe('Department of Justice', sourceforge_justice)\n",
    "sourceforge_environment_df = get_dataframe('Environmental Protection Agency', sourceforge_environment)\n",
    "sourceforge_labor_df = get_dataframe('Department of Labor', sourceforge_labor)\n",
    "sourceforge_veteran_df = get_dataframe('Veteran', sourceforge_veteran)\n",
    "sourceforge_transportation_df = get_dataframe('Transportation', sourceforge_transportation)\n",
    "sourceforge_ssa_df = get_dataframe('SSA', sourceforge_ssa)\n",
    "sourceforge_education_df = get_dataframe('Education', sourceforge_education)\n",
    "sourceforge_usda_df = get_dataframe('USDA', sourceforge_usda)\n",
    "sourceforge_dod_df = get_dataframe('DOD', sourceforge_dod)\n",
    "sourceforge_nsf_df = get_dataframe('NSF', sourceforge_nsf)\n",
    "sourceforge_business_df = get_dataframe('Small Business', sourceforge_business)\n",
    "sourceforge_election_df = get_dataframe('Election', sourceforge_election)\n",
    "sourceforge_treasury_df = get_dataframe('Treasury', sourceforge_treasury)\n",
    "sourceforge_international_df = get_dataframe('International', sourceforge_international)\n"
   ]
  },
  {
   "cell_type": "code",
   "execution_count": 63,
   "metadata": {},
   "outputs": [],
   "source": [
    "sourceforge_df = pd.concat([sourceforge_department_energy_df, sourceforge_nasa_df, sourceforge_gsa_df, sourceforge_hhs_df, sourceforge_security_df, sourceforge_justice_df, sourceforge_environment_df, sourceforge_labor_df, sourceforge_veteran_df, sourceforge_transportation_df, sourceforge_ssa_df, sourceforge_education_df, sourceforge_usda_df, sourceforge_dod_df, sourceforge_nsf_df, sourceforge_business_df, sourceforge_election_df, sourceforge_treasury_df, sourceforge_international_df])\n"
   ]
  },
  {
   "cell_type": "code",
   "execution_count": 64,
   "metadata": {},
   "outputs": [],
   "source": [
    "sourceforge_df.to_csv('C:/Users/shrivastava_r/OneDrive - Westat/Desktop/OSS_Directory/OSS_Federal_Gov_Codegov/Data_Collection/additional_sources/sourceforge_sources.csv')"
   ]
  },
  {
   "cell_type": "markdown",
   "metadata": {},
   "source": [
    "## Google"
   ]
  },
  {
   "cell_type": "code",
   "execution_count": 37,
   "metadata": {},
   "outputs": [],
   "source": [
    "google_links = google_department_energy + google_nasa + google_gsa + google_hhs + google_security + google_justice + google_environment + google_labor + google_veteran + google_transportation + google_ssa + google_education + google_usda + google_dod + google_nsf + google_business + google_election + google_treasury + google_international\n"
   ]
  },
  {
   "cell_type": "code",
   "execution_count": 38,
   "metadata": {},
   "outputs": [
    {
     "data": {
      "text/plain": [
       "0"
      ]
     },
     "execution_count": 38,
     "metadata": {},
     "output_type": "execute_result"
    }
   ],
   "source": [
    "len(google_links)"
   ]
  },
  {
   "cell_type": "code",
   "execution_count": 65,
   "metadata": {},
   "outputs": [],
   "source": [
    "google_department_energy_df = get_dataframe('Department of Energy', google_department_energy)\n",
    "google_nasa_df = get_dataframe('NASA', google_nasa)\n",
    "google_gsa_df = get_dataframe('GSA', google_gsa)\n",
    "google_hhs_df = get_dataframe('HHS', google_hhs)\n",
    "google_security_df = get_dataframe('Department of Homeland Security', google_security)\n",
    "google_justice_df = get_dataframe('Department of Justice', google_justice)\n",
    "google_environment_df = get_dataframe('Environmental Protection Agency', google_environment)\n",
    "google_labor_df = get_dataframe('Department of Labor', google_labor)\n",
    "google_veteran_df = get_dataframe('Veteran', google_veteran)\n",
    "google_transportation_df = get_dataframe('Transportation', google_transportation)\n",
    "google_ssa_df = get_dataframe('SSA', google_ssa)\n",
    "google_education_df = get_dataframe('Education', google_education)\n",
    "google_usda_df = get_dataframe('USDA', google_usda)\n",
    "google_dod_df = get_dataframe('DOD', google_dod)\n",
    "google_nsf_df = get_dataframe('NSF', google_nsf)\n",
    "google_business_df = get_dataframe('Small Business', google_business)\n",
    "google_election_df = get_dataframe('Election', google_election)\n",
    "google_treasury_df = get_dataframe('Treasury', google_treasury)\n",
    "google_international_df = get_dataframe('International', google_international)\n"
   ]
  },
  {
   "cell_type": "code",
   "execution_count": 66,
   "metadata": {},
   "outputs": [],
   "source": [
    "google_df = pd.concat([google_department_energy_df, google_nasa_df, google_gsa_df, google_hhs_df, google_security_df, google_justice_df, google_environment_df, google_labor_df, google_veteran_df, google_transportation_df, google_ssa_df, google_education_df, google_usda_df, google_dod_df, google_nsf_df, google_business_df, google_election_df, google_treasury_df, google_international_df])\n"
   ]
  },
  {
   "cell_type": "code",
   "execution_count": 67,
   "metadata": {},
   "outputs": [],
   "source": [
    "google_df.to_csv('C:/Users/shrivastava_r/OneDrive - Westat/Desktop/OSS_Directory/OSS_Federal_Gov_Codegov/Data_Collection/additional_sources/google_sources.csv')"
   ]
  },
  {
   "cell_type": "markdown",
   "metadata": {},
   "source": [
    "## CRAN"
   ]
  },
  {
   "cell_type": "code",
   "execution_count": 39,
   "metadata": {},
   "outputs": [],
   "source": [
    "cran_links = cran_department_energy + cran_nasa + cran_gsa + cran_hhs + cran_security + cran_justice + cran_environment + cran_labor + cran_veteran + cran_transportation + cran_ssa + cran_education + cran_usda + cran_dod + cran_nsf + cran_business + cran_election + cran_treasury + cran_international\n"
   ]
  },
  {
   "cell_type": "code",
   "execution_count": 40,
   "metadata": {},
   "outputs": [
    {
     "data": {
      "text/plain": [
       "4"
      ]
     },
     "execution_count": 40,
     "metadata": {},
     "output_type": "execute_result"
    }
   ],
   "source": [
    "len(cran_links)"
   ]
  },
  {
   "cell_type": "code",
   "execution_count": 68,
   "metadata": {},
   "outputs": [],
   "source": [
    "cran_department_energy_df = get_dataframe('Department of Energy', cran_department_energy)\n",
    "cran_nasa_df = get_dataframe('NASA', cran_nasa)\n",
    "cran_gsa_df = get_dataframe('GSA', cran_gsa)\n",
    "cran_hhs_df = get_dataframe('HHS', cran_hhs)\n",
    "cran_security_df = get_dataframe('Department of Homeland Security', cran_security)\n",
    "cran_justice_df = get_dataframe('Department of Justice', cran_justice)\n",
    "cran_environment_df = get_dataframe('Environmental Protection Agency', cran_environment)\n",
    "cran_labor_df = get_dataframe('Department of Labor', cran_labor)\n",
    "cran_veteran_df = get_dataframe('Veteran', cran_veteran)\n",
    "cran_transportation_df = get_dataframe('Transportation', cran_transportation)\n",
    "cran_ssa_df = get_dataframe('SSA', cran_ssa)\n",
    "cran_education_df = get_dataframe('Education', cran_education)\n",
    "cran_usda_df = get_dataframe('USDA', cran_usda)\n",
    "cran_dod_df = get_dataframe('DOD', cran_dod)\n",
    "cran_nsf_df = get_dataframe('NSF', cran_nsf)\n",
    "cran_business_df = get_dataframe('Small Business', cran_business)\n",
    "cran_election_df = get_dataframe('Election', cran_election)\n",
    "cran_treasury_df = get_dataframe('Treasury', cran_treasury)\n",
    "cran_international_df = get_dataframe('International', cran_international)\n"
   ]
  },
  {
   "cell_type": "code",
   "execution_count": 69,
   "metadata": {},
   "outputs": [],
   "source": [
    "cran_df = pd.concat([cran_department_energy_df, cran_nasa_df, cran_gsa_df, cran_hhs_df, cran_security_df, cran_justice_df, cran_environment_df, cran_labor_df, cran_veteran_df, cran_transportation_df, cran_ssa_df, cran_education_df, cran_usda_df, cran_dod_df, cran_nsf_df, cran_business_df, cran_election_df, cran_treasury_df, cran_international_df])\n"
   ]
  },
  {
   "cell_type": "code",
   "execution_count": 70,
   "metadata": {},
   "outputs": [],
   "source": [
    "cran_df.to_csv('C:/Users/shrivastava_r/OneDrive - Westat/Desktop/OSS_Directory/OSS_Federal_Gov_Codegov/Data_Collection/additional_sources/cran_sources.csv')"
   ]
  },
  {
   "cell_type": "markdown",
   "metadata": {},
   "source": [
    "## Zenodo"
   ]
  },
  {
   "cell_type": "code",
   "execution_count": 42,
   "metadata": {},
   "outputs": [],
   "source": [
    "zenodo_links = zenodo_department_energy + zenodo_nasa + zenodo_gsa + zenodo_hhs + zenodo_security + zenodo_justice + zenodo_environment + zenodo_labor + zenodo_veteran + zenodo_transportation + zenodo_ssa + zenodo_education + zenodo_usda + zenodo_dod + zenodo_nsf + zenodo_business + zenodo_election + zenodo_treasury + zenodo_international\n"
   ]
  },
  {
   "cell_type": "code",
   "execution_count": 44,
   "metadata": {},
   "outputs": [
    {
     "data": {
      "text/plain": [
       "2"
      ]
     },
     "execution_count": 44,
     "metadata": {},
     "output_type": "execute_result"
    }
   ],
   "source": [
    "len(zenodo_links)"
   ]
  },
  {
   "cell_type": "code",
   "execution_count": 73,
   "metadata": {},
   "outputs": [],
   "source": [
    "zenodo_department_energy_df = get_dataframe('Department of Energy', zenodo_department_energy)\n",
    "zenodo_nasa_df = get_dataframe('NASA', zenodo_nasa)\n",
    "zenodo_gsa_df = get_dataframe('GSA', zenodo_gsa)\n",
    "zenodo_hhs_df = get_dataframe('HHS', zenodo_hhs)\n",
    "zenodo_security_df = get_dataframe('Department of Homeland Security', zenodo_security)\n",
    "zenodo_justice_df = get_dataframe('Department of Justice', zenodo_justice)\n",
    "zenodo_environment_df = get_dataframe('Environmental Protection Agency', zenodo_environment)\n",
    "zenodo_labor_df = get_dataframe('Department of Labor', zenodo_labor)\n",
    "zenodo_veteran_df = get_dataframe('Veteran', zenodo_veteran)\n",
    "zenodo_transportation_df = get_dataframe('Transportation', zenodo_transportation)\n",
    "zenodo_ssa_df = get_dataframe('SSA', zenodo_ssa)\n",
    "zenodo_education_df = get_dataframe('Education', zenodo_education)\n",
    "zenodo_usda_df = get_dataframe('USDA', zenodo_usda)\n",
    "zenodo_dod_df = get_dataframe('DOD', zenodo_dod)\n",
    "zenodo_nsf_df = get_dataframe('NSF', zenodo_nsf)\n",
    "zenodo_business_df = get_dataframe('Small Business', zenodo_business)\n",
    "zenodo_election_df = get_dataframe('Election', zenodo_election)\n",
    "zenodo_treasury_df = get_dataframe('Treasury', zenodo_treasury)\n",
    "zenodo_international_df = get_dataframe('International', zenodo_international)\n"
   ]
  },
  {
   "cell_type": "code",
   "execution_count": 74,
   "metadata": {},
   "outputs": [],
   "source": [
    "\n",
    "zenodo_df = pd.concat([zenodo_department_energy_df, zenodo_nasa_df, zenodo_gsa_df, zenodo_hhs_df, zenodo_security_df, zenodo_justice_df, zenodo_environment_df, zenodo_labor_df, zenodo_veteran_df, zenodo_transportation_df, zenodo_ssa_df, zenodo_education_df, zenodo_usda_df, zenodo_dod_df, zenodo_nsf_df, zenodo_business_df, zenodo_election_df, zenodo_treasury_df, zenodo_international_df])\n"
   ]
  },
  {
   "cell_type": "code",
   "execution_count": 75,
   "metadata": {},
   "outputs": [],
   "source": [
    "zenodo_df.to_csv('C:/Users/shrivastava_r/OneDrive - Westat/Desktop/OSS_Directory/OSS_Federal_Gov_Codegov/Data_Collection/additional_sources/zenodo_sources.csv')"
   ]
  },
  {
   "cell_type": "markdown",
   "metadata": {},
   "source": [
    "### Check unique links"
   ]
  },
  {
   "cell_type": "code",
   "execution_count": 87,
   "metadata": {},
   "outputs": [
    {
     "data": {
      "text/html": [
       "<div>\n",
       "<style scoped>\n",
       "    .dataframe tbody tr th:only-of-type {\n",
       "        vertical-align: middle;\n",
       "    }\n",
       "\n",
       "    .dataframe tbody tr th {\n",
       "        vertical-align: top;\n",
       "    }\n",
       "\n",
       "    .dataframe thead th {\n",
       "        text-align: right;\n",
       "    }\n",
       "</style>\n",
       "<table border=\"1\" class=\"dataframe\">\n",
       "  <thead>\n",
       "    <tr style=\"text-align: right;\">\n",
       "      <th></th>\n",
       "      <th>agency</th>\n",
       "      <th>link</th>\n",
       "    </tr>\n",
       "  </thead>\n",
       "  <tbody>\n",
       "    <tr>\n",
       "      <th>0</th>\n",
       "      <td>Department of Energy</td>\n",
       "      <td>https://github.com/ORNL-BTRIC/AutoBEM-DynamicA...</td>\n",
       "    </tr>\n",
       "    <tr>\n",
       "      <th>1</th>\n",
       "      <td>Department of Energy</td>\n",
       "      <td>https://github.com/Codeman655/initAnalysis</td>\n",
       "    </tr>\n",
       "    <tr>\n",
       "      <th>2</th>\n",
       "      <td>Department of Energy</td>\n",
       "      <td>https://github.com/bnl/pub-ML_examples</td>\n",
       "    </tr>\n",
       "    <tr>\n",
       "      <th>3</th>\n",
       "      <td>Department of Energy</td>\n",
       "      <td>https://github.com/idaholab/Deep-Lynx-UNC</td>\n",
       "    </tr>\n",
       "    <tr>\n",
       "      <th>4</th>\n",
       "      <td>Department of Energy</td>\n",
       "      <td>https://github.com/pmoriano/can-time-based-ids...</td>\n",
       "    </tr>\n",
       "    <tr>\n",
       "      <th>...</th>\n",
       "      <td>...</td>\n",
       "      <td>...</td>\n",
       "    </tr>\n",
       "    <tr>\n",
       "      <th>4</th>\n",
       "      <td>Treasury</td>\n",
       "      <td>https://github.com/IRSgov/IDES-Data-Preparatio...</td>\n",
       "    </tr>\n",
       "    <tr>\n",
       "      <th>5</th>\n",
       "      <td>Treasury</td>\n",
       "      <td>https://github.com/IRSgov/IDES-Data-Preparatio...</td>\n",
       "    </tr>\n",
       "    <tr>\n",
       "      <th>0</th>\n",
       "      <td>International</td>\n",
       "      <td>https://github.com/USAID-MCIO/USAIDGmailImapPo...</td>\n",
       "    </tr>\n",
       "    <tr>\n",
       "      <th>1</th>\n",
       "      <td>International</td>\n",
       "      <td>https://github.com/USAID-MCIO/USAIDGmailSaveMe...</td>\n",
       "    </tr>\n",
       "    <tr>\n",
       "      <th>0</th>\n",
       "      <td>State</td>\n",
       "      <td>https://github.com/USStateDept/BIDS</td>\n",
       "    </tr>\n",
       "  </tbody>\n",
       "</table>\n",
       "<p>6076 rows × 2 columns</p>\n",
       "</div>"
      ],
      "text/plain": [
       "                  agency                                               link\n",
       "0   Department of Energy  https://github.com/ORNL-BTRIC/AutoBEM-DynamicA...\n",
       "1   Department of Energy         https://github.com/Codeman655/initAnalysis\n",
       "2   Department of Energy             https://github.com/bnl/pub-ML_examples\n",
       "3   Department of Energy          https://github.com/idaholab/Deep-Lynx-UNC\n",
       "4   Department of Energy  https://github.com/pmoriano/can-time-based-ids...\n",
       "..                   ...                                                ...\n",
       "4               Treasury  https://github.com/IRSgov/IDES-Data-Preparatio...\n",
       "5               Treasury  https://github.com/IRSgov/IDES-Data-Preparatio...\n",
       "0          International  https://github.com/USAID-MCIO/USAIDGmailImapPo...\n",
       "1          International  https://github.com/USAID-MCIO/USAIDGmailSaveMe...\n",
       "0                  State                https://github.com/USStateDept/BIDS\n",
       "\n",
       "[6076 rows x 2 columns]"
      ]
     },
     "execution_count": 87,
     "metadata": {},
     "output_type": "execute_result"
    }
   ],
   "source": [
    "github_df"
   ]
  },
  {
   "cell_type": "code",
   "execution_count": 94,
   "metadata": {},
   "outputs": [],
   "source": [
    "github_count = github_df.groupby(by=\"agency\").size().reset_index(name='count').sort_values(by='count', ascending=False)\n",
    "gov_count = gov_df.groupby(by=\"agency\").size().reset_index(name='count').sort_values(by='count', ascending=False)\n",
    "other_count = other_df.groupby(by=\"agency\").size().reset_index(name='count').sort_values(by='count', ascending=False)\n",
    "bitbucket_count = bitbucket_df.groupby(by=\"agency\").size().reset_index(name='count').sort_values(by='count', ascending=False)\n",
    "sourceforge_count = sourceforge_df.groupby(by=\"agency\").size().reset_index(name='count').sort_values(by='count', ascending=False)\n",
    "cran_count = cran_df.groupby(by=\"agency\").size().reset_index(name='count').sort_values(by='count', ascending=False)\n",
    "zenodo_count = zenodo_df.groupby(by=\"agency\").size().reset_index(name='count').sort_values(by='count', ascending=False)"
   ]
  },
  {
   "cell_type": "code",
   "execution_count": 1,
   "metadata": {},
   "outputs": [
    {
     "ename": "NameError",
     "evalue": "name 'github_count' is not defined",
     "output_type": "error",
     "traceback": [
      "\u001b[1;31m---------------------------------------------------------------------------\u001b[0m",
      "\u001b[1;31mNameError\u001b[0m                                 Traceback (most recent call last)",
      "Cell \u001b[1;32mIn[1], line 1\u001b[0m\n\u001b[1;32m----> 1\u001b[0m \u001b[43mgithub_count\u001b[49m\n",
      "\u001b[1;31mNameError\u001b[0m: name 'github_count' is not defined"
     ]
    }
   ],
   "source": [
    "github_count"
   ]
  },
  {
   "cell_type": "code",
   "execution_count": 95,
   "metadata": {},
   "outputs": [
    {
     "data": {
      "text/html": [
       "<div>\n",
       "<style scoped>\n",
       "    .dataframe tbody tr th:only-of-type {\n",
       "        vertical-align: middle;\n",
       "    }\n",
       "\n",
       "    .dataframe tbody tr th {\n",
       "        vertical-align: top;\n",
       "    }\n",
       "\n",
       "    .dataframe thead th {\n",
       "        text-align: right;\n",
       "    }\n",
       "</style>\n",
       "<table border=\"1\" class=\"dataframe\">\n",
       "  <thead>\n",
       "    <tr style=\"text-align: right;\">\n",
       "      <th></th>\n",
       "      <th>agency</th>\n",
       "      <th>count</th>\n",
       "    </tr>\n",
       "  </thead>\n",
       "  <tbody>\n",
       "    <tr>\n",
       "      <th>1</th>\n",
       "      <td>NASA</td>\n",
       "      <td>868</td>\n",
       "    </tr>\n",
       "    <tr>\n",
       "      <th>3</th>\n",
       "      <td>Transportation</td>\n",
       "      <td>75</td>\n",
       "    </tr>\n",
       "    <tr>\n",
       "      <th>0</th>\n",
       "      <td>Department of Justice</td>\n",
       "      <td>4</td>\n",
       "    </tr>\n",
       "    <tr>\n",
       "      <th>4</th>\n",
       "      <td>USDA</td>\n",
       "      <td>2</td>\n",
       "    </tr>\n",
       "    <tr>\n",
       "      <th>2</th>\n",
       "      <td>NSF</td>\n",
       "      <td>1</td>\n",
       "    </tr>\n",
       "  </tbody>\n",
       "</table>\n",
       "</div>"
      ],
      "text/plain": [
       "                  agency  count\n",
       "1                   NASA    868\n",
       "3         Transportation     75\n",
       "0  Department of Justice      4\n",
       "4                   USDA      2\n",
       "2                    NSF      1"
      ]
     },
     "execution_count": 95,
     "metadata": {},
     "output_type": "execute_result"
    }
   ],
   "source": [
    "gov_count"
   ]
  },
  {
   "cell_type": "code",
   "execution_count": 96,
   "metadata": {},
   "outputs": [
    {
     "data": {
      "text/html": [
       "<div>\n",
       "<style scoped>\n",
       "    .dataframe tbody tr th:only-of-type {\n",
       "        vertical-align: middle;\n",
       "    }\n",
       "\n",
       "    .dataframe tbody tr th {\n",
       "        vertical-align: top;\n",
       "    }\n",
       "\n",
       "    .dataframe thead th {\n",
       "        text-align: right;\n",
       "    }\n",
       "</style>\n",
       "<table border=\"1\" class=\"dataframe\">\n",
       "  <thead>\n",
       "    <tr style=\"text-align: right;\">\n",
       "      <th></th>\n",
       "      <th>agency</th>\n",
       "      <th>count</th>\n",
       "    </tr>\n",
       "  </thead>\n",
       "  <tbody>\n",
       "    <tr>\n",
       "      <th>0</th>\n",
       "      <td>Department of Energy</td>\n",
       "      <td>85</td>\n",
       "    </tr>\n",
       "    <tr>\n",
       "      <th>4</th>\n",
       "      <td>NASA</td>\n",
       "      <td>15</td>\n",
       "    </tr>\n",
       "    <tr>\n",
       "      <th>1</th>\n",
       "      <td>Department of Justice</td>\n",
       "      <td>9</td>\n",
       "    </tr>\n",
       "    <tr>\n",
       "      <th>6</th>\n",
       "      <td>Transportation</td>\n",
       "      <td>5</td>\n",
       "    </tr>\n",
       "    <tr>\n",
       "      <th>2</th>\n",
       "      <td>Department of Labor</td>\n",
       "      <td>1</td>\n",
       "    </tr>\n",
       "    <tr>\n",
       "      <th>3</th>\n",
       "      <td>Education</td>\n",
       "      <td>1</td>\n",
       "    </tr>\n",
       "    <tr>\n",
       "      <th>5</th>\n",
       "      <td>SSA</td>\n",
       "      <td>1</td>\n",
       "    </tr>\n",
       "  </tbody>\n",
       "</table>\n",
       "</div>"
      ],
      "text/plain": [
       "                  agency  count\n",
       "0   Department of Energy     85\n",
       "4                   NASA     15\n",
       "1  Department of Justice      9\n",
       "6         Transportation      5\n",
       "2    Department of Labor      1\n",
       "3              Education      1\n",
       "5                    SSA      1"
      ]
     },
     "execution_count": 96,
     "metadata": {},
     "output_type": "execute_result"
    }
   ],
   "source": [
    "other_count"
   ]
  },
  {
   "cell_type": "code",
   "execution_count": 97,
   "metadata": {},
   "outputs": [
    {
     "data": {
      "text/html": [
       "<div>\n",
       "<style scoped>\n",
       "    .dataframe tbody tr th:only-of-type {\n",
       "        vertical-align: middle;\n",
       "    }\n",
       "\n",
       "    .dataframe tbody tr th {\n",
       "        vertical-align: top;\n",
       "    }\n",
       "\n",
       "    .dataframe thead th {\n",
       "        text-align: right;\n",
       "    }\n",
       "</style>\n",
       "<table border=\"1\" class=\"dataframe\">\n",
       "  <thead>\n",
       "    <tr style=\"text-align: right;\">\n",
       "      <th></th>\n",
       "      <th>agency</th>\n",
       "      <th>count</th>\n",
       "    </tr>\n",
       "  </thead>\n",
       "  <tbody>\n",
       "    <tr>\n",
       "      <th>0</th>\n",
       "      <td>Department of Energy</td>\n",
       "      <td>75</td>\n",
       "    </tr>\n",
       "    <tr>\n",
       "      <th>1</th>\n",
       "      <td>USDA</td>\n",
       "      <td>4</td>\n",
       "    </tr>\n",
       "  </tbody>\n",
       "</table>\n",
       "</div>"
      ],
      "text/plain": [
       "                 agency  count\n",
       "0  Department of Energy     75\n",
       "1                  USDA      4"
      ]
     },
     "execution_count": 97,
     "metadata": {},
     "output_type": "execute_result"
    }
   ],
   "source": [
    "bitbucket_count"
   ]
  },
  {
   "cell_type": "code",
   "execution_count": 98,
   "metadata": {},
   "outputs": [
    {
     "data": {
      "text/html": [
       "<div>\n",
       "<style scoped>\n",
       "    .dataframe tbody tr th:only-of-type {\n",
       "        vertical-align: middle;\n",
       "    }\n",
       "\n",
       "    .dataframe tbody tr th {\n",
       "        vertical-align: top;\n",
       "    }\n",
       "\n",
       "    .dataframe thead th {\n",
       "        text-align: right;\n",
       "    }\n",
       "</style>\n",
       "<table border=\"1\" class=\"dataframe\">\n",
       "  <thead>\n",
       "    <tr style=\"text-align: right;\">\n",
       "      <th></th>\n",
       "      <th>agency</th>\n",
       "      <th>count</th>\n",
       "    </tr>\n",
       "  </thead>\n",
       "  <tbody>\n",
       "    <tr>\n",
       "      <th>0</th>\n",
       "      <td>NASA</td>\n",
       "      <td>39</td>\n",
       "    </tr>\n",
       "  </tbody>\n",
       "</table>\n",
       "</div>"
      ],
      "text/plain": [
       "  agency  count\n",
       "0   NASA     39"
      ]
     },
     "execution_count": 98,
     "metadata": {},
     "output_type": "execute_result"
    }
   ],
   "source": [
    "sourceforge_count"
   ]
  },
  {
   "cell_type": "code",
   "execution_count": 99,
   "metadata": {},
   "outputs": [
    {
     "data": {
      "text/html": [
       "<div>\n",
       "<style scoped>\n",
       "    .dataframe tbody tr th:only-of-type {\n",
       "        vertical-align: middle;\n",
       "    }\n",
       "\n",
       "    .dataframe tbody tr th {\n",
       "        vertical-align: top;\n",
       "    }\n",
       "\n",
       "    .dataframe thead th {\n",
       "        text-align: right;\n",
       "    }\n",
       "</style>\n",
       "<table border=\"1\" class=\"dataframe\">\n",
       "  <thead>\n",
       "    <tr style=\"text-align: right;\">\n",
       "      <th></th>\n",
       "      <th>agency</th>\n",
       "      <th>count</th>\n",
       "    </tr>\n",
       "  </thead>\n",
       "  <tbody>\n",
       "    <tr>\n",
       "      <th>0</th>\n",
       "      <td>Department of Energy</td>\n",
       "      <td>3</td>\n",
       "    </tr>\n",
       "    <tr>\n",
       "      <th>1</th>\n",
       "      <td>Environmental Protection Agency</td>\n",
       "      <td>1</td>\n",
       "    </tr>\n",
       "  </tbody>\n",
       "</table>\n",
       "</div>"
      ],
      "text/plain": [
       "                            agency  count\n",
       "0             Department of Energy      3\n",
       "1  Environmental Protection Agency      1"
      ]
     },
     "execution_count": 99,
     "metadata": {},
     "output_type": "execute_result"
    }
   ],
   "source": [
    "cran_count"
   ]
  },
  {
   "cell_type": "code",
   "execution_count": 100,
   "metadata": {},
   "outputs": [
    {
     "data": {
      "text/html": [
       "<div>\n",
       "<style scoped>\n",
       "    .dataframe tbody tr th:only-of-type {\n",
       "        vertical-align: middle;\n",
       "    }\n",
       "\n",
       "    .dataframe tbody tr th {\n",
       "        vertical-align: top;\n",
       "    }\n",
       "\n",
       "    .dataframe thead th {\n",
       "        text-align: right;\n",
       "    }\n",
       "</style>\n",
       "<table border=\"1\" class=\"dataframe\">\n",
       "  <thead>\n",
       "    <tr style=\"text-align: right;\">\n",
       "      <th></th>\n",
       "      <th>agency</th>\n",
       "      <th>count</th>\n",
       "    </tr>\n",
       "  </thead>\n",
       "  <tbody>\n",
       "    <tr>\n",
       "      <th>0</th>\n",
       "      <td>Department of Energy</td>\n",
       "      <td>2</td>\n",
       "    </tr>\n",
       "  </tbody>\n",
       "</table>\n",
       "</div>"
      ],
      "text/plain": [
       "                 agency  count\n",
       "0  Department of Energy      2"
      ]
     },
     "execution_count": 100,
     "metadata": {},
     "output_type": "execute_result"
    }
   ],
   "source": [
    "zenodo_count"
   ]
  }
 ],
 "metadata": {
  "celltoolbar": "Raw Cell Format",
  "kernelspec": {
   "display_name": "Python 3",
   "language": "python",
   "name": "python3"
  },
  "language_info": {
   "codemirror_mode": {
    "name": "ipython",
    "version": 3
   },
   "file_extension": ".py",
   "mimetype": "text/x-python",
   "name": "python",
   "nbconvert_exporter": "python",
   "pygments_lexer": "ipython3",
   "version": "3.9.7"
  }
 },
 "nbformat": 4,
 "nbformat_minor": 4
}
