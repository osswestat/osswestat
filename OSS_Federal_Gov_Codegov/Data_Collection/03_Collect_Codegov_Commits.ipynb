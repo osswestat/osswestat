{
 "cells": [
  {
   "cell_type": "code",
   "execution_count": 1,
   "metadata": {},
   "outputs": [],
   "source": [
    "import json\n",
    "import os\n",
    "from tqdm import tqdm\n",
    "from multiprocessing import Pool\n",
    "import sys\n",
    "import time\n",
    "sys.path.append('/home/rahul/ripper/GitRipper')\n",
    "\n",
    "import pandas as pd\n",
    "from GitRipper.Ripper import collect"
   ]
  },
  {
   "cell_type": "code",
   "execution_count": 2,
   "metadata": {},
   "outputs": [
    {
     "name": "stdout",
     "output_type": "stream",
     "text": [
      "8\n"
     ]
    }
   ],
   "source": [
    "cpu_count = os.cpu_count()\n",
    "print(cpu_count)"
   ]
  },
  {
   "cell_type": "code",
   "execution_count": 3,
   "metadata": {},
   "outputs": [],
   "source": [
    "#Load the json file\n",
    "with open('/home/rahul/ripper/GitRipper/API_keys.json') as f:\n",
    "    keys = json.load(f)['keys']"
   ]
  },
  {
   "cell_type": "code",
   "execution_count": 4,
   "metadata": {},
   "outputs": [],
   "source": [
    "columns = ['repo_owner', 'repo_name', 'oid', 'messageHeadline', 'author_name',\n",
    "       'author_email', 'author_user_login', 'author_user_location',\n",
    "       'author_user_company', 'author_user_pronouns', 'author_user_bio',\n",
    "       'author_user_websiteUrl', 'author_user_twitterUsername', 'author_date',\n",
    "       'additions', 'deletions']"
   ]
  },
  {
   "cell_type": "code",
   "execution_count": 5,
   "metadata": {},
   "outputs": [],
   "source": [
    "#create an empty dataframe and save it to a csv\n",
    "if os.path.exists('/home/rahul/oss/code/Codegov_Commits.csv'):\n",
    "    pass\n",
    "else:\n",
    "    df = pd.DataFrame(columns=columns)\n",
    "    df.to_csv('/home/rahul/oss/code/Codegov_Commits.csv', index=False)"
   ]
  },
  {
   "cell_type": "code",
   "execution_count": 6,
   "metadata": {},
   "outputs": [],
   "source": [
    "#get all the packages alrady collected\n",
    "slugs_collected = []\n",
    "for df in pd.read_csv('/home/rahul/oss/code/Codegov_Commits.csv', chunksize=1000):\n",
    "    repo_names = df['repo_name'].tolist()\n",
    "    repo_owners = df['repo_owner'].tolist()\n",
    "    for i in range(len(repo_names)):\n",
    "        slugs_collected.append(repo_owners[i] + '/' + repo_names[i])\n",
    "    slugs_collected = list(set(slugs_collected))"
   ]
  },
  {
   "cell_type": "code",
   "execution_count": 7,
   "metadata": {},
   "outputs": [],
   "source": [
    "keys_list = [(i.split(\":\")[0], i.split(\":\")[1]) for i in keys]\n",
    "collector = collect(keys_list)"
   ]
  },
  {
   "cell_type": "code",
   "execution_count": 8,
   "metadata": {},
   "outputs": [],
   "source": [
    "parallelcount = cpu_count"
   ]
  },
  {
   "attachments": {},
   "cell_type": "markdown",
   "metadata": {},
   "source": [
    "--------------------------------------------\n",
    "### Getting the input data ready"
   ]
  },
  {
   "cell_type": "code",
   "execution_count": 26,
   "metadata": {},
   "outputs": [],
   "source": [
    "import json\n",
    "import requests\n",
    "from pandas import json_normalize\n",
    "from sqlalchemy import create_engine, engine, text, types, MetaData, Table, String\n",
    "import pandas as pd\n",
    "import numpy as np\n",
    "from datetime import datetime"
   ]
  },
  {
   "cell_type": "code",
   "execution_count": 27,
   "metadata": {},
   "outputs": [],
   "source": [
    "# Create SQLAlchemy engine to connect to MySQL Database\n",
    "\n",
    "from sqlalchemy import create_engine\n",
    "\n",
    "engine = create_engine(config.SQL_ALCHEMY_STRING)"
   ]
  },
  {
   "cell_type": "code",
   "execution_count": 29,
   "metadata": {},
   "outputs": [],
   "source": [
    "# Query to fetch all records\n",
    "\n",
    "import pandas as pd\n",
    "\n",
    "from sqlalchemy.sql import text\n",
    "sql = '''\n",
    "    SELECT * FROM 08_code_github_repos;\n",
    "'''\n",
    "with engine.connect().execution_options(autocommit=True) as conn:\n",
    "    query = conn.execute(text(sql))         \n",
    "code_df = pd.DataFrame(query.fetchall())\n",
    "\n",
    "code_df.to_csv('/home/rahul/oss/code/code_repos.csv')"
   ]
  },
  {
   "attachments": {},
   "cell_type": "markdown",
   "metadata": {},
   "source": [
    "---------------------------------"
   ]
  },
  {
   "cell_type": "code",
   "execution_count": 30,
   "metadata": {},
   "outputs": [],
   "source": [
    "def get_owner_and_repo(url):\n",
    "    ### if it has .git, remove it\n",
    "    if url.endswith(\".git\"):\n",
    "        url = url[:-4]\n",
    "    ### get owner and repo\n",
    "    owner = url.split(\"/\")[-2]\n",
    "    repo = url.split(\"/\")[-1]\n",
    "    return owner, repo"
   ]
  },
  {
   "cell_type": "code",
   "execution_count": 31,
   "metadata": {},
   "outputs": [],
   "source": [
    "def get_commits(owner, repo, key, since):\n",
    "    try:\n",
    "        if owner + '/' + repo in slugs_collected:\n",
    "            return None\n",
    "        commits = collector.collectCommits(owner, repo, key, since)\n",
    "        return commits\n",
    "    except Exception as e:\n",
    "        print(\"Error: \", e)\n",
    "        return None"
   ]
  },
  {
   "cell_type": "code",
   "execution_count": 32,
   "metadata": {},
   "outputs": [],
   "source": [
    "overall_it = int(pd.read_csv(\"/home/rahul/oss/code/code_repos.csv\").shape[0]/parallelcount)"
   ]
  },
  {
   "cell_type": "code",
   "execution_count": 34,
   "metadata": {},
   "outputs": [
    {
     "name": "stderr",
     "output_type": "stream",
     "text": [
      "  1%|          | 7/759 [03:23<2:44:19, 13.11s/it]  "
     ]
    },
    {
     "name": "stdout",
     "output_type": "stream",
     "text": [
      "Error:  'NoneType' object is not subscriptable\n"
     ]
    },
    {
     "name": "stderr",
     "output_type": "stream",
     "text": [
      "  1%|          | 8/759 [03:31<2:26:46, 11.73s/it]"
     ]
    },
    {
     "name": "stdout",
     "output_type": "stream",
     "text": [
      "Error:  'NoneType' object is not subscriptable\n"
     ]
    },
    {
     "name": "stderr",
     "output_type": "stream",
     "text": [
      "  2%|▏         | 14/759 [04:20<2:20:43, 11.33s/it]"
     ]
    },
    {
     "name": "stdout",
     "output_type": "stream",
     "text": [
      "Error:  'NoneType' object is not subscriptable\n",
      "Error:  'data'\n"
     ]
    },
    {
     "name": "stderr",
     "output_type": "stream",
     "text": [
      "  2%|▏         | 15/759 [32:57<108:34:29, 525.36s/it]"
     ]
    },
    {
     "name": "stdout",
     "output_type": "stream",
     "text": [
      "Error:  'data'\n",
      "Error:  'data'\n",
      "Query failed with status code: 403\n",
      "Query failed with status code: 403\n"
     ]
    },
    {
     "name": "stderr",
     "output_type": "stream",
     "text": [
      "  2%|▏         | 18/759 [37:40<49:20:38, 239.73s/it] "
     ]
    },
    {
     "name": "stdout",
     "output_type": "stream",
     "text": [
      "Error:  'NoneType' object is not subscriptableError: \n",
      " 'NoneType' object is not subscriptable\n",
      "Error:  'NoneType' object is not subscriptable\n"
     ]
    },
    {
     "name": "stderr",
     "output_type": "stream",
     "text": [
      "  5%|▍         | 36/759 [48:14<4:12:31, 20.96s/it]  "
     ]
    },
    {
     "name": "stdout",
     "output_type": "stream",
     "text": [
      "Error:  'NoneType' object is not subscriptable\n"
     ]
    },
    {
     "name": "stderr",
     "output_type": "stream",
     "text": [
      "  5%|▍         | 37/759 [1:08:10<74:54:37, 373.51s/it]"
     ]
    },
    {
     "name": "stdout",
     "output_type": "stream",
     "text": [
      "Error:  'NoneType' object is not subscriptable\n"
     ]
    },
    {
     "name": "stderr",
     "output_type": "stream",
     "text": [
      "  5%|▌         | 38/759 [1:08:36<53:55:13, 269.23s/it]"
     ]
    },
    {
     "name": "stdout",
     "output_type": "stream",
     "text": [
      "Error:  'data'\n"
     ]
    },
    {
     "name": "stderr",
     "output_type": "stream",
     "text": [
      "  5%|▌         | 39/759 [1:09:42<41:39:32, 208.29s/it]"
     ]
    },
    {
     "name": "stdout",
     "output_type": "stream",
     "text": [
      "Error:  'data'\n",
      "Error:  'data'\n",
      "Query failed with status code: 403\n",
      "Query failed with status code: 403\n"
     ]
    },
    {
     "name": "stderr",
     "output_type": "stream",
     "text": [
      "  5%|▌         | 40/759 [1:10:20<31:23:36, 157.19s/it]"
     ]
    },
    {
     "name": "stdout",
     "output_type": "stream",
     "text": [
      "Error:  'NoneType' object is not subscriptable\n"
     ]
    },
    {
     "name": "stderr",
     "output_type": "stream",
     "text": [
      "  6%|▌         | 42/759 [1:11:21<18:14:45, 91.61s/it] "
     ]
    },
    {
     "name": "stdout",
     "output_type": "stream",
     "text": [
      "Error:  'NoneType' object is not subscriptable\n"
     ]
    },
    {
     "name": "stderr",
     "output_type": "stream",
     "text": [
      "  6%|▌         | 43/759 [1:11:39<13:48:08, 69.40s/it]"
     ]
    },
    {
     "name": "stdout",
     "output_type": "stream",
     "text": [
      "Error:  'NoneType' object is not subscriptable\n"
     ]
    },
    {
     "name": "stderr",
     "output_type": "stream",
     "text": [
      "  6%|▌         | 46/759 [1:12:46<7:38:14, 38.56s/it] "
     ]
    },
    {
     "name": "stdout",
     "output_type": "stream",
     "text": [
      "Error:  'NoneType' object is not subscriptable\n",
      "Error:  'NoneType' object is not subscriptable\n"
     ]
    },
    {
     "name": "stderr",
     "output_type": "stream",
     "text": [
      "  6%|▌         | 47/759 [1:12:55<5:51:25, 29.61s/it]"
     ]
    },
    {
     "name": "stdout",
     "output_type": "stream",
     "text": [
      "Error:  'NoneType' object is not subscriptable\n"
     ]
    },
    {
     "name": "stderr",
     "output_type": "stream",
     "text": [
      "  6%|▋         | 49/759 [1:14:03<6:31:05, 33.05s/it]"
     ]
    },
    {
     "name": "stdout",
     "output_type": "stream",
     "text": [
      "Error:  'NoneType' object is not subscriptable\n",
      "Error:  'data'\n",
      "Error:  'data'\n"
     ]
    },
    {
     "name": "stderr",
     "output_type": "stream",
     "text": [
      "  7%|▋         | 50/759 [1:20:02<25:46:27, 130.87s/it]"
     ]
    },
    {
     "name": "stdout",
     "output_type": "stream",
     "text": [
      "Error:  'data'Error:  \n",
      "'data'\n",
      "Error:  'NoneType' object is not subscriptable\n",
      "Query failed with status code: 403\n",
      "Query failed with status code: 403\n",
      "Query failed with status code: 403\n",
      "Error:  'NoneType' object is not subscriptable\n"
     ]
    },
    {
     "name": "stderr",
     "output_type": "stream",
     "text": [
      "  7%|▋         | 51/759 [1:21:19<22:33:01, 114.66s/it]"
     ]
    },
    {
     "name": "stdout",
     "output_type": "stream",
     "text": [
      "Error:  'data'\n"
     ]
    },
    {
     "name": "stderr",
     "output_type": "stream",
     "text": [
      "  7%|▋         | 52/759 [2:10:24<189:18:02, 963.91s/it]"
     ]
    },
    {
     "name": "stdout",
     "output_type": "stream",
     "text": [
      "Error:  'NoneType' object is not subscriptable\n",
      "Error:  'data'\n"
     ]
    },
    {
     "name": "stderr",
     "output_type": "stream",
     "text": [
      "  7%|▋         | 55/759 [2:12:15<68:26:32, 349.99s/it] "
     ]
    },
    {
     "name": "stdout",
     "output_type": "stream",
     "text": [
      "Error:  'NoneType' object is not subscriptable\n"
     ]
    },
    {
     "name": "stderr",
     "output_type": "stream",
     "text": [
      "  7%|▋         | 56/759 [2:12:37<49:09:51, 251.77s/it]"
     ]
    },
    {
     "name": "stdout",
     "output_type": "stream",
     "text": [
      "Error:  'NoneType' object is not subscriptable\n",
      "Error:  'NoneType' object is not subscriptable\n",
      "Error:  'NoneType' object is not subscriptable\n"
     ]
    },
    {
     "name": "stderr",
     "output_type": "stream",
     "text": [
      "  8%|▊         | 57/759 [2:14:04<39:24:49, 202.12s/it]"
     ]
    },
    {
     "name": "stdout",
     "output_type": "stream",
     "text": [
      "Error:  'NoneType' object is not subscriptable\n"
     ]
    },
    {
     "name": "stderr",
     "output_type": "stream",
     "text": [
      "  8%|▊         | 59/759 [2:14:21<20:12:39, 103.94s/it]"
     ]
    },
    {
     "name": "stdout",
     "output_type": "stream",
     "text": [
      "Error:  'NoneType' object is not subscriptable\n"
     ]
    },
    {
     "name": "stderr",
     "output_type": "stream",
     "text": [
      "  8%|▊         | 62/759 [2:16:06<10:34:32, 54.62s/it] "
     ]
    },
    {
     "name": "stdout",
     "output_type": "stream",
     "text": [
      "Error:  'data'\n"
     ]
    },
    {
     "name": "stderr",
     "output_type": "stream",
     "text": [
      "  8%|▊         | 63/759 [2:16:30<8:47:07, 45.44s/it] "
     ]
    },
    {
     "name": "stdout",
     "output_type": "stream",
     "text": [
      "Error:  'data'Error: \n",
      " 'data'\n",
      "Query failed with status code: 403\n",
      "Query failed with status code: 403\n",
      "Query failed with status code: 403\n",
      "Query failed with status code: 403\n",
      "Query failed with status code: 403\n"
     ]
    },
    {
     "name": "stderr",
     "output_type": "stream",
     "text": [
      "  8%|▊         | 64/759 [2:16:42<6:48:51, 35.30s/it]"
     ]
    },
    {
     "name": "stdout",
     "output_type": "stream",
     "text": [
      "Error:  'NoneType' object is not subscriptable\n",
      "Error:  'NoneType' object is not subscriptable\n"
     ]
    },
    {
     "name": "stderr",
     "output_type": "stream",
     "text": [
      "  9%|▉         | 71/759 [2:21:22<6:17:59, 32.96s/it] "
     ]
    },
    {
     "name": "stdout",
     "output_type": "stream",
     "text": [
      "Error:  'NoneType' object is not subscriptable\n"
     ]
    },
    {
     "name": "stderr",
     "output_type": "stream",
     "text": [
      "  9%|▉         | 72/759 [2:22:57<9:51:31, 51.66s/it]"
     ]
    },
    {
     "name": "stdout",
     "output_type": "stream",
     "text": [
      "Error:  'NoneType' object is not subscriptable\n",
      "Error:  'NoneType' object is not subscriptable\n"
     ]
    },
    {
     "name": "stderr",
     "output_type": "stream",
     "text": [
      " 10%|▉         | 73/759 [2:30:19<32:08:52, 168.71s/it]"
     ]
    },
    {
     "name": "stdout",
     "output_type": "stream",
     "text": [
      "Error:  'NoneType' object is not subscriptable\n"
     ]
    },
    {
     "name": "stderr",
     "output_type": "stream",
     "text": [
      " 10%|▉         | 74/759 [2:30:32<23:11:22, 121.87s/it]"
     ]
    },
    {
     "name": "stdout",
     "output_type": "stream",
     "text": [
      "Error:  'NoneType' object is not subscriptable\n"
     ]
    },
    {
     "name": "stderr",
     "output_type": "stream",
     "text": [
      " 10%|█         | 77/759 [2:35:21<20:03:39, 105.89s/it]"
     ]
    },
    {
     "name": "stdout",
     "output_type": "stream",
     "text": [
      "Error:  'NoneType' object is not subscriptable\n"
     ]
    },
    {
     "name": "stderr",
     "output_type": "stream",
     "text": [
      " 10%|█         | 78/759 [2:35:26<14:19:34, 75.73s/it] "
     ]
    },
    {
     "name": "stdout",
     "output_type": "stream",
     "text": [
      "Error:  'NoneType' object is not subscriptable\n",
      "Error:  'data'\n"
     ]
    },
    {
     "name": "stderr",
     "output_type": "stream",
     "text": [
      " 10%|█         | 79/759 [2:41:24<30:17:16, 160.35s/it]"
     ]
    },
    {
     "name": "stdout",
     "output_type": "stream",
     "text": [
      "Error:  'data'Error: \n",
      " 'data'\n",
      "Query failed with status code: 403\n",
      "Query failed with status code: 403Query failed with status code: 403\n",
      "\n"
     ]
    },
    {
     "name": "stderr",
     "output_type": "stream",
     "text": [
      " 11%|█         | 80/759 [2:43:04<26:49:43, 142.24s/it]"
     ]
    },
    {
     "name": "stdout",
     "output_type": "stream",
     "text": [
      "Error:  'NoneType' object is not subscriptable\n",
      "Error:  'NoneType' object is not subscriptable\n",
      "Error:  'data'\n"
     ]
    },
    {
     "name": "stderr",
     "output_type": "stream",
     "text": [
      " 11%|█         | 82/759 [2:48:17<25:40:06, 136.49s/it]"
     ]
    },
    {
     "name": "stdout",
     "output_type": "stream",
     "text": [
      "Error:  'NoneType' object is not subscriptable\n",
      "Error:  'NoneType' object is not subscriptable\n"
     ]
    },
    {
     "name": "stderr",
     "output_type": "stream",
     "text": [
      " 11%|█         | 83/759 [2:48:47<19:39:43, 104.71s/it]"
     ]
    },
    {
     "name": "stdout",
     "output_type": "stream",
     "text": [
      "Error:  'NoneType' object is not subscriptable\n"
     ]
    },
    {
     "name": "stderr",
     "output_type": "stream",
     "text": [
      " 11%|█         | 84/759 [2:48:50<13:52:23, 73.99s/it] "
     ]
    },
    {
     "name": "stdout",
     "output_type": "stream",
     "text": [
      "Error:  'data'\n"
     ]
    },
    {
     "name": "stderr",
     "output_type": "stream",
     "text": [
      " 11%|█         | 85/759 [2:49:35<12:15:32, 65.48s/it]"
     ]
    },
    {
     "name": "stdout",
     "output_type": "stream",
     "text": [
      "Error:  'data'\n",
      "Error:  'data'\n",
      "Query failed with status code: 403\n",
      "Query failed with status code: 403\n",
      "Query failed with status code: 403\n",
      "Error:  'NoneType' object is not subscriptable\n"
     ]
    },
    {
     "name": "stderr",
     "output_type": "stream",
     "text": [
      " 12%|█▏        | 89/759 [3:00:29<35:34:29, 191.15s/it]"
     ]
    },
    {
     "name": "stdout",
     "output_type": "stream",
     "text": [
      "Error:  'NoneType' object is not subscriptable\n",
      "Error:  'NoneType' object is not subscriptable\n",
      "Error:  'NoneType' object is not subscriptable\n"
     ]
    },
    {
     "name": "stderr",
     "output_type": "stream",
     "text": [
      " 12%|█▏        | 90/759 [3:00:51<26:03:09, 140.19s/it]"
     ]
    },
    {
     "name": "stdout",
     "output_type": "stream",
     "text": [
      "Error:  'NoneType' object is not subscriptable\n",
      "Error:  'data'\n"
     ]
    },
    {
     "name": "stderr",
     "output_type": "stream",
     "text": [
      " 12%|█▏        | 91/759 [3:01:33<20:32:51, 110.74s/it]"
     ]
    },
    {
     "name": "stdout",
     "output_type": "stream",
     "text": [
      "Error:  'data'\n",
      "Error:  'data'\n",
      "Query failed with status code: 403\n",
      "Query failed with status code: 403\n",
      "Query failed with status code: 403\n",
      "Query failed with status code: 403\n",
      "Query failed with status code: 403\n",
      "Query failed with status code: 403\n"
     ]
    },
    {
     "name": "stderr",
     "output_type": "stream",
     "text": [
      " 12%|█▏        | 92/759 [3:01:40<14:46:11, 79.72s/it] "
     ]
    },
    {
     "name": "stdout",
     "output_type": "stream",
     "text": [
      "Error: Error:  'data'\n",
      " 'data'\n",
      "Error:  'NoneType' object is not subscriptable\n",
      "Query failed with status code: 403\n",
      "Query failed with status code: 403\n",
      "Query failed with status code: 403\n",
      "Query failed with status code: 403\n",
      "Query failed with status code: 403\n"
     ]
    },
    {
     "name": "stderr",
     "output_type": "stream",
     "text": [
      " 12%|█▏        | 93/759 [3:01:42<10:27:09, 56.50s/it]"
     ]
    },
    {
     "name": "stdout",
     "output_type": "stream",
     "text": [
      "Error: Error:   'data''data'\n",
      "\n",
      "Query failed with status code: 403\n",
      "Query failed with status code: 403\n",
      "Query failed with status code: 403\n",
      "Query failed with status code: 403\n",
      "Query failed with status code: 403\n"
     ]
    },
    {
     "name": "stderr",
     "output_type": "stream",
     "text": [
      " 13%|█▎        | 96/759 [3:02:31<5:09:07, 27.97s/it] "
     ]
    },
    {
     "name": "stdout",
     "output_type": "stream",
     "text": [
      "Error:  'NoneType' object is not subscriptable\n"
     ]
    },
    {
     "name": "stderr",
     "output_type": "stream",
     "text": [
      " 13%|█▎        | 97/759 [3:05:12<12:28:47, 67.87s/it]"
     ]
    },
    {
     "name": "stdout",
     "output_type": "stream",
     "text": [
      "Error:  'NoneType' object is not subscriptable\n"
     ]
    },
    {
     "name": "stderr",
     "output_type": "stream",
     "text": [
      " 14%|█▍        | 105/759 [3:16:41<10:46:39, 59.33s/it] "
     ]
    },
    {
     "name": "stdout",
     "output_type": "stream",
     "text": [
      "Error:  'NoneType' object is not subscriptable\n"
     ]
    },
    {
     "name": "stderr",
     "output_type": "stream",
     "text": [
      " 14%|█▍        | 106/759 [3:16:57<8:22:20, 46.16s/it] "
     ]
    },
    {
     "name": "stdout",
     "output_type": "stream",
     "text": [
      "Error:  'NoneType' object is not subscriptable\n"
     ]
    },
    {
     "name": "stderr",
     "output_type": "stream",
     "text": [
      " 14%|█▍        | 107/759 [3:17:59<9:14:08, 50.99s/it]"
     ]
    },
    {
     "name": "stdout",
     "output_type": "stream",
     "text": [
      "Error:  'NoneType' object is not subscriptable\n",
      "Error:  'NoneType' object is not subscriptable\n",
      "Error:  'NoneType' object is not subscriptable\n"
     ]
    },
    {
     "name": "stderr",
     "output_type": "stream",
     "text": [
      " 14%|█▍        | 109/759 [3:20:29<10:39:18, 59.01s/it]"
     ]
    },
    {
     "name": "stdout",
     "output_type": "stream",
     "text": [
      "Error:  'NoneType' object is not subscriptable\n"
     ]
    },
    {
     "name": "stderr",
     "output_type": "stream",
     "text": [
      " 15%|█▍        | 113/759 [3:25:05<13:07:56, 73.18s/it]"
     ]
    },
    {
     "name": "stdout",
     "output_type": "stream",
     "text": [
      "Error:  'NoneType' object is not subscriptable\n"
     ]
    },
    {
     "name": "stderr",
     "output_type": "stream",
     "text": [
      " 16%|█▌        | 118/759 [3:28:09<9:21:14, 52.54s/it] "
     ]
    },
    {
     "name": "stdout",
     "output_type": "stream",
     "text": [
      "Error:  'NoneType' object is not subscriptable\n"
     ]
    },
    {
     "name": "stderr",
     "output_type": "stream",
     "text": [
      " 16%|█▌        | 119/759 [3:30:40<14:34:35, 81.99s/it]"
     ]
    },
    {
     "name": "stdout",
     "output_type": "stream",
     "text": [
      "Error:  'NoneType' object is not subscriptable\n"
     ]
    },
    {
     "name": "stderr",
     "output_type": "stream",
     "text": [
      " 16%|█▋        | 124/759 [3:37:49<13:52:48, 78.69s/it] "
     ]
    },
    {
     "name": "stdout",
     "output_type": "stream",
     "text": [
      "Error:  'NoneType' object is not subscriptable\n",
      "Error:  'NoneType' object is not subscriptable\n"
     ]
    },
    {
     "name": "stderr",
     "output_type": "stream",
     "text": [
      " 17%|█▋        | 130/759 [3:44:37<9:14:58, 52.94s/it]  "
     ]
    },
    {
     "name": "stdout",
     "output_type": "stream",
     "text": [
      "Error:  'NoneType' object is not subscriptable\n",
      "Error:  'data'\n",
      "Error:  'data'\n",
      "Error:  'data'\n"
     ]
    },
    {
     "name": "stderr",
     "output_type": "stream",
     "text": [
      " 17%|█▋        | 131/759 [3:45:51<10:18:06, 59.06s/it]"
     ]
    },
    {
     "name": "stdout",
     "output_type": "stream",
     "text": [
      "Error:  'data'\n",
      "Error:  'data'\n",
      "Query failed with status code: 403\n",
      "Query failed with status code: 403\n",
      "Query failed with status code: 403\n"
     ]
    },
    {
     "name": "stderr",
     "output_type": "stream",
     "text": [
      " 18%|█▊        | 133/759 [3:56:30<37:48:11, 217.40s/it]"
     ]
    },
    {
     "name": "stdout",
     "output_type": "stream",
     "text": [
      "Error:  'NoneType' object is not subscriptable\n"
     ]
    },
    {
     "name": "stderr",
     "output_type": "stream",
     "text": [
      " 19%|█▊        | 141/759 [4:04:44<6:52:45, 40.07s/it]  "
     ]
    },
    {
     "name": "stdout",
     "output_type": "stream",
     "text": [
      "Error:  'NoneType' object is not subscriptable\n"
     ]
    },
    {
     "name": "stderr",
     "output_type": "stream",
     "text": [
      " 19%|█▊        | 142/759 [4:05:01<5:39:55, 33.06s/it]"
     ]
    },
    {
     "name": "stdout",
     "output_type": "stream",
     "text": [
      "Error:  'NoneType' object is not subscriptable\n"
     ]
    },
    {
     "name": "stderr",
     "output_type": "stream",
     "text": [
      " 19%|█▉        | 143/759 [4:05:23<5:06:25, 29.85s/it]"
     ]
    },
    {
     "name": "stdout",
     "output_type": "stream",
     "text": [
      "Error:  'NoneType' object is not subscriptable\n"
     ]
    },
    {
     "name": "stderr",
     "output_type": "stream",
     "text": [
      " 19%|█▉        | 144/759 [4:09:19<15:39:04, 91.62s/it]"
     ]
    },
    {
     "name": "stdout",
     "output_type": "stream",
     "text": [
      "Error:  'NoneType' object is not subscriptable\n"
     ]
    },
    {
     "name": "stderr",
     "output_type": "stream",
     "text": [
      " 19%|█▉        | 146/759 [4:12:53<16:21:24, 96.06s/it] "
     ]
    },
    {
     "name": "stdout",
     "output_type": "stream",
     "text": [
      "Error:  'NoneType' object is not subscriptable\n",
      "Error:  'NoneType' object is not subscriptable\n"
     ]
    },
    {
     "name": "stderr",
     "output_type": "stream",
     "text": [
      " 19%|█▉        | 147/759 [4:13:25<13:04:04, 76.87s/it]"
     ]
    },
    {
     "name": "stdout",
     "output_type": "stream",
     "text": [
      "Error:  \n"
     ]
    },
    {
     "name": "stderr",
     "output_type": "stream",
     "text": [
      " 20%|█▉        | 150/759 [4:17:12<14:40:02, 86.70s/it]"
     ]
    },
    {
     "name": "stdout",
     "output_type": "stream",
     "text": [
      "Error:  'NoneType' object is not subscriptable\n"
     ]
    },
    {
     "name": "stderr",
     "output_type": "stream",
     "text": [
      " 20%|██        | 152/759 [4:17:38<8:10:42, 48.50s/it] "
     ]
    },
    {
     "name": "stdout",
     "output_type": "stream",
     "text": [
      "Error:  'NoneType' object is not subscriptable\n"
     ]
    },
    {
     "name": "stderr",
     "output_type": "stream",
     "text": [
      " 21%|██        | 156/759 [4:26:03<22:08:34, 132.20s/it]"
     ]
    },
    {
     "name": "stdout",
     "output_type": "stream",
     "text": [
      "Error:  'NoneType' object is not subscriptable\n"
     ]
    },
    {
     "name": "stderr",
     "output_type": "stream",
     "text": [
      " 21%|██        | 157/759 [4:30:54<30:03:52, 179.79s/it]"
     ]
    },
    {
     "name": "stdout",
     "output_type": "stream",
     "text": [
      "Error:  'NoneType' object is not subscriptable\n"
     ]
    },
    {
     "name": "stderr",
     "output_type": "stream",
     "text": [
      " 21%|██        | 160/759 [4:37:42<26:08:37, 157.12s/it]"
     ]
    },
    {
     "name": "stdout",
     "output_type": "stream",
     "text": [
      "Error:  'NoneType' object is not subscriptable\n"
     ]
    },
    {
     "name": "stderr",
     "output_type": "stream",
     "text": [
      " 21%|██        | 161/759 [4:38:09<19:38:06, 118.21s/it]"
     ]
    },
    {
     "name": "stdout",
     "output_type": "stream",
     "text": [
      "Error:  'NoneType' object is not subscriptable\n"
     ]
    },
    {
     "name": "stderr",
     "output_type": "stream",
     "text": [
      " 21%|██▏       | 163/759 [4:42:07<18:18:30, 110.59s/it]"
     ]
    },
    {
     "name": "stdout",
     "output_type": "stream",
     "text": [
      "Error:  'NoneType' object is not subscriptable\n"
     ]
    },
    {
     "name": "stderr",
     "output_type": "stream",
     "text": [
      " 22%|██▏       | 166/759 [4:44:20<9:53:14, 60.02s/it]  "
     ]
    },
    {
     "name": "stdout",
     "output_type": "stream",
     "text": [
      "Error:  'data'\n"
     ]
    },
    {
     "name": "stderr",
     "output_type": "stream",
     "text": [
      " 22%|██▏       | 167/759 [4:48:43<19:52:37, 120.87s/it]"
     ]
    },
    {
     "name": "stdout",
     "output_type": "stream",
     "text": [
      "Error:  'NoneType' object is not subscriptable\n"
     ]
    },
    {
     "name": "stderr",
     "output_type": "stream",
     "text": [
      " 22%|██▏       | 170/759 [4:50:52<12:01:34, 73.50s/it] "
     ]
    },
    {
     "name": "stdout",
     "output_type": "stream",
     "text": [
      "Error:  'NoneType' object is not subscriptable\n"
     ]
    },
    {
     "name": "stderr",
     "output_type": "stream",
     "text": [
      " 23%|██▎       | 173/759 [4:53:15<8:35:18, 52.76s/it] "
     ]
    },
    {
     "name": "stdout",
     "output_type": "stream",
     "text": [
      "Error:  'data'\n"
     ]
    },
    {
     "name": "stderr",
     "output_type": "stream",
     "text": [
      " 23%|██▎       | 175/759 [4:56:19<12:16:50, 75.70s/it]"
     ]
    },
    {
     "name": "stdout",
     "output_type": "stream",
     "text": [
      "Error:  'data'\n"
     ]
    },
    {
     "name": "stderr",
     "output_type": "stream",
     "text": [
      " 23%|██▎       | 176/759 [4:56:50<10:04:28, 62.21s/it]"
     ]
    },
    {
     "name": "stdout",
     "output_type": "stream",
     "text": [
      "Error:  'data'\n",
      "Error:  'data'\n",
      "Query failed with status code: 403\n",
      "Query failed with status code: 403\n",
      "Error:  'NoneType' object is not subscriptable\n"
     ]
    },
    {
     "name": "stderr",
     "output_type": "stream",
     "text": [
      " 24%|██▎       | 179/759 [4:59:01<8:23:30, 52.09s/it] "
     ]
    },
    {
     "name": "stdout",
     "output_type": "stream",
     "text": [
      "Error:  'NoneType' object is not subscriptable\n",
      "Error:  'NoneType' object is not subscriptable\n"
     ]
    },
    {
     "name": "stderr",
     "output_type": "stream",
     "text": [
      " 24%|██▎       | 180/759 [5:00:51<11:11:49, 69.62s/it]"
     ]
    },
    {
     "name": "stdout",
     "output_type": "stream",
     "text": [
      "Error:  'data'\n",
      "Query failed with status code: 403\n",
      "Query failed with status code: 403\n",
      "Query failed with status code: 403\n",
      "Query failed with status code: 403\n",
      "Query failed with status code: 403\n"
     ]
    },
    {
     "name": "stderr",
     "output_type": "stream",
     "text": [
      " 24%|██▍       | 181/759 [5:02:06<11:24:35, 71.06s/it]"
     ]
    },
    {
     "name": "stdout",
     "output_type": "stream",
     "text": [
      "Error:  'NoneType' object is not subscriptable\n"
     ]
    },
    {
     "name": "stderr",
     "output_type": "stream",
     "text": [
      " 24%|██▍       | 182/759 [5:02:10<8:09:54, 50.94s/it] "
     ]
    },
    {
     "name": "stdout",
     "output_type": "stream",
     "text": [
      "Error:  'NoneType' object is not subscriptable\n"
     ]
    },
    {
     "name": "stderr",
     "output_type": "stream",
     "text": [
      " 25%|██▌       | 190/759 [5:56:57<96:51:36, 612.82s/it]"
     ]
    },
    {
     "name": "stdout",
     "output_type": "stream",
     "text": [
      "Error:  'data'\n"
     ]
    },
    {
     "name": "stderr",
     "output_type": "stream",
     "text": [
      " 25%|██▌       | 191/759 [5:59:17<74:17:52, 470.90s/it]"
     ]
    },
    {
     "name": "stdout",
     "output_type": "stream",
     "text": [
      "Error:  'data'\n",
      "Query failed with status code: 403\n",
      "Query failed with status code: 403\n",
      "Query failed with status code: 403\n",
      "Query failed with status code: 403\n",
      "Error:  'NoneType' object is not subscriptable\n"
     ]
    },
    {
     "name": "stderr",
     "output_type": "stream",
     "text": [
      " 26%|██▌       | 194/759 [6:04:23<34:40:42, 220.96s/it]"
     ]
    },
    {
     "name": "stdout",
     "output_type": "stream",
     "text": [
      "Error:  'data'\n",
      "Error:  'data'\n"
     ]
    },
    {
     "name": "stderr",
     "output_type": "stream",
     "text": [
      " 26%|██▌       | 195/759 [6:05:07<26:16:40, 167.73s/it]"
     ]
    },
    {
     "name": "stdout",
     "output_type": "stream",
     "text": [
      "Error: Error:   'data''data'\n",
      "\n",
      "Query failed with status code: 403\n",
      "Query failed with status code: 403\n",
      "Query failed with status code: 403\n",
      "Query failed with status code: 403\n",
      "Query failed with status code: 403\n",
      "Query failed with status code: 403\n"
     ]
    },
    {
     "name": "stderr",
     "output_type": "stream",
     "text": [
      " 26%|██▌       | 196/759 [6:05:11<18:32:38, 118.58s/it]"
     ]
    },
    {
     "name": "stdout",
     "output_type": "stream",
     "text": [
      "Error:  Error: 'data' 'data'\n",
      "\n",
      "Query failed with status code: 403\n",
      "Query failed with status code: 403\n",
      "Query failed with status code: 403\n",
      "Query failed with status code: 403\n",
      "Query failed with status code: 403\n",
      "Error:  'NoneType' object is not subscriptable\n"
     ]
    },
    {
     "name": "stderr",
     "output_type": "stream",
     "text": [
      " 26%|██▌       | 199/759 [6:06:14<7:50:20, 50.39s/it]  "
     ]
    },
    {
     "name": "stdout",
     "output_type": "stream",
     "text": [
      "Error:  'NoneType' object is not subscriptable\n"
     ]
    },
    {
     "name": "stderr",
     "output_type": "stream",
     "text": [
      " 27%|██▋       | 204/759 [6:06:46<2:04:26, 13.45s/it]"
     ]
    },
    {
     "name": "stdout",
     "output_type": "stream",
     "text": [
      "Error:  'NoneType' object is not subscriptable\n"
     ]
    },
    {
     "name": "stderr",
     "output_type": "stream",
     "text": [
      " 28%|██▊       | 209/759 [6:07:20<1:00:25,  6.59s/it]"
     ]
    },
    {
     "name": "stdout",
     "output_type": "stream",
     "text": [
      "Error:  'NoneType' object is not subscriptable\n"
     ]
    },
    {
     "name": "stderr",
     "output_type": "stream",
     "text": [
      " 28%|██▊       | 214/759 [6:08:20<1:53:28, 12.49s/it]"
     ]
    },
    {
     "name": "stdout",
     "output_type": "stream",
     "text": [
      "Error:  'NoneType' object is not subscriptable\n"
     ]
    },
    {
     "name": "stderr",
     "output_type": "stream",
     "text": [
      " 29%|██▉       | 219/759 [6:08:47<53:17,  5.92s/it]  "
     ]
    },
    {
     "name": "stdout",
     "output_type": "stream",
     "text": [
      "Error:  'NoneType' object is not subscriptable\n"
     ]
    },
    {
     "name": "stderr",
     "output_type": "stream",
     "text": [
      " 29%|██▉       | 223/759 [6:09:13<44:03,  4.93s/it]  "
     ]
    },
    {
     "name": "stdout",
     "output_type": "stream",
     "text": [
      "Error:  'NoneType' object is not subscriptable\n"
     ]
    },
    {
     "name": "stderr",
     "output_type": "stream",
     "text": [
      " 30%|██▉       | 224/759 [6:09:18<46:15,  5.19s/it]"
     ]
    },
    {
     "name": "stdout",
     "output_type": "stream",
     "text": [
      "Error:  'NoneType' object is not subscriptable\n"
     ]
    },
    {
     "name": "stderr",
     "output_type": "stream",
     "text": [
      " 30%|██▉       | 226/759 [6:09:37<1:07:47,  7.63s/it]"
     ]
    },
    {
     "name": "stdout",
     "output_type": "stream",
     "text": [
      "Error:  'NoneType' object is not subscriptable\n"
     ]
    },
    {
     "name": "stderr",
     "output_type": "stream",
     "text": [
      " 30%|███       | 230/759 [6:10:16<1:15:18,  8.54s/it]"
     ]
    },
    {
     "name": "stdout",
     "output_type": "stream",
     "text": [
      "Error:  'NoneType' object is not subscriptable\n"
     ]
    },
    {
     "name": "stderr",
     "output_type": "stream",
     "text": [
      " 31%|███       | 232/759 [6:10:58<2:07:32, 14.52s/it]"
     ]
    },
    {
     "name": "stdout",
     "output_type": "stream",
     "text": [
      "Error:  'NoneType' object is not subscriptable\n"
     ]
    },
    {
     "name": "stderr",
     "output_type": "stream",
     "text": [
      " 33%|███▎      | 254/759 [6:16:43<4:49:03, 34.34s/it]"
     ]
    },
    {
     "name": "stdout",
     "output_type": "stream",
     "text": [
      "Error:  'NoneType' object is not subscriptable\n"
     ]
    },
    {
     "name": "stderr",
     "output_type": "stream",
     "text": [
      " 34%|███▎      | 256/759 [6:17:05<3:01:51, 21.69s/it]"
     ]
    },
    {
     "name": "stdout",
     "output_type": "stream",
     "text": [
      "Error:  'NoneType' object is not subscriptable\n"
     ]
    },
    {
     "name": "stderr",
     "output_type": "stream",
     "text": [
      " 34%|███▍      | 260/759 [6:18:01<1:55:00, 13.83s/it]"
     ]
    },
    {
     "name": "stdout",
     "output_type": "stream",
     "text": [
      "Error:  'NoneType' object is not subscriptable\n"
     ]
    },
    {
     "name": "stderr",
     "output_type": "stream",
     "text": [
      " 34%|███▍      | 261/759 [6:18:21<2:09:04, 15.55s/it]"
     ]
    },
    {
     "name": "stdout",
     "output_type": "stream",
     "text": [
      "Error:  'NoneType' object is not subscriptable\n"
     ]
    },
    {
     "name": "stderr",
     "output_type": "stream",
     "text": [
      " 35%|███▌      | 267/759 [6:19:14<54:14,  6.62s/it]  "
     ]
    },
    {
     "name": "stdout",
     "output_type": "stream",
     "text": [
      "Error:  'NoneType' object is not subscriptable\n"
     ]
    },
    {
     "name": "stderr",
     "output_type": "stream",
     "text": [
      " 35%|███▌      | 269/759 [6:19:43<1:30:28, 11.08s/it]"
     ]
    },
    {
     "name": "stdout",
     "output_type": "stream",
     "text": [
      "Error:  'NoneType' object is not subscriptable\n"
     ]
    },
    {
     "name": "stderr",
     "output_type": "stream",
     "text": [
      " 36%|███▌      | 270/759 [6:19:57<1:36:38, 11.86s/it]"
     ]
    },
    {
     "name": "stdout",
     "output_type": "stream",
     "text": [
      "Error:  'NoneType' object is not subscriptable\n"
     ]
    },
    {
     "name": "stderr",
     "output_type": "stream",
     "text": [
      " 38%|███▊      | 285/759 [6:25:33<1:43:40, 13.12s/it]"
     ]
    },
    {
     "name": "stdout",
     "output_type": "stream",
     "text": [
      "Error:  'NoneType' object is not subscriptable\n"
     ]
    },
    {
     "name": "stderr",
     "output_type": "stream",
     "text": [
      " 38%|███▊      | 286/759 [6:27:08<4:57:03, 37.68s/it]"
     ]
    },
    {
     "name": "stdout",
     "output_type": "stream",
     "text": [
      "Error:  'NoneType' object is not subscriptable\n"
     ]
    },
    {
     "name": "stderr",
     "output_type": "stream",
     "text": [
      " 39%|███▉      | 297/759 [6:31:32<3:43:07, 28.98s/it]"
     ]
    },
    {
     "name": "stdout",
     "output_type": "stream",
     "text": [
      "Error:  'NoneType' object is not subscriptable\n"
     ]
    },
    {
     "name": "stderr",
     "output_type": "stream",
     "text": [
      " 40%|███▉      | 301/759 [6:33:21<3:05:55, 24.36s/it]"
     ]
    },
    {
     "name": "stdout",
     "output_type": "stream",
     "text": [
      "Error:  'NoneType' object is not subscriptable\n"
     ]
    },
    {
     "name": "stderr",
     "output_type": "stream",
     "text": [
      " 40%|████      | 304/759 [6:35:46<6:11:27, 48.98s/it]"
     ]
    },
    {
     "name": "stdout",
     "output_type": "stream",
     "text": [
      "Error:  'data'\n"
     ]
    },
    {
     "name": "stderr",
     "output_type": "stream",
     "text": [
      " 40%|████      | 305/759 [6:36:13<5:22:05, 42.57s/it]"
     ]
    },
    {
     "name": "stdout",
     "output_type": "stream",
     "text": [
      "Error:  'data'\n",
      "Error:  'data'\n",
      "Query failed with status code: 403\n",
      "Error:  'NoneType' object is not subscriptable\n",
      "Error:  'data'\n"
     ]
    },
    {
     "name": "stderr",
     "output_type": "stream",
     "text": [
      " 40%|████      | 306/759 [6:37:11<5:56:00, 47.15s/it]"
     ]
    },
    {
     "name": "stdout",
     "output_type": "stream",
     "text": [
      "Error:  Error: 'data' \n",
      "'data'\n",
      "Query failed with status code: 403\n",
      "Query failed with status code: 403\n",
      "Query failed with status code: 403\n",
      "Query failed with status code: 403\n",
      "Query failed with status code: 403\n"
     ]
    },
    {
     "name": "stderr",
     "output_type": "stream",
     "text": [
      " 41%|████      | 309/759 [6:37:49<3:03:36, 24.48s/it]"
     ]
    },
    {
     "name": "stdout",
     "output_type": "stream",
     "text": [
      "Error:  'data'\n",
      "Error:  'NoneType' object is not subscriptable\n"
     ]
    },
    {
     "name": "stderr",
     "output_type": "stream",
     "text": [
      " 41%|████      | 310/759 [6:38:06<2:44:27, 21.98s/it]"
     ]
    },
    {
     "name": "stdout",
     "output_type": "stream",
     "text": [
      "Error: Error:   'data'\n",
      "'data'\n",
      "Query failed with status code: 403\n",
      "Query failed with status code: 403\n",
      "Query failed with status code: 403\n",
      "Query failed with status code: 403\n"
     ]
    },
    {
     "name": "stderr",
     "output_type": "stream",
     "text": [
      " 41%|████      | 311/759 [6:40:26<7:09:31, 57.53s/it]"
     ]
    },
    {
     "name": "stdout",
     "output_type": "stream",
     "text": [
      "Error:  'NoneType' object is not subscriptable\n",
      "Error:  'NoneType' object is not subscriptable\n"
     ]
    },
    {
     "name": "stderr",
     "output_type": "stream",
     "text": [
      " 42%|████▏     | 316/759 [6:42:28<3:53:25, 31.62s/it]"
     ]
    },
    {
     "name": "stdout",
     "output_type": "stream",
     "text": [
      "Error:  'NoneType' object is not subscriptable\n"
     ]
    },
    {
     "name": "stderr",
     "output_type": "stream",
     "text": [
      " 42%|████▏     | 320/759 [6:46:52<7:18:10, 59.89s/it]"
     ]
    },
    {
     "name": "stdout",
     "output_type": "stream",
     "text": [
      "Error:  'NoneType' object is not subscriptable\n"
     ]
    },
    {
     "name": "stderr",
     "output_type": "stream",
     "text": [
      " 43%|████▎     | 323/759 [6:48:30<4:36:10, 38.01s/it]"
     ]
    },
    {
     "name": "stdout",
     "output_type": "stream",
     "text": [
      "Error:  'NoneType' object is not subscriptable\n"
     ]
    },
    {
     "name": "stderr",
     "output_type": "stream",
     "text": [
      " 43%|████▎     | 326/759 [6:49:38<3:23:34, 28.21s/it]"
     ]
    },
    {
     "name": "stdout",
     "output_type": "stream",
     "text": [
      "Error:  'NoneType' object is not subscriptable\n"
     ]
    },
    {
     "name": "stderr",
     "output_type": "stream",
     "text": [
      " 43%|████▎     | 328/759 [6:51:08<4:24:36, 36.84s/it]"
     ]
    },
    {
     "name": "stdout",
     "output_type": "stream",
     "text": [
      "Error:  'NoneType' object is not subscriptable\n",
      "Error:  'NoneType' object is not subscriptable\n"
     ]
    },
    {
     "name": "stderr",
     "output_type": "stream",
     "text": [
      " 43%|████▎     | 329/759 [6:53:18<7:44:13, 64.77s/it]"
     ]
    },
    {
     "name": "stdout",
     "output_type": "stream",
     "text": [
      "Error:  'data'\n"
     ]
    },
    {
     "name": "stderr",
     "output_type": "stream",
     "text": [
      " 43%|████▎     | 330/759 [6:54:14<7:25:27, 62.30s/it]"
     ]
    },
    {
     "name": "stdout",
     "output_type": "stream",
     "text": [
      "Error: Error:   'data''data'\n",
      "\n",
      "Error:  'NoneType' object is not subscriptable\n",
      "Query failed with status code: 403\n",
      "Query failed with status code: 403\n"
     ]
    },
    {
     "name": "stderr",
     "output_type": "stream",
     "text": [
      " 44%|████▍     | 335/759 [6:57:30<4:25:30, 37.57s/it]"
     ]
    },
    {
     "name": "stdout",
     "output_type": "stream",
     "text": [
      "Error:  'data'\n",
      "Error:  'data'\n"
     ]
    },
    {
     "name": "stderr",
     "output_type": "stream",
     "text": [
      " 44%|████▍     | 336/759 [6:58:15<4:41:27, 39.92s/it]"
     ]
    },
    {
     "name": "stdout",
     "output_type": "stream",
     "text": [
      "Error:  'data'Error:  \n",
      "'data'\n",
      "Query failed with status code: 403\n",
      "Query failed with status code: 403\n",
      "Query failed with status code: 403\n",
      "Query failed with status code: 403\n",
      "Query failed with status code: 403\n"
     ]
    },
    {
     "name": "stderr",
     "output_type": "stream",
     "text": [
      " 45%|████▍     | 339/759 [7:02:19<7:24:32, 63.51s/it]"
     ]
    },
    {
     "name": "stdout",
     "output_type": "stream",
     "text": [
      "Error:  'NoneType' object is not subscriptable\n"
     ]
    },
    {
     "name": "stderr",
     "output_type": "stream",
     "text": [
      " 45%|████▍     | 341/759 [7:03:04<4:49:40, 41.58s/it]"
     ]
    },
    {
     "name": "stdout",
     "output_type": "stream",
     "text": [
      "Error:  'NoneType' object is not subscriptable\n"
     ]
    },
    {
     "name": "stderr",
     "output_type": "stream",
     "text": [
      " 46%|████▌     | 346/759 [7:10:19<8:03:21, 70.22s/it] "
     ]
    },
    {
     "name": "stdout",
     "output_type": "stream",
     "text": [
      "Error:  'NoneType' object is not subscriptable\n"
     ]
    },
    {
     "name": "stderr",
     "output_type": "stream",
     "text": [
      " 46%|████▌     | 347/759 [7:10:27<5:53:22, 51.46s/it]"
     ]
    },
    {
     "name": "stdout",
     "output_type": "stream",
     "text": [
      "Error:  'NoneType' object is not subscriptable\n",
      "Error:  'NoneType' object is not subscriptable\n"
     ]
    },
    {
     "name": "stderr",
     "output_type": "stream",
     "text": [
      " 46%|████▌     | 349/759 [7:12:29<6:52:46, 60.41s/it]"
     ]
    },
    {
     "name": "stdout",
     "output_type": "stream",
     "text": [
      "Error:  'data'\n",
      "Error:  'data'\n"
     ]
    },
    {
     "name": "stderr",
     "output_type": "stream",
     "text": [
      " 46%|████▌     | 350/759 [7:13:03<5:57:19, 52.42s/it]"
     ]
    },
    {
     "name": "stdout",
     "output_type": "stream",
     "text": [
      "Error:  'data'Error: \n",
      " 'data'\n",
      "Query failed with status code: 403\n",
      "Query failed with status code: 403\n",
      "Error:  'data'\n"
     ]
    },
    {
     "name": "stderr",
     "output_type": "stream",
     "text": [
      " 46%|████▌     | 351/759 [7:14:26<6:59:26, 61.68s/it]"
     ]
    },
    {
     "name": "stdout",
     "output_type": "stream",
     "text": [
      "Error:  'NoneType' object is not subscriptable\n",
      "Error:  'data'\n"
     ]
    },
    {
     "name": "stderr",
     "output_type": "stream",
     "text": [
      " 47%|████▋     | 353/759 [8:27:09<109:49:44, 973.85s/it] "
     ]
    },
    {
     "name": "stdout",
     "output_type": "stream",
     "text": [
      "Error:  'data'\n",
      "Error:  'data'\n",
      "Error:  'data'\n"
     ]
    },
    {
     "name": "stderr",
     "output_type": "stream",
     "text": [
      " 47%|████▋     | 354/759 [8:28:28<79:21:27, 705.40s/it] "
     ]
    },
    {
     "name": "stdout",
     "output_type": "stream",
     "text": [
      "Error:  'NoneType' object is not subscriptable\n",
      "Error:  'data'\n",
      "Error:  'data'\n"
     ]
    },
    {
     "name": "stderr",
     "output_type": "stream",
     "text": [
      " 47%|████▋     | 355/759 [8:29:59<58:28:03, 521.00s/it]"
     ]
    },
    {
     "name": "stdout",
     "output_type": "stream",
     "text": [
      "Error:  'data'\n",
      "Error:  'NoneType' object is not subscriptable\n"
     ]
    },
    {
     "name": "stderr",
     "output_type": "stream",
     "text": [
      " 47%|████▋     | 356/759 [8:34:10<49:15:05, 439.96s/it]"
     ]
    },
    {
     "name": "stdout",
     "output_type": "stream",
     "text": [
      "Error:  'NoneType' object is not subscriptable\n",
      "Error:  'NoneType' object is not subscriptable\n"
     ]
    },
    {
     "name": "stderr",
     "output_type": "stream",
     "text": [
      " 47%|████▋     | 357/759 [8:56:23<79:03:12, 707.94s/it]"
     ]
    },
    {
     "name": "stdout",
     "output_type": "stream",
     "text": [
      "Error:  'data'\n",
      "Error:  'data'\n"
     ]
    },
    {
     "name": "stderr",
     "output_type": "stream",
     "text": [
      " 47%|████▋     | 358/759 [9:03:56<70:20:14, 631.46s/it]"
     ]
    },
    {
     "name": "stdout",
     "output_type": "stream",
     "text": [
      "Error:  'NoneType' object is not subscriptable\n",
      "Error:  'NoneType' object is not subscriptable\n"
     ]
    },
    {
     "name": "stderr",
     "output_type": "stream",
     "text": [
      " 47%|████▋     | 359/759 [9:09:55<61:05:32, 549.83s/it]"
     ]
    },
    {
     "name": "stdout",
     "output_type": "stream",
     "text": [
      "Error:  'NoneType' object is not subscriptable\n",
      "Error:  'data'\n",
      "Error:  'data'\n"
     ]
    },
    {
     "name": "stderr",
     "output_type": "stream",
     "text": [
      " 47%|████▋     | 360/759 [9:18:55<60:35:40, 546.72s/it]"
     ]
    },
    {
     "name": "stdout",
     "output_type": "stream",
     "text": [
      "Error:  'data'\n",
      "Error:  'data'\n"
     ]
    },
    {
     "name": "stderr",
     "output_type": "stream",
     "text": [
      " 48%|████▊     | 361/759 [9:20:21<45:10:43, 408.65s/it]"
     ]
    },
    {
     "name": "stdout",
     "output_type": "stream",
     "text": [
      "Error:  'data'\n",
      "Error:  'data'\n"
     ]
    },
    {
     "name": "stderr",
     "output_type": "stream",
     "text": [
      " 48%|████▊     | 362/759 [9:22:38<36:05:16, 327.24s/it]"
     ]
    },
    {
     "name": "stdout",
     "output_type": "stream",
     "text": [
      "Error: Error:  Error: Error: 'NoneType' object is not subscriptable   \n",
      "'NoneType' object is not subscriptable'NoneType' object is not subscriptable'NoneType' object is not subscriptable\n",
      "\n",
      "\n"
     ]
    },
    {
     "name": "stderr",
     "output_type": "stream",
     "text": [
      " 48%|████▊     | 363/759 [9:22:56<25:47:24, 234.45s/it]"
     ]
    },
    {
     "name": "stdout",
     "output_type": "stream",
     "text": [
      "Error: Error:   'NoneType' object is not subscriptable'NoneType' object is not subscriptable\n",
      "\n"
     ]
    },
    {
     "name": "stderr",
     "output_type": "stream",
     "text": [
      " 48%|████▊     | 364/759 [9:23:05<18:18:10, 166.81s/it]"
     ]
    },
    {
     "name": "stdout",
     "output_type": "stream",
     "text": [
      "Error: Error:  Error: Error:   'NoneType' object is not subscriptable 'NoneType' object is not subscriptable\n",
      "\n",
      "'NoneType' object is not subscriptableError: \n",
      "'NoneType' object is not subscriptable \n",
      "'NoneType' object is not subscriptable\n",
      "Error:  'NoneType' object is not subscriptable\n"
     ]
    },
    {
     "name": "stderr",
     "output_type": "stream",
     "text": [
      " 48%|████▊     | 367/759 [9:29:01<14:37:23, 134.30s/it]"
     ]
    },
    {
     "name": "stdout",
     "output_type": "stream",
     "text": [
      "Error:  'NoneType' object is not subscriptable\n"
     ]
    },
    {
     "name": "stderr",
     "output_type": "stream",
     "text": [
      " 49%|████▉     | 371/759 [9:35:14<9:01:54, 83.80s/it]  "
     ]
    },
    {
     "name": "stdout",
     "output_type": "stream",
     "text": [
      "Error:  'data'\n",
      "Error:  'NoneType' object is not subscriptable\n"
     ]
    },
    {
     "name": "stderr",
     "output_type": "stream",
     "text": [
      " 49%|████▉     | 372/759 [9:36:07<8:01:49, 74.70s/it]"
     ]
    },
    {
     "name": "stdout",
     "output_type": "stream",
     "text": [
      "Error:  'NoneType' object is not subscriptable\n"
     ]
    },
    {
     "name": "stderr",
     "output_type": "stream",
     "text": [
      " 49%|████▉     | 373/759 [9:36:23<6:06:46, 57.01s/it]"
     ]
    },
    {
     "name": "stdout",
     "output_type": "stream",
     "text": [
      "Error:  'NoneType' object is not subscriptable\n"
     ]
    },
    {
     "name": "stderr",
     "output_type": "stream",
     "text": [
      " 49%|████▉     | 374/759 [9:37:09<5:44:55, 53.76s/it]"
     ]
    },
    {
     "name": "stdout",
     "output_type": "stream",
     "text": [
      "Error:  'NoneType' object is not subscriptable\n",
      "Error:  'NoneType' object is not subscriptable\n"
     ]
    },
    {
     "name": "stderr",
     "output_type": "stream",
     "text": [
      " 49%|████▉     | 375/759 [9:38:42<6:58:20, 65.37s/it]"
     ]
    },
    {
     "name": "stdout",
     "output_type": "stream",
     "text": [
      "Error:  'NoneType' object is not subscriptable\n",
      "Error:  'data'\n",
      "Error:  'NoneType' object is not subscriptable\n",
      "Error:  'NoneType' object is not subscriptable\n"
     ]
    },
    {
     "name": "stderr",
     "output_type": "stream",
     "text": [
      " 50%|████▉     | 377/759 [9:40:14<6:07:33, 57.73s/it]"
     ]
    },
    {
     "name": "stdout",
     "output_type": "stream",
     "text": [
      "Error:  'data'\n",
      "Query failed with status code: 403\n",
      "Error:  'NoneType' object is not subscriptable\n"
     ]
    },
    {
     "name": "stderr",
     "output_type": "stream",
     "text": [
      " 50%|████▉     | 378/759 [9:40:42<5:10:49, 48.95s/it]"
     ]
    },
    {
     "name": "stdout",
     "output_type": "stream",
     "text": [
      "Error:  'data'Error: \n",
      " 'data'\n",
      "Error:  'data'\n",
      "Error:  'NoneType' object is not subscriptable\n",
      "Error:  'data'\n"
     ]
    },
    {
     "name": "stderr",
     "output_type": "stream",
     "text": [
      " 50%|████▉     | 379/759 [9:41:02<4:15:11, 40.29s/it]"
     ]
    },
    {
     "name": "stdout",
     "output_type": "stream",
     "text": [
      "Error:  Error: 'data' Error: Error: 'data' \n",
      " 'data'\n",
      "'data'\n",
      "\n",
      "Query failed with status code: 403\n",
      "Query failed with status code: 403\n",
      "Query failed with status code: 403\n",
      "Query failed with status code: 403\n",
      "Error:  'NoneType' object is not subscriptable\n"
     ]
    },
    {
     "name": "stderr",
     "output_type": "stream",
     "text": [
      " 50%|█████     | 383/759 [9:42:27<2:44:09, 26.20s/it]"
     ]
    },
    {
     "name": "stdout",
     "output_type": "stream",
     "text": [
      "Error:  'NoneType' object is not subscriptable\n"
     ]
    },
    {
     "name": "stderr",
     "output_type": "stream",
     "text": [
      " 51%|█████     | 385/759 [9:49:00<12:22:55, 119.19s/it]"
     ]
    },
    {
     "name": "stdout",
     "output_type": "stream",
     "text": [
      "Error:  'NoneType' object is not subscriptable\n"
     ]
    },
    {
     "name": "stderr",
     "output_type": "stream",
     "text": [
      " 51%|█████     | 386/759 [9:49:05<8:48:02, 84.94s/it]  "
     ]
    },
    {
     "name": "stdout",
     "output_type": "stream",
     "text": [
      "Error:  'NoneType' object is not subscriptable\n"
     ]
    },
    {
     "name": "stderr",
     "output_type": "stream",
     "text": [
      " 51%|█████     | 388/759 [9:51:35<7:36:25, 73.81s/it]  "
     ]
    },
    {
     "name": "stdout",
     "output_type": "stream",
     "text": [
      "Error:  'NoneType' object is not subscriptable\n"
     ]
    },
    {
     "name": "stderr",
     "output_type": "stream",
     "text": [
      " 51%|█████▏    | 389/759 [9:56:48<14:58:18, 145.67s/it]"
     ]
    },
    {
     "name": "stdout",
     "output_type": "stream",
     "text": [
      "Error:  'data'\n"
     ]
    },
    {
     "name": "stderr",
     "output_type": "stream",
     "text": [
      " 51%|█████▏    | 390/759 [9:58:28<13:30:28, 131.79s/it]"
     ]
    },
    {
     "name": "stdout",
     "output_type": "stream",
     "text": [
      "Error: Error:   'data''data'\n",
      "\n",
      "Error:  'data'\n"
     ]
    },
    {
     "name": "stderr",
     "output_type": "stream",
     "text": [
      " 52%|█████▏    | 391/759 [9:59:21<11:03:37, 108.20s/it]"
     ]
    },
    {
     "name": "stdout",
     "output_type": "stream",
     "text": [
      "Error:  'data'Error:  \n",
      "'data'\n",
      "Query failed with status code: 403\n",
      "Query failed with status code: 403\n",
      "Query failed with status code: 403\n",
      "Query failed with status code: 403\n",
      "Query failed with status code: 403\n",
      "Query failed with status code: 403\n"
     ]
    },
    {
     "name": "stderr",
     "output_type": "stream",
     "text": [
      " 52%|█████▏    | 392/759 [9:59:27<7:53:49, 77.46s/it]  "
     ]
    },
    {
     "name": "stdout",
     "output_type": "stream",
     "text": [
      "Error:  'data'\n",
      "Error:  'data'\n",
      "Query failed with status code: 403\n",
      "Query failed with status code: 403\n",
      "Query failed with status code: 403\n",
      "Query failed with status code: 403\n"
     ]
    },
    {
     "name": "stderr",
     "output_type": "stream",
     "text": [
      " 52%|█████▏    | 393/759 [9:59:35<5:46:23, 56.79s/it]"
     ]
    },
    {
     "name": "stdout",
     "output_type": "stream",
     "text": [
      "Error:  'NoneType' object is not subscriptable\n"
     ]
    },
    {
     "name": "stderr",
     "output_type": "stream",
     "text": [
      " 52%|█████▏    | 394/759 [9:59:51<4:30:28, 44.46s/it]"
     ]
    },
    {
     "name": "stdout",
     "output_type": "stream",
     "text": [
      "Error:  'NoneType' object is not subscriptable\n"
     ]
    },
    {
     "name": "stderr",
     "output_type": "stream",
     "text": [
      " 52%|█████▏    | 397/759 [10:00:42<2:35:17, 25.74s/it]"
     ]
    },
    {
     "name": "stdout",
     "output_type": "stream",
     "text": [
      "Error:  'NoneType' object is not subscriptable\n"
     ]
    },
    {
     "name": "stderr",
     "output_type": "stream",
     "text": [
      " 53%|█████▎    | 402/759 [10:05:32<8:32:09, 86.08s/it]"
     ]
    },
    {
     "name": "stdout",
     "output_type": "stream",
     "text": [
      "Error: Error:   Error: 'NoneType' object is not subscriptable'NoneType' object is not subscriptable 'NoneType' object is not subscriptable\n",
      "\n",
      "Error: \n",
      " 'NoneType' object is not subscriptable\n",
      "Error:  'NoneType' object is not subscriptable\n"
     ]
    },
    {
     "name": "stderr",
     "output_type": "stream",
     "text": [
      " 53%|█████▎    | 403/759 [10:05:36<6:06:07, 61.71s/it]"
     ]
    },
    {
     "name": "stdout",
     "output_type": "stream",
     "text": [
      "Error:  'NoneType' object is not subscriptableError: Error: Error: \n",
      "  Error:  Error: Error: 'NoneType' object is not subscriptable'NoneType' object is not subscriptable 'NoneType' object is not subscriptable\n",
      " 'NoneType' object is not subscriptable \n",
      "\n",
      "\n",
      "'NoneType' object is not subscriptable'NoneType' object is not subscriptable\n",
      "\n"
     ]
    },
    {
     "name": "stderr",
     "output_type": "stream",
     "text": [
      " 53%|█████▎    | 404/759 [10:06:07<5:09:32, 52.32s/it]"
     ]
    },
    {
     "name": "stdout",
     "output_type": "stream",
     "text": [
      "Error:  'NoneType' object is not subscriptable\n"
     ]
    },
    {
     "name": "stderr",
     "output_type": "stream",
     "text": [
      " 53%|█████▎    | 406/759 [10:07:02<3:45:21, 38.30s/it]"
     ]
    },
    {
     "name": "stdout",
     "output_type": "stream",
     "text": [
      "Error:  'NoneType' object is not subscriptable\n"
     ]
    },
    {
     "name": "stderr",
     "output_type": "stream",
     "text": [
      " 54%|█████▎    | 407/759 [10:07:19<3:07:02, 31.88s/it]"
     ]
    },
    {
     "name": "stdout",
     "output_type": "stream",
     "text": [
      "Error:  'NoneType' object is not subscriptable\n"
     ]
    },
    {
     "name": "stderr",
     "output_type": "stream",
     "text": [
      " 55%|█████▍    | 415/759 [10:11:00<2:54:24, 30.42s/it]"
     ]
    },
    {
     "name": "stdout",
     "output_type": "stream",
     "text": [
      "Error:  'NoneType' object is not subscriptable\n"
     ]
    },
    {
     "name": "stderr",
     "output_type": "stream",
     "text": [
      " 55%|█████▍    | 416/759 [10:11:29<2:52:06, 30.11s/it]"
     ]
    },
    {
     "name": "stdout",
     "output_type": "stream",
     "text": [
      "Error:  'NoneType' object is not subscriptable\n"
     ]
    },
    {
     "name": "stderr",
     "output_type": "stream",
     "text": [
      " 55%|█████▌    | 418/759 [10:11:57<2:09:13, 22.74s/it]"
     ]
    },
    {
     "name": "stdout",
     "output_type": "stream",
     "text": [
      "Error:  'NoneType' object is not subscriptable\n"
     ]
    },
    {
     "name": "stderr",
     "output_type": "stream",
     "text": [
      " 55%|█████▌    | 419/759 [10:12:02<1:38:26, 17.37s/it]"
     ]
    },
    {
     "name": "stdout",
     "output_type": "stream",
     "text": [
      "Error:  Error: 'NoneType' object is not subscriptable\n",
      "Error:  'NoneType' object is not subscriptable \n",
      "'NoneType' object is not subscriptable\n"
     ]
    },
    {
     "name": "stderr",
     "output_type": "stream",
     "text": [
      " 55%|█████▌    | 420/759 [10:17:10<9:51:08, 104.63s/it]"
     ]
    },
    {
     "name": "stdout",
     "output_type": "stream",
     "text": [
      "Error:  'NoneType' object is not subscriptable\n"
     ]
    },
    {
     "name": "stderr",
     "output_type": "stream",
     "text": [
      " 55%|█████▌    | 421/759 [10:17:13<6:57:43, 74.15s/it] "
     ]
    },
    {
     "name": "stdout",
     "output_type": "stream",
     "text": [
      "Error:  'NoneType' object is not subscriptable\n"
     ]
    },
    {
     "name": "stderr",
     "output_type": "stream",
     "text": [
      " 56%|█████▌    | 422/759 [10:17:29<5:18:00, 56.62s/it]"
     ]
    },
    {
     "name": "stdout",
     "output_type": "stream",
     "text": [
      "Error:  'NoneType' object is not subscriptable\n",
      "Error: Error:  Error:  'NoneType' object is not subscriptable'NoneType' object is not subscriptable \n",
      "\n",
      "'NoneType' object is not subscriptable\n"
     ]
    },
    {
     "name": "stderr",
     "output_type": "stream",
     "text": [
      " 56%|█████▌    | 423/759 [10:17:43<4:05:15, 43.80s/it]"
     ]
    },
    {
     "name": "stdout",
     "output_type": "stream",
     "text": [
      "Error:  Error: 'NoneType' object is not subscriptable\n",
      "Error:   'NoneType' object is not subscriptable\n",
      "'NoneType' object is not subscriptable\n"
     ]
    },
    {
     "name": "stderr",
     "output_type": "stream",
     "text": [
      " 56%|█████▌    | 425/759 [10:18:17<2:49:08, 30.39s/it]"
     ]
    },
    {
     "name": "stdout",
     "output_type": "stream",
     "text": [
      "Error:  'NoneType' object is not subscriptable\n",
      "Error:  'NoneType' object is not subscriptable\n"
     ]
    },
    {
     "name": "stderr",
     "output_type": "stream",
     "text": [
      " 56%|█████▌    | 426/759 [10:18:36<2:30:10, 27.06s/it]"
     ]
    },
    {
     "name": "stdout",
     "output_type": "stream",
     "text": [
      "Error:  'NoneType' object is not subscriptable\n",
      "Error:  'NoneType' object is not subscriptable\n"
     ]
    },
    {
     "name": "stderr",
     "output_type": "stream",
     "text": [
      " 56%|█████▋    | 427/759 [10:18:47<2:03:49, 22.38s/it]"
     ]
    },
    {
     "name": "stdout",
     "output_type": "stream",
     "text": [
      "Error:  'NoneType' object is not subscriptableError: Error: \n",
      " Error: Error: 'NoneType' object is not subscriptable   \n",
      "'NoneType' object is not subscriptable'NoneType' object is not subscriptable'NoneType' object is not subscriptable\n",
      "\n",
      "\n"
     ]
    },
    {
     "name": "stderr",
     "output_type": "stream",
     "text": [
      " 56%|█████▋    | 428/759 [10:18:52<1:33:10, 16.89s/it]"
     ]
    },
    {
     "name": "stdout",
     "output_type": "stream",
     "text": [
      "Error:  'NoneType' object is not subscriptable\n"
     ]
    },
    {
     "name": "stderr",
     "output_type": "stream",
     "text": [
      " 57%|█████▋    | 429/759 [10:19:03<1:24:38, 15.39s/it]"
     ]
    },
    {
     "name": "stdout",
     "output_type": "stream",
     "text": [
      "Error:  'NoneType' object is not subscriptable\n",
      "Error:  'NoneType' object is not subscriptable\n"
     ]
    },
    {
     "name": "stderr",
     "output_type": "stream",
     "text": [
      " 57%|█████▋    | 430/759 [10:19:05<1:01:35, 11.23s/it]"
     ]
    },
    {
     "name": "stdout",
     "output_type": "stream",
     "text": [
      "Error:  'NoneType' object is not subscriptableError: \n",
      " Error: 'NoneType' object is not subscriptable 'NoneType' object is not subscriptable\n",
      "\n"
     ]
    },
    {
     "name": "stderr",
     "output_type": "stream",
     "text": [
      " 57%|█████▋    | 431/759 [10:19:10<50:45,  9.28s/it]  "
     ]
    },
    {
     "name": "stdout",
     "output_type": "stream",
     "text": [
      "Error:  'NoneType' object is not subscriptableError: \n",
      " 'NoneType' object is not subscriptable\n"
     ]
    },
    {
     "name": "stderr",
     "output_type": "stream",
     "text": [
      " 57%|█████▋    | 432/759 [10:19:15<43:32,  7.99s/it]"
     ]
    },
    {
     "name": "stdout",
     "output_type": "stream",
     "text": [
      "Error:  'NoneType' object is not subscriptableError: \n",
      " Error: Error: 'NoneType' object is not subscriptable  'NoneType' object is not subscriptable\n",
      "\n",
      "'NoneType' object is not subscriptable\n"
     ]
    },
    {
     "name": "stderr",
     "output_type": "stream",
     "text": [
      " 57%|█████▋    | 433/759 [10:19:28<52:09,  9.60s/it]"
     ]
    },
    {
     "name": "stdout",
     "output_type": "stream",
     "text": [
      "Error:  'NoneType' object is not subscriptable\n"
     ]
    },
    {
     "name": "stderr",
     "output_type": "stream",
     "text": [
      " 57%|█████▋    | 434/759 [10:19:36<48:36,  8.97s/it]"
     ]
    },
    {
     "name": "stdout",
     "output_type": "stream",
     "text": [
      "Error: Error:  'NoneType' object is not subscriptable Error: \n",
      " 'NoneType' object is not subscriptable\n",
      "'NoneType' object is not subscriptable\n"
     ]
    },
    {
     "name": "stderr",
     "output_type": "stream",
     "text": [
      " 57%|█████▋    | 435/759 [10:19:38<37:07,  6.88s/it]"
     ]
    },
    {
     "name": "stdout",
     "output_type": "stream",
     "text": [
      "Error: Error:   'NoneType' object is not subscriptableError: 'NoneType' object is not subscriptable \n",
      "Error: 'NoneType' object is not subscriptable\n",
      " \n",
      "'NoneType' object is not subscriptable\n"
     ]
    },
    {
     "name": "stderr",
     "output_type": "stream",
     "text": [
      " 57%|█████▋    | 436/759 [10:19:39<29:01,  5.39s/it]"
     ]
    },
    {
     "name": "stdout",
     "output_type": "stream",
     "text": [
      "Error:  'NoneType' object is not subscriptable\n",
      "Error: Error:  Error: 'NoneType' object is not subscriptable  Error:  \n",
      "'NoneType' object is not subscriptable'NoneType' object is not subscriptable'NoneType' object is not subscriptable\n",
      "\n",
      "\n"
     ]
    },
    {
     "name": "stderr",
     "output_type": "stream",
     "text": [
      " 58%|█████▊    | 438/759 [10:20:37<1:20:40, 15.08s/it]"
     ]
    },
    {
     "name": "stdout",
     "output_type": "stream",
     "text": [
      "Error:  'NoneType' object is not subscriptable\n",
      "Error:  'NoneType' object is not subscriptable\n"
     ]
    },
    {
     "name": "stderr",
     "output_type": "stream",
     "text": [
      " 58%|█████▊    | 439/759 [10:21:27<2:16:00, 25.50s/it]"
     ]
    },
    {
     "name": "stdout",
     "output_type": "stream",
     "text": [
      "Error:  Error: Error: 'NoneType' object is not subscriptableError:   \n",
      " 'NoneType' object is not subscriptable'NoneType' object is not subscriptable'NoneType' object is not subscriptable\n",
      "\n",
      "\n"
     ]
    },
    {
     "name": "stderr",
     "output_type": "stream",
     "text": [
      " 58%|█████▊    | 440/759 [10:21:32<1:43:16, 19.42s/it]"
     ]
    },
    {
     "name": "stdout",
     "output_type": "stream",
     "text": [
      "Error:  Error: Error: 'NoneType' object is not subscriptableError:    \n",
      "'NoneType' object is not subscriptable'NoneType' object is not subscriptable'NoneType' object is not subscriptable\n",
      "\n",
      "\n"
     ]
    },
    {
     "name": "stderr",
     "output_type": "stream",
     "text": [
      " 58%|█████▊    | 441/759 [10:22:16<2:22:00, 26.79s/it]"
     ]
    },
    {
     "name": "stdout",
     "output_type": "stream",
     "text": [
      "Error: Error:   'NoneType' object is not subscriptableError: \n",
      "'NoneType' object is not subscriptable \n",
      "'NoneType' object is not subscriptableError: \n",
      " 'NoneType' object is not subscriptable\n"
     ]
    },
    {
     "name": "stderr",
     "output_type": "stream",
     "text": [
      " 58%|█████▊    | 442/759 [10:22:30<2:01:14, 22.95s/it]"
     ]
    },
    {
     "name": "stdout",
     "output_type": "stream",
     "text": [
      "Error:  Error: 'NoneType' object is not subscriptable 'NoneType' object is not subscriptable\n",
      "\n",
      "Error:  'NoneType' object is not subscriptable\n"
     ]
    },
    {
     "name": "stderr",
     "output_type": "stream",
     "text": [
      " 58%|█████▊    | 443/759 [10:22:41<1:42:19, 19.43s/it]"
     ]
    },
    {
     "name": "stdout",
     "output_type": "stream",
     "text": [
      "Error: Error:  'NoneType' object is not subscriptable Error: Error: Error: \n",
      "'NoneType' object is not subscriptable  \n",
      " Error: 'NoneType' object is not subscriptable'NoneType' object is not subscriptable\n",
      "'NoneType' object is not subscriptable \n",
      "\n",
      "'NoneType' object is not subscriptable\n"
     ]
    },
    {
     "name": "stderr",
     "output_type": "stream",
     "text": [
      " 58%|█████▊    | 444/759 [10:22:46<1:18:29, 14.95s/it]"
     ]
    },
    {
     "name": "stdout",
     "output_type": "stream",
     "text": [
      "Error:  'NoneType' object is not subscriptable\n"
     ]
    },
    {
     "name": "stderr",
     "output_type": "stream",
     "text": [
      " 59%|█████▉    | 446/759 [10:23:00<55:33, 10.65s/it]  "
     ]
    },
    {
     "name": "stdout",
     "output_type": "stream",
     "text": [
      "Error:  'NoneType' object is not subscriptableError: \n",
      " 'NoneType' object is not subscriptable\n"
     ]
    },
    {
     "name": "stderr",
     "output_type": "stream",
     "text": [
      " 59%|█████▉    | 447/759 [10:23:56<2:05:56, 24.22s/it]"
     ]
    },
    {
     "name": "stdout",
     "output_type": "stream",
     "text": [
      "Error:  'NoneType' object is not subscriptable\n",
      "Error:  'NoneType' object is not subscriptable\n"
     ]
    },
    {
     "name": "stderr",
     "output_type": "stream",
     "text": [
      " 59%|█████▉    | 448/759 [10:25:08<3:19:59, 38.58s/it]"
     ]
    },
    {
     "name": "stdout",
     "output_type": "stream",
     "text": [
      "Error:  'NoneType' object is not subscriptableError: \n",
      "Error:  Error: 'NoneType' object is not subscriptable  'NoneType' object is not subscriptable\n",
      "'NoneType' object is not subscriptable\n",
      "\n"
     ]
    },
    {
     "name": "stderr",
     "output_type": "stream",
     "text": [
      " 59%|█████▉    | 449/759 [10:26:43<4:46:56, 55.54s/it]"
     ]
    },
    {
     "name": "stdout",
     "output_type": "stream",
     "text": [
      "Error: Error:  Error: 'NoneType' object is not subscriptableError:  Error:  Error:  'NoneType' object is not subscriptable\n",
      "  'NoneType' object is not subscriptable'NoneType' object is not subscriptable\n",
      "'NoneType' object is not subscriptable\n",
      "'NoneType' object is not subscriptable\n",
      "\n",
      "\n"
     ]
    },
    {
     "name": "stderr",
     "output_type": "stream",
     "text": [
      " 59%|█████▉    | 450/759 [10:26:45<3:23:27, 39.51s/it]"
     ]
    },
    {
     "name": "stdout",
     "output_type": "stream",
     "text": [
      "Error:  'NoneType' object is not subscriptable\n",
      "Error:  'NoneType' object is not subscriptable\n"
     ]
    },
    {
     "name": "stderr",
     "output_type": "stream",
     "text": [
      " 59%|█████▉    | 451/759 [10:27:15<3:07:45, 36.58s/it]"
     ]
    },
    {
     "name": "stdout",
     "output_type": "stream",
     "text": [
      "Error:  'NoneType' object is not subscriptable\n",
      "Error:  'NoneType' object is not subscriptable\n"
     ]
    },
    {
     "name": "stderr",
     "output_type": "stream",
     "text": [
      " 60%|█████▉    | 452/759 [10:32:30<10:15:47, 120.35s/it]"
     ]
    },
    {
     "name": "stdout",
     "output_type": "stream",
     "text": [
      "Error:  'NoneType' object is not subscriptable\n"
     ]
    },
    {
     "name": "stderr",
     "output_type": "stream",
     "text": [
      " 60%|█████▉    | 453/759 [10:33:31<8:41:46, 102.31s/it] "
     ]
    },
    {
     "name": "stdout",
     "output_type": "stream",
     "text": [
      "Error: Error:   'NoneType' object is not subscriptable\n",
      "'NoneType' object is not subscriptableError: \n",
      " 'NoneType' object is not subscriptable\n"
     ]
    },
    {
     "name": "stderr",
     "output_type": "stream",
     "text": [
      " 60%|█████▉    | 454/759 [10:33:38<6:15:01, 73.78s/it] "
     ]
    },
    {
     "name": "stdout",
     "output_type": "stream",
     "text": [
      "Error:  'NoneType' object is not subscriptableError: \n",
      "Error:  Error:  'NoneType' object is not subscriptable 'NoneType' object is not subscriptable\n",
      "\n",
      "\n",
      "'NoneType' object is not subscriptable"
     ]
    },
    {
     "name": "stderr",
     "output_type": "stream",
     "text": [
      " 60%|█████▉    | 455/759 [10:33:44<4:30:41, 53.42s/it]"
     ]
    },
    {
     "name": "stdout",
     "output_type": "stream",
     "text": [
      "Error:  'NoneType' object is not subscriptableError:  \n",
      "'NoneType' object is not subscriptable\n"
     ]
    },
    {
     "name": "stderr",
     "output_type": "stream",
     "text": [
      " 60%|██████    | 456/759 [10:33:58<3:31:02, 41.79s/it]"
     ]
    },
    {
     "name": "stdout",
     "output_type": "stream",
     "text": [
      "Error:  Error: 'NoneType' object is not subscriptable Error: Error: Error: Error: \n",
      " 'NoneType' object is not subscriptable   \n",
      "'NoneType' object is not subscriptable'NoneType' object is not subscriptable'NoneType' object is not subscriptable'NoneType' object is not subscriptable\n",
      "\n",
      "\n",
      "\n"
     ]
    },
    {
     "name": "stderr",
     "output_type": "stream",
     "text": [
      " 60%|██████    | 457/759 [10:34:13<2:49:12, 33.62s/it]"
     ]
    },
    {
     "name": "stdout",
     "output_type": "stream",
     "text": [
      "Error:  'NoneType' object is not subscriptable\n",
      "Error:  'NoneType' object is not subscriptable\n"
     ]
    },
    {
     "name": "stderr",
     "output_type": "stream",
     "text": [
      " 60%|██████    | 458/759 [10:34:27<2:19:24, 27.79s/it]"
     ]
    },
    {
     "name": "stdout",
     "output_type": "stream",
     "text": [
      "Error: Error:   'NoneType' object is not subscriptableError: 'NoneType' object is not subscriptable\n",
      "Error:  \n",
      " 'NoneType' object is not subscriptable'NoneType' object is not subscriptable\n",
      "\n"
     ]
    },
    {
     "name": "stderr",
     "output_type": "stream",
     "text": [
      " 60%|██████    | 459/759 [10:34:31<1:42:17, 20.46s/it]"
     ]
    },
    {
     "name": "stdout",
     "output_type": "stream",
     "text": [
      "Error:  Error:  Error: Error: Error: 'NoneType' object is not subscriptableError: 'NoneType' object is not subscriptable  \n",
      "  \n",
      "'NoneType' object is not subscriptable\n",
      "'NoneType' object is not subscriptable'NoneType' object is not subscriptable'NoneType' object is not subscriptable\n",
      "\n",
      "\n"
     ]
    },
    {
     "name": "stderr",
     "output_type": "stream",
     "text": [
      " 61%|██████    | 460/759 [10:34:40<1:25:14, 17.10s/it]"
     ]
    },
    {
     "name": "stdout",
     "output_type": "stream",
     "text": [
      "Error:  'NoneType' object is not subscriptable\n"
     ]
    },
    {
     "name": "stderr",
     "output_type": "stream",
     "text": [
      " 61%|██████    | 461/759 [10:34:48<1:11:45, 14.45s/it]"
     ]
    },
    {
     "name": "stdout",
     "output_type": "stream",
     "text": [
      "Error:  'NoneType' object is not subscriptable\n",
      "Error:  'NoneType' object is not subscriptable\n"
     ]
    },
    {
     "name": "stderr",
     "output_type": "stream",
     "text": [
      " 61%|██████    | 462/759 [10:35:23<1:42:05, 20.62s/it]"
     ]
    },
    {
     "name": "stdout",
     "output_type": "stream",
     "text": [
      "Error:  'NoneType' object is not subscriptable\n",
      "Error:  'NoneType' object is not subscriptable\n"
     ]
    },
    {
     "name": "stderr",
     "output_type": "stream",
     "text": [
      " 61%|██████    | 463/759 [10:35:29<1:20:43, 16.36s/it]"
     ]
    },
    {
     "name": "stdout",
     "output_type": "stream",
     "text": [
      "Error:  'NoneType' object is not subscriptable\n",
      "Error:  'NoneType' object is not subscriptable\n"
     ]
    },
    {
     "name": "stderr",
     "output_type": "stream",
     "text": [
      " 61%|██████    | 464/759 [10:35:36<1:05:52, 13.40s/it]"
     ]
    },
    {
     "name": "stdout",
     "output_type": "stream",
     "text": [
      "Error:  'NoneType' object is not subscriptableError: Error:  \n",
      "Error: Error:  Error: 'NoneType' object is not subscriptable  Error: \n",
      "'NoneType' object is not subscriptable 'NoneType' object is not subscriptable'NoneType' object is not subscriptable \n",
      "\n",
      "'NoneType' object is not subscriptable\n",
      "'NoneType' object is not subscriptable\n",
      "\n"
     ]
    },
    {
     "name": "stderr",
     "output_type": "stream",
     "text": [
      " 61%|██████▏   | 465/759 [10:35:41<53:57, 11.01s/it]  "
     ]
    },
    {
     "name": "stdout",
     "output_type": "stream",
     "text": [
      "Error:  Error:  Error: 'NoneType' object is not subscriptable\n",
      "'NoneType' object is not subscriptable Error: \n",
      " 'NoneType' object is not subscriptable\n",
      "'NoneType' object is not subscriptable\n"
     ]
    },
    {
     "name": "stderr",
     "output_type": "stream",
     "text": [
      " 61%|██████▏   | 466/759 [10:35:51<51:39, 10.58s/it]"
     ]
    },
    {
     "name": "stdout",
     "output_type": "stream",
     "text": [
      "Error:  'NoneType' object is not subscriptable\n"
     ]
    },
    {
     "name": "stderr",
     "output_type": "stream",
     "text": [
      " 62%|██████▏   | 467/759 [10:42:28<10:16:21, 126.65s/it]"
     ]
    },
    {
     "name": "stdout",
     "output_type": "stream",
     "text": [
      "Error:  'NoneType' object is not subscriptable\n"
     ]
    },
    {
     "name": "stderr",
     "output_type": "stream",
     "text": [
      " 62%|██████▏   | 468/759 [10:42:43<7:31:24, 93.08s/it]  "
     ]
    },
    {
     "name": "stdout",
     "output_type": "stream",
     "text": [
      "Error:  'NoneType' object is not subscriptableError: Error: \n",
      " Error:  'NoneType' object is not subscriptable 'NoneType' object is not subscriptable'NoneType' object is not subscriptable\n",
      "\n",
      "\n"
     ]
    },
    {
     "name": "stderr",
     "output_type": "stream",
     "text": [
      " 62%|██████▏   | 469/759 [10:42:55<5:32:24, 68.78s/it]"
     ]
    },
    {
     "name": "stdout",
     "output_type": "stream",
     "text": [
      "Error:  'NoneType' object is not subscriptableError: Error:  Error: 'NoneType' object is not subscriptable \n",
      "'NoneType' object is not subscriptable \n",
      "\n",
      "'NoneType' object is not subscriptable\n"
     ]
    },
    {
     "name": "stderr",
     "output_type": "stream",
     "text": [
      " 62%|██████▏   | 470/759 [10:42:57<3:54:39, 48.72s/it]"
     ]
    },
    {
     "name": "stdout",
     "output_type": "stream",
     "text": [
      "Error:  'NoneType' object is not subscriptable\n"
     ]
    },
    {
     "name": "stderr",
     "output_type": "stream",
     "text": [
      " 62%|██████▏   | 472/759 [10:43:28<2:37:09, 32.86s/it]"
     ]
    },
    {
     "name": "stdout",
     "output_type": "stream",
     "text": [
      "Error:  Error: 'NoneType' object is not subscriptable 'NoneType' object is not subscriptable\n",
      "\n"
     ]
    },
    {
     "name": "stderr",
     "output_type": "stream",
     "text": [
      " 62%|██████▏   | 473/759 [10:43:44<2:12:16, 27.75s/it]"
     ]
    },
    {
     "name": "stdout",
     "output_type": "stream",
     "text": [
      "Error: Error:  'NoneType' object is not subscriptable \n",
      "'NoneType' object is not subscriptable\n"
     ]
    },
    {
     "name": "stderr",
     "output_type": "stream",
     "text": [
      " 62%|██████▏   | 474/759 [10:44:10<2:09:49, 27.33s/it]"
     ]
    },
    {
     "name": "stdout",
     "output_type": "stream",
     "text": [
      "Error:  'NoneType' object is not subscriptable\n"
     ]
    },
    {
     "name": "stderr",
     "output_type": "stream",
     "text": [
      " 63%|██████▎   | 475/759 [10:44:40<2:12:43, 28.04s/it]"
     ]
    },
    {
     "name": "stdout",
     "output_type": "stream",
     "text": [
      "Error:  'NoneType' object is not subscriptable\n",
      "Error:  'NoneType' object is not subscriptable\n"
     ]
    },
    {
     "name": "stderr",
     "output_type": "stream",
     "text": [
      " 63%|██████▎   | 476/759 [10:51:35<11:20:35, 144.30s/it]"
     ]
    },
    {
     "name": "stdout",
     "output_type": "stream",
     "text": [
      "Error:  Error: Error: 'NoneType' object is not subscriptable Error:  Error: \n",
      "Error:  'NoneType' object is not subscriptable'NoneType' object is not subscriptable 'NoneType' object is not subscriptable \n",
      "\n",
      "\n",
      "'NoneType' object is not subscriptable\n",
      "'NoneType' object is not subscriptable\n"
     ]
    },
    {
     "name": "stderr",
     "output_type": "stream",
     "text": [
      " 63%|██████▎   | 477/759 [10:51:42<8:04:21, 103.06s/it] "
     ]
    },
    {
     "name": "stdout",
     "output_type": "stream",
     "text": [
      "Error:  'NoneType' object is not subscriptable\n",
      "Error:  'NoneType' object is not subscriptable\n",
      " 'NoneType' object is not subscriptable\n"
     ]
    },
    {
     "name": "stderr",
     "output_type": "stream",
     "text": [
      " 63%|██████▎   | 478/759 [10:54:04<8:57:02, 114.67s/it]"
     ]
    },
    {
     "name": "stdout",
     "output_type": "stream",
     "text": [
      "Error:  'NoneType' object is not subscriptable\n"
     ]
    },
    {
     "name": "stderr",
     "output_type": "stream",
     "text": [
      " 63%|██████▎   | 480/759 [10:55:31<5:48:07, 74.87s/it] "
     ]
    },
    {
     "name": "stdout",
     "output_type": "stream",
     "text": [
      "Error:  Error:  'NoneType' object is not subscriptable'NoneType' object is not subscriptable\n",
      "\n"
     ]
    },
    {
     "name": "stderr",
     "output_type": "stream",
     "text": [
      " 63%|██████▎   | 481/759 [10:56:28<5:22:19, 69.57s/it]"
     ]
    },
    {
     "name": "stdout",
     "output_type": "stream",
     "text": [
      "Error:  Error: 'NoneType' object is not subscriptableError: \n",
      "  'NoneType' object is not subscriptable'NoneType' object is not subscriptable\n",
      "\n"
     ]
    },
    {
     "name": "stderr",
     "output_type": "stream",
     "text": [
      " 64%|██████▎   | 482/759 [10:58:25<6:27:35, 83.95s/it]"
     ]
    },
    {
     "name": "stdout",
     "output_type": "stream",
     "text": [
      "Error: Error:  Error: 'NoneType' object is not subscriptable  \n",
      "Error: 'NoneType' object is not subscriptable'NoneType' object is not subscriptable \n",
      "\n",
      "'NoneType' object is not subscriptable\n"
     ]
    },
    {
     "name": "stderr",
     "output_type": "stream",
     "text": [
      " 64%|██████▎   | 483/759 [10:58:33<4:41:12, 61.13s/it]"
     ]
    },
    {
     "name": "stdout",
     "output_type": "stream",
     "text": [
      "Error:  'NoneType' object is not subscriptable\n",
      "Error:  'NoneType' object is not subscriptable\n"
     ]
    },
    {
     "name": "stderr",
     "output_type": "stream",
     "text": [
      " 64%|██████▍   | 484/759 [10:58:38<3:22:14, 44.13s/it]"
     ]
    },
    {
     "name": "stdout",
     "output_type": "stream",
     "text": [
      "Error:  'NoneType' object is not subscriptable\n",
      "Error:  Error:  'NoneType' object is not subscriptable'NoneType' object is not subscriptable\n",
      "\n"
     ]
    },
    {
     "name": "stderr",
     "output_type": "stream",
     "text": [
      " 64%|██████▍   | 486/759 [10:59:55<2:54:57, 38.45s/it]"
     ]
    },
    {
     "name": "stdout",
     "output_type": "stream",
     "text": [
      "Error: Error:  Error:  Error: 'NoneType' object is not subscriptable  'NoneType' object is not subscriptableError: \n",
      "'NoneType' object is not subscriptable'NoneType' object is not subscriptable\n",
      " \n",
      "\n",
      "'NoneType' object is not subscriptable\n"
     ]
    },
    {
     "name": "stderr",
     "output_type": "stream",
     "text": [
      " 64%|██████▍   | 487/759 [10:59:58<2:06:04, 27.81s/it]"
     ]
    },
    {
     "name": "stdout",
     "output_type": "stream",
     "text": [
      "Error:  Error: Error: 'NoneType' object is not subscriptable  \n",
      "'NoneType' object is not subscriptable\n",
      "'NoneType' object is not subscriptable\n"
     ]
    },
    {
     "name": "stderr",
     "output_type": "stream",
     "text": [
      " 64%|██████▍   | 489/759 [11:00:26<1:30:03, 20.01s/it]"
     ]
    },
    {
     "name": "stdout",
     "output_type": "stream",
     "text": [
      "Error:  'NoneType' object is not subscriptable\n",
      "Error: Error: Error:    'NoneType' object is not subscriptable'NoneType' object is not subscriptable\n",
      "'NoneType' object is not subscriptable\n",
      "\n"
     ]
    },
    {
     "name": "stderr",
     "output_type": "stream",
     "text": [
      " 65%|██████▍   | 490/759 [11:00:41<1:22:53, 18.49s/it]"
     ]
    },
    {
     "name": "stdout",
     "output_type": "stream",
     "text": [
      "Error:  'NoneType' object is not subscriptable\n",
      "Error:  'NoneType' object is not subscriptable\n"
     ]
    },
    {
     "name": "stderr",
     "output_type": "stream",
     "text": [
      " 65%|██████▍   | 491/759 [11:00:43<1:00:43, 13.60s/it]"
     ]
    },
    {
     "name": "stdout",
     "output_type": "stream",
     "text": [
      "Error:  'NoneType' object is not subscriptable\n",
      "Error:  'NoneType' object is not subscriptable\n"
     ]
    },
    {
     "name": "stderr",
     "output_type": "stream",
     "text": [
      " 65%|██████▍   | 492/759 [11:00:53<56:12, 12.63s/it]  "
     ]
    },
    {
     "name": "stdout",
     "output_type": "stream",
     "text": [
      "Error:  Error: 'NoneType' object is not subscriptable Error: \n",
      " Error: 'NoneType' object is not subscriptable \n",
      "Error: 'NoneType' object is not subscriptable 'NoneType' object is not subscriptable\n",
      "\n",
      "'NoneType' object is not subscriptable\n"
     ]
    },
    {
     "name": "stderr",
     "output_type": "stream",
     "text": [
      " 65%|██████▍   | 493/759 [11:00:55<41:16,  9.31s/it]"
     ]
    },
    {
     "name": "stdout",
     "output_type": "stream",
     "text": [
      "Error:  'NoneType' object is not subscriptable\n",
      "Error:  'NoneType' object is not subscriptable\n"
     ]
    },
    {
     "name": "stderr",
     "output_type": "stream",
     "text": [
      " 65%|██████▌   | 494/759 [11:01:22<1:04:22, 14.58s/it]"
     ]
    },
    {
     "name": "stdout",
     "output_type": "stream",
     "text": [
      "Error:  Error:  'NoneType' object is not subscriptable'NoneType' object is not subscriptable\n",
      "\n"
     ]
    },
    {
     "name": "stderr",
     "output_type": "stream",
     "text": [
      " 65%|██████▌   | 495/759 [11:02:04<1:40:58, 22.95s/it]"
     ]
    },
    {
     "name": "stdout",
     "output_type": "stream",
     "text": [
      "Error:  Error: 'NoneType' object is not subscriptableError:  \n",
      " 'NoneType' object is not subscriptable'NoneType' object is not subscriptable\n",
      "\n"
     ]
    },
    {
     "name": "stderr",
     "output_type": "stream",
     "text": [
      " 65%|██████▌   | 496/759 [11:02:53<2:15:15, 30.86s/it]"
     ]
    },
    {
     "name": "stdout",
     "output_type": "stream",
     "text": [
      "Error:  Error: 'NoneType' object is not subscriptableError: \n",
      "  'NoneType' object is not subscriptable'NoneType' object is not subscriptable\n",
      "\n"
     ]
    },
    {
     "name": "stderr",
     "output_type": "stream",
     "text": [
      " 65%|██████▌   | 497/759 [11:03:01<1:43:56, 23.80s/it]"
     ]
    },
    {
     "name": "stdout",
     "output_type": "stream",
     "text": [
      "Error: Error:   'NoneType' object is not subscriptable'NoneType' object is not subscriptable\n",
      "\n"
     ]
    },
    {
     "name": "stderr",
     "output_type": "stream",
     "text": [
      " 66%|██████▌   | 498/759 [11:03:04<1:16:18, 17.54s/it]"
     ]
    },
    {
     "name": "stdout",
     "output_type": "stream",
     "text": [
      "Error:  Error: 'NoneType' object is not subscriptable 'NoneType' object is not subscriptable\n",
      "\n"
     ]
    },
    {
     "name": "stderr",
     "output_type": "stream",
     "text": [
      " 66%|██████▌   | 499/759 [11:03:09<59:39, 13.77s/it]  "
     ]
    },
    {
     "name": "stdout",
     "output_type": "stream",
     "text": [
      "Error:  Error: 'NoneType' object is not subscriptable \n",
      "'NoneType' object is not subscriptable\n",
      "Error:  'NoneType' object is not subscriptable\n"
     ]
    },
    {
     "name": "stderr",
     "output_type": "stream",
     "text": [
      " 66%|██████▌   | 500/759 [11:03:30<1:09:19, 16.06s/it]"
     ]
    },
    {
     "name": "stdout",
     "output_type": "stream",
     "text": [
      "Error:  Error:  'NoneType' object is not subscriptable\n",
      "'NoneType' object is not subscriptable\n",
      "Error:  'NoneType' object is not subscriptable\n"
     ]
    },
    {
     "name": "stderr",
     "output_type": "stream",
     "text": [
      " 66%|██████▌   | 501/759 [11:04:15<1:46:20, 24.73s/it]"
     ]
    },
    {
     "name": "stdout",
     "output_type": "stream",
     "text": [
      "Error:  Error: Error: 'NoneType' object is not subscriptable  Error: Error: \n",
      "Error: 'NoneType' object is not subscriptable'NoneType' object is not subscriptable   \n",
      "\n",
      "'NoneType' object is not subscriptable'NoneType' object is not subscriptable'NoneType' object is not subscriptable\n",
      "\n",
      "\n"
     ]
    },
    {
     "name": "stderr",
     "output_type": "stream",
     "text": [
      " 66%|██████▌   | 502/759 [11:04:17<1:16:11, 17.79s/it]"
     ]
    },
    {
     "name": "stdout",
     "output_type": "stream",
     "text": [
      "Error:  'NoneType' object is not subscriptable\n",
      "Error:  'NoneType' object is not subscriptableError: Error:  \n",
      " 'NoneType' object is not subscriptable'NoneType' object is not subscriptable\n",
      "\n",
      "Error:  'NoneType' object is not subscriptable\n"
     ]
    },
    {
     "name": "stderr",
     "output_type": "stream",
     "text": [
      " 66%|██████▋   | 503/759 [11:04:50<1:35:55, 22.48s/it]"
     ]
    },
    {
     "name": "stdout",
     "output_type": "stream",
     "text": [
      "Error:  'NoneType' object is not subscriptableError: \n",
      " 'NoneType' object is not subscriptable\n"
     ]
    },
    {
     "name": "stderr",
     "output_type": "stream",
     "text": [
      " 66%|██████▋   | 504/759 [11:06:42<3:29:34, 49.31s/it]"
     ]
    },
    {
     "name": "stdout",
     "output_type": "stream",
     "text": [
      "Error: Error:  Error:  Error: 'NoneType' object is not subscriptable'NoneType' object is not subscriptable  \n",
      "\n",
      "'NoneType' object is not subscriptable'NoneType' object is not subscriptable\n",
      "\n"
     ]
    },
    {
     "name": "stderr",
     "output_type": "stream",
     "text": [
      " 67%|██████▋   | 505/759 [11:06:50<2:35:57, 36.84s/it]"
     ]
    },
    {
     "name": "stdout",
     "output_type": "stream",
     "text": [
      "Error: Error:  'NoneType' object is not subscriptable \n",
      "'NoneType' object is not subscriptable\n"
     ]
    },
    {
     "name": "stderr",
     "output_type": "stream",
     "text": [
      " 67%|██████▋   | 506/759 [11:06:55<1:55:29, 27.39s/it]"
     ]
    },
    {
     "name": "stdout",
     "output_type": "stream",
     "text": [
      "Error:  'NoneType' object is not subscriptable\n",
      "Error:  'NoneType' object is not subscriptableError: \n",
      " 'NoneType' object is not subscriptable\n"
     ]
    },
    {
     "name": "stderr",
     "output_type": "stream",
     "text": [
      " 67%|██████▋   | 507/759 [11:07:08<1:37:11, 23.14s/it]"
     ]
    },
    {
     "name": "stdout",
     "output_type": "stream",
     "text": [
      "Error:  Error:  'NoneType' object is not subscriptable\n",
      "'NoneType' object is not subscriptable\n"
     ]
    },
    {
     "name": "stderr",
     "output_type": "stream",
     "text": [
      " 67%|██████▋   | 508/759 [11:07:11<1:10:37, 16.88s/it]"
     ]
    },
    {
     "name": "stdout",
     "output_type": "stream",
     "text": [
      "Error:  'NoneType' object is not subscriptable\n",
      "Error:  'NoneType' object is not subscriptableError: \n",
      " 'NoneType' object is not subscriptable\n",
      "Error:  'NoneType' object is not subscriptable\n"
     ]
    },
    {
     "name": "stderr",
     "output_type": "stream",
     "text": [
      " 67%|██████▋   | 509/759 [11:07:17<57:49, 13.88s/it]  "
     ]
    },
    {
     "name": "stdout",
     "output_type": "stream",
     "text": [
      "Error:  'NoneType' object is not subscriptableError: Error: \n",
      "  Error: Error: 'NoneType' object is not subscriptable'NoneType' object is not subscriptable  \n",
      "\n",
      "'NoneType' object is not subscriptable'NoneType' object is not subscriptable\n",
      "\n"
     ]
    },
    {
     "name": "stderr",
     "output_type": "stream",
     "text": [
      " 67%|██████▋   | 510/759 [11:09:37<3:34:37, 51.72s/it]"
     ]
    },
    {
     "name": "stdout",
     "output_type": "stream",
     "text": [
      "Error:  Error: 'NoneType' object is not subscriptable Error: \n",
      "Error: 'NoneType' object is not subscriptable  \n",
      "'NoneType' object is not subscriptable\n",
      "'NoneType' object is not subscriptable\n"
     ]
    },
    {
     "name": "stderr",
     "output_type": "stream",
     "text": [
      " 67%|██████▋   | 511/759 [11:09:42<2:34:53, 37.48s/it]"
     ]
    },
    {
     "name": "stdout",
     "output_type": "stream",
     "text": [
      "Error: Error:  'NoneType' object is not subscriptable Error: Error: \n",
      "Error: 'NoneType' object is not subscriptableError:     \n",
      "'NoneType' object is not subscriptable'NoneType' object is not subscriptable\n",
      "'NoneType' object is not subscriptable'NoneType' object is not subscriptable\n",
      "\n",
      "\n"
     ]
    },
    {
     "name": "stderr",
     "output_type": "stream",
     "text": [
      " 67%|██████▋   | 512/759 [11:09:43<1:49:46, 26.67s/it]"
     ]
    },
    {
     "name": "stdout",
     "output_type": "stream",
     "text": [
      "Error:  'NoneType' object is not subscriptableError: Error: \n",
      "  'NoneType' object is not subscriptable'NoneType' object is not subscriptable\n",
      "\n",
      "Error:  'NoneType' object is not subscriptable\n",
      "Error:  'NoneType' object is not subscriptable\n"
     ]
    },
    {
     "name": "stderr",
     "output_type": "stream",
     "text": [
      " 68%|██████▊   | 513/759 [11:10:00<1:37:18, 23.73s/it]"
     ]
    },
    {
     "name": "stdout",
     "output_type": "stream",
     "text": [
      "Error: Error:  'NoneType' object is not subscriptable 'NoneType' object is not subscriptable\n",
      "\n",
      "Error: Error:   'NoneType' object is not subscriptable'NoneType' object is not subscriptable\n",
      "\n"
     ]
    },
    {
     "name": "stderr",
     "output_type": "stream",
     "text": [
      " 68%|██████▊   | 514/759 [11:10:03<1:11:19, 17.47s/it]"
     ]
    },
    {
     "name": "stdout",
     "output_type": "stream",
     "text": [
      "Error:  'NoneType' object is not subscriptableError: \n",
      " 'NoneType' object is not subscriptable\n"
     ]
    },
    {
     "name": "stderr",
     "output_type": "stream",
     "text": [
      " 68%|██████▊   | 515/759 [11:10:05<52:14, 12.84s/it]  "
     ]
    },
    {
     "name": "stdout",
     "output_type": "stream",
     "text": [
      "Error:  Error: 'NoneType' object is not subscriptable 'NoneType' object is not subscriptable\n",
      "Error:  \n",
      "'NoneType' object is not subscriptable\n",
      "Error:  'NoneType' object is not subscriptable\n",
      "Error:  'NoneType' object is not subscriptable\n"
     ]
    },
    {
     "name": "stderr",
     "output_type": "stream",
     "text": [
      " 68%|██████▊   | 516/759 [11:11:00<1:43:32, 25.56s/it]"
     ]
    },
    {
     "name": "stdout",
     "output_type": "stream",
     "text": [
      "Error:  Error: 'NoneType' object is not subscriptable Error: \n",
      "'NoneType' object is not subscriptableError:  \n",
      "'NoneType' object is not subscriptable 'NoneType' object is not subscriptable\n",
      "\n"
     ]
    },
    {
     "name": "stderr",
     "output_type": "stream",
     "text": [
      " 68%|██████▊   | 517/759 [11:11:50<2:12:34, 32.87s/it]"
     ]
    },
    {
     "name": "stdout",
     "output_type": "stream",
     "text": [
      "Error:  'NoneType' object is not subscriptable\n",
      "Error:  'NoneType' object is not subscriptable\n"
     ]
    },
    {
     "name": "stderr",
     "output_type": "stream",
     "text": [
      " 68%|██████▊   | 518/759 [11:11:54<1:36:51, 24.12s/it]"
     ]
    },
    {
     "name": "stdout",
     "output_type": "stream",
     "text": [
      "Error:  'NoneType' object is not subscriptableError: \n",
      " 'NoneType' object is not subscriptableError: \n",
      " \n"
     ]
    },
    {
     "name": "stderr",
     "output_type": "stream",
     "text": [
      " 68%|██████▊   | 519/759 [11:11:57<1:11:53, 17.97s/it]"
     ]
    },
    {
     "name": "stdout",
     "output_type": "stream",
     "text": [
      "Error:  Error: 'NoneType' object is not subscriptable \n",
      "Error: 'NoneType' object is not subscriptable Error: Error: \n",
      " 'NoneType' object is not subscriptable \n",
      "'NoneType' object is not subscriptable'NoneType' object is not subscriptable\n",
      "\n"
     ]
    },
    {
     "name": "stderr",
     "output_type": "stream",
     "text": [
      " 69%|██████▊   | 520/759 [11:12:00<53:00, 13.31s/it]  "
     ]
    },
    {
     "name": "stdout",
     "output_type": "stream",
     "text": [
      "Error: Error:   'NoneType' object is not subscriptable'NoneType' object is not subscriptable\n",
      "\n"
     ]
    },
    {
     "name": "stderr",
     "output_type": "stream",
     "text": [
      " 69%|██████▊   | 521/759 [11:12:03<41:03, 10.35s/it]"
     ]
    },
    {
     "name": "stdout",
     "output_type": "stream",
     "text": [
      "Error:  'NoneType' object is not subscriptableError: Error: Error: Error:   \n",
      "  'NoneType' object is not subscriptable'NoneType' object is not subscriptable\n",
      "\n",
      "'NoneType' object is not subscriptable'NoneType' object is not subscriptable\n",
      "\n"
     ]
    },
    {
     "name": "stderr",
     "output_type": "stream",
     "text": [
      " 69%|██████▉   | 522/759 [11:12:05<30:23,  7.69s/it]"
     ]
    },
    {
     "name": "stdout",
     "output_type": "stream",
     "text": [
      "Error:  'NoneType' object is not subscriptable\n",
      "Error: Error:  Error:  'NoneType' object is not subscriptable \n",
      "'NoneType' object is not subscriptable'NoneType' object is not subscriptable\n",
      "\n"
     ]
    },
    {
     "name": "stderr",
     "output_type": "stream",
     "text": [
      " 69%|██████▉   | 523/759 [11:12:09<25:51,  6.58s/it]"
     ]
    },
    {
     "name": "stdout",
     "output_type": "stream",
     "text": [
      "Error:  Error: 'NoneType' object is not subscriptable \n",
      "Error: 'NoneType' object is not subscriptable \n",
      "'NoneType' object is not subscriptable\n"
     ]
    },
    {
     "name": "stderr",
     "output_type": "stream",
     "text": [
      " 69%|██████▉   | 524/759 [11:12:13<23:09,  5.91s/it]"
     ]
    },
    {
     "name": "stdout",
     "output_type": "stream",
     "text": [
      "Error:  'NoneType' object is not subscriptable\n",
      "Error: Error: Error:  Error:  Error: Error: 'NoneType' object is not subscriptable 'NoneType' object is not subscriptable  \n",
      "\n",
      "'NoneType' object is not subscriptable'NoneType' object is not subscriptable'NoneType' object is not subscriptable \n",
      "\n",
      "'NoneType' object is not subscriptable\n",
      "\n"
     ]
    },
    {
     "name": "stderr",
     "output_type": "stream",
     "text": [
      " 69%|██████▉   | 525/759 [11:12:15<17:45,  4.55s/it]"
     ]
    },
    {
     "name": "stdout",
     "output_type": "stream",
     "text": [
      "Error: Error:   'NoneType' object is not subscriptable'NoneType' object is not subscriptableError:  \n",
      "\n",
      "'NoneType' object is not subscriptable\n"
     ]
    },
    {
     "name": "stderr",
     "output_type": "stream",
     "text": [
      " 69%|██████▉   | 526/759 [11:12:16<14:10,  3.65s/it]"
     ]
    },
    {
     "name": "stdout",
     "output_type": "stream",
     "text": [
      "Error: Error: Error:   Error:  'NoneType' object is not subscriptable'NoneType' object is not subscriptable'NoneType' object is not subscriptable \n",
      "\n",
      "\n",
      "\n",
      "'NoneType' object is not subscriptable"
     ]
    },
    {
     "name": "stderr",
     "output_type": "stream",
     "text": [
      " 69%|██████▉   | 527/759 [11:12:29<25:05,  6.49s/it]"
     ]
    },
    {
     "name": "stdout",
     "output_type": "stream",
     "text": [
      "Error:  Error: 'NoneType' object is not subscriptable \n",
      "Error: 'NoneType' object is not subscriptableError:  \n",
      " 'NoneType' object is not subscriptable'NoneType' object is not subscriptable\n",
      "\n"
     ]
    },
    {
     "name": "stderr",
     "output_type": "stream",
     "text": [
      " 70%|██████▉   | 528/759 [11:12:32<21:02,  5.47s/it]"
     ]
    },
    {
     "name": "stdout",
     "output_type": "stream",
     "text": [
      "Error:  'NoneType' object is not subscriptable\n",
      "Error:  Error: Error: 'NoneType' object is not subscriptable  \n",
      "'NoneType' object is not subscriptable'NoneType' object is not subscriptable\n",
      "\n"
     ]
    },
    {
     "name": "stderr",
     "output_type": "stream",
     "text": [
      " 70%|██████▉   | 529/759 [11:12:34<17:00,  4.44s/it]"
     ]
    },
    {
     "name": "stdout",
     "output_type": "stream",
     "text": [
      "Error:  'NoneType' object is not subscriptableError: \n",
      " Error:  'NoneType' object is not subscriptableError: 'NoneType' object is not subscriptable\n",
      " \n",
      "'NoneType' object is not subscriptable\n",
      "Error:  'NoneType' object is not subscriptable\n"
     ]
    },
    {
     "name": "stderr",
     "output_type": "stream",
     "text": [
      " 70%|██████▉   | 530/759 [11:12:45<24:38,  6.46s/it]"
     ]
    },
    {
     "name": "stdout",
     "output_type": "stream",
     "text": [
      "Error:  'NoneType' object is not subscriptable\n",
      "Error:  'NoneType' object is not subscriptable\n"
     ]
    },
    {
     "name": "stderr",
     "output_type": "stream",
     "text": [
      " 70%|██████▉   | 531/759 [11:12:51<23:52,  6.28s/it]"
     ]
    },
    {
     "name": "stdout",
     "output_type": "stream",
     "text": [
      "Error:  'NoneType' object is not subscriptable\n",
      "Error: Error: Error: Error:     'NoneType' object is not subscriptable'NoneType' object is not subscriptable'NoneType' object is not subscriptable'NoneType' object is not subscriptable\n",
      "\n",
      "\n",
      "\n"
     ]
    },
    {
     "name": "stderr",
     "output_type": "stream",
     "text": [
      " 70%|███████   | 532/759 [11:13:05<32:32,  8.60s/it]"
     ]
    },
    {
     "name": "stdout",
     "output_type": "stream",
     "text": [
      "Error:  'NoneType' object is not subscriptable\n"
     ]
    },
    {
     "name": "stderr",
     "output_type": "stream",
     "text": [
      " 70%|███████   | 533/759 [11:13:20<39:15, 10.42s/it]"
     ]
    },
    {
     "name": "stdout",
     "output_type": "stream",
     "text": [
      "Error:  Error: 'NoneType' object is not subscriptableError:  \n",
      " 'NoneType' object is not subscriptable'NoneType' object is not subscriptable\n",
      "\n"
     ]
    },
    {
     "name": "stderr",
     "output_type": "stream",
     "text": [
      " 70%|███████   | 534/759 [11:13:22<29:42,  7.92s/it]"
     ]
    },
    {
     "name": "stdout",
     "output_type": "stream",
     "text": [
      "Error:  'NoneType' object is not subscriptable\n"
     ]
    },
    {
     "name": "stderr",
     "output_type": "stream",
     "text": [
      " 70%|███████   | 535/759 [11:14:06<1:09:20, 18.58s/it]"
     ]
    },
    {
     "name": "stdout",
     "output_type": "stream",
     "text": [
      "Error:  Error: Error: 'NoneType' object is not subscriptable 'NoneType' object is not subscriptable\n",
      " \n",
      "Error: 'NoneType' object is not subscriptableError:   \n",
      "'NoneType' object is not subscriptable'NoneType' object is not subscriptable\n",
      "\n"
     ]
    },
    {
     "name": "stderr",
     "output_type": "stream",
     "text": [
      " 71%|███████   | 536/759 [11:15:16<2:07:03, 34.18s/it]"
     ]
    },
    {
     "name": "stdout",
     "output_type": "stream",
     "text": [
      "Error:  'NoneType' object is not subscriptableError: Error:   \n",
      "Error: Error: 'NoneType' object is not subscriptable'NoneType' object is not subscriptableError:   \n",
      "\n",
      "'NoneType' object is not subscriptable'NoneType' object is not subscriptable \n",
      "'NoneType' object is not subscriptable\n",
      "\n"
     ]
    },
    {
     "name": "stderr",
     "output_type": "stream",
     "text": [
      " 71%|███████   | 537/759 [11:15:18<1:30:21, 24.42s/it]"
     ]
    },
    {
     "name": "stdout",
     "output_type": "stream",
     "text": [
      "Error:  Error: Error:  'NoneType' object is not subscriptable Error: 'NoneType' object is not subscriptable\n",
      "'NoneType' object is not subscriptableError: Error:  \n",
      " \n",
      " 'NoneType' object is not subscriptable'NoneType' object is not subscriptable'NoneType' object is not subscriptable\n",
      "\n",
      "\n"
     ]
    },
    {
     "name": "stderr",
     "output_type": "stream",
     "text": [
      " 71%|███████   | 538/759 [11:15:20<1:04:52, 17.61s/it]"
     ]
    },
    {
     "name": "stdout",
     "output_type": "stream",
     "text": [
      "Error:  'NoneType' object is not subscriptable\n",
      "Error:  'NoneType' object is not subscriptable\n"
     ]
    },
    {
     "name": "stderr",
     "output_type": "stream",
     "text": [
      " 71%|███████   | 539/759 [11:16:00<1:29:46, 24.48s/it]"
     ]
    },
    {
     "name": "stdout",
     "output_type": "stream",
     "text": [
      "Error: Error:   Error: 'NoneType' object is not subscriptableError: Error:  'NoneType' object is not subscriptable \n",
      " \n",
      "'NoneType' object is not subscriptable'NoneType' object is not subscriptable'NoneType' object is not subscriptable\n",
      "\n",
      "\n"
     ]
    },
    {
     "name": "stderr",
     "output_type": "stream",
     "text": [
      " 71%|███████   | 540/759 [11:16:02<1:04:27, 17.66s/it]"
     ]
    },
    {
     "name": "stdout",
     "output_type": "stream",
     "text": [
      "Error:  Error: 'NoneType' object is not subscriptable Error:  'NoneType' object is not subscriptable\n",
      "'NoneType' object is not subscriptable\n",
      "\n"
     ]
    },
    {
     "name": "stderr",
     "output_type": "stream",
     "text": [
      " 71%|███████▏  | 541/759 [11:16:17<1:01:44, 16.99s/it]"
     ]
    },
    {
     "name": "stdout",
     "output_type": "stream",
     "text": [
      "Error:  'NoneType' object is not subscriptableError: \n",
      "Error:   'NoneType' object is not subscriptable\n",
      "'NoneType' object is not subscriptable\n"
     ]
    },
    {
     "name": "stderr",
     "output_type": "stream",
     "text": [
      " 71%|███████▏  | 542/759 [11:17:42<2:14:35, 37.21s/it]"
     ]
    },
    {
     "name": "stdout",
     "output_type": "stream",
     "text": [
      "Error: Error:  Error: 'NoneType' object is not subscriptable Error:  'NoneType' object is not subscriptable\n",
      " 'NoneType' object is not subscriptable'NoneType' object is not subscriptable\n",
      "\n",
      "\n",
      "Error:  'NoneType' object is not subscriptable\n"
     ]
    },
    {
     "name": "stderr",
     "output_type": "stream",
     "text": [
      " 72%|███████▏  | 543/759 [11:17:57<1:50:53, 30.80s/it]"
     ]
    },
    {
     "name": "stdout",
     "output_type": "stream",
     "text": [
      "Error:  'NoneType' object is not subscriptable\n"
     ]
    },
    {
     "name": "stderr",
     "output_type": "stream",
     "text": [
      " 72%|███████▏  | 544/759 [11:18:02<1:21:41, 22.80s/it]"
     ]
    },
    {
     "name": "stdout",
     "output_type": "stream",
     "text": [
      "Error:  'NoneType' object is not subscriptable\n",
      "Error:  'NoneType' object is not subscriptable\n"
     ]
    },
    {
     "name": "stderr",
     "output_type": "stream",
     "text": [
      " 72%|███████▏  | 545/759 [11:18:05<1:00:41, 17.02s/it]"
     ]
    },
    {
     "name": "stdout",
     "output_type": "stream",
     "text": [
      "Error:  'NoneType' object is not subscriptable\n"
     ]
    },
    {
     "name": "stderr",
     "output_type": "stream",
     "text": [
      " 72%|███████▏  | 546/759 [11:19:21<2:03:31, 34.80s/it]"
     ]
    },
    {
     "name": "stdout",
     "output_type": "stream",
     "text": [
      "Error:  'NoneType' object is not subscriptable\n",
      "Error: Error: Error:    'NoneType' object is not subscriptable'NoneType' object is not subscriptable'NoneType' object is not subscriptable\n",
      "\n",
      "\n"
     ]
    },
    {
     "name": "stderr",
     "output_type": "stream",
     "text": [
      " 72%|███████▏  | 547/759 [11:19:24<1:28:19, 25.00s/it]"
     ]
    },
    {
     "name": "stdout",
     "output_type": "stream",
     "text": [
      "Error: Error:   'NoneType' object is not subscriptableError: \n",
      " 'NoneType' object is not subscriptable'NoneType' object is not subscriptable\n",
      "\n"
     ]
    },
    {
     "name": "stderr",
     "output_type": "stream",
     "text": [
      " 72%|███████▏  | 548/759 [11:19:26<1:03:52, 18.16s/it]"
     ]
    },
    {
     "name": "stdout",
     "output_type": "stream",
     "text": [
      "Error: Error: Error:   Error: 'NoneType' object is not subscriptable Error: 'NoneType' object is not subscriptable 'NoneType' object is not subscriptable\n",
      "\n",
      " 'NoneType' object is not subscriptable'NoneType' object is not subscriptable\n",
      "\n",
      "\n"
     ]
    },
    {
     "name": "stderr",
     "output_type": "stream",
     "text": [
      " 72%|███████▏  | 549/759 [11:19:50<1:10:23, 20.11s/it]"
     ]
    },
    {
     "name": "stdout",
     "output_type": "stream",
     "text": [
      "Error: Error:   Error: 'NoneType' object is not subscriptable Error: Error:  \n",
      "'NoneType' object is not subscriptableError: 'NoneType' object is not subscriptable \n",
      "'NoneType' object is not subscriptable 'NoneType' object is not subscriptable\n",
      "\n",
      "'NoneType' object is not subscriptable\n",
      "\n"
     ]
    },
    {
     "name": "stderr",
     "output_type": "stream",
     "text": [
      " 72%|███████▏  | 550/759 [11:20:04<1:03:32, 18.24s/it]"
     ]
    },
    {
     "name": "stdout",
     "output_type": "stream",
     "text": [
      "Error:  'NoneType' object is not subscriptable\n"
     ]
    },
    {
     "name": "stderr",
     "output_type": "stream",
     "text": [
      " 73%|███████▎  | 551/759 [11:20:08<47:43, 13.77s/it]  "
     ]
    },
    {
     "name": "stdout",
     "output_type": "stream",
     "text": [
      "Error:  Error: 'NoneType' object is not subscriptable\n",
      " Error: Error: 'NoneType' object is not subscriptable  \n",
      "'NoneType' object is not subscriptable'NoneType' object is not subscriptable\n",
      "\n"
     ]
    },
    {
     "name": "stderr",
     "output_type": "stream",
     "text": [
      " 73%|███████▎  | 552/759 [11:20:11<36:24, 10.55s/it]"
     ]
    },
    {
     "name": "stdout",
     "output_type": "stream",
     "text": [
      "Error:  'NoneType' object is not subscriptable\n",
      "Error: Error:   Error: 'NoneType' object is not subscriptableError: 'NoneType' object is not subscriptable \n",
      "Error: 'NoneType' object is not subscriptable \n",
      " 'NoneType' object is not subscriptable\n",
      "'NoneType' object is not subscriptable\n",
      "\n"
     ]
    },
    {
     "name": "stderr",
     "output_type": "stream",
     "text": [
      " 73%|███████▎  | 553/759 [11:20:13<28:04,  8.18s/it]"
     ]
    },
    {
     "name": "stdout",
     "output_type": "stream",
     "text": [
      "Error:  'NoneType' object is not subscriptableError: Error: \n",
      "Error:   'NoneType' object is not subscriptable'NoneType' object is not subscriptable \n",
      "\n",
      "'NoneType' object is not subscriptable\n"
     ]
    },
    {
     "name": "stderr",
     "output_type": "stream",
     "text": [
      " 73%|███████▎  | 554/759 [11:22:13<2:22:02, 41.57s/it]"
     ]
    },
    {
     "name": "stdout",
     "output_type": "stream",
     "text": [
      "Error:  'NoneType' object is not subscriptable\n",
      "Error:  'NoneType' object is not subscriptable\n"
     ]
    },
    {
     "name": "stderr",
     "output_type": "stream",
     "text": [
      " 73%|███████▎  | 555/759 [11:22:17<1:43:16, 30.37s/it]"
     ]
    },
    {
     "name": "stdout",
     "output_type": "stream",
     "text": [
      "Error:  Error: Error: 'NoneType' object is not subscriptable  \n",
      "'NoneType' object is not subscriptable'NoneType' object is not subscriptable\n",
      "\n"
     ]
    },
    {
     "name": "stderr",
     "output_type": "stream",
     "text": [
      " 73%|███████▎  | 556/759 [11:22:35<1:29:48, 26.54s/it]"
     ]
    },
    {
     "name": "stdout",
     "output_type": "stream",
     "text": [
      "Error: Error:   'NoneType' object is not subscriptableError: Error: 'NoneType' object is not subscriptable \n",
      " 'NoneType' object is not subscriptable\n",
      "'NoneType' object is not subscriptableError: \n",
      "\n",
      " 'NoneType' object is not subscriptable\n"
     ]
    },
    {
     "name": "stderr",
     "output_type": "stream",
     "text": [
      " 73%|███████▎  | 557/759 [11:22:50<1:18:26, 23.30s/it]"
     ]
    },
    {
     "name": "stdout",
     "output_type": "stream",
     "text": [
      "Error: Error:  Error: Error:  'NoneType' object is not subscriptable Error:  Error: 'NoneType' object is not subscriptable'NoneType' object is not subscriptable\n",
      "  'NoneType' object is not subscriptable'NoneType' object is not subscriptable\n",
      "\n",
      "'NoneType' object is not subscriptable\n",
      "\n",
      "\n"
     ]
    },
    {
     "name": "stderr",
     "output_type": "stream",
     "text": [
      " 74%|███████▎  | 558/759 [11:22:52<56:16, 16.80s/it]  "
     ]
    },
    {
     "name": "stdout",
     "output_type": "stream",
     "text": [
      "Error:  Error:  'NoneType' object is not subscriptable\n",
      "'NoneType' object is not subscriptable\n"
     ]
    },
    {
     "name": "stderr",
     "output_type": "stream",
     "text": [
      " 74%|███████▎  | 559/759 [11:23:03<50:27, 15.14s/it]"
     ]
    },
    {
     "name": "stdout",
     "output_type": "stream",
     "text": [
      "Error:  Error: Error: Error: Error: 'NoneType' object is not subscriptableError:   Error: Error:    'NoneType' object is not subscriptable\n",
      "'NoneType' object is not subscriptable'NoneType' object is not subscriptable\n",
      "  'NoneType' object is not subscriptable'NoneType' object is not subscriptable\n",
      "'NoneType' object is not subscriptable\n",
      "'NoneType' object is not subscriptable\n",
      "\n",
      "\n",
      "\n"
     ]
    },
    {
     "name": "stderr",
     "output_type": "stream",
     "text": [
      " 74%|███████▍  | 560/759 [11:23:04<35:52, 10.82s/it]"
     ]
    },
    {
     "name": "stdout",
     "output_type": "stream",
     "text": [
      "Error:  'NoneType' object is not subscriptableError: Error: \n",
      " Error:   Error: Error: 'NoneType' object is not subscriptable'NoneType' object is not subscriptableError: Error:  \n",
      "\n",
      "'NoneType' object is not subscriptable   'NoneType' object is not subscriptable\n",
      "'NoneType' object is not subscriptable'NoneType' object is not subscriptable'NoneType' object is not subscriptable\n",
      "\n",
      "\n",
      "\n"
     ]
    },
    {
     "name": "stderr",
     "output_type": "stream",
     "text": [
      " 74%|███████▍  | 561/759 [11:23:05<25:44,  7.80s/it]"
     ]
    },
    {
     "name": "stdout",
     "output_type": "stream",
     "text": [
      "Error: Error:  Error: Error: 'NoneType' object is not subscriptable Error: Error:   'NoneType' object is not subscriptable 'NoneType' object is not subscriptable\n",
      " Error: 'NoneType' object is not subscriptable\n",
      "'NoneType' object is not subscriptable\n",
      "'NoneType' object is not subscriptable \n",
      "\n",
      "\n",
      "'NoneType' object is not subscriptable\n"
     ]
    },
    {
     "name": "stderr",
     "output_type": "stream",
     "text": [
      " 74%|███████▍  | 562/759 [11:23:18<30:55,  9.42s/it]"
     ]
    },
    {
     "name": "stdout",
     "output_type": "stream",
     "text": [
      "Error:  'NoneType' object is not subscriptable\n",
      "Error:  'NoneType' object is not subscriptable\n",
      "Error:  'NoneType' object is not subscriptable\n",
      "Error:  'NoneType' object is not subscriptable\n"
     ]
    },
    {
     "name": "stderr",
     "output_type": "stream",
     "text": [
      " 75%|███████▍  | 567/759 [11:24:04<22:25,  7.01s/it]"
     ]
    },
    {
     "name": "stdout",
     "output_type": "stream",
     "text": [
      "Error:  Error: 'NoneType' object is not subscriptable \n",
      "Error: 'NoneType' object is not subscriptable \n",
      "'NoneType' object is not subscriptable\n"
     ]
    },
    {
     "name": "stderr",
     "output_type": "stream",
     "text": [
      " 75%|███████▍  | 568/759 [11:24:06<17:28,  5.49s/it]"
     ]
    },
    {
     "name": "stdout",
     "output_type": "stream",
     "text": [
      "Error:  'NoneType' object is not subscriptable\n",
      "Error:  Error: 'NoneType' object is not subscriptable \n",
      "'NoneType' object is not subscriptable\n"
     ]
    },
    {
     "name": "stderr",
     "output_type": "stream",
     "text": [
      " 75%|███████▍  | 569/759 [11:26:47<2:45:18, 52.20s/it]"
     ]
    },
    {
     "name": "stdout",
     "output_type": "stream",
     "text": [
      "Error:  Error: 'NoneType' object is not subscriptable Error: Error: Error: Error: \n",
      " 'NoneType' object is not subscriptable   'NoneType' object is not subscriptable'NoneType' object is not subscriptable'NoneType' object is not subscriptable'NoneType' object is not subscriptable\n",
      "\n",
      "\n",
      "\n",
      "\n"
     ]
    },
    {
     "name": "stderr",
     "output_type": "stream",
     "text": [
      " 75%|███████▌  | 570/759 [11:26:48<1:56:30, 36.99s/it]"
     ]
    },
    {
     "name": "stdout",
     "output_type": "stream",
     "text": [
      "Error:  Error: 'NoneType' object is not subscriptableError: \n",
      "Error:  Error: Error: Error:   'NoneType' object is not subscriptable  'NoneType' object is not subscriptable 'NoneType' object is not subscriptable\n",
      "'NoneType' object is not subscriptable'NoneType' object is not subscriptable\n",
      "'NoneType' object is not subscriptable\n",
      "\n",
      "\n",
      "\n"
     ]
    },
    {
     "name": "stderr",
     "output_type": "stream",
     "text": [
      " 75%|███████▌  | 571/759 [11:26:53<1:25:09, 27.18s/it]"
     ]
    },
    {
     "name": "stdout",
     "output_type": "stream",
     "text": [
      "Error:  'NoneType' object is not subscriptableError: Error: Error: Error: Error:  \n",
      "Error:  Error:   'NoneType' object is not subscriptable   'NoneType' object is not subscriptable'NoneType' object is not subscriptable\n",
      "'NoneType' object is not subscriptable'NoneType' object is not subscriptable\n",
      "'NoneType' object is not subscriptable'NoneType' object is not subscriptable\n",
      "\n",
      "\n",
      "\n",
      "\n"
     ]
    },
    {
     "name": "stderr",
     "output_type": "stream",
     "text": [
      " 75%|███████▌  | 572/759 [11:26:53<1:00:01, 19.26s/it]"
     ]
    },
    {
     "name": "stdout",
     "output_type": "stream",
     "text": [
      "Error: Error:  Error: 'NoneType' object is not subscriptable Error:  \n",
      "Error: 'NoneType' object is not subscriptable 'NoneType' object is not subscriptable \n",
      "'NoneType' object is not subscriptable\n",
      "'NoneType' object is not subscriptable\n",
      "\n"
     ]
    },
    {
     "name": "stderr",
     "output_type": "stream",
     "text": [
      " 75%|███████▌  | 573/759 [11:26:57<45:12, 14.58s/it]  "
     ]
    },
    {
     "name": "stdout",
     "output_type": "stream",
     "text": [
      "Error: Error:   'NoneType' object is not subscriptableError: 'NoneType' object is not subscriptableError: Error: Error: Error: \n",
      " \n",
      "    'NoneType' object is not subscriptable'NoneType' object is not subscriptable'NoneType' object is not subscriptable'NoneType' object is not subscriptable'NoneType' object is not subscriptable\n",
      "\n",
      "\n",
      "\n",
      "\n"
     ]
    },
    {
     "name": "stderr",
     "output_type": "stream",
     "text": [
      " 76%|███████▌  | 574/759 [11:30:56<4:12:18, 81.83s/it]"
     ]
    },
    {
     "name": "stdout",
     "output_type": "stream",
     "text": [
      "Error:  'NoneType' object is not subscriptable\n",
      "Error:  'NoneType' object is not subscriptable\n",
      "Error:  'NoneType' object is not subscriptable\n"
     ]
    },
    {
     "name": "stderr",
     "output_type": "stream",
     "text": [
      " 76%|███████▌  | 577/759 [11:31:01<1:28:26, 29.16s/it]"
     ]
    },
    {
     "name": "stdout",
     "output_type": "stream",
     "text": [
      "Error:  'NoneType' object is not subscriptable\n"
     ]
    },
    {
     "name": "stderr",
     "output_type": "stream",
     "text": [
      " 76%|███████▋  | 580/759 [11:31:06<33:01, 11.07s/it]  "
     ]
    },
    {
     "name": "stdout",
     "output_type": "stream",
     "text": [
      "Error: Error:  Error:  'NoneType' object is not subscriptableError: Error: Error:  \n",
      "'NoneType' object is not subscriptableError:  Error:   'NoneType' object is not subscriptable\n",
      "  'NoneType' object is not subscriptable'NoneType' object is not subscriptable\n",
      "'NoneType' object is not subscriptable'NoneType' object is not subscriptable\n",
      "'NoneType' object is not subscriptable\n",
      "\n",
      "\n",
      "\n"
     ]
    },
    {
     "name": "stderr",
     "output_type": "stream",
     "text": [
      " 77%|███████▋  | 581/759 [11:31:06<23:40,  7.98s/it]"
     ]
    },
    {
     "name": "stdout",
     "output_type": "stream",
     "text": [
      "Error:  Error: Error: 'NoneType' object is not subscriptableError: Error:  Error: Error:  \n",
      " Error: 'NoneType' object is not subscriptable  'NoneType' object is not subscriptable 'NoneType' object is not subscriptable\n",
      "'NoneType' object is not subscriptable'NoneType' object is not subscriptable \n",
      "'NoneType' object is not subscriptable\n",
      "\n",
      "\n",
      "'NoneType' object is not subscriptable\n",
      "\n"
     ]
    },
    {
     "name": "stderr",
     "output_type": "stream",
     "text": [
      " 77%|███████▋  | 582/759 [11:31:07<17:10,  5.82s/it]"
     ]
    },
    {
     "name": "stdout",
     "output_type": "stream",
     "text": [
      "Error: Error:   'NoneType' object is not subscriptable\n",
      "'NoneType' object is not subscriptableError: Error: Error: Error:    \n",
      "'NoneType' object is not subscriptable 'NoneType' object is not subscriptable'NoneType' object is not subscriptable'NoneType' object is not subscriptable\n",
      "\n",
      "\n",
      "\n"
     ]
    },
    {
     "name": "stderr",
     "output_type": "stream",
     "text": [
      " 77%|███████▋  | 583/759 [11:31:15<18:25,  6.28s/it]"
     ]
    },
    {
     "name": "stdout",
     "output_type": "stream",
     "text": [
      "Error:  'NoneType' object is not subscriptableError: \n",
      "Error: Error:    Error: Error:  'NoneType' object is not subscriptable'NoneType' object is not subscriptable 'NoneType' object is not subscriptable'NoneType' object is not subscriptable\n",
      "\n",
      "'NoneType' object is not subscriptable\n",
      "\n",
      "\n"
     ]
    },
    {
     "name": "stderr",
     "output_type": "stream",
     "text": [
      " 77%|███████▋  | 584/759 [11:31:16<14:09,  4.85s/it]"
     ]
    },
    {
     "name": "stdout",
     "output_type": "stream",
     "text": [
      "Error:  Error: Error: 'NoneType' object is not subscriptableError: Error: Error:  Error: Error:   \n",
      "  'NoneType' object is not subscriptable  'NoneType' object is not subscriptable'NoneType' object is not subscriptable'NoneType' object is not subscriptable'NoneType' object is not subscriptable'NoneType' object is not subscriptable\n",
      "\n",
      "'NoneType' object is not subscriptable\n",
      "\n",
      "\n",
      "\n",
      "\n"
     ]
    },
    {
     "name": "stderr",
     "output_type": "stream",
     "text": [
      " 77%|███████▋  | 585/759 [11:31:17<10:30,  3.62s/it]"
     ]
    },
    {
     "name": "stdout",
     "output_type": "stream",
     "text": [
      "Error:  Error: Error: 'NoneType' object is not subscriptableError: Error:   Error: Error: \n",
      "Error:  'NoneType' object is not subscriptable'NoneType' object is not subscriptable    'NoneType' object is not subscriptable\n",
      "'NoneType' object is not subscriptable'NoneType' object is not subscriptable\n",
      "'NoneType' object is not subscriptable'NoneType' object is not subscriptable\n",
      "\n",
      "\n",
      "\n",
      "\n"
     ]
    },
    {
     "name": "stderr",
     "output_type": "stream",
     "text": [
      " 77%|███████▋  | 586/759 [11:31:18<07:59,  2.77s/it]"
     ]
    },
    {
     "name": "stdout",
     "output_type": "stream",
     "text": [
      "Error:  'NoneType' object is not subscriptableError: \n",
      " Error: Error: Error: Error: Error: 'NoneType' object is not subscriptable Error:     'NoneType' object is not subscriptable'NoneType' object is not subscriptable\n",
      "'NoneType' object is not subscriptable\n",
      "'NoneType' object is not subscriptable 'NoneType' object is not subscriptable\n",
      "\n",
      "\n",
      "'NoneType' object is not subscriptable\n",
      "\n"
     ]
    },
    {
     "name": "stderr",
     "output_type": "stream",
     "text": [
      " 77%|███████▋  | 587/759 [11:31:18<06:13,  2.17s/it]"
     ]
    },
    {
     "name": "stdout",
     "output_type": "stream",
     "text": [
      "Error:  Error: 'NoneType' object is not subscriptableError: Error: \n",
      "  Error:  'NoneType' object is not subscriptable 'NoneType' object is not subscriptableError: \n",
      "'NoneType' object is not subscriptable'NoneType' object is not subscriptable\n",
      " \n",
      "\n",
      "Error: 'NoneType' object is not subscriptable \n",
      "'NoneType' object is not subscriptable\n",
      "Error:  'NoneType' object is not subscriptable\n"
     ]
    },
    {
     "name": "stderr",
     "output_type": "stream",
     "text": [
      " 77%|███████▋  | 588/759 [11:31:19<05:04,  1.78s/it]"
     ]
    },
    {
     "name": "stdout",
     "output_type": "stream",
     "text": [
      "Error:  Error: Error: 'NoneType' object is not subscriptableError: Error:  \n",
      " Error:   'NoneType' object is not subscriptableError: Error: 'NoneType' object is not subscriptable 'NoneType' object is not subscriptable'NoneType' object is not subscriptable  \n",
      "\n",
      "'NoneType' object is not subscriptable\n",
      "'NoneType' object is not subscriptable\n",
      "'NoneType' object is not subscriptable\n",
      "\n",
      "\n"
     ]
    },
    {
     "name": "stderr",
     "output_type": "stream",
     "text": [
      " 78%|███████▊  | 589/759 [11:31:20<04:11,  1.48s/it]"
     ]
    },
    {
     "name": "stdout",
     "output_type": "stream",
     "text": [
      "Error:  'NoneType' object is not subscriptableError: Error:  \n",
      "Error: Error:   Error: 'NoneType' object is not subscriptableError:  'NoneType' object is not subscriptable'NoneType' object is not subscriptable  \n",
      "\n",
      "'NoneType' object is not subscriptable\n",
      "'NoneType' object is not subscriptable'NoneType' object is not subscriptable\n",
      "\n",
      "\n",
      "Error:  'NoneType' object is not subscriptable\n"
     ]
    },
    {
     "name": "stderr",
     "output_type": "stream",
     "text": [
      " 78%|███████▊  | 590/759 [11:31:21<03:39,  1.30s/it]"
     ]
    },
    {
     "name": "stdout",
     "output_type": "stream",
     "text": [
      "Error:  Error: Error: 'NoneType' object is not subscriptable Error:  \n",
      "Error: 'NoneType' object is not subscriptableError:   Error: 'NoneType' object is not subscriptableError: \n",
      "'NoneType' object is not subscriptable  'NoneType' object is not subscriptable\n",
      " \n",
      "'NoneType' object is not subscriptable'NoneType' object is not subscriptable'NoneType' object is not subscriptable\n",
      "\n",
      "\n",
      "\n"
     ]
    },
    {
     "name": "stderr",
     "output_type": "stream",
     "text": [
      " 78%|███████▊  | 591/759 [11:31:22<03:13,  1.15s/it]"
     ]
    },
    {
     "name": "stdout",
     "output_type": "stream",
     "text": [
      "Error:  Error: 'NoneType' object is not subscriptableError: Error:  Error: Error: Error: Error:   \n",
      " 'NoneType' object is not subscriptable'NoneType' object is not subscriptable   'NoneType' object is not subscriptable'NoneType' object is not subscriptable\n",
      "'NoneType' object is not subscriptable\n",
      "'NoneType' object is not subscriptable\n",
      "'NoneType' object is not subscriptable\n",
      "\n",
      "\n",
      "\n"
     ]
    },
    {
     "name": "stderr",
     "output_type": "stream",
     "text": [
      " 78%|███████▊  | 592/759 [11:31:23<02:53,  1.04s/it]"
     ]
    },
    {
     "name": "stdout",
     "output_type": "stream",
     "text": [
      "Error:  Error: Error: 'NoneType' object is not subscriptableError: Error: Error:  Error:  \n",
      "   'NoneType' object is not subscriptable'NoneType' object is not subscriptable Error: 'NoneType' object is not subscriptable'NoneType' object is not subscriptable\n",
      "'NoneType' object is not subscriptable\n",
      "'NoneType' object is not subscriptable \n",
      "\n",
      "\n",
      "'NoneType' object is not subscriptable\n",
      "\n"
     ]
    },
    {
     "name": "stderr",
     "output_type": "stream",
     "text": [
      " 78%|███████▊  | 593/759 [11:31:23<02:38,  1.04it/s]"
     ]
    },
    {
     "name": "stdout",
     "output_type": "stream",
     "text": [
      "Error:  'NoneType' object is not subscriptableError: Error: Error: \n",
      "Error:  Error:   Error: Error: 'NoneType' object is not subscriptable   'NoneType' object is not subscriptable'NoneType' object is not subscriptable \n",
      "'NoneType' object is not subscriptable'NoneType' object is not subscriptable'NoneType' object is not subscriptable\n",
      "'NoneType' object is not subscriptable\n",
      "\n",
      "\n",
      "\n",
      "\n"
     ]
    },
    {
     "name": "stderr",
     "output_type": "stream",
     "text": [
      " 78%|███████▊  | 594/759 [11:31:24<02:32,  1.08it/s]"
     ]
    },
    {
     "name": "stdout",
     "output_type": "stream",
     "text": [
      "Error:  Error: Error: Error: 'NoneType' object is not subscriptable   'NoneType' object is not subscriptableError: \n",
      "'NoneType' object is not subscriptable\n",
      "Error:  Error: 'NoneType' object is not subscriptable 'NoneType' object is not subscriptable\n",
      "\n",
      "'NoneType' object is not subscriptable \n",
      "\n",
      "'NoneType' object is not subscriptable\n"
     ]
    },
    {
     "name": "stderr",
     "output_type": "stream",
     "text": [
      " 78%|███████▊  | 595/759 [11:32:24<50:31, 18.48s/it]"
     ]
    },
    {
     "name": "stdout",
     "output_type": "stream",
     "text": [
      "Error: Error:   'NoneType' object is not subscriptableError: 'NoneType' object is not subscriptable\n",
      "Error: Error:  \n",
      "Error: Error: Error:   'NoneType' object is not subscriptable   'NoneType' object is not subscriptable'NoneType' object is not subscriptable\n",
      "'NoneType' object is not subscriptable\n",
      "'NoneType' object is not subscriptable'NoneType' object is not subscriptable\n",
      "\n",
      "\n",
      "\n"
     ]
    },
    {
     "name": "stderr",
     "output_type": "stream",
     "text": [
      " 79%|███████▊  | 596/759 [11:32:24<35:48, 13.18s/it]"
     ]
    },
    {
     "name": "stdout",
     "output_type": "stream",
     "text": [
      "Error: Error:  Error: Error:  Error: 'NoneType' object is not subscriptableError: Error: Error: 'NoneType' object is not subscriptable    'NoneType' object is not subscriptable\n",
      "  \n",
      "'NoneType' object is not subscriptable'NoneType' object is not subscriptable'NoneType' object is not subscriptable'NoneType' object is not subscriptable'NoneType' object is not subscriptable\n",
      "\n",
      "\n",
      "\n",
      "\n",
      "\n"
     ]
    },
    {
     "name": "stderr",
     "output_type": "stream",
     "text": [
      " 79%|███████▊  | 597/759 [11:32:25<25:32,  9.46s/it]"
     ]
    },
    {
     "name": "stdout",
     "output_type": "stream",
     "text": [
      "Error:  'NoneType' object is not subscriptable\n",
      "Error:  Error: 'NoneType' object is not subscriptableError: Error: Error: \n",
      " Error:  Error:   'NoneType' object is not subscriptable 'NoneType' object is not subscriptable 'NoneType' object is not subscriptable\n",
      "'NoneType' object is not subscriptable'NoneType' object is not subscriptable\n",
      "'NoneType' object is not subscriptable\n",
      "\n",
      "\n",
      "\n"
     ]
    },
    {
     "name": "stderr",
     "output_type": "stream",
     "text": [
      " 79%|███████▉  | 598/759 [11:32:26<18:25,  6.87s/it]"
     ]
    },
    {
     "name": "stdout",
     "output_type": "stream",
     "text": [
      "Error:  Error: 'NoneType' object is not subscriptable Error: Error: Error:  \n",
      " Error: Error:  'NoneType' object is not subscriptable'NoneType' object is not subscriptableError: 'NoneType' object is not subscriptable  'NoneType' object is not subscriptable\n",
      " \n",
      "\n",
      "\n",
      "'NoneType' object is not subscriptable'NoneType' object is not subscriptable'NoneType' object is not subscriptable\n",
      "\n",
      "\n"
     ]
    },
    {
     "name": "stderr",
     "output_type": "stream",
     "text": [
      " 79%|███████▉  | 599/759 [11:32:27<13:27,  5.05s/it]"
     ]
    },
    {
     "name": "stdout",
     "output_type": "stream",
     "text": [
      "Error: Error:  Error: Error: 'NoneType' object is not subscriptableError:  Error: Error: Error:    \n",
      "'NoneType' object is not subscriptable  'NoneType' object is not subscriptable 'NoneType' object is not subscriptable'NoneType' object is not subscriptable\n",
      "'NoneType' object is not subscriptable'NoneType' object is not subscriptable\n",
      "'NoneType' object is not subscriptable\n",
      "\n",
      "\n",
      "\n",
      "\n"
     ]
    },
    {
     "name": "stderr",
     "output_type": "stream",
     "text": [
      " 79%|███████▉  | 600/759 [11:32:28<09:58,  3.76s/it]"
     ]
    },
    {
     "name": "stdout",
     "output_type": "stream",
     "text": [
      "Error: Error:  Error: 'NoneType' object is not subscriptable Error: Error: Error: Error:  Error:  'NoneType' object is not subscriptable \n",
      "   'NoneType' object is not subscriptable\n",
      "'NoneType' object is not subscriptable'NoneType' object is not subscriptable'NoneType' object is not subscriptable'NoneType' object is not subscriptable\n",
      "\n",
      "\n",
      "'NoneType' object is not subscriptable\n",
      "\n",
      "\n"
     ]
    },
    {
     "name": "stderr",
     "output_type": "stream",
     "text": [
      " 79%|███████▉  | 601/759 [11:32:28<07:32,  2.86s/it]"
     ]
    },
    {
     "name": "stdout",
     "output_type": "stream",
     "text": [
      "Error:  Error: Error: Error: Error:  Error: 'NoneType' object is not subscriptableError:  Error: 'NoneType' object is not subscriptable   'NoneType' object is not subscriptable \n",
      " \n",
      "'NoneType' object is not subscriptable'NoneType' object is not subscriptable'NoneType' object is not subscriptable\n",
      "'NoneType' object is not subscriptable'NoneType' object is not subscriptable\n",
      "\n",
      "\n",
      "\n",
      "\n"
     ]
    },
    {
     "name": "stderr",
     "output_type": "stream",
     "text": [
      " 79%|███████▉  | 602/759 [11:32:29<05:50,  2.23s/it]"
     ]
    },
    {
     "name": "stdout",
     "output_type": "stream",
     "text": [
      "Error:  Error:  'NoneType' object is not subscriptableError: Error: Error: Error: Error: 'NoneType' object is not subscriptable\n",
      " Error:    \n",
      "'NoneType' object is not subscriptable 'NoneType' object is not subscriptable'NoneType' object is not subscriptable'NoneType' object is not subscriptable \n",
      "'NoneType' object is not subscriptable\n",
      "\n",
      "\n",
      "'NoneType' object is not subscriptable\n",
      "\n"
     ]
    },
    {
     "name": "stderr",
     "output_type": "stream",
     "text": [
      " 79%|███████▉  | 603/759 [11:32:30<04:39,  1.79s/it]"
     ]
    },
    {
     "name": "stdout",
     "output_type": "stream",
     "text": [
      "Error:  'NoneType' object is not subscriptableError: \n",
      "Error: Error: Error:  Error:    'NoneType' object is not subscriptable'NoneType' object is not subscriptable'NoneType' object is not subscriptable Error: 'NoneType' object is not subscriptable\n",
      "\n",
      "'NoneType' object is not subscriptable\n",
      " \n",
      "\n",
      "'NoneType' object is not subscriptable\n",
      "Error:  'NoneType' object is not subscriptable\n"
     ]
    },
    {
     "name": "stderr",
     "output_type": "stream",
     "text": [
      " 80%|███████▉  | 604/759 [11:32:31<04:04,  1.58s/it]"
     ]
    },
    {
     "name": "stdout",
     "output_type": "stream",
     "text": [
      "Error:  Error:  'NoneType' object is not subscriptableError: Error: Error: Error: Error: Error: 'NoneType' object is not subscriptable\n",
      "    'NoneType' object is not subscriptable \n",
      " 'NoneType' object is not subscriptable'NoneType' object is not subscriptable\n",
      "'NoneType' object is not subscriptable'NoneType' object is not subscriptable\n",
      "\n",
      "'NoneType' object is not subscriptable\n",
      "\n",
      "\n"
     ]
    },
    {
     "name": "stderr",
     "output_type": "stream",
     "text": [
      " 80%|███████▉  | 605/759 [11:32:32<03:28,  1.35s/it]"
     ]
    },
    {
     "name": "stdout",
     "output_type": "stream",
     "text": [
      "Error: Error:  Error: Error: Error: Error:  Error: 'NoneType' object is not subscriptable 'NoneType' object is not subscriptable\n",
      " Error:    'NoneType' object is not subscriptable'NoneType' object is not subscriptable 'NoneType' object is not subscriptable\n",
      "'NoneType' object is not subscriptable'NoneType' object is not subscriptable\n",
      "\n",
      "\n",
      "\n",
      "\n",
      "'NoneType' object is not subscriptable\n"
     ]
    },
    {
     "name": "stderr",
     "output_type": "stream",
     "text": [
      " 80%|███████▉  | 606/759 [11:32:33<03:00,  1.18s/it]"
     ]
    },
    {
     "name": "stdout",
     "output_type": "stream",
     "text": [
      "Error:  'NoneType' object is not subscriptable\n",
      "Error:  Error: 'NoneType' object is not subscriptableError: Error: Error:   \n",
      "Error: Error:   'NoneType' object is not subscriptable'NoneType' object is not subscriptable  'NoneType' object is not subscriptable'NoneType' object is not subscriptable\n",
      "'NoneType' object is not subscriptable\n",
      "'NoneType' object is not subscriptable\n",
      "\n",
      "\n",
      "\n"
     ]
    },
    {
     "name": "stderr",
     "output_type": "stream",
     "text": [
      " 80%|███████▉  | 607/759 [11:32:33<02:39,  1.05s/it]"
     ]
    },
    {
     "name": "stdout",
     "output_type": "stream",
     "text": [
      "Error:  Error: Error: Error: 'NoneType' object is not subscriptableError:  Error:   Error: Error: \n",
      " 'NoneType' object is not subscriptable  'NoneType' object is not subscriptable'NoneType' object is not subscriptable'NoneType' object is not subscriptable 'NoneType' object is not subscriptable\n",
      "'NoneType' object is not subscriptable\n",
      "\n",
      "\n",
      "'NoneType' object is not subscriptable\n",
      "\n",
      "\n"
     ]
    },
    {
     "name": "stderr",
     "output_type": "stream",
     "text": [
      " 80%|████████  | 608/759 [11:32:34<02:25,  1.04it/s]"
     ]
    },
    {
     "name": "stdout",
     "output_type": "stream",
     "text": [
      "Error:  Error: Error: Error: 'NoneType' object is not subscriptable Error:  Error:  'NoneType' object is not subscriptable  \n",
      "Error: Error: 'NoneType' object is not subscriptable'NoneType' object is not subscriptable\n",
      "\n",
      "'NoneType' object is not subscriptable'NoneType' object is not subscriptable  \n",
      "\n",
      "'NoneType' object is not subscriptable'NoneType' object is not subscriptable\n",
      "\n",
      "\n"
     ]
    },
    {
     "name": "stderr",
     "output_type": "stream",
     "text": [
      " 80%|████████  | 609/759 [11:32:35<02:15,  1.11it/s]"
     ]
    },
    {
     "name": "stdout",
     "output_type": "stream",
     "text": [
      "Error: Error:  Error:  'NoneType' object is not subscriptableError:  Error: 'NoneType' object is not subscriptableError: Error:  Error: \n",
      "\n",
      " 'NoneType' object is not subscriptable  \n",
      "'NoneType' object is not subscriptable'NoneType' object is not subscriptable 'NoneType' object is not subscriptable'NoneType' object is not subscriptable\n",
      "\n",
      "'NoneType' object is not subscriptable\n",
      "\n",
      "\n"
     ]
    },
    {
     "name": "stderr",
     "output_type": "stream",
     "text": [
      " 80%|████████  | 610/759 [11:32:36<02:08,  1.16it/s]"
     ]
    },
    {
     "name": "stdout",
     "output_type": "stream",
     "text": [
      "Error: Error:  Error: Error: Error: Error: 'NoneType' object is not subscriptable     'NoneType' object is not subscriptable'NoneType' object is not subscriptable\n",
      "'NoneType' object is not subscriptable'NoneType' object is not subscriptable'NoneType' object is not subscriptableError: \n",
      "\n",
      "\n",
      "\n",
      "\n",
      "Error:   'NoneType' object is not subscriptable\n",
      "'NoneType' object is not subscriptable\n"
     ]
    },
    {
     "name": "stderr",
     "output_type": "stream",
     "text": [
      " 81%|████████  | 611/759 [11:32:36<02:03,  1.19it/s]"
     ]
    },
    {
     "name": "stdout",
     "output_type": "stream",
     "text": [
      "Error: Error: Error:  Error:  Error: Error: 'NoneType' object is not subscriptable  Error: Error:  'NoneType' object is not subscriptable\n",
      "  'NoneType' object is not subscriptable'NoneType' object is not subscriptable\n",
      "'NoneType' object is not subscriptable 'NoneType' object is not subscriptable'NoneType' object is not subscriptable\n",
      "\n",
      "\n",
      "\n",
      "'NoneType' object is not subscriptable\n",
      "\n"
     ]
    },
    {
     "name": "stderr",
     "output_type": "stream",
     "text": [
      " 81%|████████  | 614/759 [11:34:33<1:23:01, 34.36s/it]"
     ]
    },
    {
     "name": "stdout",
     "output_type": "stream",
     "text": [
      "Error:  'NoneType' object is not subscriptable\n"
     ]
    },
    {
     "name": "stderr",
     "output_type": "stream",
     "text": [
      " 81%|████████  | 616/759 [11:35:58<1:37:15, 40.81s/it]"
     ]
    },
    {
     "name": "stdout",
     "output_type": "stream",
     "text": [
      "Error:  'data'\n"
     ]
    },
    {
     "name": "stderr",
     "output_type": "stream",
     "text": [
      " 81%|████████▏ | 617/759 [11:37:25<2:09:27, 54.70s/it]"
     ]
    },
    {
     "name": "stdout",
     "output_type": "stream",
     "text": [
      "Error:  'NoneType' object is not subscriptable\n",
      "Error:  'NoneType' object is not subscriptable\n"
     ]
    },
    {
     "name": "stderr",
     "output_type": "stream",
     "text": [
      " 82%|████████▏ | 619/759 [11:38:43<1:50:35, 47.39s/it]"
     ]
    },
    {
     "name": "stdout",
     "output_type": "stream",
     "text": [
      "Error:  'NoneType' object is not subscriptable\n",
      "Error:  'NoneType' object is not subscriptable\n"
     ]
    },
    {
     "name": "stderr",
     "output_type": "stream",
     "text": [
      " 82%|████████▏ | 625/759 [11:40:03<36:40, 16.42s/it]  "
     ]
    },
    {
     "name": "stdout",
     "output_type": "stream",
     "text": [
      "Error:  'NoneType' object is not subscriptable\n"
     ]
    },
    {
     "name": "stderr",
     "output_type": "stream",
     "text": [
      " 83%|████████▎ | 632/759 [11:42:59<40:03, 18.93s/it]  "
     ]
    },
    {
     "name": "stdout",
     "output_type": "stream",
     "text": [
      "Error:  'data'\n",
      "Query failed with status code: 403\n"
     ]
    },
    {
     "name": "stderr",
     "output_type": "stream",
     "text": [
      " 84%|████████▎ | 635/759 [11:43:45<34:33, 16.72s/it]"
     ]
    },
    {
     "name": "stdout",
     "output_type": "stream",
     "text": [
      "Error:  'data'\n",
      "Error:  'data'\n",
      "Query failed with status code: 403\n",
      "Error:  'data'\n",
      "Error:  'data'\n",
      "Error:  'data'\n",
      "Query failed with status code: 403\n",
      "Query failed with status code: 403\n",
      "Query failed with status code: 403\n"
     ]
    },
    {
     "name": "stderr",
     "output_type": "stream",
     "text": [
      " 84%|████████▍ | 636/759 [11:43:59<32:17, 15.75s/it]"
     ]
    },
    {
     "name": "stdout",
     "output_type": "stream",
     "text": [
      "Error:  Error: Error: Error: 'data'Error:   Error:   'data'\n",
      "'data''data' \n",
      "\n",
      "\n",
      "'data''data'\n",
      "\n"
     ]
    },
    {
     "name": "stderr",
     "output_type": "stream",
     "text": [
      " 84%|████████▍ | 638/759 [11:44:32<33:04, 16.40s/it]"
     ]
    },
    {
     "name": "stdout",
     "output_type": "stream",
     "text": [
      "Error:  'data'\n",
      "Query failed with status code: 403\n"
     ]
    },
    {
     "name": "stderr",
     "output_type": "stream",
     "text": [
      " 84%|████████▍ | 639/759 [11:44:58<38:27, 19.23s/it]"
     ]
    },
    {
     "name": "stdout",
     "output_type": "stream",
     "text": [
      "Error:  'data'Error: \n",
      " 'data'\n",
      "Query failed with status code: 403\n",
      "Query failed with status code: 403\n",
      "Query failed with status code: 403\n"
     ]
    },
    {
     "name": "stderr",
     "output_type": "stream",
     "text": [
      " 85%|████████▍ | 645/759 [11:46:50<34:43, 18.28s/it]"
     ]
    },
    {
     "name": "stdout",
     "output_type": "stream",
     "text": [
      "Error:  'data'\n",
      "Error:  'data'\n",
      "Query failed with status code: 403\n",
      "Error:  'data'\n",
      "Query failed with status code: 403\n",
      "Query failed with status code: 403\n",
      "Query failed with status code: 403\n",
      "Query failed with status code: 403\n",
      "Query failed with status code: 403\n",
      "Query failed with status code: 403\n",
      "Query failed with status code: 403\n",
      "Query failed with status code: 403\n"
     ]
    },
    {
     "name": "stderr",
     "output_type": "stream",
     "text": [
      " 85%|████████▌ | 646/759 [11:47:02<30:41, 16.30s/it]"
     ]
    },
    {
     "name": "stdout",
     "output_type": "stream",
     "text": [
      "Error: Error: Error:    'data'Error: 'data''data' \n",
      "\n",
      "\n",
      "'data'\n",
      "Query failed with status code: 403\n",
      "Query failed with status code: 403\n",
      "Query failed with status code: 403\n",
      "Query failed with status code: 403\n"
     ]
    },
    {
     "name": "stderr",
     "output_type": "stream",
     "text": [
      " 86%|████████▌ | 649/759 [11:48:26<40:43, 22.22s/it]"
     ]
    },
    {
     "name": "stdout",
     "output_type": "stream",
     "text": [
      "Error:  'data'\n",
      "Error:  'data'\n",
      "Query failed with status code: 403\n",
      "Query failed with status code: 403\n",
      "Query failed with status code: 403\n",
      "Query failed with status code: 403\n"
     ]
    },
    {
     "name": "stderr",
     "output_type": "stream",
     "text": [
      " 86%|████████▌ | 650/759 [11:48:43<37:45, 20.78s/it]"
     ]
    },
    {
     "name": "stdout",
     "output_type": "stream",
     "text": [
      "Error:  'data'Error:  \n",
      "'data'\n",
      "Query failed with status code: 403\n"
     ]
    },
    {
     "name": "stderr",
     "output_type": "stream",
     "text": [
      " 86%|████████▌ | 651/759 [11:49:22<47:01, 26.13s/it]"
     ]
    },
    {
     "name": "stdout",
     "output_type": "stream",
     "text": [
      "Error:  'data'\n",
      "Error:  'data'\n",
      "Query failed with status code: 403\n"
     ]
    },
    {
     "name": "stderr",
     "output_type": "stream",
     "text": [
      " 86%|████████▌ | 652/759 [11:50:02<54:09, 30.37s/it]"
     ]
    },
    {
     "name": "stdout",
     "output_type": "stream",
     "text": [
      "Error: Error:  'data' 'data'\n",
      "\n",
      "Query failed with status code: 403\n",
      "Query failed with status code: 403\n",
      "Query failed with status code: 403\n",
      "Query failed with status code: 403\n",
      "Query failed with status code: 403\n",
      "Query failed with status code: 403\n"
     ]
    },
    {
     "name": "stderr",
     "output_type": "stream",
     "text": [
      " 86%|████████▌ | 653/759 [11:50:14<43:57, 24.88s/it]"
     ]
    },
    {
     "name": "stdout",
     "output_type": "stream",
     "text": [
      "Error:  'data'\n",
      "Error:  'NoneType' object is not subscriptable\n",
      "Error:  'data'\n"
     ]
    },
    {
     "name": "stderr",
     "output_type": "stream",
     "text": [
      " 86%|████████▌ | 654/759 [11:50:32<39:34, 22.61s/it]"
     ]
    },
    {
     "name": "stdout",
     "output_type": "stream",
     "text": [
      "Error:  'NoneType' object is not subscriptable\n"
     ]
    },
    {
     "name": "stderr",
     "output_type": "stream",
     "text": [
      " 86%|████████▋ | 656/759 [11:51:00<31:23, 18.28s/it]"
     ]
    },
    {
     "name": "stdout",
     "output_type": "stream",
     "text": [
      "Error:  'NoneType' object is not subscriptable\n"
     ]
    },
    {
     "name": "stderr",
     "output_type": "stream",
     "text": [
      " 87%|████████▋ | 659/759 [11:51:50<28:40, 17.20s/it]"
     ]
    },
    {
     "name": "stdout",
     "output_type": "stream",
     "text": [
      "Error:  'data'\n"
     ]
    },
    {
     "name": "stderr",
     "output_type": "stream",
     "text": [
      " 87%|████████▋ | 660/759 [11:52:06<28:10, 17.08s/it]"
     ]
    },
    {
     "name": "stdout",
     "output_type": "stream",
     "text": [
      "Error:  'data'Error: \n",
      " 'data'\n",
      "Query failed with status code: 403\n"
     ]
    },
    {
     "name": "stderr",
     "output_type": "stream",
     "text": [
      " 87%|████████▋ | 662/759 [11:53:09<37:57, 23.48s/it]"
     ]
    },
    {
     "name": "stdout",
     "output_type": "stream",
     "text": [
      "Error:  'NoneType' object is not subscriptable\n"
     ]
    },
    {
     "name": "stderr",
     "output_type": "stream",
     "text": [
      " 87%|████████▋ | 664/759 [11:53:42<31:27, 19.87s/it]"
     ]
    },
    {
     "name": "stdout",
     "output_type": "stream",
     "text": [
      "Error:  'NoneType' object is not subscriptable\n"
     ]
    },
    {
     "name": "stderr",
     "output_type": "stream",
     "text": [
      " 88%|████████▊ | 670/759 [11:57:01<42:09, 28.42s/it]"
     ]
    },
    {
     "name": "stdout",
     "output_type": "stream",
     "text": [
      "Error:  Error: Error: Error:  'NoneType' object is not subscriptable  Error: \n",
      "'NoneType' object is not subscriptable'NoneType' object is not subscriptable'NoneType' object is not subscriptable \n",
      "\n",
      "\n",
      "'NoneType' object is not subscriptable\n"
     ]
    },
    {
     "name": "stderr",
     "output_type": "stream",
     "text": [
      " 88%|████████▊ | 671/759 [11:58:05<57:30, 39.21s/it]"
     ]
    },
    {
     "name": "stdout",
     "output_type": "stream",
     "text": [
      "Error: Error:  Error: Error:  Error: Error: Error: 'NoneType' object is not subscriptable Error: 'NoneType' object is not subscriptable    'NoneType' object is not subscriptable \n",
      "\n",
      "'NoneType' object is not subscriptable'NoneType' object is not subscriptable'NoneType' object is not subscriptable'NoneType' object is not subscriptable'NoneType' object is not subscriptable\n",
      "\n",
      "\n",
      "\n",
      "\n",
      "\n"
     ]
    },
    {
     "name": "stderr",
     "output_type": "stream",
     "text": [
      " 89%|████████▊ | 672/759 [11:58:06<40:07, 27.68s/it]"
     ]
    },
    {
     "name": "stdout",
     "output_type": "stream",
     "text": [
      "Error: Error: Error:   Error: Error:  Error: 'NoneType' object is not subscriptable'NoneType' object is not subscriptableError:    \n",
      "'NoneType' object is not subscriptable\n",
      " 'NoneType' object is not subscriptable'NoneType' object is not subscriptable'NoneType' object is not subscriptable\n",
      "Error: 'NoneType' object is not subscriptable\n",
      "\n",
      "\n",
      " \n",
      "'NoneType' object is not subscriptable\n"
     ]
    },
    {
     "name": "stderr",
     "output_type": "stream",
     "text": [
      " 89%|████████▊ | 673/759 [11:58:06<28:06, 19.61s/it]"
     ]
    },
    {
     "name": "stdout",
     "output_type": "stream",
     "text": [
      "Error: Error: Error:  Error: Error:   Error: Error: Error: 'NoneType' object is not subscriptable  'NoneType' object is not subscriptable  'NoneType' object is not subscriptable'NoneType' object is not subscriptable\n",
      "'NoneType' object is not subscriptable \n",
      "'NoneType' object is not subscriptable'NoneType' object is not subscriptable\n",
      "\n",
      "\n",
      "'NoneType' object is not subscriptable\n",
      "\n",
      "\n"
     ]
    },
    {
     "name": "stderr",
     "output_type": "stream",
     "text": [
      " 89%|████████▉ | 674/759 [11:58:07<19:46, 13.96s/it]"
     ]
    },
    {
     "name": "stdout",
     "output_type": "stream",
     "text": [
      "Error: Error:  Error:  'NoneType' object is not subscriptableError: Error: Error:  Error: Error: 'NoneType' object is not subscriptable\n",
      "   'NoneType' object is not subscriptable  \n",
      "\n",
      "'NoneType' object is not subscriptable'NoneType' object is not subscriptable'NoneType' object is not subscriptable'NoneType' object is not subscriptable'NoneType' object is not subscriptable\n",
      "\n",
      "\n",
      "\n",
      "\n"
     ]
    },
    {
     "name": "stderr",
     "output_type": "stream",
     "text": [
      " 89%|████████▉ | 675/759 [11:58:08<13:59, 10.00s/it]"
     ]
    },
    {
     "name": "stdout",
     "output_type": "stream",
     "text": [
      "Error: Error:  Error: 'NoneType' object is not subscriptableError: 'NoneType' object is not subscriptable   \n",
      "Error: \n",
      "'NoneType' object is not subscriptableError: Error: Error: 'NoneType' object is not subscriptable\n",
      "    \n",
      "'NoneType' object is not subscriptable'NoneType' object is not subscriptable'NoneType' object is not subscriptable'NoneType' object is not subscriptable\n",
      "\n",
      "\n",
      "\n"
     ]
    },
    {
     "name": "stderr",
     "output_type": "stream",
     "text": [
      " 89%|████████▉ | 676/759 [11:58:09<10:00,  7.23s/it]"
     ]
    },
    {
     "name": "stdout",
     "output_type": "stream",
     "text": [
      "Error:  Error: Error: Error: 'NoneType' object is not subscriptableError: Error:  \n",
      "Error:    Error:   'NoneType' object is not subscriptable'NoneType' object is not subscriptable'NoneType' object is not subscriptable 'NoneType' object is not subscriptable'NoneType' object is not subscriptable'NoneType' object is not subscriptable\n",
      "\n",
      "\n",
      "'NoneType' object is not subscriptable\n",
      "\n",
      "\n",
      "\n"
     ]
    },
    {
     "name": "stderr",
     "output_type": "stream",
     "text": [
      " 89%|████████▉ | 677/759 [11:58:10<07:14,  5.30s/it]"
     ]
    },
    {
     "name": "stdout",
     "output_type": "stream",
     "text": [
      "Error:  'NoneType' object is not subscriptableError: Error:  \n",
      " Error:  'NoneType' object is not subscriptable'NoneType' object is not subscriptableError: Error: Error: Error:  \n",
      "\n",
      "'NoneType' object is not subscriptable   'NoneType' object is not subscriptable\n",
      "'NoneType' object is not subscriptable'NoneType' object is not subscriptable'NoneType' object is not subscriptable\n",
      "\n",
      "\n",
      "\n"
     ]
    },
    {
     "name": "stderr",
     "output_type": "stream",
     "text": [
      " 89%|████████▉ | 678/759 [11:58:10<05:20,  3.96s/it]"
     ]
    },
    {
     "name": "stdout",
     "output_type": "stream",
     "text": [
      "Error:  Error: 'NoneType' object is not subscriptableError: Error: Error:  Error: Error:  \n",
      " Error:   'NoneType' object is not subscriptable 'NoneType' object is not subscriptable'NoneType' object is not subscriptable'NoneType' object is not subscriptable'NoneType' object is not subscriptable\n",
      " 'NoneType' object is not subscriptable\n",
      "\n",
      "\n",
      "\n",
      "'NoneType' object is not subscriptable\n",
      "\n"
     ]
    },
    {
     "name": "stderr",
     "output_type": "stream",
     "text": [
      " 89%|████████▉ | 679/759 [11:58:11<04:00,  3.01s/it]"
     ]
    },
    {
     "name": "stdout",
     "output_type": "stream",
     "text": [
      "Error: Error: Error:  Error: Error:  Error:  Error:  Error: 'NoneType' object is not subscriptable'NoneType' object is not subscriptable   'NoneType' object is not subscriptable'NoneType' object is not subscriptable \n",
      "\n",
      "'NoneType' object is not subscriptable'NoneType' object is not subscriptable'NoneType' object is not subscriptable\n",
      "\n",
      "'NoneType' object is not subscriptable\n",
      "\n",
      "\n",
      "\n"
     ]
    },
    {
     "name": "stderr",
     "output_type": "stream",
     "text": [
      " 90%|████████▉ | 680/759 [11:58:12<03:05,  2.35s/it]"
     ]
    },
    {
     "name": "stdout",
     "output_type": "stream",
     "text": [
      "Error: Error: Error:   Error:  'NoneType' object is not subscriptableError: Error: Error: Error:  'NoneType' object is not subscriptable'NoneType' object is not subscriptable\n",
      "    \n",
      "'NoneType' object is not subscriptable'NoneType' object is not subscriptable\n",
      "'NoneType' object is not subscriptable'NoneType' object is not subscriptable'NoneType' object is not subscriptable\n",
      "\n",
      "\n",
      "\n",
      "\n"
     ]
    },
    {
     "name": "stderr",
     "output_type": "stream",
     "text": [
      " 90%|████████▉ | 681/759 [11:58:13<02:27,  1.89s/it]"
     ]
    },
    {
     "name": "stdout",
     "output_type": "stream",
     "text": [
      "Error:  Error: Error: 'NoneType' object is not subscriptableError:   Error: Error:  \n",
      "Error:  'NoneType' object is not subscriptable'NoneType' object is not subscriptable'NoneType' object is not subscriptable  \n",
      "'NoneType' object is not subscriptable'NoneType' object is not subscriptable\n",
      "'NoneType' object is not subscriptable\n",
      "\n",
      "Error: \n",
      "\n",
      " 'NoneType' object is not subscriptable\n"
     ]
    },
    {
     "name": "stderr",
     "output_type": "stream",
     "text": [
      " 90%|████████▉ | 682/759 [11:58:14<01:59,  1.55s/it]"
     ]
    },
    {
     "name": "stdout",
     "output_type": "stream",
     "text": [
      "Error:  Error: 'NoneType' object is not subscriptableError:  Error: Error: Error: Error: Error:  \n",
      "'NoneType' object is not subscriptable    'NoneType' object is not subscriptable \n",
      "'NoneType' object is not subscriptable'NoneType' object is not subscriptable'NoneType' object is not subscriptable'NoneType' object is not subscriptable'NoneType' object is not subscriptable\n",
      "\n",
      "\n",
      "\n",
      "\n",
      "\n"
     ]
    },
    {
     "name": "stderr",
     "output_type": "stream",
     "text": [
      " 90%|████████▉ | 683/759 [11:58:14<01:40,  1.32s/it]"
     ]
    },
    {
     "name": "stdout",
     "output_type": "stream",
     "text": [
      "Error: Error: Error:    Error: Error: Error: Error: Error: 'NoneType' object is not subscriptable'NoneType' object is not subscriptable'NoneType' object is not subscriptable     \n",
      "\n",
      "\n",
      "'NoneType' object is not subscriptable'NoneType' object is not subscriptable'NoneType' object is not subscriptable'NoneType' object is not subscriptable'NoneType' object is not subscriptable\n",
      "\n",
      "\n",
      "\n",
      "\n"
     ]
    },
    {
     "name": "stderr",
     "output_type": "stream",
     "text": [
      " 90%|█████████ | 684/759 [11:58:15<01:28,  1.18s/it]"
     ]
    },
    {
     "name": "stdout",
     "output_type": "stream",
     "text": [
      "Error: Error:  'NoneType' object is not subscriptableError: Error: Error:  Error: \n",
      "Error:   Error:  'NoneType' object is not subscriptable  'NoneType' object is not subscriptable'NoneType' object is not subscriptable \n",
      "'NoneType' object is not subscriptable'NoneType' object is not subscriptable'NoneType' object is not subscriptable\n",
      "\n",
      "\n",
      "\n",
      "'NoneType' object is not subscriptable\n",
      "\n"
     ]
    },
    {
     "name": "stderr",
     "output_type": "stream",
     "text": [
      " 90%|█████████ | 685/759 [11:58:16<01:18,  1.06s/it]"
     ]
    },
    {
     "name": "stdout",
     "output_type": "stream",
     "text": [
      "Error: Error:  Error: 'NoneType' object is not subscriptable Error: Error: Error:  Error: \n",
      "'NoneType' object is not subscriptableError:     'NoneType' object is not subscriptable\n",
      "'NoneType' object is not subscriptable'NoneType' object is not subscriptable'NoneType' object is not subscriptable 'NoneType' object is not subscriptable\n",
      "\n",
      "\n",
      "\n",
      "'NoneType' object is not subscriptable\n",
      "\n"
     ]
    },
    {
     "name": "stderr",
     "output_type": "stream",
     "text": [
      " 90%|█████████ | 686/759 [11:58:17<01:11,  1.02it/s]"
     ]
    },
    {
     "name": "stdout",
     "output_type": "stream",
     "text": [
      "Error: Error:  Error: Error: Error: Error:  'NoneType' object is not subscriptable Error:   'NoneType' object is not subscriptableError:  \n",
      "'NoneType' object is not subscriptable 'NoneType' object is not subscriptable 'NoneType' object is not subscriptable\n",
      "'NoneType' object is not subscriptable\n",
      "'NoneType' object is not subscriptable\n",
      "\n",
      "'NoneType' object is not subscriptable\n",
      "\n",
      "\n"
     ]
    },
    {
     "name": "stderr",
     "output_type": "stream",
     "text": [
      " 91%|█████████ | 687/759 [11:58:18<01:06,  1.09it/s]"
     ]
    },
    {
     "name": "stdout",
     "output_type": "stream",
     "text": [
      "Error:  Error: 'NoneType' object is not subscriptableError:  Error: Error:  Error: Error: \n",
      "Error:  'NoneType' object is not subscriptable  'NoneType' object is not subscriptable \n",
      "'NoneType' object is not subscriptable'NoneType' object is not subscriptable 'NoneType' object is not subscriptable\n",
      "'NoneType' object is not subscriptable\n",
      "\n",
      "'NoneType' object is not subscriptable\n",
      "\n",
      "\n"
     ]
    },
    {
     "name": "stderr",
     "output_type": "stream",
     "text": [
      " 91%|█████████ | 688/759 [11:58:18<01:01,  1.15it/s]"
     ]
    },
    {
     "name": "stdout",
     "output_type": "stream",
     "text": [
      "Error: Error:  Error: 'NoneType' object is not subscriptableError: Error:  Error: Error: \n",
      " Error: 'NoneType' object is not subscriptable     'NoneType' object is not subscriptable'NoneType' object is not subscriptable'NoneType' object is not subscriptable\n",
      "'NoneType' object is not subscriptable'NoneType' object is not subscriptable'NoneType' object is not subscriptable\n",
      "\n",
      "\n",
      "\n",
      "\n",
      "\n"
     ]
    },
    {
     "name": "stderr",
     "output_type": "stream",
     "text": [
      " 91%|█████████ | 689/759 [11:58:19<00:59,  1.18it/s]"
     ]
    },
    {
     "name": "stdout",
     "output_type": "stream",
     "text": [
      "Error:  Error: Error: Error: Error: Error:  'NoneType' object is not subscriptable  Error:  Error:  'NoneType' object is not subscriptable\n",
      "'NoneType' object is not subscriptable'NoneType' object is not subscriptable'NoneType' object is not subscriptable \n",
      "'NoneType' object is not subscriptable \n",
      "\n",
      "'NoneType' object is not subscriptable\n",
      "'NoneType' object is not subscriptable\n",
      "\n",
      "\n"
     ]
    },
    {
     "name": "stderr",
     "output_type": "stream",
     "text": [
      " 91%|█████████ | 690/759 [11:58:20<00:57,  1.21it/s]"
     ]
    },
    {
     "name": "stdout",
     "output_type": "stream",
     "text": [
      "Error:  Error:  Error: 'NoneType' object is not subscriptableError: Error: Error: Error: Error: 'NoneType' object is not subscriptable\n",
      "      \n",
      "'NoneType' object is not subscriptable'NoneType' object is not subscriptable'NoneType' object is not subscriptable'NoneType' object is not subscriptable'NoneType' object is not subscriptable'NoneType' object is not subscriptable\n",
      "\n",
      "\n",
      "\n",
      "\n",
      "\n"
     ]
    },
    {
     "name": "stderr",
     "output_type": "stream",
     "text": [
      " 91%|█████████ | 691/759 [11:58:21<00:56,  1.20it/s]"
     ]
    },
    {
     "name": "stdout",
     "output_type": "stream",
     "text": [
      "Error:  Error: Error: 'NoneType' object is not subscriptableError: Error: Error:   Error: \n",
      "Error:    'NoneType' object is not subscriptable'NoneType' object is not subscriptable 'NoneType' object is not subscriptable \n",
      "'NoneType' object is not subscriptable'NoneType' object is not subscriptable'NoneType' object is not subscriptable\n",
      "\n",
      "\n",
      "\n",
      "'NoneType' object is not subscriptable\n",
      "\n"
     ]
    },
    {
     "name": "stderr",
     "output_type": "stream",
     "text": [
      " 91%|█████████ | 692/759 [11:58:22<00:54,  1.22it/s]"
     ]
    },
    {
     "name": "stdout",
     "output_type": "stream",
     "text": [
      "Error:  Error: Error: Error: 'NoneType' object is not subscriptableError:  Error:   \n",
      "'NoneType' object is not subscriptable Error:  'NoneType' object is not subscriptable'NoneType' object is not subscriptable 'NoneType' object is not subscriptable\n",
      "'NoneType' object is not subscriptable\n",
      "\n",
      "'NoneType' object is not subscriptable\n",
      "\n",
      "\n",
      "Error:  'NoneType' object is not subscriptable\n"
     ]
    },
    {
     "name": "stderr",
     "output_type": "stream",
     "text": [
      " 91%|█████████▏| 693/759 [11:58:23<00:58,  1.12it/s]"
     ]
    },
    {
     "name": "stdout",
     "output_type": "stream",
     "text": [
      "Error: Error:  Error: Error: Error:  Error: 'NoneType' object is not subscriptableError: Error:   'NoneType' object is not subscriptable  \n",
      "  \n",
      "'NoneType' object is not subscriptable'NoneType' object is not subscriptable'NoneType' object is not subscriptable'NoneType' object is not subscriptable'NoneType' object is not subscriptable'NoneType' object is not subscriptable\n",
      "\n",
      "\n",
      "\n",
      "\n",
      "\n"
     ]
    },
    {
     "name": "stderr",
     "output_type": "stream",
     "text": [
      " 91%|█████████▏| 694/759 [11:58:23<00:56,  1.15it/s]"
     ]
    },
    {
     "name": "stdout",
     "output_type": "stream",
     "text": [
      "Error: Error:  'NoneType' object is not subscriptable Error: Error: Error: Error: Error: 'NoneType' object is not subscriptable\n",
      "Error:    \n",
      "   'NoneType' object is not subscriptable'NoneType' object is not subscriptable'NoneType' object is not subscriptable'NoneType' object is not subscriptable'NoneType' object is not subscriptable'NoneType' object is not subscriptable\n",
      "\n",
      "\n",
      "\n",
      "\n",
      "\n"
     ]
    },
    {
     "name": "stderr",
     "output_type": "stream",
     "text": [
      " 92%|█████████▏| 695/759 [11:58:24<00:54,  1.18it/s]"
     ]
    },
    {
     "name": "stdout",
     "output_type": "stream",
     "text": [
      "Error: Error:  Error:  Error: 'NoneType' object is not subscriptableError: Error:  \n",
      "  'NoneType' object is not subscriptableError: 'NoneType' object is not subscriptable \n",
      "'NoneType' object is not subscriptable\n",
      " 'NoneType' object is not subscriptable'NoneType' object is not subscriptable\n",
      "\n",
      "'NoneType' object is not subscriptable\n",
      "\n",
      "Error:  'NoneType' object is not subscriptable\n"
     ]
    },
    {
     "name": "stderr",
     "output_type": "stream",
     "text": [
      " 92%|█████████▏| 696/759 [11:58:25<00:58,  1.07it/s]"
     ]
    },
    {
     "name": "stdout",
     "output_type": "stream",
     "text": [
      "Error:  Error: 'NoneType' object is not subscriptableError:  Error: \n",
      "Error:   Error: 'NoneType' object is not subscriptableError:  'NoneType' object is not subscriptable \n",
      "'NoneType' object is not subscriptable 'NoneType' object is not subscriptable\n",
      "\n",
      "'NoneType' object is not subscriptableError: \n",
      "'NoneType' object is not subscriptable\n",
      " \n",
      "'NoneType' object is not subscriptable\n"
     ]
    },
    {
     "name": "stderr",
     "output_type": "stream",
     "text": [
      " 92%|█████████▏| 697/759 [11:58:26<00:54,  1.13it/s]"
     ]
    },
    {
     "name": "stdout",
     "output_type": "stream",
     "text": [
      "Error:  Error: 'NoneType' object is not subscriptableError:  Error: Error: Error: Error: \n",
      "  'NoneType' object is not subscriptable   'NoneType' object is not subscriptable\n",
      "'NoneType' object is not subscriptable'NoneType' object is not subscriptable'NoneType' object is not subscriptable'NoneType' object is not subscriptable\n",
      "\n",
      "\n",
      "\n",
      "\n",
      "Error:  'NoneType' object is not subscriptable\n"
     ]
    },
    {
     "name": "stderr",
     "output_type": "stream",
     "text": [
      " 92%|█████████▏| 698/759 [11:58:27<00:57,  1.06it/s]"
     ]
    },
    {
     "name": "stdout",
     "output_type": "stream",
     "text": [
      "Error:  Error: Error:  Error: 'NoneType' object is not subscriptableError: Error:  Error: 'NoneType' object is not subscriptable \n",
      " 'NoneType' object is not subscriptable \n",
      " 'NoneType' object is not subscriptable'NoneType' object is not subscriptable'NoneType' object is not subscriptable\n",
      "\n",
      "'NoneType' object is not subscriptable\n",
      "\n",
      "\n",
      "Error:  'NoneType' object is not subscriptable\n"
     ]
    },
    {
     "name": "stderr",
     "output_type": "stream",
     "text": [
      " 92%|█████████▏| 699/759 [11:58:29<01:11,  1.19s/it]"
     ]
    },
    {
     "name": "stdout",
     "output_type": "stream",
     "text": [
      "Error:  Error: 'NoneType' object is not subscriptableError: Error: Error: Error: Error:  \n",
      "Error:      'NoneType' object is not subscriptable 'NoneType' object is not subscriptable'NoneType' object is not subscriptable'NoneType' object is not subscriptable'NoneType' object is not subscriptable'NoneType' object is not subscriptable\n",
      "\n",
      "'NoneType' object is not subscriptable\n",
      "\n",
      "\n",
      "\n",
      "\n"
     ]
    },
    {
     "name": "stderr",
     "output_type": "stream",
     "text": [
      " 92%|█████████▏| 700/759 [11:58:30<01:03,  1.08s/it]"
     ]
    },
    {
     "name": "stdout",
     "output_type": "stream",
     "text": [
      "Error:  Error: Error: Error: 'NoneType' object is not subscriptable Error: Error:   Error: \n",
      "'NoneType' object is not subscriptable  'NoneType' object is not subscriptable'NoneType' object is not subscriptable \n",
      "'NoneType' object is not subscriptable'NoneType' object is not subscriptable\n",
      "\n",
      "'NoneType' object is not subscriptable\n",
      "\n",
      "\n",
      "Error:  'NoneType' object is not subscriptable\n"
     ]
    },
    {
     "name": "stderr",
     "output_type": "stream",
     "text": [
      " 92%|█████████▏| 701/759 [11:58:31<01:02,  1.08s/it]"
     ]
    },
    {
     "name": "stdout",
     "output_type": "stream",
     "text": [
      "Error:  'NoneType' object is not subscriptableError: \n",
      "Error: Error: Error:  Error: Error:  Error:  'NoneType' object is not subscriptable   'NoneType' object is not subscriptable 'NoneType' object is not subscriptable\n",
      "'NoneType' object is not subscriptable'NoneType' object is not subscriptable'NoneType' object is not subscriptable\n",
      "'NoneType' object is not subscriptable\n",
      "\n",
      "\n",
      "\n",
      "\n"
     ]
    },
    {
     "name": "stderr",
     "output_type": "stream",
     "text": [
      " 92%|█████████▏| 702/759 [11:58:32<00:56,  1.02it/s]"
     ]
    },
    {
     "name": "stdout",
     "output_type": "stream",
     "text": [
      "Error: Error:  Error: Error:  Error: Error:  Error: Error: 'NoneType' object is not subscriptable  'NoneType' object is not subscriptable 'NoneType' object is not subscriptable\n",
      "  'NoneType' object is not subscriptable'NoneType' object is not subscriptable'NoneType' object is not subscriptable\n",
      "\n",
      "'NoneType' object is not subscriptable'NoneType' object is not subscriptable\n",
      "\n",
      "\n",
      "\n",
      "\n"
     ]
    },
    {
     "name": "stderr",
     "output_type": "stream",
     "text": [
      " 93%|█████████▎| 703/759 [11:58:32<00:51,  1.09it/s]"
     ]
    },
    {
     "name": "stdout",
     "output_type": "stream",
     "text": [
      "Error: Error: Error:  'NoneType' object is not subscriptable  Error: Error: 'NoneType' object is not subscriptableError: Error: \n",
      "Error: 'NoneType' object is not subscriptable  \n",
      "   \n",
      "'NoneType' object is not subscriptable'NoneType' object is not subscriptable'NoneType' object is not subscriptable'NoneType' object is not subscriptable'NoneType' object is not subscriptable\n",
      "\n",
      "\n",
      "\n",
      "\n"
     ]
    },
    {
     "name": "stderr",
     "output_type": "stream",
     "text": [
      " 93%|█████████▎| 704/759 [11:58:33<00:48,  1.14it/s]"
     ]
    },
    {
     "name": "stdout",
     "output_type": "stream",
     "text": [
      "Error: Error:  Error:  Error: Error: Error: Error: Error: 'NoneType' object is not subscriptable 'NoneType' object is not subscriptable    \n",
      " \n",
      "'NoneType' object is not subscriptable'NoneType' object is not subscriptable'NoneType' object is not subscriptable\n",
      "'NoneType' object is not subscriptable'NoneType' object is not subscriptable\n",
      "'NoneType' object is not subscriptable\n",
      "\n",
      "\n",
      "\n"
     ]
    },
    {
     "name": "stderr",
     "output_type": "stream",
     "text": [
      " 93%|█████████▎| 705/759 [11:58:34<00:46,  1.16it/s]"
     ]
    },
    {
     "name": "stdout",
     "output_type": "stream",
     "text": [
      "Error:  'NoneType' object is not subscriptableError: \n",
      "Error:  Error:  Error: Error: Error: Error: 'NoneType' object is not subscriptable 'NoneType' object is not subscriptable    'NoneType' object is not subscriptable'NoneType' object is not subscriptable\n",
      "'NoneType' object is not subscriptable\n",
      "'NoneType' object is not subscriptable\n",
      "\n",
      "\n",
      "'NoneType' object is not subscriptable\n",
      "\n"
     ]
    },
    {
     "name": "stderr",
     "output_type": "stream",
     "text": [
      " 93%|█████████▎| 706/759 [11:58:35<00:44,  1.20it/s]"
     ]
    },
    {
     "name": "stdout",
     "output_type": "stream",
     "text": [
      "Error: Error:  Error: 'NoneType' object is not subscriptable Error: Error: Error: \n",
      " Error:  'NoneType' object is not subscriptable  'NoneType' object is not subscriptable 'NoneType' object is not subscriptable'NoneType' object is not subscriptable\n",
      "'NoneType' object is not subscriptable\n",
      "'NoneType' object is not subscriptable\n",
      "\n",
      "\n",
      "\n"
     ]
    },
    {
     "name": "stderr",
     "output_type": "stream",
     "text": [
      " 93%|█████████▎| 707/759 [11:58:40<01:51,  2.14s/it]"
     ]
    },
    {
     "name": "stdout",
     "output_type": "stream",
     "text": [
      "Error:  'NoneType' object is not subscriptableError: Error: Error: Error: Error:  \n",
      " Error: Error: 'NoneType' object is not subscriptable 'NoneType' object is not subscriptable  \n",
      "'NoneType' object is not subscriptable 'NoneType' object is not subscriptable 'NoneType' object is not subscriptable\n",
      "\n",
      "\n",
      "'NoneType' object is not subscriptable\n",
      "\n",
      "'NoneType' object is not subscriptable\n"
     ]
    },
    {
     "name": "stderr",
     "output_type": "stream",
     "text": [
      " 93%|█████████▎| 708/759 [11:58:41<01:28,  1.73s/it]"
     ]
    },
    {
     "name": "stdout",
     "output_type": "stream",
     "text": [
      "Error:  Error: Error: 'NoneType' object is not subscriptable Error: Error: \n",
      "'NoneType' object is not subscriptable Error:  Error: Error:  'NoneType' object is not subscriptable\n",
      "'NoneType' object is not subscriptable   \n",
      "'NoneType' object is not subscriptable'NoneType' object is not subscriptable\n",
      "'NoneType' object is not subscriptable\n",
      "'NoneType' object is not subscriptable\n",
      "\n",
      "\n"
     ]
    },
    {
     "name": "stderr",
     "output_type": "stream",
     "text": [
      " 93%|█████████▎| 709/759 [11:58:41<01:11,  1.43s/it]"
     ]
    },
    {
     "name": "stdout",
     "output_type": "stream",
     "text": [
      "Error: Error:   Error: Error: Error: Error: 'NoneType' object is not subscriptable'NoneType' object is not subscriptableError:     \n",
      "\n",
      " 'NoneType' object is not subscriptable'NoneType' object is not subscriptable'NoneType' object is not subscriptable'NoneType' object is not subscriptable'NoneType' object is not subscriptable\n",
      "\n",
      "\n",
      "\n",
      "\n"
     ]
    },
    {
     "name": "stderr",
     "output_type": "stream",
     "text": [
      " 94%|█████████▎| 710/759 [11:58:45<01:34,  1.94s/it]"
     ]
    },
    {
     "name": "stdout",
     "output_type": "stream",
     "text": [
      "Error:  'NoneType' object is not subscriptable\n"
     ]
    },
    {
     "name": "stderr",
     "output_type": "stream",
     "text": [
      " 94%|█████████▍| 716/759 [11:59:24<02:43,  3.80s/it]"
     ]
    },
    {
     "name": "stdout",
     "output_type": "stream",
     "text": [
      "Error:  Error: 'NoneType' object is not subscriptable Error: \n",
      " Error: 'NoneType' object is not subscriptable 'NoneType' object is not subscriptable\n",
      "'NoneType' object is not subscriptable\n",
      "\n"
     ]
    },
    {
     "name": "stderr",
     "output_type": "stream",
     "text": [
      " 94%|█████████▍| 717/759 [11:59:26<02:16,  3.25s/it]"
     ]
    },
    {
     "name": "stdout",
     "output_type": "stream",
     "text": [
      "Error:  Error: Error: Error: 'NoneType' object is not subscriptable Error: Error: Error:   Error:  \n",
      "'NoneType' object is not subscriptable 'NoneType' object is not subscriptable 'NoneType' object is not subscriptable 'NoneType' object is not subscriptable'NoneType' object is not subscriptable\n",
      "'NoneType' object is not subscriptable\n",
      "'NoneType' object is not subscriptable\n",
      "\n",
      "\n",
      "\n",
      "\n"
     ]
    },
    {
     "name": "stderr",
     "output_type": "stream",
     "text": [
      " 95%|█████████▍| 718/759 [11:59:27<01:42,  2.51s/it]"
     ]
    },
    {
     "name": "stdout",
     "output_type": "stream",
     "text": [
      "Error:  'NoneType' object is not subscriptable\n",
      "Error: Error:   Error: 'NoneType' object is not subscriptableError: 'NoneType' object is not subscriptable  \n",
      "'NoneType' object is not subscriptable\n",
      "'NoneType' object is not subscriptable\n",
      "\n"
     ]
    },
    {
     "name": "stderr",
     "output_type": "stream",
     "text": [
      " 95%|█████████▍| 719/759 [11:59:35<02:45,  4.14s/it]"
     ]
    },
    {
     "name": "stdout",
     "output_type": "stream",
     "text": [
      "Error:  'NoneType' object is not subscriptable\n",
      "Error:  'NoneType' object is not subscriptable\n"
     ]
    },
    {
     "name": "stderr",
     "output_type": "stream",
     "text": [
      " 95%|█████████▍| 720/759 [12:00:02<07:13, 11.12s/it]"
     ]
    },
    {
     "name": "stdout",
     "output_type": "stream",
     "text": [
      "Error:  'NoneType' object is not subscriptable\n"
     ]
    },
    {
     "name": "stderr",
     "output_type": "stream",
     "text": [
      " 95%|█████████▍| 721/759 [12:00:12<06:47, 10.73s/it]"
     ]
    },
    {
     "name": "stdout",
     "output_type": "stream",
     "text": [
      "Error:  'NoneType' object is not subscriptable\n",
      "Error:  Error:  'NoneType' object is not subscriptable'NoneType' object is not subscriptable\n",
      "\n"
     ]
    },
    {
     "name": "stderr",
     "output_type": "stream",
     "text": [
      " 95%|█████████▌| 722/759 [12:00:14<04:54,  7.97s/it]"
     ]
    },
    {
     "name": "stdout",
     "output_type": "stream",
     "text": [
      "Error:  'NoneType' object is not subscriptable\n"
     ]
    },
    {
     "name": "stderr",
     "output_type": "stream",
     "text": [
      " 96%|█████████▌| 725/759 [12:00:19<02:10,  3.85s/it]"
     ]
    },
    {
     "name": "stdout",
     "output_type": "stream",
     "text": [
      "Error:  'NoneType' object is not subscriptable\n"
     ]
    },
    {
     "name": "stderr",
     "output_type": "stream",
     "text": [
      " 96%|█████████▌| 726/759 [12:00:20<01:44,  3.18s/it]"
     ]
    },
    {
     "name": "stdout",
     "output_type": "stream",
     "text": [
      "Error:  'NoneType' object is not subscriptable\n"
     ]
    },
    {
     "name": "stderr",
     "output_type": "stream",
     "text": [
      " 96%|█████████▌| 727/759 [12:00:22<01:26,  2.70s/it]"
     ]
    },
    {
     "name": "stdout",
     "output_type": "stream",
     "text": [
      "Error:  'NoneType' object is not subscriptable\n"
     ]
    },
    {
     "name": "stderr",
     "output_type": "stream",
     "text": [
      " 96%|█████████▌| 728/759 [12:08:01<1:12:04, 139.49s/it]"
     ]
    },
    {
     "name": "stdout",
     "output_type": "stream",
     "text": [
      "Error: Error:   'NoneType' object is not subscriptable'NoneType' object is not subscriptable\n",
      "\n"
     ]
    },
    {
     "name": "stderr",
     "output_type": "stream",
     "text": [
      " 96%|█████████▌| 729/759 [12:08:02<49:03, 98.11s/it]   "
     ]
    },
    {
     "name": "stdout",
     "output_type": "stream",
     "text": [
      "Error:  'NoneType' object is not subscriptable\n"
     ]
    },
    {
     "name": "stderr",
     "output_type": "stream",
     "text": [
      " 96%|█████████▌| 730/759 [12:08:04<33:25, 69.15s/it]"
     ]
    },
    {
     "name": "stdout",
     "output_type": "stream",
     "text": [
      "Error:  'NoneType' object is not subscriptable\n"
     ]
    },
    {
     "name": "stderr",
     "output_type": "stream",
     "text": [
      " 96%|█████████▋| 731/759 [12:08:06<22:52, 49.00s/it]"
     ]
    },
    {
     "name": "stdout",
     "output_type": "stream",
     "text": [
      "Error:  'NoneType' object is not subscriptable\n"
     ]
    },
    {
     "name": "stderr",
     "output_type": "stream",
     "text": [
      " 97%|█████████▋| 733/759 [12:08:09<10:48, 24.92s/it]"
     ]
    },
    {
     "name": "stdout",
     "output_type": "stream",
     "text": [
      "Error:  'NoneType' object is not subscriptable\n",
      "Error:  'NoneType' object is not subscriptable\n"
     ]
    },
    {
     "name": "stderr",
     "output_type": "stream",
     "text": [
      " 97%|█████████▋| 735/759 [12:08:13<05:14, 13.10s/it]"
     ]
    },
    {
     "name": "stdout",
     "output_type": "stream",
     "text": [
      "Error:  'NoneType' object is not subscriptable\n"
     ]
    },
    {
     "name": "stderr",
     "output_type": "stream",
     "text": [
      " 97%|█████████▋| 738/759 [12:08:58<04:03, 11.61s/it]"
     ]
    },
    {
     "name": "stdout",
     "output_type": "stream",
     "text": [
      "Error:  'NoneType' object is not subscriptable\n"
     ]
    },
    {
     "name": "stderr",
     "output_type": "stream",
     "text": [
      " 97%|█████████▋| 740/759 [12:09:02<02:06,  6.67s/it]"
     ]
    },
    {
     "name": "stdout",
     "output_type": "stream",
     "text": [
      "Error:  'NoneType' object is not subscriptableError: \n",
      " 'NoneType' object is not subscriptable\n"
     ]
    },
    {
     "name": "stderr",
     "output_type": "stream",
     "text": [
      " 98%|█████████▊| 741/759 [12:10:13<07:50, 26.12s/it]"
     ]
    },
    {
     "name": "stdout",
     "output_type": "stream",
     "text": [
      "Error:  'NoneType' object is not subscriptable\n",
      "Error:  'NoneType' object is not subscriptable\n"
     ]
    },
    {
     "name": "stderr",
     "output_type": "stream",
     "text": [
      " 98%|█████████▊| 743/759 [12:13:27<16:30, 61.91s/it]"
     ]
    },
    {
     "name": "stdout",
     "output_type": "stream",
     "text": [
      "Error:  'NoneType' object is not subscriptable\n",
      "Error:  'NoneType' object is not subscriptable\n"
     ]
    },
    {
     "name": "stderr",
     "output_type": "stream",
     "text": [
      " 98%|█████████▊| 744/759 [12:14:12<14:12, 56.85s/it]"
     ]
    },
    {
     "name": "stdout",
     "output_type": "stream",
     "text": [
      "Error:  'NoneType' object is not subscriptableError: \n",
      " 'NoneType' object is not subscriptable\n"
     ]
    },
    {
     "name": "stderr",
     "output_type": "stream",
     "text": [
      " 98%|█████████▊| 745/759 [12:14:58<12:32, 53.73s/it]"
     ]
    },
    {
     "name": "stdout",
     "output_type": "stream",
     "text": [
      "Error:  'NoneType' object is not subscriptable\n"
     ]
    },
    {
     "name": "stderr",
     "output_type": "stream",
     "text": [
      " 98%|█████████▊| 746/759 [12:15:14<09:08, 42.16s/it]"
     ]
    },
    {
     "name": "stdout",
     "output_type": "stream",
     "text": [
      "Error:  Error: 'NoneType' object is not subscriptable \n",
      "'NoneType' object is not subscriptable\n"
     ]
    },
    {
     "name": "stderr",
     "output_type": "stream",
     "text": [
      " 99%|█████████▉| 750/759 [12:16:45<03:59, 26.64s/it]"
     ]
    },
    {
     "name": "stdout",
     "output_type": "stream",
     "text": [
      "Error:  'NoneType' object is not subscriptable\n"
     ]
    },
    {
     "name": "stderr",
     "output_type": "stream",
     "text": [
      " 99%|█████████▉| 754/759 [12:40:41<23:06, 277.36s/it]"
     ]
    },
    {
     "name": "stdout",
     "output_type": "stream",
     "text": [
      "Error:  'NoneType' object is not subscriptable\n"
     ]
    },
    {
     "name": "stderr",
     "output_type": "stream",
     "text": [
      " 99%|█████████▉| 755/759 [12:41:11<13:32, 203.16s/it]"
     ]
    },
    {
     "name": "stdout",
     "output_type": "stream",
     "text": [
      "Error:  'NoneType' object is not subscriptable\n"
     ]
    },
    {
     "name": "stderr",
     "output_type": "stream",
     "text": [
      "100%|█████████▉| 757/759 [12:42:12<03:44, 112.50s/it]"
     ]
    },
    {
     "name": "stdout",
     "output_type": "stream",
     "text": [
      "Error:  'NoneType' object is not subscriptable\n"
     ]
    },
    {
     "name": "stderr",
     "output_type": "stream",
     "text": [
      "100%|█████████▉| 758/759 [12:44:22<01:57, 117.70s/it]"
     ]
    },
    {
     "name": "stdout",
     "output_type": "stream",
     "text": [
      "Error:  'data'\n",
      "Error:  'data'\n"
     ]
    },
    {
     "name": "stderr",
     "output_type": "stream",
     "text": [
      "100%|██████████| 759/759 [12:49:10<00:00, 168.98s/it]"
     ]
    },
    {
     "name": "stdout",
     "output_type": "stream",
     "text": [
      "Error:  'NoneType' object is not subscriptable\n"
     ]
    },
    {
     "name": "stderr",
     "output_type": "stream",
     "text": [
      "760it [12:49:12, 60.73s/it]                          \n"
     ]
    }
   ],
   "source": [
    "for df in tqdm(pd.read_csv(\"/home/rahul/oss/code/code_repos.csv\", chunksize=parallelcount), total=overall_it):\n",
    "    slugs = [get_owner_and_repo(i) for i in df.RepoURL]\n",
    "    owners = [i[0] for i in slugs]\n",
    "    repos = [i[1] for i in slugs]\n",
    "    best_keys = collector.getBestKeys(n=parallelcount)\n",
    "    sinces = [\"2007-01-01T00:00:00Z\" for i in range(parallelcount)]\n",
    "    args = list(zip(owners, repos, best_keys, sinces))\n",
    "    with Pool(parallelcount) as p:\n",
    "        result = p.starmap(get_commits, args)\n",
    "    result = [i for i in result if i is not None]\n",
    "    if len(result) == 0:\n",
    "        continue\n",
    "    df_result = pd.concat(result)[columns]\n",
    "    df_result.to_csv('/home/rahul/oss/code/Codegov_Commits.csv', mode='a', header=False, index=False)"
   ]
  }
 ],
 "metadata": {
  "kernelspec": {
   "display_name": "Python 3",
   "language": "python",
   "name": "python3"
  },
  "language_info": {
   "codemirror_mode": {
    "name": "ipython",
    "version": 3
   },
   "file_extension": ".py",
   "mimetype": "text/x-python",
   "name": "python",
   "nbconvert_exporter": "python",
   "pygments_lexer": "ipython3",
   "version": "3.10.6"
  },
  "orig_nbformat": 4
 },
 "nbformat": 4,
 "nbformat_minor": 2
}
